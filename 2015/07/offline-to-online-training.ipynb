{
 "cells": [
  {
   "cell_type": "markdown",
   "metadata": {},
   "source": [
    "# Offline-to-Online Training\n",
    "\n",
    "Our model is trained generatively---the observed data log-likelihood is maximized using the EM algorithm. However, our goal is to deploy the model in a predictive setting. We want to predict the most likely future trajectory given (1) any baseline information and (2) the noisy marker values observed so far. The focus of this notebook is to understand how we can adjust the parameters of a generative trajectory model in order to improve the performance on the trajectory prediction task.\n",
    "\n",
    "## Related Work\n",
    "\n",
    "The paper by [Raina and Ng (2003)](http://ai.stanford.edu/~rajatr/papers/nips03-hybrid.pdf) describes a hybrid generative/discriminative model. One of the key ideas in this work is the relative importance of random variables in the generative model when applied in a predictive context (i.e. the generative model is used to derive a conditional probability through Bayes rule). On page 3 there is an interesting point: they show that the decision rule for binary classification of UseNet documents can be formulated as a comparison between the sum of log-likelihood terms. They note that if features are extracted from, say, the message title and the message body there are many more log-likelihood terms for the body than there are for the title. The title, however, may be informative for making the decision. The NBC (or more generally any generatively trained classifier) will treat them all equally, however.\n",
    "\n",
    "## Experimental Setup\n",
    "\n",
    "The metric of interest is the mean absolute error aggregated within the usual buckets we've defined---(1,2], (2,4], (4,8], and (8,25]. We'll begin by looking at predictions made after observing one year of data (i.e. we will only train a single online-adapted model). We will compare to two baselines. The first baseline will be the predictions made using the MAP estimate of the subtype under full information (i.e. observing all of the individual's pFVC data) and the second baseline will be the MAP estimate of the subtype under one year of data (i.e. the standard conditional prediction obtained via application of Bayes rule to the generative model).\n",
    "\n",
    "## Methods\n",
    "\n",
    "For each individual $i$, let $y_i$ denote the vector of observed measurements, $t_i$ the measurement times, and $x_i$ the vector of covariates used in the population and subpopulation models. Each individual is associated with a subtype, which we denote using $z_i \\in \\{1, \\ldots, K\\}$. Let $\\Phi_1(t_i)$ denote the population feature matrix, $\\Phi_2(t_i)$ denote the subpopulation feature matrix, and $\\Phi_3(t_i)$ denote the individual-specific long-term effects feature matrix.\n",
    "\n",
    "In the generative model, we specify the marginal probability of subtype membership and the conditional probability of observed markers given subtype membership. The marginal probability of subtype membership is modeled using softmax multiclass regression:\n",
    "\n",
    "$$ p(z_i = k \\mid w_{1:K}) \\propto \\exp \\{ x_i^\\top w_k \\}. $$\n",
    "\n",
    "The conditional probability of a marker sequence given subtype membership is\n",
    "\n",
    "$$ p(y_i \\mid z_i = k, \\beta_{1:K}) = \\mathcal{N} ( m_i(k), \\Sigma_i ), $$\n",
    "\n",
    "where\n",
    "\n",
    "$$ m_i(k) = \\Phi_1(t_i) \\Lambda x_i + \\Phi_2(t_i) \\beta_k $$\n",
    "and\n",
    "$$ \\Sigma_i = \\Phi_3(t_i) \\Sigma_b \\Phi_3^\\top(t_i) + K_{\\text{OU}}(t_i) + \\sigma^2 \\mathbf{1}. $$\n",
    "\n",
    "Given some observed data $y_i$, the posterior over subtype membership $z_i$ is\n",
    "\n",
    "$$ p(z_i = k \\mid y_i) \\propto p(z_i = k \\mid w_{1:K}) p(y_i \\mid z_i = k, \\beta_{1:K}). $$"
   ]
  },
  {
   "cell_type": "markdown",
   "metadata": {},
   "source": [
    "## Code"
   ]
  },
  {
   "cell_type": "code",
   "execution_count": 1,
   "metadata": {
    "collapsed": true
   },
   "outputs": [],
   "source": [
    "import numpy as np\n",
    "import pandas as pd\n",
    "\n",
    "from imp import reload"
   ]
  },
  {
   "cell_type": "code",
   "execution_count": 2,
   "metadata": {
    "collapsed": true
   },
   "outputs": [],
   "source": [
    "import sys\n",
    "sys.path.append('/Users/pschulam/Git/mypy')"
   ]
  },
  {
   "cell_type": "code",
   "execution_count": 140,
   "metadata": {
    "collapsed": true
   },
   "outputs": [],
   "source": [
    "np.set_printoptions(precision=2)"
   ]
  },
  {
   "cell_type": "markdown",
   "metadata": {},
   "source": [
    "### B-spline Basis\n",
    "\n",
    "This basis is **hard-coded** to implement the exact basis functions used to fit the model in the R code."
   ]
  },
  {
   "cell_type": "code",
   "execution_count": 4,
   "metadata": {
    "collapsed": true
   },
   "outputs": [],
   "source": [
    "from mypy import bsplines\n",
    "\n",
    "boundaries   = (-1.0, 23.0)\n",
    "degree       = 2\n",
    "num_features = 6\n",
    "basis = bsplines.universal_basis(boundaries, degree, num_features)"
   ]
  },
  {
   "cell_type": "markdown",
   "metadata": {},
   "source": [
    "### Kernel Function"
   ]
  },
  {
   "cell_type": "code",
   "execution_count": 5,
   "metadata": {
    "collapsed": false
   },
   "outputs": [],
   "source": [
    "from mypy.util import as_row, as_col\n",
    "\n",
    "def kernel(x1, x2=None, a_const=1.0, a_ou=1.0, l_ou=1.0):\n",
    "    symmetric = x2 is None\n",
    "    d = differences(x1, x1) if symmetric else differences(x1, x2)\n",
    "    K = a_const * np.ones_like(d)\n",
    "    K += ou_kernel(d, a_ou, l_ou)\n",
    "    if symmetric:\n",
    "        K += np.eye(x1.size)\n",
    "    return K\n",
    "\n",
    "def ou_kernel(d, a, l):\n",
    "    return a * np.exp( - np.abs(d) / l )\n",
    "\n",
    "def differences(x1, x2):\n",
    "    return as_col(x1) - as_row(x2)"
   ]
  },
  {
   "cell_type": "code",
   "execution_count": 6,
   "metadata": {
    "collapsed": true
   },
   "outputs": [],
   "source": [
    "x_test = np.linspace(0, 20, 41)\n",
    "X_test = basis.eval(x_test)\n",
    "K_test = kernel(x_test, a_const=16.0, a_ou=36.0, l_ou=2.0)"
   ]
  },
  {
   "cell_type": "code",
   "execution_count": 7,
   "metadata": {
    "collapsed": false
   },
   "outputs": [
    {
     "data": {
      "text/plain": [
       "array([[ 0.6944,  0.2917,  0.0139,  0.    ,  0.    ,  0.    ],\n",
       "       [ 0.5625,  0.4062,  0.0312,  0.    ,  0.    ,  0.    ],\n",
       "       [ 0.4444,  0.5   ,  0.0556,  0.    ,  0.    ,  0.    ],\n",
       "       [ 0.3403,  0.5729,  0.0868,  0.    ,  0.    ,  0.    ],\n",
       "       [ 0.25  ,  0.625 ,  0.125 ,  0.    ,  0.    ,  0.    ]])"
      ]
     },
     "execution_count": 7,
     "metadata": {},
     "output_type": "execute_result"
    }
   ],
   "source": [
    "X_test[:5, :]"
   ]
  },
  {
   "cell_type": "code",
   "execution_count": 8,
   "metadata": {
    "collapsed": false
   },
   "outputs": [
    {
     "data": {
      "text/plain": [
       "array([[ 53.    ,  44.0368,  37.8351,  33.0052,  29.2437],\n",
       "       [ 44.0368,  53.    ,  44.0368,  37.8351,  33.0052],\n",
       "       [ 37.8351,  44.0368,  53.    ,  44.0368,  37.8351],\n",
       "       [ 33.0052,  37.8351,  44.0368,  53.    ,  44.0368],\n",
       "       [ 29.2437,  33.0052,  37.8351,  44.0368,  53.    ]])"
      ]
     },
     "execution_count": 8,
     "metadata": {},
     "output_type": "execute_result"
    }
   ],
   "source": [
    "K_test[:5, :5]"
   ]
  },
  {
   "cell_type": "markdown",
   "metadata": {},
   "source": [
    "### Softmax Model"
   ]
  },
  {
   "cell_type": "code",
   "execution_count": 650,
   "metadata": {
    "collapsed": false
   },
   "outputs": [
    {
     "data": {
      "text/plain": [
       "<module 'mypy.models.softmax' from '/Users/pschulam/Git/mypy/mypy/models/softmax.py'>"
      ]
     },
     "execution_count": 650,
     "metadata": {},
     "output_type": "execute_result"
    }
   ],
   "source": [
    "import scipy.optimize as opt\n",
    "\n",
    "from mypy.models import softmax\n",
    "reload(softmax)"
   ]
  },
  {
   "cell_type": "markdown",
   "metadata": {},
   "source": [
    "### Trajectory Model"
   ]
  },
  {
   "cell_type": "code",
   "execution_count": 65,
   "metadata": {
    "collapsed": true
   },
   "outputs": [],
   "source": [
    "from scipy.stats import multivariate_normal\n",
    "\n",
    "a_const = 16.0\n",
    "a_ou    = 36.0\n",
    "l_ou    = 2.0\n",
    "\n",
    "def phi1(x):\n",
    "    return np.ones((x.size, 1))\n",
    "\n",
    "def phi2(x):\n",
    "    return basis.eval(x)\n",
    "\n",
    "def gp_posterior(tnew, t, y, kern, **kwargs):\n",
    "    from numpy import dot\n",
    "    from scipy.linalg import inv, solve\n",
    "    \n",
    "    K11 = kern(tnew, **kwargs)\n",
    "    K12 = kern(tnew, t, **kwargs)\n",
    "    K22 = kern(t, **kwargs)\n",
    "    \n",
    "    m = dot(K12, solve(K22, y))\n",
    "    K = K11 - dot(K12, solve(K22, K12.T))\n",
    "    \n",
    "    return m, K\n",
    "\n",
    "def trajectory_means(t, x, b, B):\n",
    "    from numpy import dot\n",
    "    \n",
    "    P1 = phi1(t)\n",
    "    P2 = phi2(t)\n",
    "    \n",
    "    m1 = dot(P1, dot(b, x)).ravel()\n",
    "    m2 = dot(B, P2.T)\n",
    "    \n",
    "    return m1 + m2\n",
    "\n",
    "def trajectory_logl(t, x, y, z, B, b):\n",
    "    if t.size < 1:\n",
    "        return 0.0\n",
    "    \n",
    "    m = trajectory_means(t, x, b, B)[z]\n",
    "    S = kernel(t, a_const=a_const, a_ou=a_ou, l_ou=l_ou)\n",
    "    \n",
    "    return multivariate_normal.logpdf(y, m, S)"
   ]
  },
  {
   "cell_type": "markdown",
   "metadata": {},
   "source": [
    "### Load Parameters"
   ]
  },
  {
   "cell_type": "code",
   "execution_count": 20,
   "metadata": {
    "collapsed": true
   },
   "outputs": [],
   "source": [
    "b = np.loadtxt('param/pop.dat')\n",
    "B = np.loadtxt('param/subpop.dat')\n",
    "W = np.loadtxt('param/marginal.dat')\n",
    "W = np.r_[ np.zeros((1, W.shape[1])), W ]"
   ]
  },
  {
   "cell_type": "code",
   "execution_count": 86,
   "metadata": {
    "collapsed": true
   },
   "outputs": [],
   "source": [
    "from scipy.misc import logsumexp\n",
    "\n",
    "def model_prior(t, x1, x2, y, b, B, W):\n",
    "    return softmax.regression_log_proba(x2, W)\n",
    "\n",
    "def model_likelihood(t, x1, x2, y, b, B, W):\n",
    "    k = B.shape[0]\n",
    "    return np.array([trajectory_logl(t, x1, y, z, B, b) for z in range(k)])\n",
    "\n",
    "def model_posterior(t, x1, x2, y, b, B, W):\n",
    "    prior = model_prior(t, x1, x2, y, b, B, W)\n",
    "    likel = model_likelihood(t, x1, x2, y, b, B, W)\n",
    "    lp = prior + likel\n",
    "    return np.exp(lp - logsumexp(lp))\n",
    "\n",
    "def model_evidence(t, x1, x2, y, b, B, W):\n",
    "    prior = model_prior(t, x1, x2, y, b, B, W)\n",
    "    likel = model_likelihood(t, x1, x2, y, b, B, W)\n",
    "    lp = prior + likel\n",
    "    return logsumexp(lp)"
   ]
  },
  {
   "cell_type": "markdown",
   "metadata": {},
   "source": [
    "### Load Data"
   ]
  },
  {
   "cell_type": "code",
   "execution_count": 159,
   "metadata": {
    "collapsed": true
   },
   "outputs": [],
   "source": [
    "from copy import deepcopy\n",
    "\n",
    "def PatientData(tbl):\n",
    "    pd = {}\n",
    "    pd['ptid'] = int(tbl['ptid'].values[0])\n",
    "    pd['t']    = tbl['years_seen_full'].values.copy()\n",
    "    pd['y']    = tbl['pfvc'].values.copy()\n",
    "    pd['x1']   = np.asarray(tbl.loc[:, ['female', 'afram']].drop_duplicates()).ravel()\n",
    "    pd['x2']   = np.asarray(tbl.loc[:, ['female', 'afram', 'aca', 'scl']].drop_duplicates()).ravel()\n",
    "    pd['x2']   = np.r_[ 1.0, pd['x2'] ]\n",
    "    return pd\n",
    "\n",
    "def truncated_data(pd, censor_time):\n",
    "    obs = pd['t'] <= censor_time\n",
    "    pdc = deepcopy(pd)\n",
    "    pdc['t'] = pd['t'][obs]\n",
    "    pdc['y'] = pd['y'][obs]\n",
    "    return pdc, pd['t'][~obs]\n",
    "\n",
    "def eval_prior(pd, b=b, B=B, W=W):\n",
    "    return model_prior(pd['t'], pd['x1'], pd['x2'], pd['y'], b, B, W)\n",
    "\n",
    "def eval_likel(pd, b=b, B=B, W=W):\n",
    "    return model_likelihood(pd['t'], pd['x1'], pd['x2'], pd['y'], b, B, W)\n",
    "\n",
    "def run_inference(pd, b=b, B=B, W=W):\n",
    "    ll = model_loglik(pd['t'], pd['x1'], pd['x2'], pd['y'], b, B, W)\n",
    "    posterior = model_posterior(pd['t'], pd['x1'], pd['x2'], pd['y'], b, B, W)\n",
    "    return ll, posterior"
   ]
  },
  {
   "cell_type": "code",
   "execution_count": 50,
   "metadata": {
    "collapsed": true
   },
   "outputs": [],
   "source": [
    "pfvc = pd.read_csv('data/benchmark_pfvc.csv')\n",
    "data = [PatientData(tbl) for _, tbl in pfvc.groupby('ptid')]"
   ]
  },
  {
   "cell_type": "code",
   "execution_count": 89,
   "metadata": {
    "collapsed": false
   },
   "outputs": [
    {
     "data": {
      "text/plain": [
       "array([ 0.   ,  0.   ,  0.   ,  0.01 ,  0.022,  0.117,  0.816,  0.035])"
      ]
     },
     "execution_count": 89,
     "metadata": {},
     "output_type": "execute_result"
    }
   ],
   "source": [
    "ll, pst = run_inference(data[9], b, B, W)\n",
    "np.round(pst, 3)"
   ]
  },
  {
   "cell_type": "markdown",
   "metadata": {},
   "source": [
    "### Online Tuning Algorithm"
   ]
  },
  {
   "cell_type": "markdown",
   "metadata": {},
   "source": [
    "We're going to tune the posterior predictions of our model at a given time point by adjusting the relative strengths of the likelihood and the prior used to determine the likelihood ratio that determines the posterior. The goal is to fit the *full information posterior* by modifying the *partial information posterior*. For any observed marker sequence $y_i$, we can express the posterior probabilities by specifying the log of the likelihood ratios of each subtype to some *pivot* subtype.\n",
    "\n",
    "$$ r_{11} = \\log \\frac{p(z = 1)}{p(z = 1)} + \\log \\frac{p(y_i \\mid z = 1)}{p(y_i \\mid z = 1)} $$\n",
    "\n",
    "$$ r_{21} = \\log \\frac{p(z = 2)}{p(z = 1)} + \\log \\frac{p(y_i \\mid z = 2)}{p(y_i \\mid z = 1)} $$\n",
    "\n",
    "$$ r_{31} = \\log \\frac{p(z = 3)}{p(z = 1)} + \\log \\frac{p(y_i \\mid z = 3)}{p(y_i \\mid z = 1)} $$\n",
    "\n",
    "$$ \\ldots $$\n",
    "\n",
    "Note that the first ratio is 0 since it is the log of a ratio that will always be 1. When making a MAP estimate of an individual's subtype, the maximum of these ratios is selected. More generally, if want to match the partial information posterior to the full information posterior as closely as possible, then we want to match these ratios as closely as possible. This suggests a simple adjustment algorithm--- fit $K - 1$ separate regressions where the features are the log ratios of each term in the joint distribution."
   ]
  },
  {
   "cell_type": "code",
   "execution_count": 524,
   "metadata": {
    "collapsed": true
   },
   "outputs": [],
   "source": [
    "def log_ratio(L, pivot=0):\n",
    "    R = L - L[:, pivot][:, np.newaxis]\n",
    "    return R"
   ]
  },
  {
   "cell_type": "code",
   "execution_count": 525,
   "metadata": {
    "collapsed": false
   },
   "outputs": [],
   "source": [
    "full_log_priors = np.array([eval_prior(d) for d in data])\n",
    "full_log_likels = np.array([eval_likel(d) for d in data])\n",
    "\n",
    "yr01_log_priors = np.array([eval_prior(truncated_data(d, 1.0)[0]) for d in data])\n",
    "yr01_log_likels = np.array([eval_likel(truncated_data(d, 1.0)[0]) for d in data])\n",
    "\n",
    "yr02_log_priors = np.array([eval_prior(truncated_data(d, 2.0)[0]) for d in data])\n",
    "yr02_log_likels = np.array([eval_likel(truncated_data(d, 2.0)[0]) for d in data])"
   ]
  },
  {
   "cell_type": "code",
   "execution_count": 526,
   "metadata": {
    "collapsed": true
   },
   "outputs": [],
   "source": [
    "L1 = log_ratio(yr01_log_priors)\n",
    "L2 = log_ratio(yr01_log_likels)\n",
    "Y  = log_ratio(full_log_priors) + log_ratio(full_log_likels)"
   ]
  },
  {
   "cell_type": "markdown",
   "metadata": {},
   "source": [
    "#### Algorithm 1"
   ]
  },
  {
   "cell_type": "code",
   "execution_count": 527,
   "metadata": {
    "collapsed": false
   },
   "outputs": [],
   "source": [
    "def fit_adjustment(y, x1, x2):\n",
    "    from scipy.linalg import lstsq\n",
    "    n = y.size\n",
    "    X = np.c_[ np.ones(n), x1, x2 ]\n",
    "    w, _, _, _ = lstsq(X, y)\n",
    "    return w\n",
    "\n",
    "def make_adjustment(x1, x2, w):\n",
    "    n = x1.size\n",
    "    X = np.c_[ np.ones(n), x1, x2 ]\n",
    "    return np.dot(X, w)"
   ]
  },
  {
   "cell_type": "code",
   "execution_count": 528,
   "metadata": {
    "collapsed": false
   },
   "outputs": [],
   "source": [
    "Yhat = np.zeros_like(Y)\n",
    "N, K = Yhat.shape\n",
    "W    = np.zeros((K, 3))\n",
    "for k in range(1, K):\n",
    "    w = fit_adjustment(Y[:, k], L1[:, k], L2[:, k])\n",
    "    W[k] = w\n",
    "    Yhat[:, k] = make_adjustment(L1[:, k], L2[:, k], w)"
   ]
  },
  {
   "cell_type": "code",
   "execution_count": 529,
   "metadata": {
    "collapsed": false
   },
   "outputs": [],
   "source": [
    "full_log_ratio = Y\n",
    "yr01_log_ratio = L1 + L2"
   ]
  },
  {
   "cell_type": "code",
   "execution_count": 530,
   "metadata": {
    "collapsed": true
   },
   "outputs": [],
   "source": [
    "P  = np.array([softmax.softmax_func(y) for y in full_log_ratio])\n",
    "Q1 = np.array([softmax.softmax_func(y) for y in yr01_log_ratio])\n",
    "Q2 = np.array([softmax.softmax_func(y) for y in Yhat])"
   ]
  },
  {
   "cell_type": "code",
   "execution_count": 531,
   "metadata": {
    "collapsed": false
   },
   "outputs": [
    {
     "data": {
      "text/plain": [
       "-430.77831436230178"
      ]
     },
     "execution_count": 531,
     "metadata": {},
     "output_type": "execute_result"
    }
   ],
   "source": [
    "np.sum(P * np.log(P))"
   ]
  },
  {
   "cell_type": "code",
   "execution_count": 532,
   "metadata": {
    "collapsed": false
   },
   "outputs": [
    {
     "data": {
      "text/plain": [
       "-790.52486194944299"
      ]
     },
     "execution_count": 532,
     "metadata": {},
     "output_type": "execute_result"
    }
   ],
   "source": [
    "np.sum(P * np.log(Q1))"
   ]
  },
  {
   "cell_type": "code",
   "execution_count": 533,
   "metadata": {
    "collapsed": false
   },
   "outputs": [
    {
     "data": {
      "text/plain": [
       "-1244.9793742351435"
      ]
     },
     "execution_count": 533,
     "metadata": {},
     "output_type": "execute_result"
    }
   ],
   "source": [
    "np.sum(P * np.log(Q2))"
   ]
  },
  {
   "cell_type": "markdown",
   "metadata": {},
   "source": [
    "This simple approach doesn't work very well using the multinomial regression objective as an evaluation, but this makes sense because each of the weights are learned entirely independently. Another option for evaluation is to look at whether the MAP under the adjusted distribution agrees more with the MAP under full information that the map under partial information."
   ]
  },
  {
   "cell_type": "code",
   "execution_count": 534,
   "metadata": {
    "collapsed": false
   },
   "outputs": [
    {
     "data": {
      "text/plain": [
       "0.63690476190476186"
      ]
     },
     "execution_count": 534,
     "metadata": {},
     "output_type": "execute_result"
    }
   ],
   "source": [
    "np.mean(np.argmax(P, axis=1) == np.argmax(Q1, axis=1))"
   ]
  },
  {
   "cell_type": "code",
   "execution_count": 535,
   "metadata": {
    "collapsed": false
   },
   "outputs": [
    {
     "data": {
      "text/plain": [
       "0.5267857142857143"
      ]
     },
     "execution_count": 535,
     "metadata": {},
     "output_type": "execute_result"
    }
   ],
   "source": [
    "np.mean(np.argmax(P, axis=1) == np.argmax(Q2, axis=1))"
   ]
  },
  {
   "cell_type": "markdown",
   "metadata": {},
   "source": [
    "Again, the results are not good. This isn't hopeless, though, since the way we trained the adjustment is pretty simple. For completeness, however, let's take a look at the confusion matrix to see if any key mistakes are being corrected using this approach."
   ]
  },
  {
   "cell_type": "code",
   "execution_count": 536,
   "metadata": {
    "collapsed": false
   },
   "outputs": [
    {
     "data": {
      "text/plain": [
       "array([[ 17,   4,   2,   1,   0,   0,   0,   0],\n",
       "       [  3, 103,  21,   7,   4,   1,   0,   0],\n",
       "       [  0,  24,  77,   6,   3,   0,   1,   0],\n",
       "       [  0,  10,  21,  51,  21,   0,   6,   0],\n",
       "       [  0,   0,   2,  26,  93,   7,   5,   3],\n",
       "       [  0,   0,   2,   0,  18,  35,   6,   1],\n",
       "       [  0,   1,   4,  10,  14,   7,  35,   1],\n",
       "       [  0,   0,   0,   1,   1,   0,   0,  17]])"
      ]
     },
     "execution_count": 536,
     "metadata": {},
     "output_type": "execute_result"
    }
   ],
   "source": [
    "from sklearn.metrics import confusion_matrix\n",
    "confusion_matrix(np.argmax(P, axis=1), np.argmax(Q1, axis=1))"
   ]
  },
  {
   "cell_type": "code",
   "execution_count": 537,
   "metadata": {
    "collapsed": false
   },
   "outputs": [
    {
     "data": {
      "text/plain": [
       "array([[ 5, 16,  0,  0,  3,  0,  0,  0],\n",
       "       [ 0, 84, 49,  0,  6,  0,  0,  0],\n",
       "       [ 0, 15, 82,  1, 13,  0,  0,  0],\n",
       "       [ 0,  6, 41, 26, 35,  1,  0,  0],\n",
       "       [ 0,  0,  5, 11, 84, 32,  3,  1],\n",
       "       [ 0,  0,  0,  1,  9, 49,  1,  2],\n",
       "       [ 0,  1, 11, 10, 11, 30,  9,  0],\n",
       "       [ 0,  0,  0,  0,  1,  2,  1, 15]])"
      ]
     },
     "execution_count": 537,
     "metadata": {},
     "output_type": "execute_result"
    }
   ],
   "source": [
    "confusion_matrix(np.argmax(P, axis=1), np.argmax(Q2, axis=1))"
   ]
  },
  {
   "cell_type": "markdown",
   "metadata": {},
   "source": [
    "#### Algorithm 2"
   ]
  },
  {
   "cell_type": "code",
   "execution_count": 538,
   "metadata": {
    "collapsed": true
   },
   "outputs": [],
   "source": [
    "def multinom_pred(W, P, X1, X2):\n",
    "    Z = np.zeros_like(P)\n",
    "    N, K = Z.shape\n",
    "    for k in range(1, K):\n",
    "        w = W[k]\n",
    "        X = np.c_[ np.ones(N), X1[:, k], X2[:, k] ]\n",
    "        Z[:, k] = np.dot(X, w)\n",
    "    \n",
    "    Q = np.array([softmax.softmax_func(z) for z in Z])\n",
    "    return Q\n",
    "\n",
    "def multinom_cost(W, P, X1, X2):\n",
    "    Q = multinom_pred(W, P, X1, X2)\n",
    "    return np.sum(P * np.log(Q))"
   ]
  },
  {
   "cell_type": "code",
   "execution_count": 539,
   "metadata": {
    "collapsed": true
   },
   "outputs": [],
   "source": [
    "def multinom_grad(W, P, X1, X2):\n",
    "    Z = np.zeros_like(P)\n",
    "    N, K = Z.shape\n",
    "    for k in range(1, K):\n",
    "        w = W[k]\n",
    "        X = np.c_[ np.ones(N), X1[:, k], X2[:, k] ]\n",
    "        Z[:, k] = np.dot(X, w)\n",
    "    Q = np.array([softmax.softmax_func(z) for z in Z])\n",
    "        \n",
    "    D = np.zeros_like(W)\n",
    "    for k in range(1, K):\n",
    "        for i, z in enumerate(Z):\n",
    "            g = softmax.softmax_grad(z)\n",
    "            x = np.r_[ 1.0, X1[i, k], X2[i, k] ]\n",
    "            for j in range(K):\n",
    "                D[k] += P[i, j] / Q[i, j] * g[j, k] * x\n",
    "            \n",
    "    return D"
   ]
  },
  {
   "cell_type": "code",
   "execution_count": 545,
   "metadata": {
    "collapsed": false
   },
   "outputs": [],
   "source": [
    "from sklearn.preprocessing import StandardScaler\n",
    "#X1 = StandardScaler().fit_transform(L1)\n",
    "X1 = (L1 - L1.mean()) / np.std(L1)\n",
    "#X2 = StandardScaler().fit_transform(L2)\n",
    "X2 = (L2 - L2.mean()) / np.std(L2)\n",
    "W0 = np.zeros((P.shape[1], 3))"
   ]
  },
  {
   "cell_type": "code",
   "execution_count": 546,
   "metadata": {
    "collapsed": false
   },
   "outputs": [
    {
     "data": {
      "text/plain": [
       "-1397.3847160088496"
      ]
     },
     "execution_count": 546,
     "metadata": {},
     "output_type": "execute_result"
    }
   ],
   "source": [
    "multinom_cost(W0, P, X1, X2)"
   ]
  },
  {
   "cell_type": "code",
   "execution_count": 547,
   "metadata": {
    "collapsed": false
   },
   "outputs": [
    {
     "data": {
      "text/plain": [
       "array([[   0.    ,    0.    ,    0.    ],\n",
       "       [  51.7189,   -8.9617,  -48.1461],\n",
       "       [  33.5423,  -14.7138,  -29.7908],\n",
       "       [  26.2598,   13.4334,    7.1831],\n",
       "       [  37.7879,   33.0711,   68.7322],\n",
       "       [ -15.1784,   44.7643,   82.9596],\n",
       "       [ -12.5592,    1.1756,   59.9074],\n",
       "       [ -63.4855,   41.0997,  105.9259]])"
      ]
     },
     "execution_count": 547,
     "metadata": {},
     "output_type": "execute_result"
    }
   ],
   "source": [
    "multinom_grad(W0, P, X1, X2)"
   ]
  },
  {
   "cell_type": "code",
   "execution_count": 548,
   "metadata": {
    "collapsed": true
   },
   "outputs": [],
   "source": [
    "def check_grad(f, x0, eps=1e-10):\n",
    "    f0 = f(x0)\n",
    "    n = x0.size\n",
    "    g = np.zeros_like(x0)\n",
    "    for i in range(n):\n",
    "        dt = np.zeros_like(x0)\n",
    "        dt[i] += eps\n",
    "        f1 = f(x0 + dt)\n",
    "        g[i] = (f1 - f0) / eps\n",
    "        \n",
    "    return g"
   ]
  },
  {
   "cell_type": "code",
   "execution_count": 549,
   "metadata": {
    "collapsed": false
   },
   "outputs": [],
   "source": [
    "wshape = W0.shape\n",
    "f = lambda w: -multinom_cost(w.reshape(wshape), P, X1, X2)\n",
    "g = lambda w: -multinom_grad(w.reshape(wshape), P, X1, X2).ravel()"
   ]
  },
  {
   "cell_type": "code",
   "execution_count": 551,
   "metadata": {
    "collapsed": false
   },
   "outputs": [
    {
     "data": {
      "text/plain": [
       "array([[   0.    ,    0.    ,    0.    ],\n",
       "       [ -51.7189,    8.9617,   48.1461],\n",
       "       [ -33.5423,   14.7138,   29.7908],\n",
       "       [ -26.2598,  -13.4334,   -7.1831],\n",
       "       [ -37.7879,  -33.071 ,  -68.7322],\n",
       "       [  15.1784,  -44.7643,  -82.9596],\n",
       "       [  12.5592,   -1.1756,  -59.9074],\n",
       "       [  63.4855,  -41.0997, -105.9259]])"
      ]
     },
     "execution_count": 551,
     "metadata": {},
     "output_type": "execute_result"
    }
   ],
   "source": [
    "check_grad(f, W0.ravel(), 1e-8).reshape(wshape)"
   ]
  },
  {
   "cell_type": "code",
   "execution_count": 552,
   "metadata": {
    "collapsed": true
   },
   "outputs": [],
   "source": [
    "s = opt.minimize(f, W.ravel(), jac=g, method='BFGS')"
   ]
  },
  {
   "cell_type": "code",
   "execution_count": 553,
   "metadata": {
    "collapsed": false
   },
   "outputs": [
    {
     "data": {
      "text/plain": [
       "array([[  0.    ,   0.    ,   0.    ],\n",
       "       [  7.2443,   5.7611,   9.5801],\n",
       "       [  7.3638,   5.7388,   9.9947],\n",
       "       [  7.4089,   5.6485,  10.5577],\n",
       "       [  7.2686,   5.6118,  10.688 ],\n",
       "       [  7.375 ,   5.5861,  10.7389],\n",
       "       [  7.3706,   5.5802,  10.7423],\n",
       "       [  7.2817,   5.7079,  10.7069]])"
      ]
     },
     "execution_count": 553,
     "metadata": {},
     "output_type": "execute_result"
    }
   ],
   "source": [
    "W2 = s.x.reshape(wshape)\n",
    "W2"
   ]
  },
  {
   "cell_type": "code",
   "execution_count": 554,
   "metadata": {
    "collapsed": false
   },
   "outputs": [
    {
     "data": {
      "text/plain": [
       "-777.60273430499296"
      ]
     },
     "execution_count": 554,
     "metadata": {},
     "output_type": "execute_result"
    }
   ],
   "source": [
    "multinom_cost(W2, P, X1, X2)"
   ]
  },
  {
   "cell_type": "markdown",
   "metadata": {},
   "source": [
    "We have a slight improvement in terms of log-likelihood. Let's check the accuracy of MAP subtype estimates."
   ]
  },
  {
   "cell_type": "code",
   "execution_count": 556,
   "metadata": {
    "collapsed": true
   },
   "outputs": [],
   "source": [
    "Q3 = multinom_pred(W2, P, X1, X2)"
   ]
  },
  {
   "cell_type": "code",
   "execution_count": 557,
   "metadata": {
    "collapsed": false
   },
   "outputs": [
    {
     "data": {
      "text/plain": [
       "0.63690476190476186"
      ]
     },
     "execution_count": 557,
     "metadata": {},
     "output_type": "execute_result"
    }
   ],
   "source": [
    "np.mean(np.argmax(P, axis=1) == np.argmax(Q1, axis=1))"
   ]
  },
  {
   "cell_type": "code",
   "execution_count": 558,
   "metadata": {
    "collapsed": false
   },
   "outputs": [
    {
     "data": {
      "text/plain": [
       "0.6339285714285714"
      ]
     },
     "execution_count": 558,
     "metadata": {},
     "output_type": "execute_result"
    }
   ],
   "source": [
    "np.mean(np.argmax(P, axis=1) == np.argmax(Q3, axis=1))"
   ]
  },
  {
   "cell_type": "markdown",
   "metadata": {},
   "source": [
    "No improvement on MAP accuracy."
   ]
  },
  {
   "cell_type": "code",
   "execution_count": 594,
   "metadata": {
    "collapsed": false
   },
   "outputs": [
    {
     "data": {
      "text/plain": [
       "array([[ 17,   4,   2,   1,   0,   0,   0,   0],\n",
       "       [  3, 103,  21,   7,   4,   1,   0,   0],\n",
       "       [  0,  24,  77,   6,   3,   0,   1,   0],\n",
       "       [  0,  10,  21,  51,  21,   0,   6,   0],\n",
       "       [  0,   0,   2,  26,  93,   7,   5,   3],\n",
       "       [  0,   0,   2,   0,  18,  35,   6,   1],\n",
       "       [  0,   1,   4,  10,  14,   7,  35,   1],\n",
       "       [  0,   0,   0,   1,   1,   0,   0,  17]])"
      ]
     },
     "execution_count": 594,
     "metadata": {},
     "output_type": "execute_result"
    }
   ],
   "source": [
    "confusion_matrix(np.argmax(P, axis=1), np.argmax(Q1, axis=1))"
   ]
  },
  {
   "cell_type": "code",
   "execution_count": 593,
   "metadata": {
    "collapsed": false
   },
   "outputs": [
    {
     "data": {
      "text/plain": [
       "array([[17,  4,  2,  1,  0,  0,  0,  0],\n",
       "       [ 3, 96, 29,  6,  4,  1,  0,  0],\n",
       "       [ 0, 21, 80,  7,  3,  0,  0,  0],\n",
       "       [ 0, 10, 21, 57, 16,  0,  5,  0],\n",
       "       [ 0,  0,  2, 28, 87, 11,  7,  1],\n",
       "       [ 0,  0,  2,  0, 16, 37,  6,  1],\n",
       "       [ 0,  1,  4, 11, 12,  8, 36,  0],\n",
       "       [ 0,  0,  0,  1,  1,  1,  0, 16]])"
      ]
     },
     "execution_count": 593,
     "metadata": {},
     "output_type": "execute_result"
    }
   ],
   "source": [
    "confusion_matrix(np.argmax(P, axis=1), np.argmax(Q3, axis=1))"
   ]
  },
  {
   "cell_type": "code",
   "execution_count": 604,
   "metadata": {
    "collapsed": false
   },
   "outputs": [],
   "source": [
    "subtypes = pd.read_csv('benchmark_pfvc_subtypes.csv')\n",
    "subtypes['subtype'] = np.argmax(Q3, axis=1) + 1\n",
    "subtypes.to_csv('benchmark_pfvc_1y_subtypes_multinom.csv', index=False)"
   ]
  },
  {
   "cell_type": "code",
   "execution_count": 605,
   "metadata": {
    "collapsed": false
   },
   "outputs": [
    {
     "name": "stdout",
     "output_type": "stream",
     "text": [
      "Loading required package: methods\n",
      "Source: local data frame [4 x 2]\n",
      "\n",
      "     bin   mae\n",
      "1  (1,2]  4.83\n",
      "2  (2,4]  6.78\n",
      "3  (4,8]  9.19\n",
      "4 (8,25] 11.06\n",
      "Source: local data frame [8 x 5]\n",
      "\n",
      "  true_subtype (1,2] (2,4] (4,8] (8,25]\n",
      "1            1  5.68  9.47  7.15  16.67\n",
      "2            2  3.91  4.54  6.27   6.55\n",
      "3            3  4.02  5.02  6.38   6.54\n",
      "4            4  4.74  6.97 10.94  14.49\n",
      "5            5  5.04  7.06 10.39  15.04\n",
      "6            6  4.76  8.35 10.64  10.67\n",
      "7            7  6.17  9.10 12.86  19.92\n",
      "8            8  5.65  6.43  4.98   1.53\n",
      "Source: local data frame [8 x 9]\n",
      "\n",
      "  true_subtype    1     2     3     4     5     6     7     8\n",
      "1            1 3.60  8.80 43.35 52.91    NA    NA    NA    NA\n",
      "2            2 8.02  3.33  8.27 16.43 11.93 31.94    NA    NA\n",
      "3            3   NA 10.56  3.57 11.86  8.81    NA    NA    NA\n",
      "4            4   NA 18.54  7.75  3.49 14.26    NA 16.51    NA\n",
      "5            5   NA    NA  5.61 11.20  4.79 10.59 26.34 32.66\n",
      "6            6   NA    NA 21.57    NA 12.80  3.38  9.03 15.67\n",
      "7            7   NA 38.78  9.05 13.80 20.69 13.15  4.08    NA\n",
      "8            8   NA    NA    NA 29.26 25.96 11.78    NA  3.73\n",
      "(1,2] \n",
      "Source: local data frame [8 x 9]\n",
      "\n",
      "  true_subtype    1     2     3     4     5     6     7     8\n",
      "1            1 1.59  5.43 43.75    NA    NA    NA    NA    NA\n",
      "2            2 4.17  2.87  4.22  9.88  5.92 32.08    NA    NA\n",
      "3            3   NA  6.59  3.23  5.04 14.12    NA    NA    NA\n",
      "4            4   NA 10.74  5.19  2.36  6.82    NA  9.11    NA\n",
      "5            5   NA    NA  2.71  3.36  3.56  6.29 14.48 30.67\n",
      "6            6   NA    NA 22.90    NA  8.00  2.12  3.36 13.86\n",
      "7            7   NA 38.67  7.18 10.34 11.09  5.57  2.77    NA\n",
      "8            8   NA    NA    NA 29.26 23.81  8.05    NA  3.14\n",
      "(2,4] \n",
      "Source: local data frame [8 x 9]\n",
      "\n",
      "  true_subtype    1     2     3     4     5     6     7     8\n",
      "1            1 3.52  9.24 43.53 38.68    NA    NA    NA    NA\n",
      "2            2 6.90  3.21  6.57 10.34  7.56 31.80    NA    NA\n",
      "3            3   NA  8.65  3.11  8.57 12.01    NA    NA    NA\n",
      "4            4   NA 15.06  7.84  2.93 10.60    NA 10.83    NA\n",
      "5            5   NA    NA  3.79  5.52  4.67  9.15 19.33 31.52\n",
      "6            6   NA    NA 23.06    NA 12.99  2.69  6.71 13.98\n",
      "7            7   NA 38.99 10.66 10.89 17.46 10.79  2.83    NA\n",
      "8            8   NA    NA    NA    NA 27.03 12.32    NA  4.75\n",
      "(4,8] \n",
      "Source: local data frame [8 x 9]\n",
      "\n",
      "  true_subtype    1     2     3     4     5     6     7     8\n",
      "1            1 3.28 10.04 43.09    NA    NA    NA    NA    NA\n",
      "2            2 9.78  3.43  9.45 22.23  9.70    NA    NA    NA\n",
      "3            3   NA 10.86  3.67 13.78  6.34    NA    NA    NA\n",
      "4            4   NA 20.82  8.40  3.99 16.00    NA 19.89    NA\n",
      "5            5   NA    NA  5.74 11.10  5.43 12.99 33.71 33.31\n",
      "6            6   NA    NA 22.57    NA 16.26  3.37 10.71 15.95\n",
      "7            7   NA    NA    NA 14.86 23.21 18.11  5.46    NA\n",
      "8            8   NA    NA    NA    NA    NA 14.08    NA  3.68\n",
      "(8,25] \n",
      "Source: local data frame [8 x 9]\n",
      "\n",
      "  true_subtype    1     2     3     4     5     6     7     8\n",
      "1            1 5.03  9.60 43.10 56.47    NA    NA    NA    NA\n",
      "2            2 8.64  3.64 12.60    NA 16.81    NA    NA    NA\n",
      "3            3   NA 13.20  4.03 20.09  5.25    NA    NA    NA\n",
      "4            4   NA 27.91 11.15  5.43 18.90    NA 19.50    NA\n",
      "5            5   NA    NA  6.22 19.01  5.53 13.64 35.73 33.74\n",
      "6            6   NA    NA 19.20    NA 12.00  5.53 14.88 21.48\n",
      "7            7   NA    NA    NA 27.70 29.10 21.28  7.65    NA\n",
      "8            8   NA    NA    NA    NA    NA    NA    NA  1.53\n"
     ]
    }
   ],
   "source": [
    "!Rscript score_predictions.R benchmark_pfvc_1y_subtypes_multinom.csv"
   ]
  },
  {
   "cell_type": "markdown",
   "metadata": {},
   "source": [
    "#### Future Directions\n",
    "\n",
    "1. Use a Bayesian multinomial logistic regression classifier to sidestep the inexpressive linear model.\n",
    "\n",
    "2. Change the objective function to more directly reflect the cost function used to evaluate the model (i.e. not all subtype misclassification mistakes are equal, some mistakes are more costly and perhaps we'd like to reflect that in the learning procedure).\n",
    "\n",
    "3. Incorporate additional likelihood ratios based on other longitudinally measured outcomes."
   ]
  },
  {
   "cell_type": "markdown",
   "metadata": {},
   "source": [
    "### Adding Additional Markers"
   ]
  },
  {
   "cell_type": "code",
   "execution_count": 651,
   "metadata": {
    "collapsed": true
   },
   "outputs": [],
   "source": [
    "L3 = np.loadtxt('param/gi_5.0_ratios.dat')\n",
    "L4 = np.loadtxt('param/pdc_5.0_ratios.dat')\n",
    "L5 = np.loadtxt('param/hrt_5.0_ratios.dat')"
   ]
  },
  {
   "cell_type": "code",
   "execution_count": 652,
   "metadata": {
    "collapsed": false
   },
   "outputs": [],
   "source": [
    "#X3 = StandardScaler().fit_transform(L3)\n",
    "X3 = (L3 - L3.mean()) / np.std(L3)\n",
    "#X4 = StandardScaler().fit_transform(L4)\n",
    "X4 = (L4 - L4.mean()) / np.std(L4)\n",
    "#X5 = StandardScaler().fit_transform(L5)\n",
    "X5 = (L5 - L5.mean()) / np.std(L5)"
   ]
  },
  {
   "cell_type": "code",
   "execution_count": 653,
   "metadata": {
    "collapsed": false
   },
   "outputs": [],
   "source": [
    "def multinom_pred2(W, P, XX):\n",
    "    Z = np.zeros_like(P)\n",
    "    N, K = Z.shape\n",
    "    for k in range(1, K):\n",
    "        w = W[k]\n",
    "        X = np.ones(N)\n",
    "        for Xi in XX:\n",
    "            X = np.c_[ X, Xi[:, k] ]\n",
    "        Z[:, k] = np.dot(X, w)\n",
    "    \n",
    "    Q = np.array([softmax.softmax_func(z) for z in Z])\n",
    "    return Q\n",
    "\n",
    "def multinom_cost2(W, P, XX):\n",
    "    Q = multinom_pred2(W, P, XX)\n",
    "    return np.sum(P * np.log(Q))"
   ]
  },
  {
   "cell_type": "code",
   "execution_count": 654,
   "metadata": {
    "collapsed": true
   },
   "outputs": [],
   "source": [
    "def multinom_grad2(W, P, XX):\n",
    "    Z = np.zeros_like(P)\n",
    "    N, K = Z.shape\n",
    "    for k in range(1, K):\n",
    "        w = W[k]\n",
    "        X = np.ones(N)\n",
    "        for Xi in XX:\n",
    "            X = np.c_[ X, Xi[:, k] ]\n",
    "        Z[:, k] = np.dot(X, w)\n",
    "    Q = np.array([softmax.softmax_func(z) for z in Z])\n",
    "        \n",
    "    D = np.zeros_like(W)\n",
    "    for k in range(1, K):\n",
    "        for i, z in enumerate(Z):\n",
    "            g = softmax.softmax_grad(z)\n",
    "            x = np.array([Xi[i, k] for Xi in XX])\n",
    "            x = np.r_[ 1.0, x ]\n",
    "            for j in range(K):\n",
    "                D[k] += P[i, j] / Q[i, j] * g[j, k] * x\n",
    "            \n",
    "    return D"
   ]
  },
  {
   "cell_type": "code",
   "execution_count": 655,
   "metadata": {
    "collapsed": true
   },
   "outputs": [],
   "source": [
    "W0 = np.zeros((P.shape[1], 6))\n",
    "f2 = lambda w: -multinom_cost2(w.reshape(W0.shape), P, [X1, X2, X3, X4, X5])\n",
    "g2 = lambda w: -multinom_grad2(w.reshape(W0.shape), P, [X1, X2, X3, X4, X5]).ravel()"
   ]
  },
  {
   "cell_type": "code",
   "execution_count": 656,
   "metadata": {
    "collapsed": false
   },
   "outputs": [
    {
     "data": {
      "text/plain": [
       "array([[  -0.    ,   -0.    ,   -0.    ,   -0.    ,   -0.    ,   -0.    ],\n",
       "       [ -51.7189,    8.9617,   48.1461,   -7.2826,  -24.1162,   12.8552],\n",
       "       [ -33.5423,   14.7138,   29.7908,    2.1474,   -6.9574,   11.9928],\n",
       "       [ -26.2598,  -13.4334,   -7.1831,  -12.1964,  -18.2787,  -15.8236],\n",
       "       [ -37.7879,  -33.0711,  -68.7322,  -22.7263,  -39.2572,   -3.8876],\n",
       "       [  15.1784,  -44.7643,  -82.9596,  -13.1645,  -24.4863,   -0.9232],\n",
       "       [  12.5592,   -1.1756,  -59.9074,  -10.9538,  -94.7906,  -25.9305],\n",
       "       [  63.4855,  -41.0997, -105.9259,   -4.0192,  -13.823 ,   -1.6348]])"
      ]
     },
     "execution_count": 656,
     "metadata": {},
     "output_type": "execute_result"
    }
   ],
   "source": [
    "g2(W0.ravel()).reshape(W0.shape)"
   ]
  },
  {
   "cell_type": "code",
   "execution_count": 657,
   "metadata": {
    "collapsed": false
   },
   "outputs": [
    {
     "data": {
      "text/plain": [
       "array([[   0.    ,    0.    ,    0.    ,    0.    ,    0.    ,    0.    ],\n",
       "       [ -51.7189,    8.9617,   48.1461,   -7.2826,  -24.1162,   12.8552],\n",
       "       [ -33.5423,   14.7138,   29.7908,    2.1474,   -6.9574,   11.9928],\n",
       "       [ -26.2598,  -13.4334,   -7.183 ,  -12.1963,  -18.2787,  -15.8236],\n",
       "       [ -37.7879,  -33.071 ,  -68.7322,  -22.7263,  -39.2572,   -3.8876],\n",
       "       [  15.1784,  -44.7643,  -82.9596,  -13.1644,  -24.4863,   -0.9232],\n",
       "       [  12.5592,   -1.1756,  -59.9074,  -10.9538,  -94.7906,  -25.9305],\n",
       "       [  63.4855,  -41.0997, -105.9258,   -4.0192,  -13.823 ,   -1.6348]])"
      ]
     },
     "execution_count": 657,
     "metadata": {},
     "output_type": "execute_result"
    }
   ],
   "source": [
    "check_grad(f2, W0.ravel(), 1e-8).reshape(W0.shape)"
   ]
  },
  {
   "cell_type": "code",
   "execution_count": 658,
   "metadata": {
    "collapsed": false
   },
   "outputs": [],
   "source": [
    "s2 = opt.minimize(f2, np.random.normal(scale=5.0, size=W0.shape).ravel(), jac=g2, method='BFGS')"
   ]
  },
  {
   "cell_type": "code",
   "execution_count": 661,
   "metadata": {
    "collapsed": false
   },
   "outputs": [],
   "source": [
    "Q5 = multinom_pred2(s2.x.reshape(W0.shape), P, [X1, X2, X3, X4, X5])"
   ]
  },
  {
   "cell_type": "code",
   "execution_count": 662,
   "metadata": {
    "collapsed": false
   },
   "outputs": [
    {
     "data": {
      "text/plain": [
       "0.68005952380952384"
      ]
     },
     "execution_count": 662,
     "metadata": {},
     "output_type": "execute_result"
    }
   ],
   "source": [
    "np.mean(np.argmax(P, axis=1) == np.argmax(Q5, axis=1))"
   ]
  },
  {
   "cell_type": "code",
   "execution_count": 663,
   "metadata": {
    "collapsed": false
   },
   "outputs": [
    {
     "data": {
      "text/plain": [
       "array([[ 17,   4,   2,   1,   0,   0,   0,   0],\n",
       "       [  3, 103,  21,   7,   4,   1,   0,   0],\n",
       "       [  0,  24,  77,   6,   3,   0,   1,   0],\n",
       "       [  0,  10,  21,  51,  21,   0,   6,   0],\n",
       "       [  0,   0,   2,  26,  93,   7,   5,   3],\n",
       "       [  0,   0,   2,   0,  18,  35,   6,   1],\n",
       "       [  0,   1,   4,  10,  14,   7,  35,   1],\n",
       "       [  0,   0,   0,   1,   1,   0,   0,  17]])"
      ]
     },
     "execution_count": 663,
     "metadata": {},
     "output_type": "execute_result"
    }
   ],
   "source": [
    "confusion_matrix(np.argmax(P, axis=1), np.argmax(Q1, axis=1))"
   ]
  },
  {
   "cell_type": "code",
   "execution_count": 664,
   "metadata": {
    "collapsed": false
   },
   "outputs": [
    {
     "data": {
      "text/plain": [
       "array([[ 18,   4,   2,   0,   0,   0,   0,   0],\n",
       "       [  3, 104,  25,   3,   2,   2,   0,   0],\n",
       "       [  0,  21,  79,   9,   1,   1,   0,   0],\n",
       "       [  0,   8,  18,  63,  14,   1,   5,   0],\n",
       "       [  0,   2,   2,  22,  93,  11,   3,   3],\n",
       "       [  0,   0,   2,   0,  12,  41,   5,   2],\n",
       "       [  0,   1,   4,   9,   7,   7,  44,   0],\n",
       "       [  0,   0,   0,   1,   1,   2,   0,  15]])"
      ]
     },
     "execution_count": 664,
     "metadata": {},
     "output_type": "execute_result"
    }
   ],
   "source": [
    "confusion_matrix(np.argmax(P, axis=1), np.argmax(Q5, axis=1))"
   ]
  },
  {
   "cell_type": "code",
   "execution_count": 665,
   "metadata": {
    "collapsed": false
   },
   "outputs": [],
   "source": [
    "subtypes = pd.read_csv('benchmark_pfvc_subtypes.csv')\n",
    "subtypes['subtype'] = np.argmax(Q5, axis=1) + 1\n",
    "subtypes.to_csv('benchmark_pfvc_1y_subtypes_multinom2.csv', index=False)"
   ]
  },
  {
   "cell_type": "code",
   "execution_count": 666,
   "metadata": {
    "collapsed": false
   },
   "outputs": [
    {
     "name": "stdout",
     "output_type": "stream",
     "text": [
      "Loading required package: methods\n",
      "Source: local data frame [4 x 2]\n",
      "\n",
      "     bin  mae\n",
      "1  (1,2] 4.62\n",
      "2  (2,4] 6.04\n",
      "3  (4,8] 7.67\n",
      "4 (8,25] 8.51\n",
      "Source: local data frame [8 x 5]\n",
      "\n",
      "  true_subtype (1,2] (2,4] (4,8] (8,25]\n",
      "1            1  5.37  7.14  6.37  10.80\n",
      "2            2  3.38  4.40  5.19   5.44\n",
      "3            3  4.40  4.93  6.22   6.48\n",
      "4            4  4.36  6.05  7.94   9.98\n",
      "5            5  5.05  6.60  8.99  10.56\n",
      "6            6  4.91  7.68 10.19   8.81\n",
      "7            7  5.22  6.71  9.57  14.79\n",
      "8            8  5.91  6.43  4.98   1.53\n",
      "Source: local data frame [8 x 9]\n",
      "\n",
      "  true_subtype    1     2     3     4     5     6     7     8\n",
      "1            1 3.45 11.47 43.35    NA    NA    NA    NA    NA\n",
      "2            2 8.33  3.28  8.40 11.29  5.48 34.50    NA    NA\n",
      "3            3   NA  9.32  3.72 12.68 15.16 21.62    NA    NA\n",
      "4            4   NA 15.23  8.69  3.87 13.18  4.46 11.56    NA\n",
      "5            5   NA 17.31  6.91  9.75  4.37 10.71 35.43 24.56\n",
      "6            6   NA    NA 21.57    NA 12.58  4.37 11.50 14.50\n",
      "7            7   NA 38.78  9.05 13.21 16.84 13.12  3.91    NA\n",
      "8            8   NA    NA    NA 29.26 25.96  9.20    NA  3.83\n",
      "(1,2] \n",
      "Source: local data frame [8 x 9]\n",
      "\n",
      "  true_subtype    1     2     3     4     5     6     7     8\n",
      "1            1 2.01  4.90 43.75    NA    NA    NA    NA    NA\n",
      "2            2 6.47  2.70  4.48  5.58  1.37 32.08    NA    NA\n",
      "3            3   NA  6.22  3.24  6.47 18.21 22.80    NA    NA\n",
      "4            4   NA  9.88  6.04  2.49  6.51  4.06  6.16    NA\n",
      "5            5   NA 15.11  2.46  3.43  3.36  7.14 20.73 17.33\n",
      "6            6   NA    NA 22.90    NA  9.10  2.95  4.31 12.23\n",
      "7            7   NA 38.67  7.18  9.03 11.19  4.93  2.93    NA\n",
      "8            8   NA    NA    NA 29.26 23.81  5.65    NA  3.38\n",
      "(2,4] \n",
      "Source: local data frame [8 x 9]\n",
      "\n",
      "  true_subtype    1     2     3     4     5     6     7     8\n",
      "1            1 3.34  9.84 43.53    NA    NA    NA    NA    NA\n",
      "2            2 7.51  3.19  6.20  9.95  3.26 34.37    NA    NA\n",
      "3            3   NA  7.83  3.29  9.16 13.63 21.48    NA    NA\n",
      "4            4   NA 13.66  7.85  3.18  9.91  3.71 11.19    NA\n",
      "5            5   NA 17.35  1.96  5.41  4.33 10.18 28.58 19.36\n",
      "6            6   NA    NA 23.06    NA 12.39  3.85 11.41 12.85\n",
      "7            7   NA 38.99 10.66 10.13 17.16  8.62  3.14    NA\n",
      "8            8   NA    NA    NA    NA 27.03 12.32    NA  4.75\n",
      "(4,8] \n",
      "Source: local data frame [8 x 9]\n",
      "\n",
      "  true_subtype    1     2     3     4     5     6     7     8\n",
      "1            1 3.04  9.69 43.09    NA    NA    NA    NA    NA\n",
      "2            2 9.54  3.37  9.35 15.82  6.61 37.16    NA    NA\n",
      "3            3   NA  9.27  3.90 14.25    NA 21.09    NA    NA\n",
      "4            4   NA 18.54  8.51  4.19 14.45  2.93 16.34    NA\n",
      "5            5   NA 18.12  5.75 10.50  4.92 11.70 41.43 27.97\n",
      "6            6   NA    NA 22.57    NA 15.25  4.79 15.79 15.25\n",
      "7            7   NA    NA    NA 14.28 21.95 14.72  4.80    NA\n",
      "8            8   NA    NA    NA    NA    NA 14.08    NA  3.68\n",
      "(8,25] \n",
      "Source: local data frame [8 x 9]\n",
      "\n",
      "  true_subtype    1     2     3     4     5     6     7     8\n",
      "1            1 4.88 19.21 43.10    NA    NA    NA    NA    NA\n",
      "2            2 8.64  3.65 12.64    NA  7.69    NA    NA    NA\n",
      "3            3   NA 12.31  4.15 19.64    NA    NA    NA    NA\n",
      "4            4   NA 20.85 14.55  5.93 20.20  5.26    NA    NA\n",
      "5            5   NA 17.36  9.44 16.96  4.59 28.51 43.50 33.28\n",
      "6            6   NA    NA 19.20    NA 12.00  5.99    NA 21.48\n",
      "7            7   NA    NA    NA 27.70    NA 17.42  7.39    NA\n",
      "8            8   NA    NA    NA    NA    NA    NA    NA  1.53\n"
     ]
    }
   ],
   "source": [
    "!Rscript score_predictions.R benchmark_pfvc_1y_subtypes_multinom2.csv"
   ]
  },
  {
   "cell_type": "markdown",
   "metadata": {},
   "source": [
    "#### Cross validated results with 5 years of aux"
   ]
  },
  {
   "cell_type": "code",
   "execution_count": 484,
   "metadata": {
    "collapsed": true
   },
   "outputs": [],
   "source": [
    "from sklearn.cross_validation import KFold"
   ]
  },
  {
   "cell_type": "code",
   "execution_count": 667,
   "metadata": {
    "collapsed": false
   },
   "outputs": [
    {
     "name": "stdout",
     "output_type": "stream",
     "text": [
      "Starting new fold.\n",
      "Starting new fold.\n",
      "Starting new fold.\n",
      "Starting new fold.\n",
      "Starting new fold.\n",
      "Starting new fold.\n",
      "Starting new fold.\n",
      "Starting new fold.\n",
      "Starting new fold.\n",
      "Starting new fold.\n"
     ]
    }
   ],
   "source": [
    "L3 = np.loadtxt('param/gi_5.0_ratios.dat')\n",
    "L4 = np.loadtxt('param/pdc_5.0_ratios.dat')\n",
    "L5 = np.loadtxt('param/hrt_5.0_ratios.dat')\n",
    "\n",
    "#X3 = StandardScaler().fit_transform(L3)\n",
    "X3 = (L3 - L3.mean()) / L3.std()\n",
    "#X4 = StandardScaler().fit_transform(L4)\n",
    "X4 = (L4 - L4.mean()) / L4.std()\n",
    "#X5 = StandardScaler().fit_transform(L5)\n",
    "X5 = (L5 - L5.mean()) / L5.std()\n",
    "\n",
    "XX     = [X1, X2, X3, X4, X5]\n",
    "W0     = np.zeros((P.shape[1], len(XX) + 1))\n",
    "\n",
    "nfolds = 10\n",
    "accs   = []\n",
    "WW     = []\n",
    "sols   = []\n",
    "Qfinal = np.zeros_like(P)\n",
    "\n",
    "for train, test in KFold(P.shape[0], nfolds, shuffle=True, random_state=0):\n",
    "    print('Starting new fold.')\n",
    "    f2 = lambda w: -multinom_cost2(w.reshape(W0.shape), P[train], [Xi[train] for Xi in XX])\n",
    "    g2 = lambda w: -multinom_grad2(w.reshape(W0.shape), P[train], [Xi[train] for Xi in XX]).ravel()\n",
    "    s2 = opt.minimize(f2, W0.ravel(), jac=g2, method='BFGS')\n",
    "    sols.append(s2)\n",
    "    W  = s2.x.reshape(W0.shape)\n",
    "    WW.append(W)\n",
    "    Qfinal[test] = multinom_pred2(W, P[test], [Xi[test] for Xi in XX])\n",
    "    accs.append(np.mean(np.argmax(P[test], axis=1) == np.argmax(Qfinal[test], axis=1)))"
   ]
  },
  {
   "cell_type": "code",
   "execution_count": 675,
   "metadata": {
    "collapsed": true
   },
   "outputs": [],
   "source": [
    "subtypes = pd.read_csv('benchmark_pfvc_subtypes.csv')\n",
    "subtypes['subtype'] = np.argmax(Qfinal, axis=1) + 1\n",
    "subtypes.to_csv('benchmark_pfvc_1y_subtypes_multinom3.csv', index=False)"
   ]
  },
  {
   "cell_type": "code",
   "execution_count": 676,
   "metadata": {
    "collapsed": false
   },
   "outputs": [
    {
     "name": "stdout",
     "output_type": "stream",
     "text": [
      "Loading required package: methods\n",
      "Source: local data frame [4 x 2]\n",
      "\n",
      "     bin  mae\n",
      "1  (1,2] 4.78\n",
      "2  (2,4] 6.21\n",
      "3  (4,8] 8.14\n",
      "4 (8,25] 9.12\n",
      "Source: local data frame [8 x 5]\n",
      "\n",
      "  true_subtype (1,2] (2,4] (4,8] (8,25]\n",
      "1            1  5.63  8.62  6.37  10.80\n",
      "2            2  3.44  4.31  5.23   6.33\n",
      "3            3  4.28  4.97  6.81   6.99\n",
      "4            4  4.35  6.09  8.49  10.94\n",
      "5            5  5.68  6.77  9.67  10.90\n",
      "6            6  5.03  8.16 10.63   8.98\n",
      "7            7  5.33  6.80  9.68  15.97\n",
      "8            8  6.06  7.33  8.16   1.53\n",
      "Source: local data frame [8 x 9]\n",
      "\n",
      "  true_subtype    1     2     3     4     5     6     7     8\n",
      "1            1 3.41 11.47 32.23    NA    NA    NA    NA    NA\n",
      "2            2 8.33  3.28  9.21 11.29  6.87 31.94    NA    NA\n",
      "3            3   NA  9.67  3.78 12.09    NA 21.62    NA    NA\n",
      "4            4   NA 14.61  9.00  3.90 13.87  4.46 12.37    NA\n",
      "5            5   NA 18.35  7.50  9.89  4.39 10.86 34.91 24.56\n",
      "6            6   NA    NA 21.57    NA 12.89  4.40 11.22 14.50\n",
      "7            7   NA 38.78  9.05 13.21 16.84 11.92  3.88    NA\n",
      "8            8   NA    NA    NA 29.26 25.96 10.31    NA  4.15\n",
      "(1,2] \n",
      "Source: local data frame [8 x 9]\n",
      "\n",
      "  true_subtype    1     2     3     4     5     6     7     8\n",
      "1            1 1.66  4.90 26.62    NA    NA    NA    NA    NA\n",
      "2            2 6.47  2.73  4.61  5.58  1.37 32.08    NA    NA\n",
      "3            3   NA  6.19  3.25  5.67    NA 22.80    NA    NA\n",
      "4            4   NA  9.67  6.04  2.50  6.37  4.06  6.02    NA\n",
      "5            5   NA 20.05    NA  3.44  3.28  7.14 19.79 17.33\n",
      "6            6   NA    NA 22.90    NA  9.15  2.95  4.37 12.23\n",
      "7            7   NA 38.67  7.18  9.03 11.19  4.12  3.13    NA\n",
      "8            8   NA    NA    NA 29.26 23.81  5.10    NA  3.57\n",
      "(2,4] \n",
      "Source: local data frame [8 x 9]\n",
      "\n",
      "  true_subtype    1     2     3     4     5     6     7     8\n",
      "1            1 3.28  9.84 27.94    NA    NA    NA    NA    NA\n",
      "2            2 7.51  3.19  6.20  9.95  7.56 31.80    NA    NA\n",
      "3            3   NA  7.85  3.30  8.72    NA 21.48    NA    NA\n",
      "4            4   NA 12.65  7.94  3.22  9.38  3.71 11.56    NA\n",
      "5            5   NA 17.56    NA  5.38  4.31 10.48 28.58 19.36\n",
      "6            6   NA    NA 23.06    NA 12.96  3.75 10.99 12.85\n",
      "7            7   NA 38.99 10.66 10.13 17.16  7.57  3.05    NA\n",
      "8            8   NA    NA    NA    NA 27.03  9.50    NA  5.24\n",
      "(4,8] \n",
      "Source: local data frame [8 x 9]\n",
      "\n",
      "  true_subtype    1     2     3     4     5     6     7     8\n",
      "1            1 3.04  9.69 43.09    NA    NA    NA    NA    NA\n",
      "2            2 9.54  3.41  9.56 15.82  7.91    NA    NA    NA\n",
      "3            3   NA  9.80  4.03 13.71    NA 21.09    NA    NA\n",
      "4            4   NA 17.47  9.19  4.23 14.80  2.93 17.33    NA\n",
      "5            5   NA 17.98  7.50 10.45  4.97 11.79 39.15 27.97\n",
      "6            6   NA    NA 22.57    NA 15.50  4.88 15.84 15.25\n",
      "7            7   NA    NA    NA 14.28 21.95 14.22  4.71    NA\n",
      "8            8   NA    NA    NA    NA    NA 14.80    NA  4.17\n",
      "(8,25] \n",
      "Source: local data frame [8 x 9]\n",
      "\n",
      "  true_subtype    1     2     3     4     5     6     7     8\n",
      "1            1 4.88 19.21 43.10    NA    NA    NA    NA    NA\n",
      "2            2 8.64  3.60 14.20    NA  7.69    NA    NA    NA\n",
      "3            3   NA 12.95  4.21 18.81    NA    NA    NA    NA\n",
      "4            4   NA 20.37 15.13  6.09 21.19  5.26    NA    NA\n",
      "5            5   NA 17.36    NA 16.96  4.66 28.51 42.54 33.28\n",
      "6            6   NA    NA 19.20    NA 12.00  6.05 18.84 21.48\n",
      "7            7   NA    NA    NA 27.70    NA 17.12  8.00    NA\n",
      "8            8   NA    NA    NA    NA    NA    NA    NA  1.53\n"
     ]
    }
   ],
   "source": [
    "!Rscript score_predictions.R benchmark_pfvc_1y_subtypes_multinom3.csv"
   ]
  },
  {
   "cell_type": "markdown",
   "metadata": {},
   "source": [
    "#### Partial auxiliary information"
   ]
  },
  {
   "cell_type": "code",
   "execution_count": 677,
   "metadata": {
    "collapsed": true
   },
   "outputs": [],
   "source": [
    "L3 = np.loadtxt('param/gi_1.0_ratios.dat')\n",
    "L4 = np.loadtxt('param/pdc_1.0_ratios.dat')\n",
    "L5 = np.loadtxt('param/hrt_1.0_ratios.dat')\n",
    "\n",
    "X3 = (L3 - L3.mean()) / np.std(L3)\n",
    "X4 = (L4 - L4.mean()) / np.std(L4)\n",
    "X5 = (L5 - L5.mean()) / np.std(L5)\n",
    "\n",
    "XX = [X1, X2, X3, X4, X5]\n",
    "W0 = np.zeros((P.shape[1], len(XX) + 1))"
   ]
  },
  {
   "cell_type": "code",
   "execution_count": 678,
   "metadata": {
    "collapsed": false
   },
   "outputs": [],
   "source": [
    "f2 = lambda w: -multinom_cost2(w.reshape(W0.shape), P, XX)\n",
    "g2 = lambda w: -multinom_grad2(w.reshape(W0.shape), P, XX).ravel()\n",
    "s2 = opt.minimize(f2, W0.ravel(), jac=g2, method='BFGS')\n",
    "W  = s2.x.reshape(W0.shape)\n",
    "QQ = multinom_pred2(W, P, XX)"
   ]
  },
  {
   "cell_type": "code",
   "execution_count": 679,
   "metadata": {
    "collapsed": false
   },
   "outputs": [
    {
     "data": {
      "text/plain": [
       "      jac: array([ -0.0000e+00,  -0.0000e+00,  -0.0000e+00,  -0.0000e+00,\n",
       "        -0.0000e+00,  -0.0000e+00,   2.5561e-07,  -1.3180e-06,\n",
       "        -1.3497e-07,   1.2260e-07,   8.1624e-08,  -6.1790e-08,\n",
       "         7.5914e-07,   3.5882e-07,   2.2768e-07,  -4.4178e-07,\n",
       "        -2.2847e-07,  -3.5519e-07,   5.0500e-07,   1.3016e-06,\n",
       "         9.3563e-07,   1.1893e-06,   5.7149e-07,   7.3290e-08,\n",
       "         5.1786e-07,   1.1884e-06,   2.9156e-07,   1.7932e-06,\n",
       "         2.2108e-08,   3.3173e-07,  -2.9477e-06,  -2.3275e-06,\n",
       "        -4.4286e-06,  -1.1282e-06,  -2.5045e-06,  -3.0526e-07,\n",
       "         5.4301e-07,   8.4115e-07,   9.0397e-07,  -7.0955e-08,\n",
       "         3.2644e-06,  -1.6482e-07,   7.3053e-07,  -6.9838e-08,\n",
       "         2.5223e-06,   1.1423e-07,   1.9763e-06,  -2.1059e-07])\n",
       "   status: 0\n",
       "  success: True\n",
       "        x: array([  0.0000e+00,   0.0000e+00,   0.0000e+00,   0.0000e+00,\n",
       "         0.0000e+00,   0.0000e+00,   7.3706e+00,   5.6264e+00,\n",
       "         9.6464e+00,   3.7640e-01,  -2.2715e-01,   2.5330e-01,\n",
       "         7.3902e+00,   5.5827e+00,   1.0019e+01,   4.2083e-01,\n",
       "         1.1476e-02,   2.7805e-02,   7.4369e+00,   5.4573e+00,\n",
       "         1.0462e+01,   3.1258e-01,   2.9629e-01,  -4.7833e-04,\n",
       "         7.2581e+00,   5.4427e+00,   1.0634e+01,   3.1945e-01,\n",
       "         1.2817e-01,   4.9087e-03,   7.3567e+00,   5.4020e+00,\n",
       "         1.0652e+01,   2.9927e-01,   2.0051e-01,   1.3071e-01,\n",
       "         7.1589e+00,   5.3694e+00,   1.0670e+01,   3.9638e-01,\n",
       "         2.6508e-01,   2.6247e-01,   7.0834e+00,   5.3634e+00,\n",
       "         1.0560e+01,   6.4714e-01,   4.6669e-01,   6.1892e-01])\n",
       " hess_inv: array([[ 1.    ,  0.    ,  0.    , ...,  0.    ,  0.    ,  0.    ],\n",
       "       [ 0.    ,  1.    ,  0.    , ...,  0.    ,  0.    ,  0.    ],\n",
       "       [ 0.    ,  0.    ,  1.    , ...,  0.    ,  0.    ,  0.    ],\n",
       "       ..., \n",
       "       [ 0.    ,  0.    ,  0.    , ...,  0.1442,  0.0047,  0.029 ],\n",
       "       [ 0.    ,  0.    ,  0.    , ...,  0.0047,  0.0937,  0.0235],\n",
       "       [ 0.    ,  0.    ,  0.    , ...,  0.029 ,  0.0235,  0.2053]])\n",
       "      fun: 765.7561089075866\n",
       "     nfev: 93\n",
       "     njev: 89\n",
       "  message: 'Optimization terminated successfully.'"
      ]
     },
     "execution_count": 679,
     "metadata": {},
     "output_type": "execute_result"
    }
   ],
   "source": [
    "s2"
   ]
  },
  {
   "cell_type": "code",
   "execution_count": 680,
   "metadata": {
    "collapsed": false
   },
   "outputs": [
    {
     "data": {
      "text/plain": [
       "0.63690476190476186"
      ]
     },
     "execution_count": 680,
     "metadata": {},
     "output_type": "execute_result"
    }
   ],
   "source": [
    "np.mean(np.argmax(P, axis=1) == np.argmax(QQ, axis=1))"
   ]
  },
  {
   "cell_type": "code",
   "execution_count": 681,
   "metadata": {
    "collapsed": false
   },
   "outputs": [
    {
     "data": {
      "text/plain": [
       "array([[ 16,   5,   2,   1,   0,   0,   0,   0],\n",
       "       [  2, 100,  28,   6,   2,   1,   0,   0],\n",
       "       [  1,  20,  80,   9,   1,   0,   0,   0],\n",
       "       [  0,  11,  20,  57,  17,   2,   2,   0],\n",
       "       [  0,   0,   3,  28,  86,  10,   8,   1],\n",
       "       [  0,   0,   2,   0,  15,  37,   6,   2],\n",
       "       [  0,   2,   3,   9,  13,   8,  37,   0],\n",
       "       [  0,   0,   0,   0,   1,   2,   1,  15]])"
      ]
     },
     "execution_count": 681,
     "metadata": {},
     "output_type": "execute_result"
    }
   ],
   "source": [
    "confusion_matrix(np.argmax(P, axis=1), np.argmax(QQ, axis=1))"
   ]
  },
  {
   "cell_type": "code",
   "execution_count": 431,
   "metadata": {
    "collapsed": false
   },
   "outputs": [
    {
     "data": {
      "text/plain": [
       "array([[  0.00e+00,   0.00e+00,   0.00e+00,   0.00e+00],\n",
       "       [  5.30e+04,  -2.38e+04,  -1.15e+05,  -7.81e+04],\n",
       "       [  3.43e+04,  -2.50e+04,  -6.14e+04,  -5.27e+04],\n",
       "       [  2.69e+04,   9.25e+03,   4.95e+01,  -1.42e+04],\n",
       "       [  3.87e+04,   2.70e+04,   6.26e+04,   2.70e+04],\n",
       "       [ -1.55e+04,   4.61e+04,   7.36e+04,   4.44e+04],\n",
       "       [ -1.29e+04,   2.81e+03,   5.92e+04,   3.73e+04],\n",
       "       [ -6.50e+04,   6.22e+03,   4.63e+04,   4.82e+04]])"
      ]
     },
     "execution_count": 431,
     "metadata": {},
     "output_type": "execute_result"
    }
   ],
   "source": [
    "W"
   ]
  },
  {
   "cell_type": "code",
   "execution_count": 422,
   "metadata": {
    "collapsed": false
   },
   "outputs": [
    {
     "data": {
      "text/plain": [
       "array([[  0,  24,   0,   0,   0,   0,   0,   0],\n",
       "       [  0, 139,   0,   0,   0,   0,   0,   0],\n",
       "       [  0, 111,   0,   0,   0,   0,   0,   0],\n",
       "       [  0,  74,   9,  25,   1,   0,   0,   0],\n",
       "       [  0,  63,   9,  58,   6,   0,   0,   0],\n",
       "       [  0,   6,   5,  39,  12,   0,   0,   0],\n",
       "       [  0,  20,   3,  40,   9,   0,   0,   0],\n",
       "       [  0,   1,   0,   5,  13,   0,   0,   0]])"
      ]
     },
     "execution_count": 422,
     "metadata": {},
     "output_type": "execute_result"
    }
   ],
   "source": [
    "confusion_matrix(np.argmax(P, axis=1), np.argmax(QQ, axis=1))"
   ]
  },
  {
   "cell_type": "code",
   "execution_count": 682,
   "metadata": {
    "collapsed": true
   },
   "outputs": [],
   "source": [
    "subtypes = pd.read_csv('benchmark_pfvc_subtypes.csv')\n",
    "subtypes['subtype'] = np.argmax(QQ, axis=1) + 1\n",
    "subtypes.to_csv('benchmark_pfvc_1y_subtypes_multinom4.csv', index=False)"
   ]
  },
  {
   "cell_type": "code",
   "execution_count": 683,
   "metadata": {
    "collapsed": false
   },
   "outputs": [
    {
     "name": "stdout",
     "output_type": "stream",
     "text": [
      "Loading required package: methods\n",
      "Source: local data frame [4 x 2]\n",
      "\n",
      "     bin   mae\n",
      "1  (1,2]  4.83\n",
      "2  (2,4]  6.84\n",
      "3  (4,8]  9.23\n",
      "4 (8,25] 10.78\n",
      "Source: local data frame [8 x 5]\n",
      "\n",
      "  true_subtype (1,2] (2,4] (4,8] (8,25]\n",
      "1            1  5.68  9.47  7.15  16.67\n",
      "2            2  3.80  4.56  6.26   5.65\n",
      "3            3  3.98  4.95  6.46   6.63\n",
      "4            4  4.82  7.18 11.04  13.11\n",
      "5            5  5.26  7.38 10.38  15.44\n",
      "6            6  4.56  7.47  9.64  10.67\n",
      "7            7  6.37  9.87 14.09  20.49\n",
      "8            8  4.93  6.43  4.98   1.53\n",
      "Source: local data frame [8 x 9]\n",
      "\n",
      "  true_subtype    1     2     3     4     5     6     7     8\n",
      "1            1  3.6  8.80 43.35 52.91    NA    NA    NA    NA\n",
      "2            2  8.7  3.39  7.72 17.68  9.12 31.94    NA    NA\n",
      "3            3 21.3 10.37  3.62 11.56  8.25    NA    NA    NA\n",
      "4            4   NA 21.20  7.53  3.65 14.24  4.33 11.24    NA\n",
      "5            5   NA    NA  5.97 11.87  4.30 11.03 26.55 32.66\n",
      "6            6   NA    NA 21.57    NA 12.16  3.60  9.03 15.67\n",
      "7            7   NA 44.12  9.65 14.10 19.99 12.73  3.91    NA\n",
      "8            8   NA    NA    NA    NA 25.96  9.20 13.02  3.83\n",
      "(1,2] \n",
      "Source: local data frame [8 x 9]\n",
      "\n",
      "  true_subtype     1     2     3    4     5     6     7     8\n",
      "1            1  1.59  5.43 43.75   NA    NA    NA    NA    NA\n",
      "2            2    NA  2.84  4.23 8.20    NA 32.08    NA    NA\n",
      "3            3 12.48  6.45  3.34 5.25    NA    NA    NA    NA\n",
      "4            4    NA 13.66  5.55 2.19  6.82  3.68    NA    NA\n",
      "5            5    NA    NA  2.58 3.55  3.51  7.52 14.96 30.67\n",
      "6            6    NA    NA 22.90   NA  8.20  2.33  3.36 13.86\n",
      "7            7    NA 41.18  7.92 8.74 11.13  5.53  2.89    NA\n",
      "8            8    NA    NA    NA   NA 23.81  5.65 13.02  3.38\n",
      "(2,4] \n",
      "Source: local data frame [8 x 9]\n",
      "\n",
      "  true_subtype     1     2     3     4     5     6     7     8\n",
      "1            1  3.52  9.24 43.53 38.68    NA    NA    NA    NA\n",
      "2            2  7.38  3.23  6.31 11.42 10.44 31.80    NA    NA\n",
      "3            3 17.63  8.58  3.26  8.15 14.35    NA    NA    NA\n",
      "4            4    NA 18.03  7.64  2.94 10.58  3.55  8.22    NA\n",
      "5            5    NA    NA  3.18  6.20  4.48  9.68 19.81 31.52\n",
      "6            6    NA    NA 23.06    NA 12.10  3.19  6.71 13.98\n",
      "7            7    NA 42.91 11.96 10.74 17.26 10.34  3.48    NA\n",
      "8            8    NA    NA    NA    NA 27.03 12.32    NA  4.75\n",
      "(4,8] \n",
      "Source: local data frame [8 x 9]\n",
      "\n",
      "  true_subtype     1     2     3     4     5     6     7     8\n",
      "1            1  3.28 10.04 43.09    NA    NA    NA    NA    NA\n",
      "2            2  9.78  3.47  9.04 22.75  8.59    NA    NA    NA\n",
      "3            3 21.78 10.69  3.69 13.40  8.18    NA    NA    NA\n",
      "4            4    NA 23.76  7.76  4.42 16.00  2.93 15.78    NA\n",
      "5            5    NA    NA  5.26 11.68  5.01 11.74 33.34 33.31\n",
      "6            6    NA    NA 22.57    NA 15.35  3.70 10.71 15.95\n",
      "7            7    NA 47.87    NA 15.09 22.29 15.30  4.87    NA\n",
      "8            8    NA    NA    NA    NA    NA 14.08    NA  3.68\n",
      "(8,25] \n",
      "Source: local data frame [8 x 9]\n",
      "\n",
      "  true_subtype     1     2     3     4     5     6     7     8\n",
      "1            1  5.03  9.60 43.10 56.47    NA    NA    NA    NA\n",
      "2            2  8.64  3.77 11.58 26.51    NA    NA    NA    NA\n",
      "3            3 26.81 13.08  4.02 19.35  5.25    NA    NA    NA\n",
      "4            4    NA 28.13 11.15  5.66 18.90  5.26    NA    NA\n",
      "5            5    NA    NA  7.50 19.92  3.50 16.48 35.75 33.74\n",
      "6            6    NA    NA 19.20    NA 12.00  5.53 14.88 21.48\n",
      "7            7    NA    NA    NA 27.70 28.58 18.86  7.27    NA\n",
      "8            8    NA    NA    NA    NA    NA    NA    NA  1.53\n"
     ]
    }
   ],
   "source": [
    "!Rscript score_predictions.R benchmark_pfvc_1y_subtypes_multinom4.csv"
   ]
  },
  {
   "cell_type": "markdown",
   "metadata": {},
   "source": [
    "#### Cross validated partial information"
   ]
  },
  {
   "cell_type": "code",
   "execution_count": 699,
   "metadata": {
    "collapsed": false
   },
   "outputs": [
    {
     "name": "stdout",
     "output_type": "stream",
     "text": [
      "Starting new fold.\n",
      "Starting new fold.\n",
      "Starting new fold.\n",
      "Starting new fold.\n",
      "Starting new fold.\n",
      "Starting new fold.\n",
      "Starting new fold.\n",
      "Starting new fold.\n",
      "Starting new fold.\n",
      "Starting new fold.\n"
     ]
    }
   ],
   "source": [
    "L3 = np.loadtxt('param/gi_1.0_ratios.dat')\n",
    "L4 = np.loadtxt('param/pdc_1.0_ratios.dat')\n",
    "L5 = np.loadtxt('param/hrt_1.0_ratios.dat')\n",
    "L6 = np.loadtxt('param/pv1_1.0_ratios.dat')\n",
    "L7 = np.loadtxt('param/rp_1.0_ratios.dat')\n",
    "\n",
    "X3 = (L3 - L3.mean()) / np.std(L3)\n",
    "X4 = (L4 - L4.mean()) / np.std(L4)\n",
    "X5 = (L5 - L5.mean()) / np.std(L5)\n",
    "X6 = (L6 - L6.mean()) / np.std(L6)\n",
    "X7 = (L7 - L7.mean()) / np.std(L7)\n",
    "\n",
    "XX = [X1, X2, X3, X4, X5, X6, X7]\n",
    "W0 = np.zeros((P.shape[1], len(XX) + 1))\n",
    "\n",
    "nfolds = 10\n",
    "accs   = []\n",
    "WW     = []\n",
    "sols   = []\n",
    "Qfinal = np.zeros_like(P)\n",
    "\n",
    "for train, test in KFold(P.shape[0], nfolds, shuffle=True, random_state=0):\n",
    "    print('Starting new fold.')\n",
    "    f2 = lambda w: -multinom_cost2(w.reshape(W0.shape), P[train], [Xi[train] for Xi in XX])\n",
    "    g2 = lambda w: -multinom_grad2(w.reshape(W0.shape), P[train], [Xi[train] for Xi in XX]).ravel()\n",
    "    s2 = opt.minimize(f2, W0.ravel(), jac=g2, method='BFGS')\n",
    "    sols.append(s2)\n",
    "    W  = s2.x.reshape(W0.shape)\n",
    "    WW.append(W)\n",
    "    Qfinal[test] = multinom_pred2(W, P[test], [Xi[test] for Xi in XX])\n",
    "    accs.append(np.mean(np.argmax(P[test], axis=1) == np.argmax(Qfinal[test], axis=1)))"
   ]
  },
  {
   "cell_type": "code",
   "execution_count": 700,
   "metadata": {
    "collapsed": false
   },
   "outputs": [
    {
     "data": {
      "text/plain": [
       "[True, True, True, True, True, True, True, True, True, True]"
      ]
     },
     "execution_count": 700,
     "metadata": {},
     "output_type": "execute_result"
    }
   ],
   "source": [
    "[s.success for s in sols]"
   ]
  },
  {
   "cell_type": "code",
   "execution_count": 701,
   "metadata": {
    "collapsed": false
   },
   "outputs": [
    {
     "data": {
      "text/plain": [
       "0.62648809523809523"
      ]
     },
     "execution_count": 701,
     "metadata": {},
     "output_type": "execute_result"
    }
   ],
   "source": [
    "np.mean(np.argmax(P, axis=1) == np.argmax(Qfinal, axis=1))"
   ]
  },
  {
   "cell_type": "code",
   "execution_count": 702,
   "metadata": {
    "collapsed": false
   },
   "outputs": [
    {
     "data": {
      "text/plain": [
       "array([[ 17,   4,   2,   1,   0,   0,   0,   0],\n",
       "       [  3, 103,  21,   7,   4,   1,   0,   0],\n",
       "       [  0,  24,  77,   6,   3,   0,   1,   0],\n",
       "       [  0,  10,  21,  51,  21,   0,   6,   0],\n",
       "       [  0,   0,   2,  26,  93,   7,   5,   3],\n",
       "       [  0,   0,   2,   0,  18,  35,   6,   1],\n",
       "       [  0,   1,   4,  10,  14,   7,  35,   1],\n",
       "       [  0,   0,   0,   1,   1,   0,   0,  17]])"
      ]
     },
     "execution_count": 702,
     "metadata": {},
     "output_type": "execute_result"
    }
   ],
   "source": [
    "confusion_matrix(np.argmax(P, axis=1), np.argmax(Q1, axis=1))"
   ]
  },
  {
   "cell_type": "code",
   "execution_count": 703,
   "metadata": {
    "collapsed": false
   },
   "outputs": [
    {
     "data": {
      "text/plain": [
       "array([[ 17,   3,   3,   1,   0,   0,   0,   0],\n",
       "       [  2, 102,  26,   4,   4,   1,   0,   0],\n",
       "       [  0,  23,  80,   8,   0,   0,   0,   0],\n",
       "       [  0,  14,  21,  51,  19,   1,   3,   0],\n",
       "       [  0,   1,   3,  24,  86,   9,  10,   3],\n",
       "       [  0,   0,   2,   0,  15,  37,   6,   2],\n",
       "       [  0,   1,   3,  11,  13,   9,  34,   1],\n",
       "       [  0,   0,   0,   1,   1,   3,   0,  14]])"
      ]
     },
     "execution_count": 703,
     "metadata": {},
     "output_type": "execute_result"
    }
   ],
   "source": [
    "confusion_matrix(np.argmax(P, axis=1), np.argmax(Qfinal, axis=1))"
   ]
  },
  {
   "cell_type": "code",
   "execution_count": 704,
   "metadata": {
    "collapsed": true
   },
   "outputs": [],
   "source": [
    "subtypes = pd.read_csv('benchmark_pfvc_subtypes.csv')\n",
    "subtypes['subtype'] = np.argmax(Qfinal, axis=1) + 1\n",
    "subtypes.to_csv('benchmark_pfvc_1y_subtypes_multinom5.csv', index=False)"
   ]
  },
  {
   "cell_type": "code",
   "execution_count": 705,
   "metadata": {
    "collapsed": false
   },
   "outputs": [
    {
     "name": "stdout",
     "output_type": "stream",
     "text": [
      "Loading required package: methods\n",
      "Source: local data frame [4 x 2]\n",
      "\n",
      "     bin   mae\n",
      "1  (1,2]  4.95\n",
      "2  (2,4]  7.02\n",
      "3  (4,8]  9.41\n",
      "4 (8,25] 11.32\n",
      "Source: local data frame [8 x 5]\n",
      "\n",
      "  true_subtype (1,2] (2,4] (4,8] (8,25]\n",
      "1            1  5.80 10.23  7.15  16.67\n",
      "2            2  3.80  4.41  6.05   6.55\n",
      "3            3  3.85  4.63  6.41   6.72\n",
      "4            4  5.16  7.33 11.37  13.32\n",
      "5            5  5.76  8.18 11.46  18.43\n",
      "6            6  4.55  8.36 10.64  10.67\n",
      "7            7  5.86  9.05 12.14  16.34\n",
      "8            8  6.05  7.50  6.42   1.53\n",
      "Source: local data frame [8 x 9]\n",
      "\n",
      "  true_subtype    1     2     3     4     5     6     7     8\n",
      "1            1 3.60  8.60 32.23 52.91    NA    NA    NA    NA\n",
      "2            2 8.26  3.36  8.37 17.82 11.93 31.94    NA    NA\n",
      "3            3   NA 10.36  3.57 11.97    NA    NA    NA    NA\n",
      "4            4   NA 20.33  7.75  3.70 13.53  4.46 10.72    NA\n",
      "5            5   NA  9.65  8.62 13.13  4.13 12.65 26.54 29.39\n",
      "6            6   NA    NA 21.57    NA 12.74  3.39  9.04 13.86\n",
      "7            7   NA 38.78  9.65 14.69 20.87  9.26  3.80  1.33\n",
      "8            8   NA    NA    NA 29.26 25.96 10.35    NA  3.78\n",
      "(1,2] \n",
      "Source: local data frame [8 x 9]\n",
      "\n",
      "  true_subtype    1     2     3     4     5     6     7     8\n",
      "1            1 1.59  4.88 26.62    NA    NA    NA    NA    NA\n",
      "2            2 4.17  2.88  4.27 11.00  5.92 32.08    NA    NA\n",
      "3            3   NA  6.36  3.24  5.49    NA    NA    NA    NA\n",
      "4            4   NA 13.31  5.31  2.21  6.03  4.06  6.21    NA\n",
      "5            5   NA    NA 12.64  3.89  3.33  8.86 14.65 19.07\n",
      "6            6   NA    NA 22.90    NA  7.80  2.14  3.19  8.68\n",
      "7            7   NA 38.67  7.92  9.91 11.31  4.42  2.98  1.02\n",
      "8            8   NA    NA    NA 29.26 23.81  6.76    NA  2.87\n",
      "(2,4] \n",
      "Source: local data frame [8 x 9]\n",
      "\n",
      "  true_subtype    1     2     3     4     5     6     7     8\n",
      "1            1 3.52  8.60 27.94 38.68    NA    NA    NA    NA\n",
      "2            2 7.63  3.25  6.42 10.43  7.56 31.80    NA    NA\n",
      "3            3   NA  8.14  3.12  8.62    NA    NA    NA    NA\n",
      "4            4   NA 16.96  7.63  2.91  9.90  3.71  8.47    NA\n",
      "5            5   NA  8.30  1.96  6.83  4.33 10.84 20.02 24.26\n",
      "6            6   NA    NA 23.06    NA 12.76  2.71  6.54 13.98\n",
      "7            7   NA 38.99 11.96 11.93 17.60  8.99  3.13  0.78\n",
      "8            8   NA    NA    NA    NA 27.03 11.67    NA  5.00\n",
      "(4,8] \n",
      "Source: local data frame [8 x 9]\n",
      "\n",
      "  true_subtype    1     2     3     4     5     6     7     8\n",
      "1            1 3.28 10.04 43.09    NA    NA    NA    NA    NA\n",
      "2            2 9.65  3.49  9.54 24.08  9.70    NA    NA    NA\n",
      "3            3   NA 10.75  3.69 13.78    NA    NA    NA    NA\n",
      "4            4   NA 23.01  8.55  4.45 15.68  2.93 15.78    NA\n",
      "5            5   NA 10.99  5.75 12.55  4.86 14.34 31.85 32.73\n",
      "6            6   NA    NA 22.57    NA 16.26  3.37 10.71 15.95\n",
      "7            7   NA    NA    NA 15.66 23.72 16.32  4.80  1.62\n",
      "8            8   NA    NA    NA    NA    NA 14.03    NA  3.88\n",
      "(8,25] \n",
      "Source: local data frame [8 x 9]\n",
      "\n",
      "  true_subtype    1     2     3     4     5     6     7     8\n",
      "1            1 5.03  9.60 43.10 56.47    NA    NA    NA    NA\n",
      "2            2 8.64  3.64 12.60    NA 16.81    NA    NA    NA\n",
      "3            3   NA 13.14  4.03 20.09    NA    NA    NA    NA\n",
      "4            4   NA 28.21 11.15  5.70 18.90  5.26    NA    NA\n",
      "5            5   NA    NA  9.44 21.48  3.29 16.95 36.61 33.92\n",
      "6            6   NA    NA 19.20    NA 12.00  5.53 14.88 21.48\n",
      "7            7   NA    NA    NA 27.70 28.58 23.19  4.98    NA\n",
      "8            8   NA    NA    NA    NA    NA    NA    NA  1.53\n"
     ]
    }
   ],
   "source": [
    "!Rscript score_predictions.R benchmark_pfvc_1y_subtypes_multinom5.csv"
   ]
  },
  {
   "cell_type": "markdown",
   "metadata": {},
   "source": [
    "#### Cross-validated partial information MAP target"
   ]
  },
  {
   "cell_type": "code",
   "execution_count": 722,
   "metadata": {
    "collapsed": false
   },
   "outputs": [
    {
     "name": "stdout",
     "output_type": "stream",
     "text": [
      "Starting new fold.\n",
      "Starting new fold.\n",
      "Starting new fold.\n",
      "Starting new fold.\n",
      "Starting new fold.\n",
      "Starting new fold.\n",
      "Starting new fold.\n",
      "Starting new fold.\n",
      "Starting new fold.\n",
      "Starting new fold.\n"
     ]
    }
   ],
   "source": [
    "L3 = np.loadtxt('param/gi_1.0_ratios.dat')\n",
    "L4 = np.loadtxt('param/pdc_1.0_ratios.dat')\n",
    "L5 = np.loadtxt('param/hrt_1.0_ratios.dat')\n",
    "L6 = np.loadtxt('param/pv1_1.0_ratios.dat')\n",
    "L7 = np.loadtxt('param/rp_1.0_ratios.dat')\n",
    "\n",
    "X3 = (L3 - L3.mean()) / np.std(L3)\n",
    "X4 = (L4 - L4.mean()) / np.std(L4)\n",
    "X5 = (L5 - L5.mean()) / np.std(L5)\n",
    "X6 = (L6 - L6.mean()) / np.std(L6)\n",
    "X7 = (L7 - L7.mean()) / np.std(L7)\n",
    "\n",
    "XX = [X1, X2, X3, X4, X5, X6, X7]\n",
    "W0 = np.zeros((P.shape[1], len(XX) + 1))\n",
    "\n",
    "nfolds = 10\n",
    "accs   = []\n",
    "WW     = []\n",
    "sols   = []\n",
    "Qfinal = np.zeros_like(P)\n",
    "Pmap   = np.array([softmax.onehot_encode(np.argmax(p), P.shape[1]) for p in P])\n",
    "Pmap  += 1e-4\n",
    "Pmap  /= Pmap.sum(axis=1)[:, np.newaxis]\n",
    "\n",
    "for train, test in KFold(P.shape[0], nfolds, shuffle=True, random_state=0):\n",
    "    print('Starting new fold.')\n",
    "    f2 = lambda w: -multinom_cost2(w.reshape(W0.shape), Pmap[train], [Xi[train] for Xi in XX])\n",
    "    g2 = lambda w: -multinom_grad2(w.reshape(W0.shape), Pmap[train], [Xi[train] for Xi in XX]).ravel()\n",
    "    s2 = opt.minimize(f2, W0.ravel(), jac=g2, method='BFGS')\n",
    "    if not s2.success:\n",
    "        print('Failed.')\n",
    "        break\n",
    "    sols.append(s2)\n",
    "    W  = s2.x.reshape(W0.shape)\n",
    "    WW.append(W)\n",
    "    Qfinal[test] = multinom_pred2(W, Pmap[test], [Xi[test] for Xi in XX])\n",
    "    accs.append(np.mean(np.argmax(Pmap[test], axis=1) == np.argmax(Qfinal[test], axis=1)))"
   ]
  },
  {
   "cell_type": "code",
   "execution_count": 724,
   "metadata": {
    "collapsed": false
   },
   "outputs": [
    {
     "data": {
      "text/plain": [
       "0.6205357142857143"
      ]
     },
     "execution_count": 724,
     "metadata": {},
     "output_type": "execute_result"
    }
   ],
   "source": [
    "np.mean(np.argmax(P, axis=1) == np.argmax(Qfinal, axis=1))"
   ]
  },
  {
   "cell_type": "code",
   "execution_count": 725,
   "metadata": {
    "collapsed": true
   },
   "outputs": [],
   "source": [
    "subtypes = pd.read_csv('benchmark_pfvc_subtypes.csv')\n",
    "subtypes['subtype'] = np.argmax(Qfinal, axis=1) + 1\n",
    "subtypes.to_csv('benchmark_pfvc_1y_subtypes_multinom5b.csv', index=False)"
   ]
  },
  {
   "cell_type": "code",
   "execution_count": 726,
   "metadata": {
    "collapsed": false
   },
   "outputs": [
    {
     "name": "stdout",
     "output_type": "stream",
     "text": [
      "Loading required package: methods\n",
      "Source: local data frame [4 x 2]\n",
      "\n",
      "     bin   mae\n",
      "1  (1,2]  5.07\n",
      "2  (2,4]  7.02\n",
      "3  (4,8]  9.50\n",
      "4 (8,25] 11.35\n",
      "Source: local data frame [8 x 5]\n",
      "\n",
      "  true_subtype (1,2] (2,4] (4,8] (8,25]\n",
      "1            1  5.80 10.23  7.15  16.67\n",
      "2            2  3.82  4.51  6.34   6.89\n",
      "3            3  4.91  5.48  7.51   7.46\n",
      "4            4  4.98  7.41 11.10  13.18\n",
      "5            5  5.67  7.84 11.39  17.70\n",
      "6            6  4.68  8.10 10.33  10.33\n",
      "7            7  5.77  8.78 12.16  16.34\n",
      "8            8  6.51  6.70  4.98   1.53\n",
      "Source: local data frame [8 x 9]\n",
      "\n",
      "  true_subtype    1     2     3     4     5     6     7     8\n",
      "1            1 3.60  8.60 32.23 52.91    NA    NA    NA    NA\n",
      "2            2 8.02  3.35  8.18 18.00 11.93 31.94    NA    NA\n",
      "3            3   NA 10.57  3.64 11.99  3.09    NA 20.81 52.81\n",
      "4            4   NA 20.03  8.57  3.74 13.31  4.46 10.72    NA\n",
      "5            5   NA 15.47  8.62 13.26  4.22 13.26 25.60 29.39\n",
      "6            6   NA    NA 21.57    NA 12.68  3.73  9.13  4.05\n",
      "7            7   NA 38.78 10.08 15.65 21.14  9.26  3.91  1.33\n",
      "8            8   NA    NA    NA 29.26 25.96  7.71    NA  4.08\n",
      "(1,2] \n",
      "Source: local data frame [8 x 9]\n",
      "\n",
      "  true_subtype    1     2     3     4     5     6     7     8\n",
      "1            1 1.59  4.88 26.62    NA    NA    NA    NA    NA\n",
      "2            2 4.17  2.86  4.08  9.88  5.92 32.08    NA    NA\n",
      "3            3   NA  5.91  3.21  5.89  5.22    NA 15.74 51.41\n",
      "4            4   NA 12.99  5.75  2.26  6.16  4.06  6.21    NA\n",
      "5            5   NA 17.61 12.64  3.86  3.36 10.07 14.34 19.07\n",
      "6            6   NA    NA 22.90    NA  7.90  2.87  3.37  4.05\n",
      "7            7   NA 38.67  8.19  9.64 11.31  4.42  2.95  1.02\n",
      "8            8   NA    NA    NA 29.26 23.81  5.16    NA  4.05\n",
      "(2,4] \n",
      "Source: local data frame [8 x 9]\n",
      "\n",
      "  true_subtype    1     2     3     4     5     6     7     8\n",
      "1            1 3.52  8.60 27.94 38.68    NA    NA    NA    NA\n",
      "2            2 6.90  3.25  6.33 10.34  7.56 31.80    NA    NA\n",
      "3            3   NA  8.63  3.25  9.14  2.97    NA 30.95    NA\n",
      "4            4   NA 16.90  8.54  3.01  9.87  3.71  8.47    NA\n",
      "5            5   NA 13.25  1.96  6.84  4.33 11.44 18.97 24.26\n",
      "6            6   NA    NA 23.06    NA 12.76  3.15  6.68    NA\n",
      "7            7   NA 38.99 11.96 12.66 18.05  8.99  3.21  0.78\n",
      "8            8   NA    NA    NA    NA 27.03 10.90    NA  4.89\n",
      "(4,8] \n",
      "Source: local data frame [8 x 9]\n",
      "\n",
      "  true_subtype    1     2     3     4     5     6     7     8\n",
      "1            1 3.28 10.04 43.09    NA    NA    NA    NA    NA\n",
      "2            2 9.78  3.46  9.33 22.03  9.70    NA    NA    NA\n",
      "3            3   NA 11.54  3.80 13.66  2.56    NA    NA 56.31\n",
      "4            4   NA 22.38  9.77  4.64 15.42  2.93 15.78    NA\n",
      "5            5   NA 16.05  5.75 12.55  4.90 14.60 31.42 32.73\n",
      "6            6   NA    NA 22.57    NA 16.26  3.53 11.12    NA\n",
      "7            7   NA    NA    NA 17.70 23.72 16.32  5.12  1.62\n",
      "8            8   NA    NA    NA    NA    NA 14.08    NA  3.68\n",
      "(8,25] \n",
      "Source: local data frame [8 x 9]\n",
      "\n",
      "  true_subtype    1     2     3     4     5     6     7     8\n",
      "1            1 5.03  9.60 43.10 56.47    NA    NA    NA    NA\n",
      "2            2 8.64  3.64 12.70 30.59 16.81    NA    NA    NA\n",
      "3            3   NA 12.63  3.99 20.40  0.81    NA    NA 47.20\n",
      "4            4   NA 28.42 11.86  5.37 18.26  5.26    NA    NA\n",
      "5            5   NA    NA  9.44 21.48  3.87 16.95 33.70 33.92\n",
      "6            6   NA    NA 19.20    NA 12.00  5.55 15.05    NA\n",
      "7            7   NA    NA    NA 27.70 28.58 23.19  4.98    NA\n",
      "8            8   NA    NA    NA    NA    NA    NA    NA  1.53\n"
     ]
    }
   ],
   "source": [
    "!Rscript score_predictions.R benchmark_pfvc_1y_subtypes_multinom5b.csv"
   ]
  },
  {
   "cell_type": "markdown",
   "metadata": {},
   "source": [
    "#### Cross-validated 2 year partial information"
   ]
  },
  {
   "cell_type": "code",
   "execution_count": 709,
   "metadata": {
    "collapsed": false
   },
   "outputs": [
    {
     "name": "stdout",
     "output_type": "stream",
     "text": [
      "Starting new fold.\n",
      "Starting new fold.\n",
      "Starting new fold.\n",
      "Starting new fold.\n",
      "Starting new fold.\n",
      "Starting new fold.\n",
      "Starting new fold.\n",
      "Starting new fold.\n",
      "Starting new fold.\n",
      "Starting new fold.\n"
     ]
    }
   ],
   "source": [
    "L3 = np.loadtxt('param/gi_2.0_ratios.dat')\n",
    "L4 = np.loadtxt('param/pdc_2.0_ratios.dat')\n",
    "L5 = np.loadtxt('param/hrt_2.0_ratios.dat')\n",
    "L6 = np.loadtxt('param/pv1_2.0_ratios.dat')\n",
    "L7 = np.loadtxt('param/rp_2.0_ratios.dat')\n",
    "\n",
    "X3 = (L3 - L3.mean()) / np.std(L3)\n",
    "X4 = (L4 - L4.mean()) / np.std(L4)\n",
    "X5 = (L5 - L5.mean()) / np.std(L5)\n",
    "X6 = (L6 - L6.mean()) / np.std(L6)\n",
    "X7 = (L7 - L7.mean()) / np.std(L7)\n",
    "\n",
    "XX = [X1, X2, X3, X4, X5, X6, X7]\n",
    "W0 = np.zeros((P.shape[1], len(XX) + 1))\n",
    "\n",
    "nfolds = 10\n",
    "accs   = []\n",
    "WW     = []\n",
    "sols   = []\n",
    "Qfinal = np.zeros_like(P)\n",
    "\n",
    "for train, test in KFold(P.shape[0], nfolds, shuffle=True, random_state=0):\n",
    "    print('Starting new fold.')\n",
    "    f2 = lambda w: -multinom_cost2(w.reshape(W0.shape), P[train], [Xi[train] for Xi in XX])\n",
    "    g2 = lambda w: -multinom_grad2(w.reshape(W0.shape), P[train], [Xi[train] for Xi in XX]).ravel()\n",
    "    s2 = opt.minimize(f2, W0.ravel(), jac=g2, method='BFGS')\n",
    "    sols.append(s2)\n",
    "    W  = s2.x.reshape(W0.shape)\n",
    "    WW.append(W)\n",
    "    Qfinal[test] = multinom_pred2(W, P[test], [Xi[test] for Xi in XX])\n",
    "    accs.append(np.mean(np.argmax(P[test], axis=1) == np.argmax(Qfinal[test], axis=1)))"
   ]
  },
  {
   "cell_type": "code",
   "execution_count": 710,
   "metadata": {
    "collapsed": false
   },
   "outputs": [
    {
     "data": {
      "text/plain": [
       "0.6383928571428571"
      ]
     },
     "execution_count": 710,
     "metadata": {},
     "output_type": "execute_result"
    }
   ],
   "source": [
    "np.mean(np.argmax(P, axis=1) == np.argmax(Qfinal, axis=1))"
   ]
  },
  {
   "cell_type": "code",
   "execution_count": 711,
   "metadata": {
    "collapsed": false
   },
   "outputs": [
    {
     "data": {
      "text/plain": [
       "array([[ 17,   4,   2,   1,   0,   0,   0,   0],\n",
       "       [  3, 103,  21,   7,   4,   1,   0,   0],\n",
       "       [  0,  24,  77,   6,   3,   0,   1,   0],\n",
       "       [  0,  10,  21,  51,  21,   0,   6,   0],\n",
       "       [  0,   0,   2,  26,  93,   7,   5,   3],\n",
       "       [  0,   0,   2,   0,  18,  35,   6,   1],\n",
       "       [  0,   1,   4,  10,  14,   7,  35,   1],\n",
       "       [  0,   0,   0,   1,   1,   0,   0,  17]])"
      ]
     },
     "execution_count": 711,
     "metadata": {},
     "output_type": "execute_result"
    }
   ],
   "source": [
    "confusion_matrix(np.argmax(P, axis=1), np.argmax(Q1, axis=1))"
   ]
  },
  {
   "cell_type": "code",
   "execution_count": 712,
   "metadata": {
    "collapsed": false
   },
   "outputs": [
    {
     "data": {
      "text/plain": [
       "array([[17,  4,  2,  1,  0,  0,  0,  0],\n",
       "       [ 3, 99, 29,  4,  4,  0,  0,  0],\n",
       "       [ 0, 24, 72, 11,  2,  0,  2,  0],\n",
       "       [ 0,  8, 19, 57, 16,  1,  8,  0],\n",
       "       [ 0,  3,  3, 28, 85,  8,  4,  5],\n",
       "       [ 0,  0,  2,  0, 14, 39,  5,  2],\n",
       "       [ 0,  1,  2,  5,  9,  8, 47,  0],\n",
       "       [ 0,  0,  0,  0,  0,  4,  2, 13]])"
      ]
     },
     "execution_count": 712,
     "metadata": {},
     "output_type": "execute_result"
    }
   ],
   "source": [
    "confusion_matrix(np.argmax(P, axis=1), np.argmax(Qfinal, axis=1))"
   ]
  },
  {
   "cell_type": "code",
   "execution_count": 713,
   "metadata": {
    "collapsed": true
   },
   "outputs": [],
   "source": [
    "subtypes = pd.read_csv('benchmark_pfvc_subtypes.csv')\n",
    "subtypes['subtype'] = np.argmax(Qfinal, axis=1) + 1\n",
    "subtypes.to_csv('benchmark_pfvc_1y_subtypes_multinom6.csv', index=False)"
   ]
  },
  {
   "cell_type": "code",
   "execution_count": 714,
   "metadata": {
    "collapsed": false
   },
   "outputs": [
    {
     "name": "stdout",
     "output_type": "stream",
     "text": [
      "Loading required package: methods\n",
      "Source: local data frame [4 x 2]\n",
      "\n",
      "     bin   mae\n",
      "1  (1,2]  4.55\n",
      "2  (2,4]  6.57\n",
      "3  (4,8]  8.71\n",
      "4 (8,25] 10.69\n",
      "Source: local data frame [8 x 5]\n",
      "\n",
      "  true_subtype (1,2] (2,4] (4,8] (8,25]\n",
      "1            1  5.68  9.47  7.15  16.67\n",
      "2            2  3.59  4.37  5.56   6.34\n",
      "3            3  4.23  4.94  6.67   7.19\n",
      "4            4  4.22  6.71  9.89  12.47\n",
      "5            5  5.10  6.63 10.52  16.46\n",
      "6            6  4.73  8.24 10.27   9.21\n",
      "7            7  5.03  8.89 10.70  16.22\n",
      "8            8  5.38  6.38  7.98   1.53\n",
      "Source: local data frame [8 x 9]\n",
      "\n",
      "  true_subtype    1     2     3     4     5     6     7     8\n",
      "1            1 3.60  8.80 43.35 52.91    NA    NA    NA    NA\n",
      "2            2 8.33  3.34  8.36 11.52 11.93    NA    NA    NA\n",
      "3            3   NA 10.19  3.72 11.33  3.09    NA 24.22    NA\n",
      "4            4   NA 16.59  8.22  3.15 13.02  4.46 11.46    NA\n",
      "5            5   NA 15.29  5.97 10.69  4.79  8.72 24.03 29.78\n",
      "6            6   NA    NA 21.57    NA 11.88  4.45 12.24 13.86\n",
      "7            7   NA 38.78 10.08 16.73 20.64 11.00  3.72    NA\n",
      "8            8   NA    NA    NA    NA    NA  9.23  9.34  4.23\n",
      "(1,2] \n",
      "Source: local data frame [8 x 9]\n",
      "\n",
      "  true_subtype    1     2     3     4     5    6     7     8\n",
      "1            1 1.59  5.43 43.75    NA    NA   NA    NA    NA\n",
      "2            2 6.47  2.77  4.74  7.99  5.92   NA    NA    NA\n",
      "3            3   NA  5.78  3.28  4.53  5.69   NA 20.85    NA\n",
      "4            4   NA  7.04  5.99  2.38  6.13 4.06  5.37    NA\n",
      "5            5   NA 12.19  2.58  2.83  3.59 6.82  9.27 20.86\n",
      "6            6   NA    NA 22.90    NA  6.84 3.15  3.76  8.68\n",
      "7            7   NA 38.67  8.19 13.87 10.41 5.40  2.73    NA\n",
      "8            8   NA    NA    NA    NA    NA 4.92  9.10  4.56\n",
      "(2,4] \n",
      "Source: local data frame [8 x 9]\n",
      "\n",
      "  true_subtype    1     2     3     4     5     6     7     8\n",
      "1            1 3.52  9.24 43.53 38.68    NA    NA    NA    NA\n",
      "2            2 7.51  3.17  6.65 11.00  7.56    NA    NA    NA\n",
      "3            3   NA  8.01  3.24  8.20  2.37    NA 30.95    NA\n",
      "4            4   NA 13.20  8.05  2.97  9.68  3.71 10.27    NA\n",
      "5            5   NA 16.08  3.18  5.14  4.37  8.24 14.11 24.32\n",
      "6            6   NA    NA 23.06    NA 12.16  3.86 10.40 13.98\n",
      "7            7   NA 38.99 11.96 13.46 17.51 10.68  3.27    NA\n",
      "8            8   NA    NA    NA    NA    NA  9.50  9.87  5.06\n",
      "(4,8] \n",
      "Source: local data frame [8 x 9]\n",
      "\n",
      "  true_subtype    1     2     3     4     5     6     7     8\n",
      "1            1 3.28 10.04 43.09    NA    NA    NA    NA    NA\n",
      "2            2 9.54  3.49  9.68 15.82  9.70    NA    NA    NA\n",
      "3            3   NA 10.60  3.91 12.18  2.49    NA    NA    NA\n",
      "4            4   NA 17.99  8.90  3.32 14.48  2.93 14.67    NA\n",
      "5            5   NA 15.67  5.26 10.76  5.48 10.13 25.00 33.58\n",
      "6            6   NA    NA 22.57    NA 15.55  4.71 16.00 15.95\n",
      "7            7   NA    NA    NA 16.12 22.95 16.32  4.61    NA\n",
      "8            8   NA    NA    NA    NA    NA 14.80  8.93  3.53\n",
      "(8,25] \n",
      "Source: local data frame [8 x 9]\n",
      "\n",
      "  true_subtype    1     2     3     4     5     6     7     8\n",
      "1            1 5.03  9.60 43.10 56.47    NA    NA    NA    NA\n",
      "2            2 8.64  3.73 12.00    NA 16.81    NA    NA    NA\n",
      "3            3   NA 13.14  4.18 18.41    NA    NA    NA    NA\n",
      "4            4   NA 26.02 11.15  4.35 17.37  5.26 16.45    NA\n",
      "5            5   NA 16.05  7.50 18.47  6.29 13.30 32.38 34.92\n",
      "6            6   NA    NA 19.20    NA 11.61  5.99 22.89 21.48\n",
      "7            7   NA    NA    NA 27.70 29.10 23.19  5.32    NA\n",
      "8            8   NA    NA    NA    NA    NA    NA    NA  1.53\n"
     ]
    }
   ],
   "source": [
    "!Rscript score_predictions.R benchmark_pfvc_1y_subtypes_multinom6.csv"
   ]
  },
  {
   "cell_type": "markdown",
   "metadata": {},
   "source": [
    "### Conclusions and Next Steps\n",
    "\n",
    "One surprising result is that the accuracy of the MAP estimate does not necessarily translate into unchanged classification performance. The MAP accuracies are not too different, but we see some reasonable improvements in prediction accuracy.\n",
    "\n",
    "There are a few outlying issues here.\n",
    "\n",
    "1. What is the best way to train the generative models used to compute the likelihood ratios in the discriminatively trained component?\n",
    "\n",
    "2. Is matching the full information posterior the best way to learn the adjustment? Are there other objectives that we should consider when tuning? E.g. should we try to maximize the probability of future measurements instead?\n",
    "\n",
    "3. Should the learning task be broken up? Estimating a multinomial distribution seems difficult, especially when working with a relatively constrained parameterization. Is there a way that we can find a better way to leverage the information? For example, should we estimate partitions of the subtypes instead?"
   ]
  },
  {
   "cell_type": "code",
   "execution_count": null,
   "metadata": {
    "collapsed": true
   },
   "outputs": [],
   "source": []
  }
 ],
 "metadata": {
  "kernelspec": {
   "display_name": "Python 3",
   "language": "python",
   "name": "python3"
  },
  "language_info": {
   "codemirror_mode": {
    "name": "ipython",
    "version": 3
   },
   "file_extension": ".py",
   "mimetype": "text/x-python",
   "name": "python",
   "nbconvert_exporter": "python",
   "pygments_lexer": "ipython3",
   "version": "3.4.3"
  }
 },
 "nbformat": 4,
 "nbformat_minor": 0
}
