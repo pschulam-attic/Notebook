{
 "cells": [
  {
   "cell_type": "code",
   "execution_count": 1,
   "metadata": {
    "collapsed": true
   },
   "outputs": [],
   "source": [
    "import sys\n",
    "sys.path.append('/Users/pschulam/Git/mypy')"
   ]
  },
  {
   "cell_type": "code",
   "execution_count": 32,
   "metadata": {
    "collapsed": true
   },
   "outputs": [],
   "source": [
    "import os\n",
    "import pandas as pd\n",
    "import numpy as np\n",
    "import nips15\n",
    "import online"
   ]
  },
  {
   "cell_type": "code",
   "execution_count": 24,
   "metadata": {
    "collapsed": true
   },
   "outputs": [],
   "source": [
    "folds_dir = 'models/jmlr/folds'\n",
    "\n",
    "def load_model(marker, fold, folds_dir=folds_dir):\n",
    "    param_dir = os.path.join(folds_dir, marker, '{:02d}'.format(fold), 'param')\n",
    "    return nips15.NipsModel.from_directory(param_dir)\n",
    "\n",
    "def get_posteriors(model, data, censor=None):\n",
    "    if censor is None:\n",
    "        P = [model.posterior(*d.unpack()) for d in data]\n",
    "    else:\n",
    "        P = [model.posterior(*d.truncate(censor).unpack()) for d in data]\n",
    "        \n",
    "    return np.array(P)"
   ]
  },
  {
   "cell_type": "code",
   "execution_count": 6,
   "metadata": {
    "collapsed": false
   },
   "outputs": [],
   "source": [
    "pfvc_spec = {'t' : 'years_seen_full',\n",
    "             'y' : 'pfvc',\n",
    "             'x1': ['female', 'afram'],\n",
    "             'x2': ['female', 'afram', 'aca', 'scl']}\n",
    "\n",
    "pfvc    = pd.read_csv('data/benchmark_pfvc.csv')\n",
    "pfvc_pd = [nips15.PatientData.from_tbl(tbl, **pfvc_spec) for _, tbl in pfvc.groupby('ptid')]\n",
    "\n",
    "tss_spec = {'t' : 'years_seen',\n",
    "            'y' : 'tss',\n",
    "            'x1': ['female', 'afram'],\n",
    "            'x2': ['female', 'afram']}\n",
    "\n",
    "tss = pd.read_csv('data/benchmark_tss.csv')\n",
    "tss_match = ['ptid'] + tss_spec['x1']\n",
    "tss = pd.merge(pfvc[tss_match], tss, 'left', tss_match)\n",
    "tss_pd = [nips15.PatientData.from_tbl(tbl, **tss_spec) for _, tbl in tss.groupby('ptid')]\n",
    "\n",
    "pdlco_spec = {'t' : 'years_seen',\n",
    "              'y' : 'pdlco',\n",
    "              'x1': ['female', 'afram'],\n",
    "              'x2': ['female', 'afram']}\n",
    "\n",
    "pdlco = pd.read_csv('data/benchmark_pdc.csv')\n",
    "pdlco_match = ['ptid'] + pdlco_spec['x1']\n",
    "pdlco = pd.merge(pfvc[pdlco_match], pdlco, 'left', pdlco_match)\n",
    "pdlco_pd = [nips15.PatientData.from_tbl(tbl, **pdlco_spec) for _, tbl in pdlco.groupby('ptid')]\n",
    "\n",
    "pv1_spec = {'t' : 'years_seen',\n",
    "            'y' : 'pfev1',\n",
    "            'x1': ['female', 'afram'],\n",
    "            'x2': ['female', 'afram']}\n",
    "\n",
    "pv1 = pd.read_csv('data/benchmark_pv1.csv')\n",
    "pv1_match = ['ptid'] + pv1_spec['x1']\n",
    "pv1 = pd.merge(pfvc[pv1_match], pv1, 'left', pv1_match)\n",
    "pv1_pd = [nips15.PatientData.from_tbl(tbl, **pv1_spec) for _, tbl in pv1.groupby('ptid')]"
   ]
  },
  {
   "cell_type": "code",
   "execution_count": 18,
   "metadata": {
    "collapsed": true
   },
   "outputs": [],
   "source": [
    "get_ptids = lambda pd: [p.ptid for p in pd]\n",
    "pfvc_df   = pd.DataFrame({'ptid': get_ptids(pfvc_pd),  'pfvc' : pfvc_pd}).set_index('ptid')\n",
    "tss_df    = pd.DataFrame({'ptid': get_ptids(tss_pd),   'tss'  : tss_pd}).set_index('ptid')\n",
    "pdlco_df  = pd.DataFrame({'ptid': get_ptids(pdlco_pd), 'pdlco': pdlco_pd}).set_index('ptid')\n",
    "pv1_df    = pd.DataFrame({'ptid': get_ptids(pv1_pd),   'pv1'  : pdlco_pd}).set_index('ptid')"
   ]
  },
  {
   "cell_type": "code",
   "execution_count": 25,
   "metadata": {
    "collapsed": false
   },
   "outputs": [],
   "source": [
    "folds_df = pfvc.loc[:, ['ptid', 'fold']].drop_duplicates().set_index('ptid')"
   ]
  },
  {
   "cell_type": "code",
   "execution_count": 26,
   "metadata": {
    "collapsed": false
   },
   "outputs": [],
   "source": [
    "patient_data = pd.concat([folds_df, pfvc_df, tss_df, pdlco_df, pv1_df], axis=1, join='inner')"
   ]
  },
  {
   "cell_type": "code",
   "execution_count": 42,
   "metadata": {
    "collapsed": true
   },
   "outputs": [],
   "source": [
    "model_names = ['pfvc', 'tss', 'pdc', 'pv1']\n",
    "col_names   = ['pfvc', 'tss', 'pdlco', 'pv1']"
   ]
  },
  {
   "cell_type": "code",
   "execution_count": 40,
   "metadata": {
    "collapsed": true
   },
   "outputs": [],
   "source": [
    "folds = [k + 1 for k in range(10)]\n",
    "posteriors = np.zeros((patient_data.shape[0], 8))"
   ]
  },
  {
   "cell_type": "code",
   "execution_count": 67,
   "metadata": {
    "collapsed": false
   },
   "outputs": [
    {
     "name": "stdout",
     "output_type": "stream",
     "text": [
      "Starting fold 1\n",
      "Starting fold 2\n",
      "Starting fold 3\n",
      "Starting fold 4\n",
      "Starting fold 5\n",
      "Starting fold 6\n",
      "Starting fold 7\n",
      "Starting fold 8\n",
      "Starting fold 9\n",
      "Starting fold 10\n"
     ]
    }
   ],
   "source": [
    "all_WWaux = []\n",
    "all_weights = []\n",
    "\n",
    "for k in folds:\n",
    "    print('Starting fold {}'.format(k))\n",
    "    \n",
    "    models = [load_model(n, k) for n in model_names]\n",
    "    test   = patient_data['fold'].values == k\n",
    "    train  = ~test\n",
    "\n",
    "    Ptrain = get_posteriors(models[0], patient_data['pfvc'][train])\n",
    "    Qtrain = get_posteriors(models[0], patient_data['pfvc'][train], 1.0)\n",
    "    QQaux  = []\n",
    "    for n, m in zip(col_names[1:], models[1:]):\n",
    "        Qaux = get_posteriors(m, patient_data[n][train])\n",
    "        QQaux.append(Qaux)\n",
    "        \n",
    "    WWaux, weights = online.train_adjustment(Ptrain, Qtrain, QQaux)\n",
    "    \n",
    "    Qtest = get_posteriors(models[0], patient_data['pfvc'][test], 1.0)\n",
    "    QQaux = []\n",
    "    for n, m in zip(col_names[1:], models[1:]):\n",
    "        Qaux = get_posteriors(m, patient_data[n][test])\n",
    "        QQaux.append(Qaux)\n",
    "        \n",
    "    posteriors[test, :] = online.apply_adjustment(Qtest, QQaux, WWaux, weights)\n",
    "    np.savetxt('param/adjusted_posteriors.dat', posteriors)\n",
    "    \n",
    "    all_WWaux.append(WWaux)\n",
    "    all_weights.append(weights)"
   ]
  },
  {
   "cell_type": "code",
   "execution_count": 73,
   "metadata": {
    "collapsed": false
   },
   "outputs": [],
   "source": [
    "posterior_tbl = pd.DataFrame(posteriors)\n",
    "posterior_tbl.index = patient_data.index\n",
    "posterior_tbl.columns = ['p{}'.format(i) for i in range(1, 9)]"
   ]
  },
  {
   "cell_type": "code",
   "execution_count": 76,
   "metadata": {
    "collapsed": false
   },
   "outputs": [],
   "source": [
    "posterior_tbl.to_csv('adjusted_posteriors.csv')"
   ]
  },
  {
   "cell_type": "code",
   "execution_count": 78,
   "metadata": {
    "collapsed": false
   },
   "outputs": [
    {
     "name": "stdout",
     "output_type": "stream",
     "text": [
      "Loading required package: methods\n",
      "Source: local data frame [4 x 2]\n",
      "\n",
      "     bin  mae\n",
      "1  (1,2] 4.84\n",
      "2  (2,4] 6.10\n",
      "3  (4,8] 7.84\n",
      "4 (8,25] 9.51\n"
     ]
    }
   ],
   "source": [
    "!Rscript score_posteriors.R 1.0 benchmark_pfvc_1y_posteriors.csv"
   ]
  },
  {
   "cell_type": "code",
   "execution_count": 77,
   "metadata": {
    "collapsed": false
   },
   "outputs": [
    {
     "name": "stdout",
     "output_type": "stream",
     "text": [
      "Loading required package: methods\n",
      "Source: local data frame [4 x 2]\n",
      "\n",
      "     bin  mae\n",
      "1  (1,2] 4.83\n",
      "2  (2,4] 5.98\n",
      "3  (4,8] 7.79\n",
      "4 (8,25] 9.93\n"
     ]
    }
   ],
   "source": [
    "!Rscript score_posteriors.R 1.0 adjusted_posteriors.csv"
   ]
  }
 ],
 "metadata": {
  "kernelspec": {
   "display_name": "Python 3",
   "language": "python",
   "name": "python3"
  },
  "language_info": {
   "codemirror_mode": {
    "name": "ipython",
    "version": 3
   },
   "file_extension": ".py",
   "mimetype": "text/x-python",
   "name": "python",
   "nbconvert_exporter": "python",
   "pygments_lexer": "ipython3",
   "version": "3.4.3"
  }
 },
 "nbformat": 4,
 "nbformat_minor": 0
}
