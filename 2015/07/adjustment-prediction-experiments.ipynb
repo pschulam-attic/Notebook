{
 "cells": [
  {
   "cell_type": "code",
   "execution_count": 1,
   "metadata": {
    "collapsed": true
   },
   "outputs": [],
   "source": [
    "import sys\n",
    "sys.path.append('/Users/pschulam/Git/mypy')"
   ]
  },
  {
   "cell_type": "code",
   "execution_count": 115,
   "metadata": {
    "collapsed": true
   },
   "outputs": [],
   "source": [
    "import os\n",
    "import pandas as pd\n",
    "import numpy as np\n",
    "import matplotlib.pyplot as plt\n",
    "import seaborn as sns\n",
    "import nips15\n",
    "import online\n",
    "%matplotlib inline"
   ]
  },
  {
   "cell_type": "code",
   "execution_count": 287,
   "metadata": {
    "collapsed": true
   },
   "outputs": [],
   "source": [
    "folds_dir = 'models/jmlr/folds'\n",
    "\n",
    "def load_model(marker, fold, folds_dir=folds_dir):\n",
    "    param_dir = os.path.join(folds_dir, marker, '{:02d}'.format(fold), 'param')\n",
    "    return nips15.NipsModel.from_directory(param_dir)\n",
    "\n",
    "def get_posteriors(model, data, censor=None):\n",
    "    if censor is None:\n",
    "        P = [model.posterior(*d.unpack()) for d in data]\n",
    "    else:\n",
    "        P = [model.posterior(*d.truncate(censor).unpack()) for d in data]\n",
    "        \n",
    "    return np.array(P)\n",
    "\n",
    "def get_log_priors(model, data, censor=None):\n",
    "    if censor is None:\n",
    "        LP = [model.prior(*d.unpack()) for d in data]\n",
    "    else:\n",
    "        LP = [model.posterior(*d.truncate(censor).unpack()) for d in data]\n",
    "        \n",
    "    return np.array(LP)\n",
    "\n",
    "def get_log_likels(model, data, censor=None):\n",
    "    if censor is None:\n",
    "        LL = [model.likelihood(*d.unpack()) for d in data]\n",
    "    else:\n",
    "        LL = [model.likelihood(*d.unpack()) for d in data]\n",
    "        \n",
    "    return np.array(LL)"
   ]
  },
  {
   "cell_type": "code",
   "execution_count": 288,
   "metadata": {
    "collapsed": false
   },
   "outputs": [],
   "source": [
    "pfvc_spec = {'t' : 'years_seen_full',\n",
    "             'y' : 'pfvc',\n",
    "             'x1': ['female', 'afram'],\n",
    "             'x2': ['female', 'afram', 'aca', 'scl']}\n",
    "\n",
    "pfvc    = pd.read_csv('data/benchmark_pfvc.csv')\n",
    "pfvc_pd = [nips15.PatientData.from_tbl(tbl, **pfvc_spec) for _, tbl in pfvc.groupby('ptid')]\n",
    "\n",
    "tss_spec = {'t' : 'years_seen',\n",
    "            'y' : 'tss',\n",
    "            'x1': ['female', 'afram'],\n",
    "            'x2': ['female', 'afram']}\n",
    "\n",
    "tss = pd.read_csv('data/benchmark_tss.csv')\n",
    "tss_match = ['ptid'] + tss_spec['x1']\n",
    "tss = pd.merge(pfvc[tss_match], tss, 'left', tss_match)\n",
    "tss_pd = [nips15.PatientData.from_tbl(tbl, **tss_spec) for _, tbl in tss.groupby('ptid')]\n",
    "\n",
    "pdlco_spec = {'t' : 'years_seen',\n",
    "              'y' : 'pdlco',\n",
    "              'x1': ['female', 'afram'],\n",
    "              'x2': ['female', 'afram']}\n",
    "\n",
    "pdlco = pd.read_csv('data/benchmark_pdc.csv')\n",
    "pdlco_match = ['ptid'] + pdlco_spec['x1']\n",
    "pdlco = pd.merge(pfvc[pdlco_match], pdlco, 'left', pdlco_match)\n",
    "pdlco_pd = [nips15.PatientData.from_tbl(tbl, **pdlco_spec) for _, tbl in pdlco.groupby('ptid')]\n",
    "\n",
    "pv1_spec = {'t' : 'years_seen',\n",
    "            'y' : 'pfev1',\n",
    "            'x1': ['female', 'afram'],\n",
    "            'x2': ['female', 'afram']}\n",
    "\n",
    "pv1 = pd.read_csv('data/benchmark_pv1.csv')\n",
    "pv1_match = ['ptid'] + pv1_spec['x1']\n",
    "pv1 = pd.merge(pfvc[pv1_match], pv1, 'left', pv1_match)\n",
    "pv1_pd = [nips15.PatientData.from_tbl(tbl, **pv1_spec) for _, tbl in pv1.groupby('ptid')]\n",
    "\n",
    "sp_spec = {'t' : 'years_seen',\n",
    "           'y' : 'rvsp',\n",
    "           'x1': ['female', 'afram'],\n",
    "           'x2': ['female', 'afram']}\n",
    "\n",
    "sp = pd.read_csv('data/benchmark_sp.csv')\n",
    "sp_match = ['ptid'] + sp_spec['x1']\n",
    "sp = pd.merge(pfvc[sp_match], sp, 'left', sp_match)\n",
    "sp_pd = [nips15.PatientData.from_tbl(tbl, **sp_spec) for _, tbl in sp.groupby('ptid')]"
   ]
  },
  {
   "cell_type": "code",
   "execution_count": 292,
   "metadata": {
    "collapsed": true
   },
   "outputs": [],
   "source": [
    "get_ptids = lambda pd: [p.ptid for p in pd]\n",
    "pfvc_df   = pd.DataFrame({'ptid': get_ptids(pfvc_pd),  'pfvc' : pfvc_pd}).set_index('ptid')\n",
    "tss_df    = pd.DataFrame({'ptid': get_ptids(tss_pd),   'tss'  : tss_pd}).set_index('ptid')\n",
    "pdlco_df  = pd.DataFrame({'ptid': get_ptids(pdlco_pd), 'pdlco': pdlco_pd}).set_index('ptid')\n",
    "pv1_df    = pd.DataFrame({'ptid': get_ptids(pv1_pd),   'pv1'  : pdlco_pd}).set_index('ptid')\n",
    "sp_df     = pd.DataFrame({'ptid': get_ptids(sp_pd),    'rvsp'   : sp_pd}).set_index('ptid')"
   ]
  },
  {
   "cell_type": "code",
   "execution_count": 290,
   "metadata": {
    "collapsed": false
   },
   "outputs": [],
   "source": [
    "folds_df = pfvc.loc[:, ['ptid', 'fold']].drop_duplicates().set_index('ptid')"
   ]
  },
  {
   "cell_type": "code",
   "execution_count": 294,
   "metadata": {
    "collapsed": false
   },
   "outputs": [],
   "source": [
    "patient_data = pd.concat([folds_df, pfvc_df, tss_df, pdlco_df, pv1_df, sp_df], axis=1, join='inner')"
   ]
  },
  {
   "cell_type": "code",
   "execution_count": 335,
   "metadata": {
    "collapsed": true
   },
   "outputs": [],
   "source": [
    "model_names = ['pfvc', 'tss', 'pdc', 'pv1']\n",
    "col_names   = ['pfvc', 'tss', 'pdlco', 'pv1']"
   ]
  },
  {
   "cell_type": "code",
   "execution_count": 517,
   "metadata": {
    "collapsed": true
   },
   "outputs": [],
   "source": [
    "folds = [k + 1 for k in range(10)]\n",
    "censor_time = 3.0"
   ]
  },
  {
   "cell_type": "code",
   "execution_count": 518,
   "metadata": {
    "collapsed": false
   },
   "outputs": [
    {
     "name": "stdout",
     "output_type": "stream",
     "text": [
      "Starting fold 1\n",
      "Starting fold 2\n",
      "Starting fold 3\n",
      "Starting fold 4\n",
      "Starting fold 5\n",
      "Starting fold 6\n",
      "Starting fold 7\n",
      "Starting fold 8\n",
      "Starting fold 9\n",
      "Starting fold 10\n"
     ]
    }
   ],
   "source": [
    "full_posteriors = np.zeros((patient_data.shape[0], 8))\n",
    "\n",
    "for k in folds:\n",
    "    print('Starting fold {}'.format(k))\n",
    "    \n",
    "    model = load_model(model_names[0], k)\n",
    "    test  = patient_data['fold'].values == k\n",
    "    Qtest = get_posteriors(model, patient_data['pfvc'][test])\n",
    "    \n",
    "    full_posteriors[test, :] = Qtest\n",
    "    \n",
    "full_posterior_tbl = pd.DataFrame(full_posteriors)\n",
    "full_posterior_tbl.index = patient_data.index\n",
    "full_posterior_tbl.columns = ['p{}'.format(i) for i in range(1, 9)]"
   ]
  },
  {
   "cell_type": "code",
   "execution_count": 519,
   "metadata": {
    "collapsed": true
   },
   "outputs": [],
   "source": [
    "full_posterior_tbl.to_csv('full_posteriors.csv')"
   ]
  },
  {
   "cell_type": "code",
   "execution_count": 509,
   "metadata": {
    "collapsed": false
   },
   "outputs": [
    {
     "name": "stdout",
     "output_type": "stream",
     "text": [
      "Starting fold 1\n",
      "Starting fold 2\n",
      "Starting fold 3\n",
      "Starting fold 4\n",
      "Starting fold 5\n",
      "Starting fold 6\n",
      "Starting fold 7\n",
      "Starting fold 8\n",
      "Starting fold 9\n",
      "Starting fold 10\n"
     ]
    }
   ],
   "source": [
    "orig_posteriors = np.zeros((patient_data.shape[0], 8))\n",
    "\n",
    "for k in folds:\n",
    "    print('Starting fold {}'.format(k))\n",
    "    \n",
    "    model = load_model(model_names[0], k)\n",
    "    test  = patient_data['fold'].values == k\n",
    "    Qtest = get_posteriors(model, patient_data['pfvc'][test], censor_time)\n",
    "    \n",
    "    orig_posteriors[test, :] = Qtest\n",
    "    \n",
    "orig_posterior_tbl = pd.DataFrame(orig_posteriors)\n",
    "orig_posterior_tbl.index = patient_data.index\n",
    "orig_posterior_tbl.columns = ['p{}'.format(i) for i in range(1, 9)]"
   ]
  },
  {
   "cell_type": "code",
   "execution_count": 510,
   "metadata": {
    "collapsed": true
   },
   "outputs": [],
   "source": [
    "orig_posterior_tbl.to_csv('orig_posteriors.csv')"
   ]
  },
  {
   "cell_type": "code",
   "execution_count": 432,
   "metadata": {
    "collapsed": false
   },
   "outputs": [
    {
     "data": {
      "text/plain": [
       "<module 'online' from '/Users/pschulam/Git/Notebook/2015/07/online.py'>"
      ]
     },
     "execution_count": 432,
     "metadata": {},
     "output_type": "execute_result"
    }
   ],
   "source": [
    "imp.reload(online)"
   ]
  },
  {
   "cell_type": "code",
   "execution_count": 433,
   "metadata": {
    "collapsed": false
   },
   "outputs": [
    {
     "name": "stdout",
     "output_type": "stream",
     "text": [
      "Starting fold 1\n",
      "Starting fold 2\n",
      "Starting fold 3\n",
      "Starting fold 4\n",
      "Starting fold 5\n",
      "Starting fold 6\n",
      "Starting fold 7\n",
      "Starting fold 8\n",
      "Starting fold 9\n",
      "Starting fold 10\n"
     ]
    }
   ],
   "source": [
    "posteriors = np.zeros((patient_data.shape[0], 8))\n",
    "all_aux_clf = []\n",
    "all_weights = []\n",
    "\n",
    "for k in folds:\n",
    "    print('Starting fold {}'.format(k))\n",
    "    \n",
    "    models = [load_model(n, k) for n in model_names]\n",
    "    test   = patient_data['fold'].values == k\n",
    "    train  = ~test\n",
    "\n",
    "    Ptrain = get_posteriors(models[0], patient_data['pfvc'][train])\n",
    "    Qtrain = get_posteriors(models[0], patient_data['pfvc'][train], censor_time)\n",
    "    QQaux  = []\n",
    "    for n, m in zip(col_names[1:], models[1:]):\n",
    "        Qaux = get_posteriors(m, patient_data[n][train], 30.0)\n",
    "        QQaux.append(Qaux)\n",
    "    \n",
    "    bins = [0, 5, 8]\n",
    "    interp_groups = np.digitize(np.argmax(Qtrain, axis=1), bins) - 1\n",
    "    aux_clf, weights = online.train_adjustment(Ptrain, Qtrain, QQaux, interp_groups=interp_groups)\n",
    "    \n",
    "    Qtest = get_posteriors(models[0], patient_data['pfvc'][test], censor_time)\n",
    "    QQaux = []\n",
    "    for n, m in zip(col_names[1:], models[1:]):\n",
    "        Qaux = get_posteriors(m, patient_data[n][test], 30.0)\n",
    "        QQaux.append(Qaux)\n",
    "        \n",
    "    interp_groups = np.digitize(np.argmax(Qtest, axis=1), bins) - 1\n",
    "    \n",
    "    posteriors[test, :] = online.apply_adjustment(Qtest, QQaux, aux_clf, weights, interp_groups)\n",
    "    np.savetxt('param/adjusted_posteriors.dat', posteriors)\n",
    "    \n",
    "    all_aux_clf.append(aux_clf)\n",
    "    all_weights.append(weights)"
   ]
  },
  {
   "cell_type": "code",
   "execution_count": 434,
   "metadata": {
    "collapsed": false
   },
   "outputs": [],
   "source": [
    "posterior_tbl = pd.DataFrame(posteriors)\n",
    "posterior_tbl.index = patient_data.index\n",
    "posterior_tbl.columns = ['p{}'.format(i) for i in range(1, 9)]"
   ]
  },
  {
   "cell_type": "code",
   "execution_count": 435,
   "metadata": {
    "collapsed": false
   },
   "outputs": [],
   "source": [
    "posterior_tbl.to_csv('adju_posteriors.csv')"
   ]
  },
  {
   "cell_type": "code",
   "execution_count": 436,
   "metadata": {
    "collapsed": false
   },
   "outputs": [
    {
     "data": {
      "text/plain": [
       "array([[ 0.86,  0.01,  0.1 ,  0.02],\n",
       "       [ 0.88,  0.05,  0.03,  0.04]])"
      ]
     },
     "execution_count": 436,
     "metadata": {},
     "output_type": "execute_result"
    }
   ],
   "source": [
    "np.round(np.array(all_weights[0]), 2)"
   ]
  },
  {
   "cell_type": "markdown",
   "metadata": {},
   "source": [
    "## Tests"
   ]
  },
  {
   "cell_type": "code",
   "execution_count": 520,
   "metadata": {
    "collapsed": false
   },
   "outputs": [
    {
     "name": "stdout",
     "output_type": "stream",
     "text": [
      "Loading required package: methods\n",
      "Source: local data frame [3 x 2]\n",
      "\n",
      "     bin  mae\n",
      "1  (3,4] 2.67\n",
      "2  (4,8] 2.65\n",
      "3 (8,25] 3.08\n"
     ]
    }
   ],
   "source": [
    "!Rscript score_posteriors.R 3.0 full_posteriors.csv"
   ]
  },
  {
   "cell_type": "code",
   "execution_count": 512,
   "metadata": {
    "collapsed": false
   },
   "outputs": [
    {
     "name": "stdout",
     "output_type": "stream",
     "text": [
      "Loading required package: methods\n",
      "Source: local data frame [1 x 2]\n",
      "\n",
      "     bin  mae\n",
      "1 (8,25] 4.15\n"
     ]
    }
   ],
   "source": [
    "!Rscript score_posteriors.R 8.0 orig_posteriors.csv"
   ]
  },
  {
   "cell_type": "code",
   "execution_count": 439,
   "metadata": {
    "collapsed": false
   },
   "outputs": [
    {
     "name": "stdout",
     "output_type": "stream",
     "text": [
      "Loading required package: methods\n",
      "Source: local data frame [4 x 2]\n",
      "\n",
      "     bin  mae\n",
      "1  (1,2] 4.73\n",
      "2  (2,4] 5.87\n",
      "3  (4,8] 7.61\n",
      "4 (8,25] 9.72\n"
     ]
    }
   ],
   "source": [
    "!Rscript score_posteriors.R 1.0 adju_posteriors.csv"
   ]
  },
  {
   "cell_type": "code",
   "execution_count": 441,
   "metadata": {
    "collapsed": false
   },
   "outputs": [
    {
     "name": "stdout",
     "output_type": "stream",
     "text": [
      "Loading required package: methods\n",
      "Source: local data frame [4 x 2]\n",
      "\n",
      "     bin  mae\n",
      "1  (1,2] 4.85\n",
      "2  (2,4] 6.03\n",
      "3  (4,8] 7.87\n",
      "4 (8,25] 9.68\n"
     ]
    }
   ],
   "source": [
    "!Rscript score_posteriors.R 1.0 lgln_posteriors.csv"
   ]
  },
  {
   "cell_type": "code",
   "execution_count": 472,
   "metadata": {
    "collapsed": false
   },
   "outputs": [
    {
     "name": "stdout",
     "output_type": "stream",
     "text": [
      "Loading required package: methods\n",
      "Source: local data frame [4 x 2]\n",
      "\n",
      "     bin  mae\n",
      "1  (1,2] 4.74\n",
      "2  (2,4] 6.05\n",
      "3  (4,8] 7.80\n",
      "4 (8,25] 9.67\n"
     ]
    }
   ],
   "source": [
    "!Rscript score_posteriors.R 1.0 lgln_posteriors_0.0e+00.csv"
   ]
  },
  {
   "cell_type": "code",
   "execution_count": 471,
   "metadata": {
    "collapsed": false
   },
   "outputs": [
    {
     "name": "stdout",
     "output_type": "stream",
     "text": [
      "Loading required package: methods\n",
      "Source: local data frame [4 x 2]\n",
      "\n",
      "     bin   mae\n",
      "1  (1,2]  4.91\n",
      "2  (2,4]  6.11\n",
      "3  (4,8]  8.25\n",
      "4 (8,25] 10.70\n"
     ]
    }
   ],
   "source": [
    "!Rscript score_posteriors.R 1.0 lgln_posteriors_1.0e+00.csv"
   ]
  },
  {
   "cell_type": "code",
   "execution_count": 443,
   "metadata": {
    "collapsed": false
   },
   "outputs": [
    {
     "name": "stdout",
     "output_type": "stream",
     "text": [
      "Loading required package: methods\n",
      "Source: local data frame [4 x 2]\n",
      "\n",
      "     bin   mae\n",
      "1  (1,2]  4.89\n",
      "2  (2,4]  6.08\n",
      "3  (4,8]  8.14\n",
      "4 (8,25] 10.48\n"
     ]
    }
   ],
   "source": [
    "!Rscript score_posteriors.R 1.0 lgln_posteriors_1.0e-01.csv"
   ]
  },
  {
   "cell_type": "code",
   "execution_count": 444,
   "metadata": {
    "collapsed": false
   },
   "outputs": [
    {
     "name": "stdout",
     "output_type": "stream",
     "text": [
      "Loading required package: methods\n",
      "Source: local data frame [4 x 2]\n",
      "\n",
      "     bin   mae\n",
      "1  (1,2]  4.85\n",
      "2  (2,4]  6.03\n",
      "3  (4,8]  7.93\n",
      "4 (8,25] 10.08\n"
     ]
    }
   ],
   "source": [
    "!Rscript score_posteriors.R 1.0 lgln_posteriors_1.0e-02.csv"
   ]
  },
  {
   "cell_type": "code",
   "execution_count": 445,
   "metadata": {
    "collapsed": false
   },
   "outputs": [
    {
     "name": "stdout",
     "output_type": "stream",
     "text": [
      "Loading required package: methods\n",
      "Source: local data frame [4 x 2]\n",
      "\n",
      "     bin  mae\n",
      "1  (1,2] 4.83\n",
      "2  (2,4] 6.02\n",
      "3  (4,8] 7.85\n",
      "4 (8,25] 9.68\n"
     ]
    }
   ],
   "source": [
    "!Rscript score_posteriors.R 1.0 lgln_posteriors_1.0e-03.csv"
   ]
  },
  {
   "cell_type": "code",
   "execution_count": 446,
   "metadata": {
    "collapsed": false
   },
   "outputs": [
    {
     "name": "stdout",
     "output_type": "stream",
     "text": [
      "Loading required package: methods\n",
      "Source: local data frame [4 x 2]\n",
      "\n",
      "     bin  mae\n",
      "1  (1,2] 4.85\n",
      "2  (2,4] 6.03\n",
      "3  (4,8] 7.86\n",
      "4 (8,25] 9.68\n"
     ]
    }
   ],
   "source": [
    "!Rscript score_posteriors.R 1.0 lgln_posteriors_1.0e-04.csv"
   ]
  },
  {
   "cell_type": "code",
   "execution_count": 447,
   "metadata": {
    "collapsed": false
   },
   "outputs": [
    {
     "name": "stdout",
     "output_type": "stream",
     "text": [
      "Loading required package: methods\n",
      "Source: local data frame [4 x 2]\n",
      "\n",
      "     bin   mae\n",
      "1  (1,2]  4.92\n",
      "2  (2,4]  6.12\n",
      "3  (4,8]  8.24\n",
      "4 (8,25] 10.65\n"
     ]
    }
   ],
   "source": [
    "!Rscript score_posteriors.R 1.0 l1_lgln_posteriors_1.0e-02.csv"
   ]
  },
  {
   "cell_type": "code",
   "execution_count": 449,
   "metadata": {
    "collapsed": false
   },
   "outputs": [
    {
     "name": "stdout",
     "output_type": "stream",
     "text": [
      "Loading required package: methods\n",
      "Source: local data frame [4 x 2]\n",
      "\n",
      "     bin   mae\n",
      "1  (1,2]  4.85\n",
      "2  (2,4]  6.09\n",
      "3  (4,8]  8.00\n",
      "4 (8,25] 10.03\n"
     ]
    }
   ],
   "source": [
    "!Rscript score_posteriors.R 1.0 l1_lgln_posteriors_1.0e-03.csv"
   ]
  },
  {
   "cell_type": "code",
   "execution_count": 452,
   "metadata": {
    "collapsed": false
   },
   "outputs": [
    {
     "name": "stdout",
     "output_type": "stream",
     "text": [
      "Loading required package: methods\n",
      "Source: local data frame [4 x 2]\n",
      "\n",
      "     bin   mae\n",
      "1  (1,2]  4.86\n",
      "2  (2,4]  6.07\n",
      "3  (4,8]  8.00\n",
      "4 (8,25] 10.17\n"
     ]
    }
   ],
   "source": [
    "!Rscript score_posteriors.R 1.0 l1_lgln_posteriors_5.0e-04.csv"
   ]
  },
  {
   "cell_type": "code",
   "execution_count": 453,
   "metadata": {
    "collapsed": false
   },
   "outputs": [
    {
     "name": "stdout",
     "output_type": "stream",
     "text": [
      "Loading required package: methods\n",
      "Source: local data frame [4 x 2]\n",
      "\n",
      "     bin  mae\n",
      "1  (1,2] 4.84\n",
      "2  (2,4] 6.03\n",
      "3  (4,8] 7.88\n",
      "4 (8,25] 9.95\n"
     ]
    }
   ],
   "source": [
    "!Rscript score_posteriors.R 1.0 l1_lgln_posteriors_2.5e-04.csv"
   ]
  },
  {
   "cell_type": "code",
   "execution_count": 450,
   "metadata": {
    "collapsed": false
   },
   "outputs": [
    {
     "name": "stdout",
     "output_type": "stream",
     "text": [
      "Loading required package: methods\n",
      "Source: local data frame [4 x 2]\n",
      "\n",
      "     bin  mae\n",
      "1  (1,2] 4.83\n",
      "2  (2,4] 5.99\n",
      "3  (4,8] 7.83\n",
      "4 (8,25] 9.80\n"
     ]
    }
   ],
   "source": [
    "!Rscript score_posteriors.R 1.0 l1_lgln_posteriors_1.0e-04.csv"
   ]
  },
  {
   "cell_type": "code",
   "execution_count": 451,
   "metadata": {
    "collapsed": false
   },
   "outputs": [
    {
     "name": "stdout",
     "output_type": "stream",
     "text": [
      "Loading required package: methods\n",
      "Source: local data frame [4 x 2]\n",
      "\n",
      "     bin  mae\n",
      "1  (1,2] 4.86\n",
      "2  (2,4] 6.05\n",
      "3  (4,8] 7.89\n",
      "4 (8,25] 9.78\n"
     ]
    }
   ],
   "source": [
    "!Rscript score_posteriors.R 1.0 l1_lgln_posteriors_1.0e-05.csv"
   ]
  },
  {
   "cell_type": "code",
   "execution_count": 469,
   "metadata": {
    "collapsed": false
   },
   "outputs": [
    {
     "name": "stdout",
     "output_type": "stream",
     "text": [
      "Loading required package: methods\n",
      "Source: local data frame [4 x 2]\n",
      "\n",
      "     bin  mae\n",
      "1  (1,2] 4.82\n",
      "2  (2,4] 5.99\n",
      "3  (4,8] 7.93\n",
      "4 (8,25] 9.92\n"
     ]
    }
   ],
   "source": [
    "!Rscript score_posteriors.R 1.0 l1_trim_lgln_posteriors_0.0e+00.csv"
   ]
  },
  {
   "cell_type": "code",
   "execution_count": 470,
   "metadata": {
    "collapsed": false
   },
   "outputs": [
    {
     "name": "stdout",
     "output_type": "stream",
     "text": [
      "Loading required package: methods\n",
      "Source: local data frame [4 x 2]\n",
      "\n",
      "     bin  mae\n",
      "1  (1,2] 4.85\n",
      "2  (2,4] 6.06\n",
      "3  (4,8] 7.83\n",
      "4 (8,25] 9.79\n"
     ]
    }
   ],
   "source": [
    "!Rscript score_posteriors.R 1.0 l1_trim3_lgln_posteriors_0.0e+00.csv"
   ]
  },
  {
   "cell_type": "code",
   "execution_count": 473,
   "metadata": {
    "collapsed": false
   },
   "outputs": [
    {
     "name": "stdout",
     "output_type": "stream",
     "text": [
      "Loading required package: methods\n",
      "Source: local data frame [4 x 2]\n",
      "\n",
      "     bin   mae\n",
      "1  (1,2]  4.84\n",
      "2  (2,4]  6.14\n",
      "3  (4,8]  7.89\n",
      "4 (8,25] 10.14\n"
     ]
    }
   ],
   "source": [
    "!Rscript score_posteriors.R 1.0 l1_full_hac_lgln_posteriors_1.0e-04.csv"
   ]
  },
  {
   "cell_type": "markdown",
   "metadata": {},
   "source": [
    "## Analysis of posteriors"
   ]
  },
  {
   "cell_type": "code",
   "execution_count": 193,
   "metadata": {
    "collapsed": true
   },
   "outputs": [],
   "source": [
    "from sklearn.metrics import confusion_matrix"
   ]
  },
  {
   "cell_type": "code",
   "execution_count": 410,
   "metadata": {
    "collapsed": true
   },
   "outputs": [],
   "source": [
    "def prob_matrix(P, Q):\n",
    "    k = P.shape[1]\n",
    "    M = np.zeros((k, k))\n",
    "    for i in range(k):\n",
    "        ix = np.argmax(P, axis=1) == i\n",
    "        M[i, :] = Q[ix, :].mean(axis=0)\n",
    "    return M"
   ]
  },
  {
   "cell_type": "code",
   "execution_count": 343,
   "metadata": {
    "collapsed": false
   },
   "outputs": [],
   "source": [
    "P  = full_posteriors.copy()\n",
    "Q1 = orig_posteriors.copy()\n",
    "Q2 = posteriors.copy()"
   ]
  },
  {
   "cell_type": "code",
   "execution_count": 421,
   "metadata": {
    "collapsed": false
   },
   "outputs": [
    {
     "data": {
      "text/plain": [
       "array([[ 44,   0,   0,   0,   0,   0,   0,   0],\n",
       "       [  0, 154,   0,   0,   0,   0,   0,   0],\n",
       "       [  0,   0,  81,   0,   0,   0,   0,   0],\n",
       "       [  0,   0,   0,  97,   0,   0,   0,   0],\n",
       "       [  0,   0,   0,   0,  95,   0,   0,   0],\n",
       "       [  0,   0,   0,   0,   0,  68,   0,   0],\n",
       "       [  0,   0,   0,   0,   0,   0,  89,   0],\n",
       "       [  0,   0,   0,   0,   0,   0,   0,  44]])"
      ]
     },
     "execution_count": 421,
     "metadata": {},
     "output_type": "execute_result"
    }
   ],
   "source": [
    "confusion_matrix(np.argmax(P, axis=1), np.argmax(P, axis=1))"
   ]
  },
  {
   "cell_type": "code",
   "execution_count": 416,
   "metadata": {
    "collapsed": false
   },
   "outputs": [
    {
     "data": {
      "text/plain": [
       "array([[ 0.87,  0.12,  0.01,  0.  ,  0.  ,  0.  ,  0.  ,  0.  ],\n",
       "       [ 0.05,  0.73,  0.15,  0.04,  0.02,  0.  ,  0.  ,  0.  ],\n",
       "       [ 0.  ,  0.18,  0.59,  0.15,  0.06,  0.  ,  0.02,  0.  ],\n",
       "       [ 0.  ,  0.05,  0.13,  0.6 ,  0.09,  0.06,  0.08,  0.  ],\n",
       "       [ 0.  ,  0.03,  0.06,  0.1 ,  0.67,  0.11,  0.03,  0.  ],\n",
       "       [ 0.  ,  0.  ,  0.  ,  0.04,  0.14,  0.66,  0.1 ,  0.05],\n",
       "       [ 0.  ,  0.  ,  0.01,  0.06,  0.04,  0.1 ,  0.74,  0.04],\n",
       "       [ 0.  ,  0.  ,  0.  ,  0.  ,  0.01,  0.1 ,  0.06,  0.83]])"
      ]
     },
     "execution_count": 416,
     "metadata": {},
     "output_type": "execute_result"
    }
   ],
   "source": [
    "np.round(prob_matrix(P, P), 2)"
   ]
  },
  {
   "cell_type": "code",
   "execution_count": 422,
   "metadata": {
    "collapsed": false
   },
   "outputs": [
    {
     "data": {
      "text/plain": [
       "array([[ 35,   6,   2,   1,   0,   0,   0,   0],\n",
       "       [  3, 109,  26,  12,   0,   1,   2,   1],\n",
       "       [  3,  13,  58,   3,   0,   0,   4,   0],\n",
       "       [  1,  18,  18,  35,   5,   6,  14,   0],\n",
       "       [  0,   1,   1,   7,  56,  10,  14,   6],\n",
       "       [  0,   0,   1,   1,  23,  34,   4,   5],\n",
       "       [  0,   2,   8,  11,  16,  10,  42,   0],\n",
       "       [  0,   0,   0,   2,   3,   3,   1,  35]])"
      ]
     },
     "execution_count": 422,
     "metadata": {},
     "output_type": "execute_result"
    }
   ],
   "source": [
    "confusion_matrix(np.argmax(P, axis=1), np.argmax(Q1, axis=1))"
   ]
  },
  {
   "cell_type": "code",
   "execution_count": 462,
   "metadata": {
    "collapsed": false
   },
   "outputs": [
    {
     "data": {
      "text/plain": [
       "array([[ 0.7,  0.2,  0.1,  0. ,  0. ,  0. ,  0. ,  0. ],\n",
       "       [ 0.1,  0.5,  0.2,  0.1,  0. ,  0. ,  0. ,  0. ],\n",
       "       [ 0. ,  0.3,  0.4,  0.2,  0. ,  0. ,  0.1,  0. ],\n",
       "       [ 0. ,  0.2,  0.1,  0.3,  0.1,  0.1,  0.2,  0. ],\n",
       "       [ 0. ,  0. ,  0. ,  0.1,  0.4,  0.2,  0.2,  0.1],\n",
       "       [ 0. ,  0. ,  0. ,  0. ,  0.3,  0.4,  0.1,  0.1],\n",
       "       [ 0. ,  0.1,  0.1,  0.1,  0.2,  0.1,  0.4,  0. ],\n",
       "       [ 0. ,  0. ,  0. ,  0. ,  0.1,  0.2,  0. ,  0.7]])"
      ]
     },
     "execution_count": 462,
     "metadata": {},
     "output_type": "execute_result"
    }
   ],
   "source": [
    "np.round(prob_matrix(P, Q1), 1)"
   ]
  },
  {
   "cell_type": "code",
   "execution_count": 457,
   "metadata": {
    "collapsed": false
   },
   "outputs": [],
   "source": [
    "Q3 = pd.read_csv('l1_lgln_posteriors_1.0e-04.csv').iloc[:, 1:]"
   ]
  },
  {
   "cell_type": "code",
   "execution_count": 458,
   "metadata": {
    "collapsed": true
   },
   "outputs": [],
   "source": [
    "Q3 = np.array(Q3)"
   ]
  },
  {
   "cell_type": "code",
   "execution_count": 465,
   "metadata": {
    "collapsed": false
   },
   "outputs": [
    {
     "data": {
      "text/plain": [
       "array([[ 0.7 ,  0.21,  0.06,  0.02,  0.01,  0.01,  0.  ,  0.  ],\n",
       "       [ 0.08,  0.45,  0.24,  0.15,  0.03,  0.03,  0.02,  0.  ],\n",
       "       [ 0.04,  0.31,  0.22,  0.31,  0.03,  0.02,  0.05,  0.  ],\n",
       "       [ 0.02,  0.22,  0.17,  0.32,  0.08,  0.08,  0.11,  0.  ],\n",
       "       [ 0.01,  0.05,  0.04,  0.17,  0.26,  0.29,  0.12,  0.06],\n",
       "       [ 0.  ,  0.02,  0.02,  0.06,  0.25,  0.4 ,  0.13,  0.12],\n",
       "       [ 0.  ,  0.04,  0.07,  0.22,  0.13,  0.24,  0.25,  0.04],\n",
       "       [ 0.  ,  0.01,  0.01,  0.01,  0.08,  0.15,  0.03,  0.71]])"
      ]
     },
     "execution_count": 465,
     "metadata": {},
     "output_type": "execute_result"
    }
   ],
   "source": [
    "np.round(prob_matrix(P, Q3), 2)"
   ]
  },
  {
   "cell_type": "code",
   "execution_count": 467,
   "metadata": {
    "collapsed": false
   },
   "outputs": [
    {
     "data": {
      "text/plain": [
       "array([[ 33,  11,   0,   0,   0,   0,   0,   0],\n",
       "       [  4, 113,  15,  17,   3,   2,   0,   0],\n",
       "       [  3,  38,  10,  28,   0,   0,   2,   0],\n",
       "       [  0,  36,  11,  34,   3,   5,   8,   0],\n",
       "       [  0,   7,   0,  20,  24,  30,   8,   6],\n",
       "       [  0,   4,   0,   2,  15,  36,   4,   7],\n",
       "       [  0,   3,   1,  31,   6,  22,  22,   4],\n",
       "       [  0,   2,   0,   0,   2,   5,   1,  34]])"
      ]
     },
     "execution_count": 467,
     "metadata": {},
     "output_type": "execute_result"
    }
   ],
   "source": [
    "confusion_matrix(np.argmax(P, axis=1), np.argmax(Q3, axis=1))"
   ]
  },
  {
   "cell_type": "code",
   "execution_count": 463,
   "metadata": {
    "collapsed": true
   },
   "outputs": [],
   "source": [
    "Q4 = pd.read_csv('lgln_posteriors_full_aux.csv').iloc[:, 1:]\n",
    "Q4 = np.array(Q4)"
   ]
  },
  {
   "cell_type": "code",
   "execution_count": 466,
   "metadata": {
    "collapsed": false
   },
   "outputs": [
    {
     "data": {
      "text/plain": [
       "array([[ 0.72,  0.21,  0.06,  0.01,  0.01,  0.  ,  0.  ,  0.  ],\n",
       "       [ 0.11,  0.47,  0.25,  0.1 ,  0.04,  0.02,  0.01,  0.  ],\n",
       "       [ 0.04,  0.32,  0.28,  0.23,  0.05,  0.02,  0.04,  0.  ],\n",
       "       [ 0.01,  0.12,  0.26,  0.34,  0.07,  0.05,  0.12,  0.02],\n",
       "       [ 0.  ,  0.04,  0.05,  0.13,  0.42,  0.23,  0.09,  0.04],\n",
       "       [ 0.  ,  0.01,  0.04,  0.11,  0.21,  0.29,  0.24,  0.1 ],\n",
       "       [ 0.  ,  0.02,  0.07,  0.26,  0.08,  0.1 ,  0.41,  0.05],\n",
       "       [ 0.  ,  0.  ,  0.01,  0.02,  0.02,  0.09,  0.09,  0.76]])"
      ]
     },
     "execution_count": 466,
     "metadata": {},
     "output_type": "execute_result"
    }
   ],
   "source": [
    "np.round(prob_matrix(P, Q4), 2)"
   ]
  },
  {
   "cell_type": "code",
   "execution_count": 468,
   "metadata": {
    "collapsed": false
   },
   "outputs": [
    {
     "data": {
      "text/plain": [
       "array([[35,  7,  2,  0,  0,  0,  0,  0],\n",
       "       [14, 88, 31, 14,  6,  1,  0,  0],\n",
       "       [ 3, 31, 22, 21,  2,  0,  2,  0],\n",
       "       [ 1, 11, 19, 46,  6,  4,  9,  1],\n",
       "       [ 0,  2,  2, 16, 49, 16,  7,  3],\n",
       "       [ 0,  0,  3,  6, 16, 19, 18,  6],\n",
       "       [ 0,  2,  3, 27,  6,  7, 40,  4],\n",
       "       [ 0,  0,  0,  2,  0,  3,  3, 36]])"
      ]
     },
     "execution_count": 468,
     "metadata": {},
     "output_type": "execute_result"
    }
   ],
   "source": [
    "confusion_matrix(np.argmax(P, axis=1), np.argmax(Q4, axis=1))"
   ]
  },
  {
   "cell_type": "code",
   "execution_count": 419,
   "metadata": {
    "collapsed": false
   },
   "outputs": [
    {
     "data": {
      "text/plain": [
       "0.59259259259259256"
      ]
     },
     "execution_count": 419,
     "metadata": {},
     "output_type": "execute_result"
    }
   ],
   "source": [
    "k1 = patient_data['fold'].values == 2\n",
    "np.mean(np.argmax(P[k1, :], axis=1) == np.argmax(Q1[k1, :], axis=1))"
   ]
  },
  {
   "cell_type": "code",
   "execution_count": 344,
   "metadata": {
    "collapsed": false
   },
   "outputs": [
    {
     "data": {
      "text/plain": [
       "0.60119047619047616"
      ]
     },
     "execution_count": 344,
     "metadata": {},
     "output_type": "execute_result"
    }
   ],
   "source": [
    "(np.argmax(P, axis=1) == np.argmax(Q1, axis=1)).mean()"
   ]
  },
  {
   "cell_type": "code",
   "execution_count": 345,
   "metadata": {
    "collapsed": false
   },
   "outputs": [
    {
     "data": {
      "text/plain": [
       "0.57738095238095233"
      ]
     },
     "execution_count": 345,
     "metadata": {},
     "output_type": "execute_result"
    }
   ],
   "source": [
    "(np.argmax(P, axis=1) == np.argmax(Q2, axis=1)).mean()"
   ]
  },
  {
   "cell_type": "code",
   "execution_count": 346,
   "metadata": {
    "collapsed": false
   },
   "outputs": [
    {
     "data": {
      "text/plain": [
       "array([[ 35,   6,   2,   1,   0,   0,   0,   0],\n",
       "       [  3, 109,  26,  12,   0,   1,   2,   1],\n",
       "       [  3,  13,  58,   3,   0,   0,   4,   0],\n",
       "       [  1,  18,  18,  35,   5,   6,  14,   0],\n",
       "       [  0,   1,   1,   7,  56,  10,  14,   6],\n",
       "       [  0,   0,   1,   1,  23,  34,   4,   5],\n",
       "       [  0,   2,   8,  11,  16,  10,  42,   0],\n",
       "       [  0,   0,   0,   2,   3,   3,   1,  35]])"
      ]
     },
     "execution_count": 346,
     "metadata": {},
     "output_type": "execute_result"
    }
   ],
   "source": [
    "confusion_matrix(np.argmax(P, axis=1), np.argmax(Q1, axis=1))"
   ]
  },
  {
   "cell_type": "code",
   "execution_count": 347,
   "metadata": {
    "collapsed": false
   },
   "outputs": [
    {
     "data": {
      "text/plain": [
       "array([[ 31,  12,   0,   1,   0,   0,   0,   0],\n",
       "       [  3, 114,  21,  12,   0,   2,   2,   0],\n",
       "       [  2,  26,  45,   2,   2,   0,   4,   0],\n",
       "       [  0,  27,  13,  30,   5,   6,  16,   0],\n",
       "       [  0,   2,   0,   6,  56,  10,  15,   6],\n",
       "       [  0,   1,   0,   1,  24,  33,   4,   5],\n",
       "       [  0,   3,   7,   9,  16,   9,  45,   0],\n",
       "       [  0,   0,   0,   2,   3,   4,   1,  34]])"
      ]
     },
     "execution_count": 347,
     "metadata": {},
     "output_type": "execute_result"
    }
   ],
   "source": [
    "confusion_matrix(np.argmax(P, axis=1), np.argmax(Q2, axis=1))"
   ]
  },
  {
   "cell_type": "code",
   "execution_count": 348,
   "metadata": {
    "collapsed": false
   },
   "outputs": [
    {
     "data": {
      "image/png": "[encoded data removed]",
      "text/plain": [
       "<matplotlib.figure.Figure at 0x114008e48>"
      ]
     },
     "metadata": {},
     "output_type": "display_data"
    }
   ],
   "source": [
    "fig, ax = plt.subplots(2, sharex=True, figsize=(8, 6))\n",
    "_ = sns.distplot(np.max(Q1, axis=1), ax=ax[0])\n",
    "_ = sns.distplot(np.max(Q2, axis=1), ax=ax[1])"
   ]
  },
  {
   "cell_type": "code",
   "execution_count": 349,
   "metadata": {
    "collapsed": true
   },
   "outputs": [],
   "source": [
    "z  = np.argmax(P, axis=1)\n",
    "z1 = np.argmax(Q1, axis=1)\n",
    "c1 = np.max(Q1, axis=1)\n",
    "z2 = np.argmax(Q2, axis=1)\n",
    "c2 = np.max(Q2, axis=1)"
   ]
  },
  {
   "cell_type": "code",
   "execution_count": 350,
   "metadata": {
    "collapsed": true
   },
   "outputs": [],
   "source": [
    "def conf_restricted_acc(z, zhat, conf, min_conf):\n",
    "    valid = conf >= min_conf\n",
    "    return (z[valid] == zhat[valid]).mean()"
   ]
  },
  {
   "cell_type": "code",
   "execution_count": 351,
   "metadata": {
    "collapsed": false
   },
   "outputs": [
    {
     "data": {
      "image/png": "[encoded data removed]",
      "text/plain": [
       "<matplotlib.figure.Figure at 0x112ef12e8>"
      ]
     },
     "metadata": {},
     "output_type": "display_data"
    }
   ],
   "source": [
    "x  = np.linspace(0.1, 0.9, 10)\n",
    "y1 = [conf_restricted_acc(z, z1, c1, a) for a in x]\n",
    "y2 = [conf_restricted_acc(z, z2, c2, a) for a in x]\n",
    "l1 = plt.plot(x, y1, label='Original')\n",
    "l2 = plt.plot(x, y2, label='Adjusted')\n",
    "_  = plt.ylim(0.5, 1.0)\n",
    "_  = plt.legend(loc=4)"
   ]
  }
 ],
 "metadata": {
  "kernelspec": {
   "display_name": "Python 3",
   "language": "python",
   "name": "python3"
  },
  "language_info": {
   "codemirror_mode": {
    "name": "ipython",
    "version": 3
   },
   "file_extension": ".py",
   "mimetype": "text/x-python",
   "name": "python",
   "nbconvert_exporter": "python",
   "pygments_lexer": "ipython3",
   "version": "3.4.3"
  }
 },
 "nbformat": 4,
 "nbformat_minor": 0
}
