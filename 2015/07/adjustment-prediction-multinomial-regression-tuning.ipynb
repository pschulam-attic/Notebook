{
 "cells": [
  {
   "cell_type": "code",
   "execution_count": 1,
   "metadata": {
    "collapsed": true
   },
   "outputs": [],
   "source": [
    "import sys\n",
    "sys.path.append('/Users/pschulam/Git/mypy')"
   ]
  },
  {
   "cell_type": "code",
   "execution_count": 237,
   "metadata": {
    "collapsed": true
   },
   "outputs": [],
   "source": [
    "import os\n",
    "import pandas as pd\n",
    "import numpy as np\n",
    "import matplotlib.pyplot as plt\n",
    "import seaborn as sns\n",
    "import nips15\n",
    "import online\n",
    "from sklearn import linear_model\n",
    "from sklearn.cross_validation import KFold\n",
    "from scipy.misc import logsumexp\n",
    "%matplotlib inline"
   ]
  },
  {
   "cell_type": "code",
   "execution_count": 345,
   "metadata": {
    "collapsed": true
   },
   "outputs": [],
   "source": [
    "folds_dir = 'models/jmlr/folds'\n",
    "\n",
    "def load_model(marker, fold, folds_dir=folds_dir):\n",
    "    param_dir = os.path.join(folds_dir, marker, '{:02d}'.format(fold), 'param')\n",
    "    return nips15.NipsModel.from_directory(param_dir)\n",
    "\n",
    "def get_posteriors(model, data, censor=None):\n",
    "    if censor is None:\n",
    "        P = [model.posterior(*d.unpack()) for d in data]\n",
    "    else:\n",
    "        P = [model.posterior(*d.truncate(censor).unpack()) for d in data]\n",
    "        \n",
    "    return np.array(P)\n",
    "\n",
    "def get_likel_posteriors(model, data, censor=None):\n",
    "    if censor is None:\n",
    "        LL = [model.likelihood(*d.unpack()) for d in data]\n",
    "    else:\n",
    "        LL = [model.likelihood(*d.truncate(censor).unpack()) for d in data]\n",
    "        \n",
    "    Z = logsumexp(LL, axis=1)\n",
    "    P = np.exp(LL - Z[:, np.newaxis])\n",
    "    return P"
   ]
  },
  {
   "cell_type": "code",
   "execution_count": 4,
   "metadata": {
    "collapsed": false
   },
   "outputs": [],
   "source": [
    "pfvc_spec = {'t' : 'years_seen_full',\n",
    "             'y' : 'pfvc',\n",
    "             'x1': ['female', 'afram'],\n",
    "             'x2': ['female', 'afram', 'aca', 'scl']}\n",
    "\n",
    "pfvc    = pd.read_csv('data/benchmark_pfvc.csv')\n",
    "pfvc_pd = [nips15.PatientData.from_tbl(tbl, **pfvc_spec) for _, tbl in pfvc.groupby('ptid')]\n",
    "\n",
    "tss_spec = {'t' : 'years_seen',\n",
    "            'y' : 'tss',\n",
    "            'x1': ['female', 'afram'],\n",
    "            'x2': ['female', 'afram']}\n",
    "\n",
    "tss = pd.read_csv('data/benchmark_tss.csv')\n",
    "tss_match = ['ptid'] + tss_spec['x1']\n",
    "tss = pd.merge(pfvc[tss_match], tss, 'left', tss_match)\n",
    "tss_pd = [nips15.PatientData.from_tbl(tbl, **tss_spec) for _, tbl in tss.groupby('ptid')]\n",
    "\n",
    "pdlco_spec = {'t' : 'years_seen',\n",
    "              'y' : 'pdlco',\n",
    "              'x1': ['female', 'afram'],\n",
    "              'x2': ['female', 'afram']}\n",
    "\n",
    "pdlco = pd.read_csv('data/benchmark_pdc.csv')\n",
    "pdlco_match = ['ptid'] + pdlco_spec['x1']\n",
    "pdlco = pd.merge(pfvc[pdlco_match], pdlco, 'left', pdlco_match)\n",
    "pdlco_pd = [nips15.PatientData.from_tbl(tbl, **pdlco_spec) for _, tbl in pdlco.groupby('ptid')]\n",
    "\n",
    "pv1_spec = {'t' : 'years_seen',\n",
    "            'y' : 'pfev1',\n",
    "            'x1': ['female', 'afram'],\n",
    "            'x2': ['female', 'afram']}\n",
    "\n",
    "pv1 = pd.read_csv('data/benchmark_pv1.csv')\n",
    "pv1_match = ['ptid'] + pv1_spec['x1']\n",
    "pv1 = pd.merge(pfvc[pv1_match], pv1, 'left', pv1_match)\n",
    "pv1_pd = [nips15.PatientData.from_tbl(tbl, **pv1_spec) for _, tbl in pv1.groupby('ptid')]"
   ]
  },
  {
   "cell_type": "code",
   "execution_count": 5,
   "metadata": {
    "collapsed": true
   },
   "outputs": [],
   "source": [
    "get_ptids = lambda pd: [p.ptid for p in pd]\n",
    "pfvc_df   = pd.DataFrame({'ptid': get_ptids(pfvc_pd),  'pfvc' : pfvc_pd}).set_index('ptid')\n",
    "tss_df    = pd.DataFrame({'ptid': get_ptids(tss_pd),   'tss'  : tss_pd}).set_index('ptid')\n",
    "pdlco_df  = pd.DataFrame({'ptid': get_ptids(pdlco_pd), 'pdlco': pdlco_pd}).set_index('ptid')\n",
    "pv1_df    = pd.DataFrame({'ptid': get_ptids(pv1_pd),   'pv1'  : pdlco_pd}).set_index('ptid')"
   ]
  },
  {
   "cell_type": "code",
   "execution_count": 6,
   "metadata": {
    "collapsed": false
   },
   "outputs": [],
   "source": [
    "folds_df = pfvc.loc[:, ['ptid', 'fold']].drop_duplicates().set_index('ptid')"
   ]
  },
  {
   "cell_type": "code",
   "execution_count": 7,
   "metadata": {
    "collapsed": false
   },
   "outputs": [],
   "source": [
    "patient_data = pd.concat([folds_df, pfvc_df, tss_df, pdlco_df, pv1_df], axis=1, join='inner')"
   ]
  },
  {
   "cell_type": "code",
   "execution_count": 8,
   "metadata": {
    "collapsed": true
   },
   "outputs": [],
   "source": [
    "model_names = ['pfvc', 'tss', 'pdc', 'pv1']\n",
    "col_names   = ['pfvc', 'tss', 'pdlco', 'pv1']"
   ]
  },
  {
   "cell_type": "code",
   "execution_count": 9,
   "metadata": {
    "collapsed": true
   },
   "outputs": [],
   "source": [
    "folds = [k + 1 for k in range(10)]"
   ]
  },
  {
   "cell_type": "code",
   "execution_count": 240,
   "metadata": {
    "collapsed": true
   },
   "outputs": [],
   "source": [
    "P  = np.zeros((patient_data.shape[0], 8))\n",
    "Q  = np.zeros_like(P)\n",
    "Qp = np.zeros_like(P)\n",
    "Ql = np.zeros_like(P)"
   ]
  },
  {
   "cell_type": "code",
   "execution_count": 241,
   "metadata": {
    "collapsed": true
   },
   "outputs": [],
   "source": [
    "censor = 1.0\n",
    "\n",
    "for k in folds:\n",
    "    models = [load_model(n, k) for n in model_names]\n",
    "    test   = patient_data['fold'].values == k\n",
    "    \n",
    "    P[test, :]  = get_posteriors(models[0], patient_data['pfvc'][test])\n",
    "    Q[test, :]  = get_posteriors(models[0], patient_data['pfvc'][test], censor)\n",
    "    Qp[test, :] = np.array([models[0].prior(*d.truncate(censor).unpack()) for d in patient_data['pfvc'][test]])\n",
    "    Ql[test, :] = np.array([models[0].likelihood(*d.truncate(censor).unpack()) for d in patient_data['pfvc'][test]])"
   ]
  },
  {
   "cell_type": "code",
   "execution_count": 242,
   "metadata": {
    "collapsed": true
   },
   "outputs": [],
   "source": [
    "ztrue = np.argmax(P, axis=1)\n",
    "zpred = np.argmax(Q, axis=1)"
   ]
  },
  {
   "cell_type": "code",
   "execution_count": 243,
   "metadata": {
    "collapsed": false
   },
   "outputs": [
    {
     "data": {
      "text/plain": [
       "array([[ 35,   6,   2,   1,   0,   0,   0,   0],\n",
       "       [  3, 109,  26,  12,   0,   1,   2,   1],\n",
       "       [  3,  13,  58,   3,   0,   0,   4,   0],\n",
       "       [  1,  18,  18,  35,   5,   6,  14,   0],\n",
       "       [  0,   1,   1,   7,  56,  10,  14,   6],\n",
       "       [  0,   0,   1,   1,  23,  34,   4,   5],\n",
       "       [  0,   2,   8,  11,  16,  10,  42,   0],\n",
       "       [  0,   0,   0,   2,   3,   3,   1,  35]])"
      ]
     },
     "execution_count": 243,
     "metadata": {},
     "output_type": "execute_result"
    }
   ],
   "source": [
    "confusion_matrix(ztrue, zpred)"
   ]
  },
  {
   "cell_type": "code",
   "execution_count": 244,
   "metadata": {
    "collapsed": true
   },
   "outputs": [],
   "source": [
    "mismatched_pairs = ['{}->{}'.format(zt+1, zp+1) for zt, zp in zip(ztrue, zpred) if not zt == zp]"
   ]
  },
  {
   "cell_type": "code",
   "execution_count": 245,
   "metadata": {
    "collapsed": true
   },
   "outputs": [],
   "source": [
    "from collections import Counter\n",
    "counts = Counter(mismatched_pairs)"
   ]
  },
  {
   "cell_type": "code",
   "execution_count": 246,
   "metadata": {
    "collapsed": false
   },
   "outputs": [
    {
     "data": {
      "text/plain": [
       "[('2->3', 26),\n",
       " ('6->5', 23),\n",
       " ('4->3', 18),\n",
       " ('4->2', 18),\n",
       " ('7->5', 16),\n",
       " ('5->7', 14),\n",
       " ('4->7', 14),\n",
       " ('3->2', 13),\n",
       " ('2->4', 12),\n",
       " ('7->4', 11)]"
      ]
     },
     "execution_count": 246,
     "metadata": {},
     "output_type": "execute_result"
    }
   ],
   "source": [
    "counts.most_common(10)"
   ]
  },
  {
   "cell_type": "code",
   "execution_count": 353,
   "metadata": {
    "collapsed": true
   },
   "outputs": [],
   "source": [
    "symmetric_mismatches = ['{}<-->{}'.format(min(zt, zp) + 1, max(zt, zp) + 1) for zt, zp in zip(ztrue, zpred) if not zt == zp]"
   ]
  },
  {
   "cell_type": "code",
   "execution_count": 355,
   "metadata": {
    "collapsed": false
   },
   "outputs": [
    {
     "data": {
      "text/plain": [
       "[('2<-->3', 39),\n",
       " ('5<-->6', 33),\n",
       " ('2<-->4', 30),\n",
       " ('5<-->7', 30),\n",
       " ('4<-->7', 25),\n",
       " ('3<-->4', 21),\n",
       " ('6<-->7', 14),\n",
       " ('4<-->5', 12),\n",
       " ('3<-->7', 12),\n",
       " ('1<-->2', 9),\n",
       " ('5<-->8', 9),\n",
       " ('6<-->8', 8),\n",
       " ('4<-->6', 7),\n",
       " ('1<-->3', 5),\n",
       " ('2<-->7', 4),\n",
       " ('1<-->4', 2),\n",
       " ('4<-->8', 2),\n",
       " ('2<-->6', 1),\n",
       " ('3<-->5', 1),\n",
       " ('7<-->8', 1)]"
      ]
     },
     "execution_count": 355,
     "metadata": {},
     "output_type": "execute_result"
    }
   ],
   "source": [
    "Counter(symmetric_mismatches).most_common(20)"
   ]
  },
  {
   "cell_type": "code",
   "execution_count": 339,
   "metadata": {
    "collapsed": true
   },
   "outputs": [],
   "source": [
    "def normalize(x, precision=2):\n",
    "    y = x / x.sum()\n",
    "    return np.round(y, precision)"
   ]
  },
  {
   "cell_type": "code",
   "execution_count": 350,
   "metadata": {
    "collapsed": false
   },
   "outputs": [],
   "source": [
    "P_tss = np.zeros((patient_data.shape[0], 4))\n",
    "Q_tss = np.zeros_like(P_tss)\n",
    "\n",
    "for k in folds:\n",
    "    models = [load_model(n, k) for n in model_names]\n",
    "    test = patient_data['fold'].values == k\n",
    "    \n",
    "    P_tss[test, :] = get_posteriors(models[1], patient_data['tss'][test])\n",
    "    Q_tss[test, :] = get_posteriors(models[1], patient_data['tss'][test], censor)\n",
    "    \n",
    "ztrue_tss = np.argmax(P_tss, axis=1)\n",
    "zpred_tss = np.argmax(Q_tss, axis=1)\n",
    "\n",
    "high_skin = (zpred_tss < 2).astype(np.int)"
   ]
  },
  {
   "cell_type": "code",
   "execution_count": 351,
   "metadata": {
    "collapsed": false
   },
   "outputs": [
    {
     "data": {
      "text/plain": [
       "array([[ 40,  23,   6,   7],\n",
       "       [ 27, 153,   6,   4],\n",
       "       [  0,   2, 287,   6],\n",
       "       [  3,   5,   8,  95]])"
      ]
     },
     "execution_count": 351,
     "metadata": {},
     "output_type": "execute_result"
    }
   ],
   "source": [
    "confusion_matrix(ztrue_tss, zpred_tss)"
   ]
  },
  {
   "cell_type": "code",
   "execution_count": 347,
   "metadata": {
    "collapsed": false
   },
   "outputs": [
    {
     "data": {
      "text/plain": [
       "array([[ 51,  18,   2,   5],\n",
       "       [ 54, 133,   0,   3],\n",
       "       [ 34,   1, 202,  58],\n",
       "       [ 16,   5,  39,  51]])"
      ]
     },
     "execution_count": 347,
     "metadata": {},
     "output_type": "execute_result"
    }
   ],
   "source": [
    "confusion_matrix(ztrue_tss, zpred_tss)"
   ]
  },
  {
   "cell_type": "code",
   "execution_count": 352,
   "metadata": {
    "collapsed": false
   },
   "outputs": [
    {
     "data": {
      "text/plain": [
       "array([[396,  10],\n",
       "       [ 23, 243]])"
      ]
     },
     "execution_count": 352,
     "metadata": {},
     "output_type": "execute_result"
    }
   ],
   "source": [
    "confusion_matrix((ztrue_tss < 2).astype(np.int), (zpred_tss < 2).astype(np.int))"
   ]
  },
  {
   "cell_type": "code",
   "execution_count": 349,
   "metadata": {
    "collapsed": false
   },
   "outputs": [
    {
     "data": {
      "text/plain": [
       "array([[350,  56],\n",
       "       [ 10, 256]])"
      ]
     },
     "execution_count": 349,
     "metadata": {},
     "output_type": "execute_result"
    }
   ],
   "source": [
    "confusion_matrix((ztrue_tss < 2).astype(np.int), (zpred_tss < 2).astype(np.int))"
   ]
  },
  {
   "cell_type": "code",
   "execution_count": 348,
   "metadata": {
    "collapsed": false
   },
   "outputs": [
    {
     "data": {
      "text/html": [
       "<div>\n",
       "<table border=\"1\" class=\"dataframe\">\n",
       "  <thead>\n",
       "    <tr style=\"text-align: right;\">\n",
       "      <th>col_0</th>\n",
       "      <th>1</th>\n",
       "      <th>2</th>\n",
       "      <th>3</th>\n",
       "      <th>4</th>\n",
       "      <th>5</th>\n",
       "      <th>6</th>\n",
       "      <th>7</th>\n",
       "      <th>8</th>\n",
       "    </tr>\n",
       "    <tr>\n",
       "      <th>row_0</th>\n",
       "      <th></th>\n",
       "      <th></th>\n",
       "      <th></th>\n",
       "      <th></th>\n",
       "      <th></th>\n",
       "      <th></th>\n",
       "      <th></th>\n",
       "      <th></th>\n",
       "    </tr>\n",
       "  </thead>\n",
       "  <tbody>\n",
       "    <tr>\n",
       "      <th>0</th>\n",
       "      <td>0.6</td>\n",
       "      <td>0.64</td>\n",
       "      <td>0.41</td>\n",
       "      <td>0.61</td>\n",
       "      <td>0.5</td>\n",
       "      <td>0.52</td>\n",
       "      <td>0.48</td>\n",
       "      <td>0.53</td>\n",
       "    </tr>\n",
       "    <tr>\n",
       "      <th>1</th>\n",
       "      <td>0.4</td>\n",
       "      <td>0.36</td>\n",
       "      <td>0.59</td>\n",
       "      <td>0.39</td>\n",
       "      <td>0.5</td>\n",
       "      <td>0.48</td>\n",
       "      <td>0.52</td>\n",
       "      <td>0.47</td>\n",
       "    </tr>\n",
       "  </tbody>\n",
       "</table>\n",
       "</div>"
      ],
      "text/plain": [
       "col_0    1     2     3     4    5     6     7     8\n",
       "row_0                                              \n",
       "0      0.6  0.64  0.41  0.61  0.5  0.52  0.48  0.53\n",
       "1      0.4  0.36  0.59  0.39  0.5  0.48  0.52  0.47"
      ]
     },
     "execution_count": 348,
     "metadata": {},
     "output_type": "execute_result"
    }
   ],
   "source": [
    "pd.crosstab(high_skin, zpred + 1).apply(normalize, axis=0)"
   ]
  },
  {
   "cell_type": "code",
   "execution_count": 330,
   "metadata": {
    "collapsed": false
   },
   "outputs": [],
   "source": [
    "P_pdlco = np.zeros((patient_data.shape[0], 6))\n",
    "Q_pdlco = np.zeros_like(P_pdlco)\n",
    "\n",
    "for k in folds:\n",
    "    models = [load_model(n, k) for n in model_names]\n",
    "    test = patient_data['fold'].values == k\n",
    "    \n",
    "    P_pdlco[test, :] = get_posteriors(models[2], patient_data['pdlco'][test])\n",
    "    Q_pdlco[test, :] = get_posteriors(models[2], patient_data['pdlco'][test], censor)\n",
    "    \n",
    "ztrue_pdlco = np.argmax(P_pdlco, axis=1)\n",
    "zpred_pdlco = np.argmax(Q_pdlco, axis=1)\n",
    "\n",
    "def classify_pdlco(z):\n",
    "    mapping = [(0, 0), (1, 0), (4, 0), (2, 1), (3, 1), (5, 2)]\n",
    "    y = np.zeros_like(z)\n",
    "    for m in mapping:\n",
    "        i = z == m[0]\n",
    "        y[i] = m[1]\n",
    "    return y\n",
    "\n",
    "pdlco_level = classify_pdlco(zpred_pdlco)"
   ]
  },
  {
   "cell_type": "code",
   "execution_count": 331,
   "metadata": {
    "collapsed": false
   },
   "outputs": [
    {
     "data": {
      "text/plain": [
       "array([[60, 35,  3,  1,  6,  0],\n",
       "       [28, 92,  4,  0, 14,  0],\n",
       "       [ 0, 14, 70, 13, 24,  3],\n",
       "       [ 0, 11, 29, 54, 19,  6],\n",
       "       [ 3, 21, 14, 16, 54,  1],\n",
       "       [ 0,  3,  3,  5,  1, 65]])"
      ]
     },
     "execution_count": 331,
     "metadata": {},
     "output_type": "execute_result"
    }
   ],
   "source": [
    "confusion_matrix(ztrue_pdlco, zpred_pdlco)"
   ]
  },
  {
   "cell_type": "code",
   "execution_count": 332,
   "metadata": {
    "collapsed": false
   },
   "outputs": [
    {
     "data": {
      "text/plain": [
       "array([[313,  38,   1],\n",
       "       [ 68, 166,   9],\n",
       "       [  4,   8,  65]])"
      ]
     },
     "execution_count": 332,
     "metadata": {},
     "output_type": "execute_result"
    }
   ],
   "source": [
    "confusion_matrix(classify_pdlco(ztrue_pdlco), classify_pdlco(zpred_pdlco))"
   ]
  },
  {
   "cell_type": "code",
   "execution_count": 338,
   "metadata": {
    "collapsed": false
   },
   "outputs": [
    {
     "data": {
      "text/html": [
       "<div>\n",
       "<table border=\"1\" class=\"dataframe\">\n",
       "  <thead>\n",
       "    <tr style=\"text-align: right;\">\n",
       "      <th>col_0</th>\n",
       "      <th>1</th>\n",
       "      <th>2</th>\n",
       "      <th>3</th>\n",
       "      <th>4</th>\n",
       "      <th>5</th>\n",
       "      <th>6</th>\n",
       "      <th>7</th>\n",
       "      <th>8</th>\n",
       "    </tr>\n",
       "    <tr>\n",
       "      <th>row_0</th>\n",
       "      <th></th>\n",
       "      <th></th>\n",
       "      <th></th>\n",
       "      <th></th>\n",
       "      <th></th>\n",
       "      <th></th>\n",
       "      <th></th>\n",
       "      <th></th>\n",
       "    </tr>\n",
       "  </thead>\n",
       "  <tbody>\n",
       "    <tr>\n",
       "      <th>0</th>\n",
       "      <td>0.93</td>\n",
       "      <td>0.75</td>\n",
       "      <td>0.76</td>\n",
       "      <td>0.57</td>\n",
       "      <td>0.37</td>\n",
       "      <td>0.23</td>\n",
       "      <td>0.60</td>\n",
       "      <td>0.09</td>\n",
       "    </tr>\n",
       "    <tr>\n",
       "      <th>1</th>\n",
       "      <td>0.05</td>\n",
       "      <td>0.23</td>\n",
       "      <td>0.20</td>\n",
       "      <td>0.38</td>\n",
       "      <td>0.50</td>\n",
       "      <td>0.55</td>\n",
       "      <td>0.23</td>\n",
       "      <td>0.43</td>\n",
       "    </tr>\n",
       "    <tr>\n",
       "      <th>2</th>\n",
       "      <td>0.02</td>\n",
       "      <td>0.01</td>\n",
       "      <td>0.04</td>\n",
       "      <td>0.06</td>\n",
       "      <td>0.14</td>\n",
       "      <td>0.22</td>\n",
       "      <td>0.16</td>\n",
       "      <td>0.49</td>\n",
       "    </tr>\n",
       "  </tbody>\n",
       "</table>\n",
       "</div>"
      ],
      "text/plain": [
       "col_0     1     2     3     4     5     6     7     8\n",
       "row_0                                                \n",
       "0      0.93  0.75  0.76  0.57  0.37  0.23  0.60  0.09\n",
       "1      0.05  0.23  0.20  0.38  0.50  0.55  0.23  0.43\n",
       "2      0.02  0.01  0.04  0.06  0.14  0.22  0.16  0.49"
      ]
     },
     "execution_count": 338,
     "metadata": {},
     "output_type": "execute_result"
    }
   ],
   "source": [
    "pd.crosstab(classify_pdlco(zpred_pdlco), zpred + 1).apply(normalize, axis=0)"
   ]
  },
  {
   "cell_type": "code",
   "execution_count": 341,
   "metadata": {
    "collapsed": false
   },
   "outputs": [],
   "source": [
    "P_pv1 = np.zeros((patient_data.shape[0], 4))\n",
    "Q_pv1 = np.zeros_like(P_pv1)\n",
    "\n",
    "for k in folds:\n",
    "    models = [load_model(n, k) for n in model_names]\n",
    "    test = patient_data['fold'].values == k\n",
    "    \n",
    "    P_pv1[test, :] = get_posteriors(models[3], patient_data['pv1'][test])\n",
    "    Q_pv1[test, :] = get_posteriors(models[3], patient_data['pv1'][test], censor)\n",
    "    \n",
    "ztrue_pv1 = np.argmax(P_pv1, axis=1)\n",
    "zpred_pv1 = np.argmax(Q_pv1, axis=1)\n",
    "\n",
    "def classify_pv1(z):\n",
    "    mapping = [(0, 0), (1, 0), (2, 1), (3, 1)]\n",
    "    y = np.zeros_like(z)\n",
    "    for m in mapping:\n",
    "        i = z == m[0]\n",
    "        y[i] = m[1]\n",
    "    return y\n",
    "\n",
    "pv1_level = classify_pv1(zpred_pv1)"
   ]
  },
  {
   "cell_type": "code",
   "execution_count": 342,
   "metadata": {
    "collapsed": false
   },
   "outputs": [
    {
     "data": {
      "text/plain": [
       "array([[125,  35,   2,   1],\n",
       "       [ 48,  58,  17,  11],\n",
       "       [  9,  17, 111,  31],\n",
       "       [ 17,  29,  41, 120]])"
      ]
     },
     "execution_count": 342,
     "metadata": {},
     "output_type": "execute_result"
    }
   ],
   "source": [
    "confusion_matrix(ztrue_pv1, zpred_pv1)"
   ]
  },
  {
   "cell_type": "code",
   "execution_count": 343,
   "metadata": {
    "collapsed": false
   },
   "outputs": [
    {
     "data": {
      "text/plain": [
       "array([[266,  31],\n",
       "       [ 72, 303]])"
      ]
     },
     "execution_count": 343,
     "metadata": {},
     "output_type": "execute_result"
    }
   ],
   "source": [
    "confusion_matrix(classify_pv1(ztrue_pv1), classify_pv1(zpred_pv1))"
   ]
  },
  {
   "cell_type": "code",
   "execution_count": 344,
   "metadata": {
    "collapsed": false
   },
   "outputs": [
    {
     "data": {
      "text/html": [
       "<div>\n",
       "<table border=\"1\" class=\"dataframe\">\n",
       "  <thead>\n",
       "    <tr style=\"text-align: right;\">\n",
       "      <th>col_0</th>\n",
       "      <th>1</th>\n",
       "      <th>2</th>\n",
       "      <th>3</th>\n",
       "      <th>4</th>\n",
       "      <th>5</th>\n",
       "      <th>6</th>\n",
       "      <th>7</th>\n",
       "      <th>8</th>\n",
       "    </tr>\n",
       "    <tr>\n",
       "      <th>row_0</th>\n",
       "      <th></th>\n",
       "      <th></th>\n",
       "      <th></th>\n",
       "      <th></th>\n",
       "      <th></th>\n",
       "      <th></th>\n",
       "      <th></th>\n",
       "      <th></th>\n",
       "    </tr>\n",
       "  </thead>\n",
       "  <tbody>\n",
       "    <tr>\n",
       "      <th>0</th>\n",
       "      <td>0.93</td>\n",
       "      <td>0.72</td>\n",
       "      <td>0.64</td>\n",
       "      <td>0.57</td>\n",
       "      <td>0.33</td>\n",
       "      <td>0.2</td>\n",
       "      <td>0.37</td>\n",
       "      <td>0.02</td>\n",
       "    </tr>\n",
       "    <tr>\n",
       "      <th>1</th>\n",
       "      <td>0.07</td>\n",
       "      <td>0.28</td>\n",
       "      <td>0.36</td>\n",
       "      <td>0.43</td>\n",
       "      <td>0.67</td>\n",
       "      <td>0.8</td>\n",
       "      <td>0.63</td>\n",
       "      <td>0.98</td>\n",
       "    </tr>\n",
       "  </tbody>\n",
       "</table>\n",
       "</div>"
      ],
      "text/plain": [
       "col_0     1     2     3     4     5    6     7     8\n",
       "row_0                                               \n",
       "0      0.93  0.72  0.64  0.57  0.33  0.2  0.37  0.02\n",
       "1      0.07  0.28  0.36  0.43  0.67  0.8  0.63  0.98"
      ]
     },
     "execution_count": 344,
     "metadata": {},
     "output_type": "execute_result"
    }
   ],
   "source": [
    "pd.crosstab(classify_pv1(zpred_pv1), zpred + 1).apply(normalize, axis=0)"
   ]
  },
  {
   "cell_type": "markdown",
   "metadata": {},
   "source": [
    "For those that are wrong, how are they wrong?\n",
    "\n",
    "1. Is the second most likely subtype the correct one?\n",
    "2. What's the difference in posterior probability?\n",
    "3. Are there other subtypes that are also consistently highly ranked?\n",
    "\n",
    "Often, the second most likely subtype is the correct one.\n",
    "\n",
    "1. Would it be reasonable to discriminatively train each subtype against the one it's most frequently confused with?"
   ]
  },
  {
   "cell_type": "code",
   "execution_count": null,
   "metadata": {
    "collapsed": true
   },
   "outputs": [],
   "source": [
    "def get_misclassified_pair(key):\n",
    "    zt, *_, zp = key\n",
    "    zt = int(zt) - 1\n",
    "    zp = int(zp) - 1\n",
    "    return zt, zp"
   ]
  },
  {
   "cell_type": "code",
   "execution_count": 310,
   "metadata": {
    "collapsed": false
   },
   "outputs": [
    {
     "name": "stdout",
     "output_type": "stream",
     "text": [
      "6 -> 5\n"
     ]
    },
    {
     "data": {
      "text/plain": [
       "array([[4, 6, 5],\n",
       "       [6, 7, 5],\n",
       "       [7, 6, 5],\n",
       "       [7, 6, 5],\n",
       "       [4, 6, 5],\n",
       "       [7, 6, 5],\n",
       "       [6, 7, 5],\n",
       "       [4, 7, 5],\n",
       "       [7, 6, 5],\n",
       "       [7, 6, 5],\n",
       "       [7, 6, 5],\n",
       "       [7, 6, 5],\n",
       "       [7, 6, 5],\n",
       "       [7, 6, 5],\n",
       "       [8, 6, 5],\n",
       "       [7, 6, 5],\n",
       "       [8, 6, 5],\n",
       "       [8, 6, 5],\n",
       "       [7, 6, 5],\n",
       "       [7, 6, 5],\n",
       "       [7, 6, 5],\n",
       "       [7, 6, 5],\n",
       "       [7, 6, 5]])"
      ]
     },
     "execution_count": 310,
     "metadata": {},
     "output_type": "execute_result"
    }
   ],
   "source": [
    "rank = 2\n",
    "zt, zp = get_misclassified_pair(counts.most_common(10)[rank - 1][0])\n",
    "print('{} -> {}'.format(zt + 1, zp + 1))\n",
    "correct = (ztrue == zt) & (zpred == zt)\n",
    "wrong = (ztrue == zt) & (zpred == zp)\n",
    "np.argsort(Q[wrong, ])[:, -3:] + 1\n",
    "#np.round(Q[select, :], 2)"
   ]
  },
  {
   "cell_type": "code",
   "execution_count": 311,
   "metadata": {
    "collapsed": false
   },
   "outputs": [
    {
     "data": {
      "image/png": "[encoded data removed]",
      "text/plain": [
       "<matplotlib.figure.Figure at 0x11963d4e0>"
      ]
     },
     "metadata": {},
     "output_type": "display_data"
    }
   ],
   "source": [
    "p_odds_correct = np.round(Qp[correct, zp] - Qp[correct, zt], 2)[:, np.newaxis]\n",
    "p_odds_wrong   = np.round(Qp[wrong, zp] - Qp[wrong, zt], 2)[:, np.newaxis]\n",
    "l_odds_correct = np.round(Ql[correct, zp] - Ql[correct, zt], 2)[:, np.newaxis]\n",
    "l_odds_wrong   = np.round(Ql[wrong, zp] - Ql[wrong, zt], 2)[:, np.newaxis]\n",
    "\n",
    "fig, ax = plt.subplots(2, 2, sharex=True, figsize=(12, 8))\n",
    "\n",
    "_ = ax[0, 0].set_title('Prior Odds for Correct')\n",
    "_ = sns.distplot(p_odds_correct, ax=ax[0, 0])\n",
    "\n",
    "_ = ax[1, 0].set_title('Prior Odds for Wrong')\n",
    "_ = sns.distplot(p_odds_wrong  , ax=ax[1, 0])\n",
    "\n",
    "_ = ax[0, 1].set_title('Likelihood Odds for Correct')\n",
    "_ = sns.distplot(l_odds_correct, ax=ax[0, 1])\n",
    "\n",
    "_ = ax[1, 1].set_title('Likelihood Odds for Wrong')\n",
    "_ = sns.distplot(l_odds_wrong  , ax=ax[1, 1])"
   ]
  },
  {
   "cell_type": "code",
   "execution_count": 313,
   "metadata": {
    "collapsed": false
   },
   "outputs": [
    {
     "data": {
      "image/png": "[encoded data removed]",
      "text/plain": [
       "<matplotlib.figure.Figure at 0x11b380fd0>"
      ]
     },
     "metadata": {},
     "output_type": "display_data"
    }
   ],
   "source": [
    "z1 = zt\n",
    "z2 = zp\n",
    "\n",
    "Qp1 = Qp[ztrue == z1, z1] - Qp[ztrue == z1, z2]\n",
    "Ql1 = Ql[ztrue == z1, z1] - Ql[ztrue == z1, z2]\n",
    "\n",
    "Qp2 = Qp[ztrue == z2, z1] - Qp[ztrue == z2, z2]\n",
    "Ql2 = Ql[ztrue == z2, z1] - Ql[ztrue == z2, z2]\n",
    "\n",
    "fig, ax = plt.subplots(1, figsize=(16, 12))\n",
    "_ = ax.scatter(Qp1, Ql1, c=sns.color_palette()[0], label='Class 1')\n",
    "_ = ax.scatter(Qp2, Ql2, c=sns.color_palette()[2], label='Class 2')\n",
    "_ = ax.plot((-2, 2), (6, -6))\n",
    "_ = ax.legend()"
   ]
  },
  {
   "cell_type": "code",
   "execution_count": 299,
   "metadata": {
    "collapsed": false
   },
   "outputs": [],
   "source": [
    "X1 = np.c_[Qp1, Ql1]\n",
    "X2 = np.c_[Qp2, Ql2]\n",
    "X  = np.r_[X1, X2]\n",
    "y  = np.r_[np.ones((ztrue == z1).sum()), np.zeros((ztrue == z2).sum())]"
   ]
  },
  {
   "cell_type": "code",
   "execution_count": 303,
   "metadata": {
    "collapsed": false
   },
   "outputs": [
    {
     "data": {
      "text/plain": [
       "0.79282868525896411"
      ]
     },
     "execution_count": 303,
     "metadata": {},
     "output_type": "execute_result"
    }
   ],
   "source": [
    "((X.sum(axis=1) > 0) == y).mean()"
   ]
  },
  {
   "cell_type": "code",
   "execution_count": 307,
   "metadata": {
    "collapsed": false
   },
   "outputs": [
    {
     "data": {
      "text/plain": [
       "0.70119521912350602"
      ]
     },
     "execution_count": 307,
     "metadata": {},
     "output_type": "execute_result"
    }
   ],
   "source": [
    "((X[:, 0] > 0) == y).mean()"
   ]
  },
  {
   "cell_type": "code",
   "execution_count": 283,
   "metadata": {
    "collapsed": false
   },
   "outputs": [
    {
     "data": {
      "text/plain": [
       "[(0.2980392156862745, 0.4470588235294118, 0.6901960784313725),\n",
       " (0.3333333333333333, 0.6588235294117647, 0.40784313725490196),\n",
       " (0.7686274509803922, 0.3058823529411765, 0.3215686274509804),\n",
       " (0.5058823529411764, 0.4470588235294118, 0.6980392156862745),\n",
       " (0.8, 0.7254901960784313, 0.4549019607843137),\n",
       " (0.39215686274509803, 0.7098039215686275, 0.803921568627451)]"
      ]
     },
     "execution_count": 283,
     "metadata": {},
     "output_type": "execute_result"
    }
   ],
   "source": [
    "sns.color_palette()"
   ]
  },
  {
   "cell_type": "code",
   "execution_count": 275,
   "metadata": {
    "collapsed": false
   },
   "outputs": [
    {
     "name": "stdout",
     "output_type": "stream",
     "text": [
      "6 -> 5\n"
     ]
    },
    {
     "data": {
      "text/plain": [
       "array([[4, 6, 5],\n",
       "       [6, 7, 5],\n",
       "       [7, 6, 5],\n",
       "       [7, 6, 5],\n",
       "       [4, 6, 5],\n",
       "       [7, 6, 5],\n",
       "       [6, 7, 5],\n",
       "       [4, 7, 5],\n",
       "       [7, 6, 5],\n",
       "       [7, 6, 5],\n",
       "       [7, 6, 5],\n",
       "       [7, 6, 5],\n",
       "       [7, 6, 5],\n",
       "       [7, 6, 5],\n",
       "       [8, 6, 5],\n",
       "       [7, 6, 5],\n",
       "       [8, 6, 5],\n",
       "       [8, 6, 5],\n",
       "       [7, 6, 5],\n",
       "       [7, 6, 5],\n",
       "       [7, 6, 5],\n",
       "       [7, 6, 5],\n",
       "       [7, 6, 5]])"
      ]
     },
     "execution_count": 275,
     "metadata": {},
     "output_type": "execute_result"
    }
   ],
   "source": [
    "rank = 2\n",
    "zt, zp = get_misclassified_pair(counts.most_common(10)[rank - 1][0])\n",
    "print('{} -> {}'.format(zt + 1, zp + 1))\n",
    "correct = (ztrue == zt) & (zpred == zt)\n",
    "wrong = (ztrue == zt) & (zpred == zp)\n",
    "np.argsort(Q[wrong, ])[:, -3:] + 1\n",
    "#np.round(Q[select, :], 2)"
   ]
  },
  {
   "cell_type": "code",
   "execution_count": 276,
   "metadata": {
    "collapsed": false
   },
   "outputs": [
    {
     "data": {
      "image/png": "[encoded data removed]",
      "text/plain": [
       "<matplotlib.figure.Figure at 0x1184d1e80>"
      ]
     },
     "metadata": {},
     "output_type": "display_data"
    }
   ],
   "source": [
    "p_odds_correct = np.round(Qp[correct, zp] - Qp[correct, zt], 2)[:, np.newaxis]\n",
    "p_odds_wrong   = np.round(Qp[wrong, zp] - Qp[wrong, zt], 2)[:, np.newaxis]\n",
    "l_odds_correct = np.round(Ql[correct, zp] - Ql[correct, zt], 2)[:, np.newaxis]\n",
    "l_odds_wrong   = np.round(Ql[wrong, zp] - Ql[wrong, zt], 2)[:, np.newaxis]\n",
    "\n",
    "fig, ax = plt.subplots(2, 2, sharex=True, figsize=(12, 8))\n",
    "\n",
    "_ = ax[0, 0].set_title('Prior Odds for Correct')\n",
    "_ = sns.distplot(p_odds_correct, ax=ax[0, 0])\n",
    "\n",
    "_ = ax[1, 0].set_title('Prior Odds for Wrong')\n",
    "_ = sns.distplot(p_odds_wrong  , ax=ax[1, 0])\n",
    "\n",
    "_ = ax[0, 1].set_title('Likelihood Odds for Correct')\n",
    "_ = sns.distplot(l_odds_correct, ax=ax[0, 1])\n",
    "\n",
    "_ = ax[1, 1].set_title('Likelihood Odds for Wrong')\n",
    "_ = sns.distplot(l_odds_wrong  , ax=ax[1, 1])"
   ]
  },
  {
   "cell_type": "code",
   "execution_count": 278,
   "metadata": {
    "collapsed": false
   },
   "outputs": [
    {
     "name": "stdout",
     "output_type": "stream",
     "text": [
      "4 -> 3\n"
     ]
    },
    {
     "data": {
      "text/plain": [
       "array([[2, 4, 3],\n",
       "       [4, 2, 3],\n",
       "       [4, 2, 3],\n",
       "       [5, 2, 3],\n",
       "       [2, 4, 3],\n",
       "       [7, 4, 3],\n",
       "       [2, 4, 3],\n",
       "       [4, 2, 3],\n",
       "       [4, 2, 3],\n",
       "       [4, 2, 3],\n",
       "       [2, 4, 3],\n",
       "       [7, 4, 3],\n",
       "       [7, 2, 3],\n",
       "       [4, 2, 3],\n",
       "       [7, 4, 3],\n",
       "       [4, 2, 3],\n",
       "       [4, 2, 3],\n",
       "       [4, 2, 3]])"
      ]
     },
     "execution_count": 278,
     "metadata": {},
     "output_type": "execute_result"
    }
   ],
   "source": [
    "rank = 3\n",
    "zt, zp = get_misclassified_pair(counts.most_common(10)[rank - 1][0])\n",
    "print('{} -> {}'.format(zt + 1, zp + 1))\n",
    "correct = (ztrue == zt) & (zpred == zt)\n",
    "wrong = (ztrue == zt) & (zpred == zp)\n",
    "np.argsort(Q[wrong, ])[:, -3:] + 1\n",
    "#np.round(Q[select, :], 2)"
   ]
  },
  {
   "cell_type": "code",
   "execution_count": 279,
   "metadata": {
    "collapsed": false
   },
   "outputs": [
    {
     "data": {
      "image/png": "[encoded data removed]",
      "text/plain": [
       "<matplotlib.figure.Figure at 0x119301fd0>"
      ]
     },
     "metadata": {},
     "output_type": "display_data"
    }
   ],
   "source": [
    "p_odds_correct = np.round(Qp[correct, zp] - Qp[correct, zt], 2)[:, np.newaxis]\n",
    "p_odds_wrong   = np.round(Qp[wrong, zp] - Qp[wrong, zt], 2)[:, np.newaxis]\n",
    "l_odds_correct = np.round(Ql[correct, zp] - Ql[correct, zt], 2)[:, np.newaxis]\n",
    "l_odds_wrong   = np.round(Ql[wrong, zp] - Ql[wrong, zt], 2)[:, np.newaxis]\n",
    "\n",
    "fig, ax = plt.subplots(2, 2, sharex=True, figsize=(12, 8))\n",
    "\n",
    "_ = ax[0, 0].set_title('Prior Odds for Correct')\n",
    "_ = sns.distplot(p_odds_correct, ax=ax[0, 0])\n",
    "\n",
    "_ = ax[1, 0].set_title('Prior Odds for Wrong')\n",
    "_ = sns.distplot(p_odds_wrong  , ax=ax[1, 0])\n",
    "\n",
    "_ = ax[0, 1].set_title('Likelihood Odds for Correct')\n",
    "_ = sns.distplot(l_odds_correct, ax=ax[0, 1])\n",
    "\n",
    "_ = ax[1, 1].set_title('Likelihood Odds for Wrong')\n",
    "_ = sns.distplot(l_odds_wrong  , ax=ax[1, 1])"
   ]
  },
  {
   "cell_type": "code",
   "execution_count": 280,
   "metadata": {
    "collapsed": false
   },
   "outputs": [
    {
     "name": "stdout",
     "output_type": "stream",
     "text": [
      "4 -> 2\n"
     ]
    },
    {
     "data": {
      "text/plain": [
       "array([[3, 4, 2],\n",
       "       [7, 4, 2],\n",
       "       [3, 4, 2],\n",
       "       [4, 1, 2],\n",
       "       [4, 3, 2],\n",
       "       [3, 4, 2],\n",
       "       [3, 4, 2],\n",
       "       [4, 1, 2],\n",
       "       [4, 1, 2],\n",
       "       [7, 4, 2],\n",
       "       [3, 4, 2],\n",
       "       [4, 3, 2],\n",
       "       [5, 4, 2],\n",
       "       [7, 4, 2],\n",
       "       [7, 1, 2],\n",
       "       [3, 4, 2],\n",
       "       [3, 4, 2],\n",
       "       [4, 3, 2]])"
      ]
     },
     "execution_count": 280,
     "metadata": {},
     "output_type": "execute_result"
    }
   ],
   "source": [
    "rank = 4\n",
    "zt, zp = get_misclassified_pair(counts.most_common(10)[rank - 1][0])\n",
    "print('{} -> {}'.format(zt + 1, zp + 1))\n",
    "correct = (ztrue == zt) & (zpred == zt)\n",
    "wrong = (ztrue == zt) & (zpred == zp)\n",
    "np.argsort(Q[wrong, ])[:, -3:] + 1\n",
    "#np.round(Q[select, :], 2)"
   ]
  },
  {
   "cell_type": "code",
   "execution_count": 281,
   "metadata": {
    "collapsed": false
   },
   "outputs": [
    {
     "data": {
      "image/png": "[encoded data removed]",
      "text/plain": [
       "<matplotlib.figure.Figure at 0x119694438>"
      ]
     },
     "metadata": {},
     "output_type": "display_data"
    }
   ],
   "source": [
    "p_odds_correct = np.round(Qp[correct, zp] - Qp[correct, zt], 2)[:, np.newaxis]\n",
    "p_odds_wrong   = np.round(Qp[wrong, zp] - Qp[wrong, zt], 2)[:, np.newaxis]\n",
    "l_odds_correct = np.round(Ql[correct, zp] - Ql[correct, zt], 2)[:, np.newaxis]\n",
    "l_odds_wrong   = np.round(Ql[wrong, zp] - Ql[wrong, zt], 2)[:, np.newaxis]\n",
    "\n",
    "fig, ax = plt.subplots(2, 2, sharex=True, figsize=(12, 8))\n",
    "\n",
    "_ = ax[0, 0].set_title('Prior Odds for Correct')\n",
    "_ = sns.distplot(p_odds_correct, ax=ax[0, 0])\n",
    "\n",
    "_ = ax[1, 0].set_title('Prior Odds for Wrong')\n",
    "_ = sns.distplot(p_odds_wrong  , ax=ax[1, 0])\n",
    "\n",
    "_ = ax[0, 1].set_title('Likelihood Odds for Correct')\n",
    "_ = sns.distplot(l_odds_correct, ax=ax[0, 1])\n",
    "\n",
    "_ = ax[1, 1].set_title('Likelihood Odds for Wrong')\n",
    "_ = sns.distplot(l_odds_wrong  , ax=ax[1, 1])"
   ]
  },
  {
   "cell_type": "code",
   "execution_count": 215,
   "metadata": {
    "collapsed": false
   },
   "outputs": [
    {
     "data": {
      "text/plain": [
       "array([ 0.23,  0.29,  0.29,  0.22,  0.23,  0.21,  0.23,  0.14,  0.12,\n",
       "        0.3 ,  0.33,  0.32,  0.32])"
      ]
     },
     "execution_count": 215,
     "metadata": {},
     "output_type": "execute_result"
    }
   ],
   "source": [
    "np.round(Q[select, zp] - Q[select, zt], 2)"
   ]
  },
  {
   "cell_type": "code",
   "execution_count": 216,
   "metadata": {
    "collapsed": false
   },
   "outputs": [
    {
     "name": "stdout",
     "output_type": "stream",
     "text": [
      "4 -> 7\n"
     ]
    },
    {
     "data": {
      "text/plain": [
       "array([[4, 3, 7],\n",
       "       [5, 4, 7],\n",
       "       [4, 3, 7],\n",
       "       [5, 4, 7],\n",
       "       [5, 4, 7],\n",
       "       [6, 4, 7],\n",
       "       [5, 4, 7],\n",
       "       [5, 4, 7],\n",
       "       [5, 4, 7],\n",
       "       [4, 3, 7],\n",
       "       [5, 6, 7],\n",
       "       [3, 4, 7],\n",
       "       [4, 6, 7]])"
      ]
     },
     "execution_count": 216,
     "metadata": {},
     "output_type": "execute_result"
    }
   ],
   "source": [
    "rank = 5\n",
    "zt, zp = get_misclassified_pair(counts.most_common(10)[rank - 1][0])\n",
    "print('{} -> {}'.format(zt + 1, zp + 1))\n",
    "select = (ztrue == zt) & (zpred == zp)\n",
    "np.argsort(Q[select, ])[:, -3:] + 1\n",
    "#np.round(Q[select, :], 2)"
   ]
  },
  {
   "cell_type": "code",
   "execution_count": 217,
   "metadata": {
    "collapsed": false
   },
   "outputs": [
    {
     "data": {
      "text/plain": [
       "array([ 0.54,  0.02,  0.14,  0.29,  0.02,  0.08,  0.02,  0.29,  0.02,\n",
       "        0.32,  0.24,  0.07,  0.36])"
      ]
     },
     "execution_count": 217,
     "metadata": {},
     "output_type": "execute_result"
    }
   ],
   "source": [
    "np.round(Q[select, zp] - Q[select, zt], 2)"
   ]
  },
  {
   "cell_type": "code",
   "execution_count": 218,
   "metadata": {
    "collapsed": false
   },
   "outputs": [
    {
     "name": "stdout",
     "output_type": "stream",
     "text": [
      "7 -> 5\n"
     ]
    },
    {
     "data": {
      "text/plain": [
       "array([[4, 7, 5],\n",
       "       [3, 4, 5],\n",
       "       [7, 4, 5],\n",
       "       [6, 7, 5],\n",
       "       [7, 6, 5],\n",
       "       [6, 7, 5],\n",
       "       [6, 7, 5],\n",
       "       [7, 6, 5],\n",
       "       [7, 6, 5],\n",
       "       [7, 6, 5],\n",
       "       [8, 7, 5]])"
      ]
     },
     "execution_count": 218,
     "metadata": {},
     "output_type": "execute_result"
    }
   ],
   "source": [
    "rank = 6\n",
    "zt, zp = get_misclassified_pair(counts.most_common(10)[rank - 1][0])\n",
    "print('{} -> {}'.format(zt + 1, zp + 1))\n",
    "select = (ztrue == zt) & (zpred == zp)\n",
    "np.argsort(Q[select, ])[:, -3:] + 1\n",
    "#np.round(Q[select, :], 2)"
   ]
  },
  {
   "cell_type": "code",
   "execution_count": 219,
   "metadata": {
    "collapsed": false
   },
   "outputs": [
    {
     "data": {
      "text/plain": [
       "array([ 0.28,  0.44,  0.19,  0.24,  0.39,  0.54,  0.33,  0.2 ,  0.25,\n",
       "        0.2 ,  0.22])"
      ]
     },
     "execution_count": 219,
     "metadata": {},
     "output_type": "execute_result"
    }
   ],
   "source": [
    "np.round(Q[select, zp] - Q[select, zt], 2)"
   ]
  },
  {
   "cell_type": "code",
   "execution_count": 220,
   "metadata": {
    "collapsed": false
   },
   "outputs": [
    {
     "name": "stdout",
     "output_type": "stream",
     "text": [
      "4 -> 2\n"
     ]
    },
    {
     "data": {
      "text/plain": [
       "array([[3, 4, 2],\n",
       "       [3, 4, 2],\n",
       "       [4, 3, 2],\n",
       "       [3, 4, 2],\n",
       "       [1, 4, 2],\n",
       "       [7, 4, 2],\n",
       "       [4, 3, 2],\n",
       "       [3, 4, 2],\n",
       "       [3, 4, 2],\n",
       "       [7, 4, 2],\n",
       "       [3, 4, 2]])"
      ]
     },
     "execution_count": 220,
     "metadata": {},
     "output_type": "execute_result"
    }
   ],
   "source": [
    "rank = 7\n",
    "zt, zp = get_misclassified_pair(counts.most_common(10)[rank - 1][0])\n",
    "print('{} -> {}'.format(zt + 1, zp + 1))\n",
    "select = (ztrue == zt) & (zpred == zp)\n",
    "np.argsort(Q[select, ])[:, -3:] + 1\n",
    "#np.round(Q[select, :], 2)"
   ]
  },
  {
   "cell_type": "code",
   "execution_count": 221,
   "metadata": {
    "collapsed": false
   },
   "outputs": [
    {
     "data": {
      "text/plain": [
       "array([ 0.39,  0.51,  0.7 ,  0.22,  0.19,  0.12,  0.51,  0.29,  0.09,\n",
       "        0.19,  0.24])"
      ]
     },
     "execution_count": 221,
     "metadata": {},
     "output_type": "execute_result"
    }
   ],
   "source": [
    "np.round(Q[select, zp] - Q[select, zt], 2)"
   ]
  },
  {
   "cell_type": "code",
   "execution_count": null,
   "metadata": {
    "collapsed": true
   },
   "outputs": [],
   "source": []
  },
  {
   "cell_type": "code",
   "execution_count": 121,
   "metadata": {
    "collapsed": false
   },
   "outputs": [],
   "source": [
    "aux_num = 0\n",
    "N  = P.shape[0]\n",
    "XX = [Qi[:, 1:] for Qi in QQaux]\n",
    "dev_folds = KFold(N, 4, shuffle=True, random_state=0)\n",
    "all_clf = []\n",
    "for i, (dtrain, dtest) in enumerate(dev_folds):\n",
    "    y = np.argmax(P[dtrain], axis=1)\n",
    "    X = XX[aux_num][dtrain]\n",
    "    cv = KFold(y.size, 10, shuffle=True, random_state=0)\n",
    "    clf = linear_model.LogisticRegressionCV(Cs=30, cv=cv, penalty='l2', solver='lbfgs', multi_class='multinomial')\n",
    "    clf.fit(X, y)\n",
    "    all_clf.append(clf)\n",
    "    Qhat[aux_num][dtest, :] = clf.predict_proba(XX[aux_num][dtest])"
   ]
  },
  {
   "cell_type": "code",
   "execution_count": 122,
   "metadata": {
    "collapsed": false
   },
   "outputs": [
    {
     "data": {
      "text/plain": [
       "array([[  0,  36,   0,   1,   0,   0,   6,   0],\n",
       "       [  0, 112,   3,   4,   0,   6,   1,   1],\n",
       "       [  0,  71,   0,   3,   0,   3,   7,   0],\n",
       "       [  0,  51,   1,   2,   0,   8,  10,   0],\n",
       "       [  0,  46,   3,   2,   0,  12,   6,   0],\n",
       "       [  0,  39,   1,   5,   0,  19,   4,   0],\n",
       "       [  0,  54,   3,   5,   0,   6,   8,   2],\n",
       "       [  0,  23,   0,   1,   0,  17,   9,   0]])"
      ]
     },
     "execution_count": 122,
     "metadata": {},
     "output_type": "execute_result"
    }
   ],
   "source": [
    "from sklearn.metrics import confusion_matrix\n",
    "ztrue = np.argmax(P, axis=1)\n",
    "zpred = np.argmax(Qhat[aux_num], axis=1)\n",
    "confusion_matrix(ztrue, zpred)"
   ]
  },
  {
   "cell_type": "code",
   "execution_count": 123,
   "metadata": {
    "collapsed": false
   },
   "outputs": [],
   "source": [
    "aux_num = 1\n",
    "N  = P.shape[0]\n",
    "XX = [Qi[:, 1:] for Qi in QQaux]\n",
    "dev_folds = KFold(N, 4, shuffle=True, random_state=0)\n",
    "all_clf = []\n",
    "for i, (dtrain, dtest) in enumerate(dev_folds):\n",
    "    y = np.argmax(P[dtrain], axis=1)\n",
    "    X = XX[aux_num][dtrain]\n",
    "    cv = KFold(y.size, 10, shuffle=True, random_state=0)\n",
    "    clf = linear_model.LogisticRegressionCV(Cs=30, cv=cv, penalty='l2', solver='lbfgs', multi_class='multinomial')\n",
    "    clf.fit(X, y)\n",
    "    all_clf.append(clf)\n",
    "    Qhat[aux_num][dtest, :] = clf.predict_proba(XX[aux_num][dtest])"
   ]
  },
  {
   "cell_type": "code",
   "execution_count": 124,
   "metadata": {
    "collapsed": false
   },
   "outputs": [
    {
     "data": {
      "text/plain": [
       "array([[  0,  38,   0,   0,   2,   0,   3,   0],\n",
       "       [  0, 103,   1,   0,   8,   6,   8,   1],\n",
       "       [  0,  51,   0,   0,   8,   8,  15,   2],\n",
       "       [  0,  47,   0,   0,   5,   3,  14,   3],\n",
       "       [  0,  23,   0,   0,  20,   6,  10,  10],\n",
       "       [  0,  23,   0,   0,  13,  11,   9,  12],\n",
       "       [  0,  26,   0,   0,   6,  10,  23,  13],\n",
       "       [  0,   6,   0,   1,   3,   6,  10,  24]])"
      ]
     },
     "execution_count": 124,
     "metadata": {},
     "output_type": "execute_result"
    }
   ],
   "source": [
    "from sklearn.metrics import confusion_matrix\n",
    "ztrue = np.argmax(P, axis=1)\n",
    "zpred = np.argmax(Qhat[aux_num], axis=1)\n",
    "confusion_matrix(ztrue, zpred)"
   ]
  },
  {
   "cell_type": "code",
   "execution_count": 125,
   "metadata": {
    "collapsed": false
   },
   "outputs": [],
   "source": [
    "aux_num = 2\n",
    "N  = P.shape[0]\n",
    "XX = [Qi[:, 1:] for Qi in QQaux]\n",
    "dev_folds = KFold(N, 4, shuffle=True, random_state=0)\n",
    "all_clf = []\n",
    "for i, (dtrain, dtest) in enumerate(dev_folds):\n",
    "    y = np.argmax(P[dtrain], axis=1)\n",
    "    X = XX[aux_num][dtrain]\n",
    "    cv = KFold(y.size, 10, shuffle=True, random_state=0)\n",
    "    clf = linear_model.LogisticRegressionCV(Cs=30, cv=cv, penalty='l2', solver='lbfgs', multi_class='multinomial')\n",
    "    clf.fit(X, y)\n",
    "    all_clf.append(clf)\n",
    "    Qhat[aux_num][dtest, :] = clf.predict_proba(XX[aux_num][dtest])"
   ]
  },
  {
   "cell_type": "code",
   "execution_count": 128,
   "metadata": {
    "collapsed": false
   },
   "outputs": [
    {
     "data": {
      "text/plain": [
       "array([[ 0, 39,  0,  0,  2,  0,  2,  0],\n",
       "       [ 0, 97,  3,  0, 17,  2,  7,  1],\n",
       "       [ 0, 52,  1,  0, 13,  4, 14,  0],\n",
       "       [ 0, 44,  3,  0, 11,  1, 12,  1],\n",
       "       [ 0, 24,  1,  0, 27,  2, 12,  3],\n",
       "       [ 0, 22,  2,  0, 17,  5, 20,  2],\n",
       "       [ 0, 25,  2,  0, 13,  6, 23,  9],\n",
       "       [ 0,  7,  1,  0,  8,  2, 27,  5]])"
      ]
     },
     "execution_count": 128,
     "metadata": {},
     "output_type": "execute_result"
    }
   ],
   "source": [
    "from sklearn.metrics import confusion_matrix\n",
    "ztrue = np.argmax(P, axis=1)\n",
    "zpred = np.argmax(Qhat[aux_num], axis=1)\n",
    "confusion_matrix(ztrue, zpred)"
   ]
  }
 ],
 "metadata": {
  "kernelspec": {
   "display_name": "Python 3",
   "language": "python",
   "name": "python3"
  },
  "language_info": {
   "codemirror_mode": {
    "name": "ipython",
    "version": 3
   },
   "file_extension": ".py",
   "mimetype": "text/x-python",
   "name": "python",
   "nbconvert_exporter": "python",
   "pygments_lexer": "ipython3",
   "version": "3.4.3"
  }
 },
 "nbformat": 4,
 "nbformat_minor": 0
}
