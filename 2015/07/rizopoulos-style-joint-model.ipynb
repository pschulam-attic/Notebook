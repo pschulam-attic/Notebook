{
 "cells": [
  {
   "cell_type": "code",
   "execution_count": 3,
   "metadata": {
    "collapsed": true
   },
   "outputs": [],
   "source": [
    "import pandas as pd\n",
    "import numpy as np\n",
    "\n",
    "from zipfile import ZipFile"
   ]
  },
  {
   "cell_type": "code",
   "execution_count": 4,
   "metadata": {
    "collapsed": true
   },
   "outputs": [],
   "source": [
    "ssc_zip = ZipFile('data/scleroderma.zip')"
   ]
  },
  {
   "cell_type": "code",
   "execution_count": 5,
   "metadata": {
    "collapsed": false
   },
   "outputs": [],
   "source": [
    "def LongitudinalSpec(index, date, outcome):\n",
    "    'The index, timestamp, and outcome column names of a longitudinal dataset.'\n",
    "    return {'index': index, 'date': date, 'outcome': outcome}\n",
    "\n",
    "def AlignmentSpec(index, time, date, baseline):\n",
    "    'The date and baseline column names used to align longitudinal data.'\n",
    "    return {'index': index, 'time': time, 'date': date, 'baseline': baseline}"
   ]
  },
  {
   "cell_type": "code",
   "execution_count": 6,
   "metadata": {
    "collapsed": true
   },
   "outputs": [],
   "source": [
    "def read_dates(file='tPtData.csv', zipfile=ssc_zip):\n",
    "    with zipfile.open(file) as f:\n",
    "        ptdata = pd.read_csv(f)\n",
    "    dates = ptdata.loc[:, ['PtID', 'DateFirstSeen', 'Date1stSymptom']]\n",
    "    dates['DateFirstSeen'] = pd.to_datetime(dates['DateFirstSeen'])\n",
    "    dates['Date1stSymptom'] = pd.to_datetime(dates['Date1stSymptom'])\n",
    "    dates.columns = ['ptid', 'first_seen', 'first_symptom']\n",
    "    return dates\n",
    "\n",
    "def read_longitudinal(stream, names, renames):\n",
    "    tbl = pd.read_csv(stream).loc[:, [names['index'], names['date'], names['outcome']]]\n",
    "    tbl.columns = [renames['index'], renames['date'], renames['outcome']]\n",
    "    tbl[renames['date']] = pd.to_datetime(tbl[renames['date']])\n",
    "    return tbl[~tbl[renames['outcome']].isnull()]\n",
    "\n",
    "def align_longitudinal(dataset, dates, alignment):\n",
    "    aligned_dataset = pd.merge(dataset, dates, 'left', alignment['index'])\n",
    "    date = aligned_dataset[alignment['date']]\n",
    "    base = aligned_dataset[alignment['baseline']]\n",
    "    aligned_dataset[alignment['time']] = (date - base).dt.days / 365.0\n",
    "    return aligned_dataset[[alignment['index'], alignment['time'], dataset.columns[2]]]\n",
    "\n",
    "def variables(file, zipfile=ssc_zip):\n",
    "    with zipfile.open(file) as f:\n",
    "        tbl = pd.read_csv(f, nrows=1)\n",
    "    return list(tbl.columns)\n",
    "\n",
    "def is_variable(name, file, zipfile=ssc_zip):\n",
    "    with zipfile.open(file) as f:\n",
    "        tbl = pd.read_csv(f, nrows=1)\n",
    "    return name in tbl"
   ]
  },
  {
   "cell_type": "code",
   "execution_count": 7,
   "metadata": {
    "collapsed": false
   },
   "outputs": [],
   "source": [
    "def read_from_table(index, date, file, zipfile=ssc_zip, **kwargs):\n",
    "    columns = [(k, v) for k, v in kwargs.items() if is_variable(v, file, zipfile)]\n",
    "    if not len(columns) == 1:\n",
    "        raise RuntimeError('Must specify exactly one outcome column.')\n",
    "    else:\n",
    "        rename, outcome = columns[0]\n",
    "    \n",
    "    names = LongitudinalSpec(index, date, outcome)\n",
    "    renames = LongitudinalSpec('ptid', 'date', rename)\n",
    "    \n",
    "    with zipfile.open(file) as f:\n",
    "        tbl = read_longitudinal(f, names, renames)\n",
    "        \n",
    "    return tbl\n",
    "\n",
    "def read_from_visits(zipfile=ssc_zip, **kwargs):\n",
    "    return read_from_table('PtID', 'Visit.Date', 'tVisit.csv', zipfile, **kwargs)\n",
    "\n",
    "def read_from_echos(zipfile=ssc_zip, **kwargs):\n",
    "    return read_from_table('PtID', 'Date.of.ECHO', 'tECHO.csv', zipfile, **kwargs)\n",
    "\n",
    "def read_from_pfts(zipfile=ssc_zip, **kwargs):\n",
    "    return read_from_table('PtID', 'Date', 'tPFT.csv', zipfile, **kwargs)"
   ]
  },
  {
   "cell_type": "code",
   "execution_count": 8,
   "metadata": {
    "collapsed": true
   },
   "outputs": [],
   "source": [
    "dates = read_dates()\n",
    "alignment = AlignmentSpec('ptid', 'years_seen', 'date', 'first_seen')"
   ]
  },
  {
   "cell_type": "code",
   "execution_count": 9,
   "metadata": {
    "collapsed": false
   },
   "outputs": [],
   "source": [
    "rp_ss = align_longitudinal(read_from_visits(rp='RP.Sev.Score'), dates, alignment)\n",
    "heart_ss = align_longitudinal(read_from_visits(heart='Heart.Sev.Score'), dates, alignment)\n",
    "gen_ss = align_longitudinal(read_from_visits(general='lkpGeneralScore'), dates, alignment)\n",
    "kidney_ss = align_longitudinal(read_from_visits(kidney='lkpLabUrineProtein'), dates, alignment)\n",
    "muscle_ss = align_longitudinal(read_from_visits(muscle='Muscle.Sev.Score'), dates, alignment)\n",
    "gi_ss = align_longitudinal(read_from_visits(gi='GI.Sev.Score'), dates, alignment)"
   ]
  },
  {
   "cell_type": "code",
   "execution_count": 10,
   "metadata": {
    "collapsed": false
   },
   "outputs": [],
   "source": [
    "rvsp = align_longitudinal(read_from_echos(rvsp='RVSP'), dates, alignment)\n",
    "ejection_frac = align_longitudinal(read_from_echos(ef='Ejection.Fraction'), dates, alignment)"
   ]
  },
  {
   "cell_type": "code",
   "execution_count": 11,
   "metadata": {
    "collapsed": false
   },
   "outputs": [],
   "source": [
    "pfev1 = align_longitudinal(read_from_pfts(pfev1='perc.FEV1.of.predicted'), dates, alignment)\n",
    "pdlco = align_longitudinal(read_from_pfts(pdlco='perc.DLCO.of.predicted'), dates, alignment)\n",
    "pfev1fvc = align_longitudinal(read_from_pfts(pfev1fvc='perc.FEV1FVC.of.predicted'), dates, alignment)"
   ]
  },
  {
   "cell_type": "code",
   "execution_count": 12,
   "metadata": {
    "collapsed": false
   },
   "outputs": [],
   "source": [
    "import statsmodels.api as sm\n",
    "import statsmodels.formula.api as smf"
   ]
  },
  {
   "cell_type": "code",
   "execution_count": 13,
   "metadata": {
    "collapsed": true
   },
   "outputs": [],
   "source": [
    "bm_pfvc = pd.read_csv('data/benchmark_pfvc.csv').loc[:, ['ptid', 'years_seen_full', 'pfvc']]\n",
    "bm_pfvc.columns = ['ptid', 'years_seen', 'pfvc']"
   ]
  },
  {
   "cell_type": "code",
   "execution_count": 14,
   "metadata": {
    "collapsed": false
   },
   "outputs": [],
   "source": [
    "bm_ptid = set(bm_pfvc['ptid'].values)\n",
    "def select_bm(tbl, ptids=bm_ptid):\n",
    "    tbl = tbl[[ptid in ptids for ptid in tbl['ptid']]]\n",
    "    tbl = tbl[tbl['years_seen'] >= 0.0]\n",
    "    return tbl.copy()"
   ]
  },
  {
   "cell_type": "code",
   "execution_count": 15,
   "metadata": {
    "collapsed": false
   },
   "outputs": [],
   "source": [
    "aux_names   = ['rp',  'hrt',    'gen',  'kid',     'msc',     'gi',  'sp', 'ef',         'pv1', 'pdc' ]\n",
    "aux_markers = [rp_ss, heart_ss, gen_ss, kidney_ss, muscle_ss, gi_ss, rvsp, ejection_frac, pfev1, pdlco]"
   ]
  },
  {
   "cell_type": "code",
   "execution_count": 16,
   "metadata": {
    "collapsed": false
   },
   "outputs": [],
   "source": [
    "bm_auxm = [select_bm(m) for m in aux_markers]\n",
    "for n, m in zip(aux_names, bm_auxm):\n",
    "    fn = 'data/{}.csv'.format(n)\n",
    "    m.to_csv(fn, index=False)"
   ]
  },
  {
   "cell_type": "code",
   "execution_count": 636,
   "metadata": {
    "collapsed": true
   },
   "outputs": [],
   "source": [
    "from sklearn.linear_model import LogisticRegression\n",
    "from sklearn.svm import SVC\n",
    "from sklearn.multiclass import OneVsOneClassifier\n",
    "from sklearn.preprocessing import StandardScaler\n",
    "from sklearn.cross_validation import cross_val_score, cross_val_predict, LeaveOneOut\n",
    "from sklearn.metrics import confusion_matrix\n",
    "from sklearn.grid_search import GridSearchCV\n",
    "\n",
    "def fit_mlm(data, reml=False):\n",
    "    outcome = str(data.columns[2])\n",
    "    formula = '{} ~ years_seen'.format(outcome)\n",
    "    model   = smf.mixedlm(formula, data, re_formula='years_seen', groups=data['ptid'])\n",
    "    fitted  = model.fit(reml=reml)\n",
    "    return fitted\n",
    "\n",
    "def add_mlm_features(subtypes, mlm, prefix):\n",
    "    intercept, slope = mlm.fe_params\n",
    "    ranef = mlm.random_effects\n",
    "    ranef.columns = ['{}_{}'.format(prefix, n) for n in ('intercept', 'slope')]\n",
    "    subtypes = pd.merge(subtypes, ranef, 'left', left_index=True, right_index=True)\n",
    "    subtypes[ranef.columns[0]].fillna(intercept, inplace=True)\n",
    "    subtypes[ranef.columns[1]].fillna(slope, inplace=True)\n",
    "    return subtypes\n",
    "\n",
    "def add_val_features(subtypes, mlm, prefix, time):\n",
    "    intercept, slope = mlm.fe_params\n",
    "    ranef = mlm.random_effects\n",
    "    ranef.columns = ['{}_{}'.format(prefix, n) for n in ('intercept', 'slope')]\n",
    "    aligned_ranef = pd.merge(subtypes, ranef, 'left', left_index=True, right_index=True)\n",
    "    intercept = aligned_ranef[ranef.columns[0]].fillna(intercept)\n",
    "    slope = aligned_ranef[ranef.columns[1]].fillna(slope)\n",
    "    subtypes['{}_val'.format(prefix)] = intercept + slope * time\n",
    "    return subtypes\n",
    "\n",
    "def naive_model_score(y):\n",
    "    counts = np.bincount(y)\n",
    "    return (np.argmax(counts) == y).mean()\n",
    "\n",
    "def ability_to_predict(X, y):\n",
    "    par = {'C': list(np.logspace(-4, 2, 10)), 'gamma': list(np.logspace(-2, 1, 10))}\n",
    "    loo = LeaveOneOut(y.size)\n",
    "    clf = GridSearchCV(SVC(class_weight='auto'), par, scoring='accuracy', cv=loo)\n",
    "    clf.fit(X, y)\n",
    "    return clf\n",
    "\n",
    "def make_loo_predictions(X, y):\n",
    "    par = {'C': list(np.logspace(-4, 2, 10)), 'gamma': list(np.logspace(-2, 1, 10))}\n",
    "    clf = GridSearchCV(SVC(class_weight='auto'), par, scoring='accuracy', cv=4, verbose=1)\n",
    "    return cross_val_predict(clf, X, y, cv=LeaveOneOut(y.size), verbose=1)\n",
    "\n",
    "def correct_predictions(correct_map, P):\n",
    "    ranked = np.argsort(P, axis=1)\n",
    "    yhat = np.zeros_like(correct_map)\n",
    "    yhat[correct_map == 1] = ranked[correct_map == 1, -1]\n",
    "    yhat[correct_map == 0] = ranked[correct_map == 0, -2]\n",
    "    return yhat"
   ]
  },
  {
   "cell_type": "code",
   "execution_count": 614,
   "metadata": {
    "collapsed": true
   },
   "outputs": [],
   "source": [
    "subtypes = pd.read_csv('benchmark_pfvc_subtypes.csv').set_index('ptid')"
   ]
  },
  {
   "cell_type": "code",
   "execution_count": 768,
   "metadata": {
    "collapsed": false
   },
   "outputs": [
    {
     "name": "stdout",
     "output_type": "stream",
     "text": [
      "0.85\n",
      "0.725352112676\n",
      "0.596899224806\n",
      "0.5\n",
      "0.603896103896\n",
      "0.7\n",
      "0.660377358491\n",
      "0.772727272727\n"
     ]
    }
   ],
   "source": [
    "P = pd.read_csv('benchmark_pfvc_1y_posteriors.csv')\n",
    "P = np.asarray(P.iloc[:, 1:])\n",
    "yhat_posterior = np.argmax(P, axis=1)\n",
    "y = subtypes['subtype'].values - 1\n",
    "\n",
    "for i in range(P.shape[1]):\n",
    "    yi = y[yhat_posterior == i] == i\n",
    "    print(naive_model_score(yi))"
   ]
  },
  {
   "cell_type": "code",
   "execution_count": 777,
   "metadata": {
    "collapsed": false
   },
   "outputs": [
    {
     "name": "stdout",
     "output_type": "stream",
     "text": [
      "Loading required package: methods\n",
      "Source: local data frame [4 x 2]\n",
      "\n",
      "     bin   mae\n",
      "1  (1,2]  4.95\n",
      "2  (2,4]  6.96\n",
      "3  (4,8]  9.31\n",
      "4 (8,25] 11.05\n",
      "Source: local data frame [8 x 5]\n",
      "\n",
      "  true_subtype (1,2] (2,4] (4,8] (8,25]\n",
      "1            1  5.68  9.47  7.15  16.67\n",
      "2            2  4.01  4.31  6.38   6.68\n",
      "3            3  4.43  5.48  6.57   6.54\n",
      "4            4  4.87  7.12 11.05  14.80\n",
      "5            5  4.95  6.74  9.97  14.57\n",
      "6            6  5.10  9.07 10.64  10.67\n",
      "7            7  6.19  9.88 14.49  19.92\n",
      "8            8  5.45  6.12  3.48   1.53\n",
      "Source: local data frame [8 x 9]\n",
      "\n",
      "  true_subtype    1     2     3     4     5     6     7     8\n",
      "1            1 3.60  8.80 43.35 52.91    NA    NA    NA    NA\n",
      "2            2 8.02  3.43  7.61 20.67 11.93 31.94    NA    NA\n",
      "3            3   NA 10.38  3.62 12.09  8.81    NA 27.87    NA\n",
      "4            4   NA 16.80  7.36  3.18 13.37    NA 16.49    NA\n",
      "5            5   NA    NA  5.61 11.28  4.64 10.05 28.03 24.56\n",
      "6            6   NA    NA 21.57    NA 12.62  3.55  9.03 15.67\n",
      "7            7   NA 38.78  9.05 14.92 20.71 14.18  4.20  1.33\n",
      "8            8   NA    NA    NA 29.26 25.96    NA    NA  3.68\n",
      "(1,2] \n",
      "Source: local data frame [8 x 9]\n",
      "\n",
      "  true_subtype    1     2     3     4     5     6     7     8\n",
      "1            1 1.59  5.43 43.75    NA    NA    NA    NA    NA\n",
      "2            2 5.32  2.99  4.15 11.21  5.92 32.08    NA    NA\n",
      "3            3   NA  6.76  3.25  5.04 14.12    NA 24.78    NA\n",
      "4            4   NA  8.85  5.36  2.38  6.13    NA  9.11    NA\n",
      "5            5   NA    NA  2.71  3.16  3.52  6.71 16.45 17.33\n",
      "6            6   NA    NA 22.90    NA  8.25  2.19  3.36 13.86\n",
      "7            7   NA 38.67  7.18 10.64 11.05  6.56  2.75  1.02\n",
      "8            8   NA    NA    NA 29.26 23.81    NA    NA  3.25\n",
      "(2,4] \n",
      "Source: local data frame [8 x 9]\n",
      "\n",
      "  true_subtype    1     2     3     4     5     6     7     8\n",
      "1            1 3.52  9.24 43.53 38.68    NA    NA    NA    NA\n",
      "2            2 7.66  3.29  5.87 11.41  7.56 31.80    NA    NA\n",
      "3            3   NA  8.66  3.18  8.62 12.01    NA 30.95    NA\n",
      "4            4   NA 13.50  7.66  2.86 10.15    NA 10.99    NA\n",
      "5            5   NA    NA  3.79  5.49  4.53  8.78 20.29 19.36\n",
      "6            6   NA    NA 23.06    NA 12.76  3.04  6.71 13.98\n",
      "7            7   NA 38.99 10.66 11.93 17.49 11.75  3.02  0.78\n",
      "8            8   NA    NA    NA    NA 27.03    NA    NA  4.67\n",
      "(4,8] \n",
      "Source: local data frame [8 x 9]\n",
      "\n",
      "  true_subtype    1     2     3     4     5     6     7     8\n",
      "1            1 3.28 10.04 43.09    NA    NA    NA    NA    NA\n",
      "2            2 9.40  3.55  8.99 23.95  9.70    NA    NA    NA\n",
      "3            3   NA 10.81  3.75 13.78  6.34    NA    NA    NA\n",
      "4            4   NA 18.81  7.38  3.44 15.52    NA 19.28    NA\n",
      "5            5   NA    NA  5.74 11.10  5.26 11.87 35.20 27.97\n",
      "6            6   NA    NA 22.57    NA 16.26  3.37 10.71 15.95\n",
      "7            7   NA    NA    NA 15.66 23.88 18.11  6.18  1.62\n",
      "8            8   NA    NA    NA    NA    NA    NA    NA  3.48\n",
      "(8,25] \n",
      "Source: local data frame [8 x 9]\n",
      "\n",
      "  true_subtype    1     2     3     4     5     6     7     8\n",
      "1            1 5.03  9.60 43.10 56.47    NA    NA    NA    NA\n",
      "2            2 8.64  3.73 11.59 30.96 16.81    NA    NA    NA\n",
      "3            3   NA 13.20  4.03 20.09  5.25    NA    NA    NA\n",
      "4            4   NA 26.02 11.21  4.61 18.26    NA 19.50    NA\n",
      "5            5   NA    NA  6.22 19.01  5.23 19.26 34.63 33.28\n",
      "6            6   NA    NA 19.20    NA 12.00  5.53 14.88 21.48\n",
      "7            7   NA    NA    NA 27.70 29.10 21.28  7.65    NA\n",
      "8            8   NA    NA    NA    NA    NA    NA    NA  1.53\n"
     ]
    }
   ],
   "source": [
    "!Rscript score_predictions.R benchmark_pfvc_1y_subtypes.csv"
   ]
  },
  {
   "cell_type": "markdown",
   "metadata": {},
   "source": [
    "## True Features"
   ]
  },
  {
   "cell_type": "code",
   "execution_count": 637,
   "metadata": {
    "collapsed": true
   },
   "outputs": [
    {
     "name": "stderr",
     "output_type": "stream",
     "text": [
      "/Users/pschulam/anaconda3/lib/python3.4/site-packages/statsmodels/regression/mixed_linear_model.py:1717: ConvergenceWarning: The MLE may be on the boundary of the parameter space.\n",
      "  warnings.warn(msg, ConvergenceWarning)\n",
      "/Users/pschulam/anaconda3/lib/python3.4/site-packages/statsmodels/regression/mixed_linear_model.py:1717: ConvergenceWarning: The MLE may be on the boundary of the parameter space.\n",
      "  warnings.warn(msg, ConvergenceWarning)\n",
      "/Users/pschulam/anaconda3/lib/python3.4/site-packages/statsmodels/regression/mixed_linear_model.py:1717: ConvergenceWarning: The MLE may be on the boundary of the parameter space.\n",
      "  warnings.warn(msg, ConvergenceWarning)\n",
      "/Users/pschulam/anaconda3/lib/python3.4/site-packages/statsmodels/regression/mixed_linear_model.py:1717: ConvergenceWarning: The MLE may be on the boundary of the parameter space.\n",
      "  warnings.warn(msg, ConvergenceWarning)\n",
      "/Users/pschulam/anaconda3/lib/python3.4/site-packages/statsmodels/regression/mixed_linear_model.py:1717: ConvergenceWarning: The MLE may be on the boundary of the parameter space.\n",
      "  warnings.warn(msg, ConvergenceWarning)\n",
      "/Users/pschulam/anaconda3/lib/python3.4/site-packages/statsmodels/regression/mixed_linear_model.py:1717: ConvergenceWarning: The MLE may be on the boundary of the parameter space.\n",
      "  warnings.warn(msg, ConvergenceWarning)\n"
     ]
    }
   ],
   "source": [
    "mlm = [fit_mlm(m, True) for m in bm_auxm]"
   ]
  },
  {
   "cell_type": "code",
   "execution_count": 759,
   "metadata": {
    "collapsed": true
   },
   "outputs": [],
   "source": [
    "P = pd.read_csv('benchmark_pfvc_1y_posteriors.csv')\n",
    "P = np.asarray(P.iloc[:, 1:])\n",
    "yhat_posterior = np.argmax(P, axis=1)"
   ]
  },
  {
   "cell_type": "code",
   "execution_count": 760,
   "metadata": {
    "collapsed": false
   },
   "outputs": [],
   "source": [
    "subtype_coef_features_true1 = subtypes.copy()\n",
    "for m, n in zip(mlm, aux_names):\n",
    "    subtype_coef_features_true1 = add_mlm_features(subtype_coef_features_true1, m, n)"
   ]
  },
  {
   "cell_type": "code",
   "execution_count": 761,
   "metadata": {
    "collapsed": false
   },
   "outputs": [],
   "source": [
    "y = subtype_coef_features_true1['subtype'].values - 1\n",
    "X = np.asarray(subtype_coef_features_true1.iloc[:, 1:])\n",
    "X = np.concatenate((X, P), axis=1)\n",
    "X = StandardScaler().fit_transform(X)"
   ]
  },
  {
   "cell_type": "code",
   "execution_count": 762,
   "metadata": {
    "collapsed": false
   },
   "outputs": [
    {
     "name": "stdout",
     "output_type": "stream",
     "text": [
      "Starting run 0\n",
      "Starting run 1\n",
      "Starting run 2\n",
      "Starting run 3\n",
      "Starting run 4\n",
      "Starting run 5\n",
      "Starting run 6\n",
      "Starting run 7\n"
     ]
    }
   ],
   "source": [
    "coef_models_true = []\n",
    "for i in range(P.shape[1]):\n",
    "    print('Starting run {}'.format(i))\n",
    "    Xi = X[yhat_posterior == i]\n",
    "    yi = y[yhat_posterior == i] == i\n",
    "    fi = ability_to_predict(Xi, yi)\n",
    "    coef_models_true.append(fi)"
   ]
  },
  {
   "cell_type": "code",
   "execution_count": 763,
   "metadata": {
    "collapsed": false
   },
   "outputs": [
    {
     "name": "stdout",
     "output_type": "stream",
     "text": [
      "1.0\n",
      "1.0\n",
      "0.666666666667\n",
      "1.0\n",
      "0.837662337662\n",
      "0.7\n",
      "1.0\n",
      "1.0\n"
     ]
    }
   ],
   "source": [
    "for m in coef_models_true:\n",
    "    print(m.best_score_)"
   ]
  },
  {
   "cell_type": "code",
   "execution_count": 765,
   "metadata": {
    "collapsed": false
   },
   "outputs": [
    {
     "data": {
      "text/plain": [
       "array([[ 20,   0,   1,   0,   3,   0,   0,   0],\n",
       "       [  0, 119,  13,   0,   6,   1,   0,   0],\n",
       "       [  2,  12,  81,   7,   7,   2,   0,   0],\n",
       "       [  1,   2,  21,  73,   9,   2,   1,   0],\n",
       "       [  0,   0,   1,   6, 109,  11,   6,   3],\n",
       "       [  0,   0,   0,   3,  12,  44,   1,   2],\n",
       "       [  0,   3,   2,   8,   7,  11,  41,   0],\n",
       "       [  0,   0,   0,   0,   0,   1,   1,  17]])"
      ]
     },
     "execution_count": 765,
     "metadata": {},
     "output_type": "execute_result"
    }
   ],
   "source": [
    "correct_map = np.zeros_like(y)\n",
    "for i, m in enumerate(coef_models_true):\n",
    "    ix = yhat_posterior == i\n",
    "    Xi = X[ix]\n",
    "    yi = y[ix] == i\n",
    "    correct_map[ix] = cross_val_predict(m.best_estimator_, Xi, yi, cv=LeaveOneOut(yi.size))\n",
    "    \n",
    "yhat_coef_true1 = np.zeros_like(y)\n",
    "yhat_coef_true1[correct_map == 1] = yhat_posterior[correct_map == 1]\n",
    "yhat_coef_true1[correct_map == 0] = np.argsort(P, axis=1)[correct_map == 0, -2]\n",
    "\n",
    "confusion_matrix(y, yhat_coef_true1)"
   ]
  },
  {
   "cell_type": "code",
   "execution_count": 766,
   "metadata": {
    "collapsed": false
   },
   "outputs": [],
   "source": [
    "coef_true1_subtypes = pd.DataFrame({'subtype': yhat_coef_true1 + 1}, subtypes.index)\n",
    "coef_true1_subtypes.to_csv('benchmark_pfvc_1y_subtypes_coef_true_adjustment.csv')"
   ]
  },
  {
   "cell_type": "code",
   "execution_count": 767,
   "metadata": {
    "collapsed": false
   },
   "outputs": [
    {
     "name": "stdout",
     "output_type": "stream",
     "text": [
      "Loading required package: methods\n",
      "Source: local data frame [4 x 2]\n",
      "\n",
      "     bin  mae\n",
      "1  (1,2] 4.65\n",
      "2  (2,4] 5.85\n",
      "3  (4,8] 8.05\n",
      "4 (8,25] 9.81\n",
      "Source: local data frame [8 x 5]\n",
      "\n",
      "  true_subtype (1,2] (2,4] (4,8] (8,25]\n",
      "1            1  6.35  8.62  6.73  13.28\n",
      "2            2  3.60  3.72  4.90   6.91\n",
      "3            3  4.61  4.79  6.42   7.74\n",
      "4            4  4.17  5.46  7.72   9.66\n",
      "5            5  5.16  6.74  9.51  10.35\n",
      "6            6  4.89  6.83  8.95  13.08\n",
      "7            7  5.51  8.00 14.78  17.99\n",
      "8            8  4.30  5.54  3.48   1.53\n",
      "Source: local data frame [8 x 9]\n",
      "\n",
      "  true_subtype     1     2     3     4     5     6     7     8\n",
      "1            1  3.25    NA 16.09    NA 44.00    NA    NA    NA\n",
      "2            2    NA  3.31  8.95    NA  9.75 36.14    NA    NA\n",
      "3            3 19.12 10.11  3.58 11.91  5.80 23.81    NA    NA\n",
      "4            4 26.12 14.73  9.58  4.01 13.07  4.33 18.26    NA\n",
      "5            5    NA    NA  6.73 10.81  4.44 11.81 26.76 31.99\n",
      "6            6    NA    NA    NA  4.58 15.36  3.79  8.46 18.06\n",
      "7            7    NA 38.65 14.35  9.06 20.14 12.96  3.96    NA\n",
      "8            8    NA    NA    NA    NA    NA 18.26 13.02  3.68\n",
      "(1,2] \n",
      "Source: local data frame [8 x 9]\n",
      "\n",
      "  true_subtype     1     2     3    4     5     6     7     8\n",
      "1            1  1.88    NA  7.87   NA 57.06    NA    NA    NA\n",
      "2            2    NA  2.83  4.74   NA  8.70 32.88    NA    NA\n",
      "3            3 10.76  5.66  3.03 9.35  6.81 22.80    NA    NA\n",
      "4            4 16.74  5.70  6.25 2.64  8.17  3.68  8.99    NA\n",
      "5            5    NA    NA  2.46 3.13  3.34  9.05 15.18 23.09\n",
      "6            6    NA    NA    NA 5.72  9.65  2.81  2.65  3.96\n",
      "7            7    NA 19.42 11.24 8.47 12.91  6.37  2.57    NA\n",
      "8            8    NA    NA    NA   NA    NA 18.41 13.02  3.25\n",
      "(2,4] \n",
      "Source: local data frame [8 x 9]\n",
      "\n",
      "  true_subtype     1     2     3     4     5     6     7     8\n",
      "1            1  3.21    NA 15.36    NA 45.66    NA    NA    NA\n",
      "2            2    NA  3.20  6.73    NA  8.38    NA    NA    NA\n",
      "3            3 14.43  6.69  2.83 10.34  6.65 27.17    NA    NA\n",
      "4            4 23.64 10.22  8.78  3.23 10.08  3.55 15.79    NA\n",
      "5            5    NA    NA  1.96  5.39  4.31 10.60 20.70 27.30\n",
      "6            6    NA    NA    NA  5.27 14.75  3.48 11.37  7.23\n",
      "7            7    NA 27.63 17.45  8.73 19.70  9.18  2.97    NA\n",
      "8            8    NA    NA    NA    NA    NA 18.18    NA  4.67\n",
      "(4,8] \n",
      "Source: local data frame [8 x 9]\n",
      "\n",
      "  true_subtype     1     2     3     4     5     6     7     8\n",
      "1            1  2.77    NA 22.07    NA 47.94    NA    NA    NA\n",
      "2            2    NA  3.41  9.98    NA 11.25 35.92    NA    NA\n",
      "3            3 20.58 10.24  3.87 10.20  2.60 23.67    NA    NA\n",
      "4            4 29.99 17.20 10.00  4.65 14.21  2.93 23.00    NA\n",
      "5            5    NA    NA  3.13 10.94  4.82 13.28 30.96 34.01\n",
      "6            6    NA    NA    NA  2.64 18.17  4.00    NA 15.08\n",
      "7            7    NA 44.20    NA 10.85 24.44 15.47  5.48    NA\n",
      "8            8    NA    NA    NA    NA    NA    NA    NA  3.48\n",
      "(8,25] \n",
      "Source: local data frame [8 x 9]\n",
      "\n",
      "  true_subtype     1     2     3     4     5     6     7     8\n",
      "1            1  4.74    NA    NA    NA 40.33    NA    NA    NA\n",
      "2            2    NA  3.68 11.81    NA  7.69 36.51    NA    NA\n",
      "3            3 26.46 14.29  4.26 17.48  6.68 21.73    NA    NA\n",
      "4            4    NA 23.72 15.63  5.83 17.96  5.26    NA    NA\n",
      "5            5    NA    NA  9.44 22.23  5.07 14.80 35.68 37.11\n",
      "6            6    NA    NA    NA    NA 16.72  5.71    NA 22.78\n",
      "7            7    NA 55.05    NA    NA    NA 17.64  7.65    NA\n",
      "8            8    NA    NA    NA    NA    NA    NA    NA  1.53\n"
     ]
    }
   ],
   "source": [
    "!Rscript score_predictions.R benchmark_pfvc_1y_subtypes_coef_true_adjustment.csv"
   ]
  },
  {
   "cell_type": "code",
   "execution_count": 778,
   "metadata": {
    "collapsed": false
   },
   "outputs": [
    {
     "name": "stdout",
     "output_type": "stream",
     "text": [
      "    repred\r\n",
      "pred  1  2  3  4  5  6  7\r\n",
      "   1  0  3  0  0  0  0  0\r\n",
      "   2  3  0 19  1  0  0  0\r\n",
      "   3  0 10  0  6  1  0  0\r\n",
      "   4  0  3  4  0 21  0  0\r\n",
      "   5  0  0  0 12  0 11  3\r\n",
      "   6  0  0  0  0  1  0  2\r\n",
      "   7  0  0  1  3  3  4  0\r\n",
      "   8  0  0  0  0  0  1  1\r\n"
     ]
    }
   ],
   "source": [
    "!Rscript compare_subtype_reprediction.R benchmark_pfvc_1y_subtypes_coef_true_adjustment.csv"
   ]
  },
  {
   "cell_type": "markdown",
   "metadata": {},
   "source": [
    "## Baseline Features Only"
   ]
  },
  {
   "cell_type": "code",
   "execution_count": 749,
   "metadata": {
    "collapsed": true
   },
   "outputs": [],
   "source": [
    "P = pd.read_csv('benchmark_pfvc_1y_posteriors.csv')\n",
    "P = np.asarray(P.iloc[:, 1:])\n",
    "yhat_posterior = np.argmax(P, axis=1)"
   ]
  },
  {
   "cell_type": "code",
   "execution_count": 750,
   "metadata": {
    "collapsed": false
   },
   "outputs": [],
   "source": [
    "bm_feat_names = ['female', 'afram', 'aca', 'scl']\n",
    "bm_features = pd.read_csv('data/benchmark_pfvc.csv').loc[:, ['ptid'] + bm_feat_names]\n",
    "bm_features = bm_features.drop_duplicates()"
   ]
  },
  {
   "cell_type": "code",
   "execution_count": 751,
   "metadata": {
    "collapsed": false
   },
   "outputs": [],
   "source": [
    "baseline_features = subtypes.copy().reset_index()\n",
    "baseline_features = pd.merge(baseline_features, bm_features, 'inner', on='ptid')\n",
    "baseline_features = baseline_features.set_index('ptid')"
   ]
  },
  {
   "cell_type": "code",
   "execution_count": 752,
   "metadata": {
    "collapsed": false
   },
   "outputs": [
    {
     "data": {
      "text/html": [
       "<div>\n",
       "<table border=\"1\" class=\"dataframe\">\n",
       "  <thead>\n",
       "    <tr style=\"text-align: right;\">\n",
       "      <th></th>\n",
       "      <th>subtype</th>\n",
       "      <th>female</th>\n",
       "      <th>afram</th>\n",
       "      <th>aca</th>\n",
       "      <th>scl</th>\n",
       "    </tr>\n",
       "    <tr>\n",
       "      <th>ptid</th>\n",
       "      <th></th>\n",
       "      <th></th>\n",
       "      <th></th>\n",
       "      <th></th>\n",
       "      <th></th>\n",
       "    </tr>\n",
       "  </thead>\n",
       "  <tbody>\n",
       "    <tr>\n",
       "      <th>2</th>\n",
       "      <td>3</td>\n",
       "      <td>1</td>\n",
       "      <td>0</td>\n",
       "      <td>0</td>\n",
       "      <td>0</td>\n",
       "    </tr>\n",
       "    <tr>\n",
       "      <th>3</th>\n",
       "      <td>3</td>\n",
       "      <td>1</td>\n",
       "      <td>0</td>\n",
       "      <td>0</td>\n",
       "      <td>0</td>\n",
       "    </tr>\n",
       "    <tr>\n",
       "      <th>5</th>\n",
       "      <td>2</td>\n",
       "      <td>1</td>\n",
       "      <td>0</td>\n",
       "      <td>1</td>\n",
       "      <td>0</td>\n",
       "    </tr>\n",
       "    <tr>\n",
       "      <th>6</th>\n",
       "      <td>7</td>\n",
       "      <td>1</td>\n",
       "      <td>0</td>\n",
       "      <td>1</td>\n",
       "      <td>0</td>\n",
       "    </tr>\n",
       "    <tr>\n",
       "      <th>11</th>\n",
       "      <td>7</td>\n",
       "      <td>0</td>\n",
       "      <td>0</td>\n",
       "      <td>0</td>\n",
       "      <td>0</td>\n",
       "    </tr>\n",
       "  </tbody>\n",
       "</table>\n",
       "</div>"
      ],
      "text/plain": [
       "      subtype  female  afram  aca  scl\n",
       "ptid                                  \n",
       "2           3       1      0    0    0\n",
       "3           3       1      0    0    0\n",
       "5           2       1      0    1    0\n",
       "6           7       1      0    1    0\n",
       "11          7       0      0    0    0"
      ]
     },
     "execution_count": 752,
     "metadata": {},
     "output_type": "execute_result"
    }
   ],
   "source": [
    "baseline_features.head()"
   ]
  },
  {
   "cell_type": "code",
   "execution_count": 753,
   "metadata": {
    "collapsed": true
   },
   "outputs": [],
   "source": [
    "y = baseline_features['subtype'].values - 1\n",
    "X = np.asarray(baseline_features.iloc[:, 1:])\n",
    "X = np.concatenate((X, P), axis=1)\n",
    "X = StandardScaler().fit_transform(X)"
   ]
  },
  {
   "cell_type": "code",
   "execution_count": 754,
   "metadata": {
    "collapsed": false
   },
   "outputs": [
    {
     "name": "stdout",
     "output_type": "stream",
     "text": [
      "Starting run 0\n",
      "Starting run 1\n",
      "Starting run 2\n",
      "Starting run 3\n",
      "Starting run 4\n",
      "Starting run 5\n",
      "Starting run 6\n",
      "Starting run 7\n"
     ]
    }
   ],
   "source": [
    "base_models = []\n",
    "for i in range(P.shape[1]):\n",
    "    print('Starting run {}'.format(i))\n",
    "    Xi = X[yhat_posterior == i]\n",
    "    yi = y[yhat_posterior == i] == i\n",
    "    fi = ability_to_predict(Xi, yi)\n",
    "    base_models.append(fi)"
   ]
  },
  {
   "cell_type": "code",
   "execution_count": 755,
   "metadata": {
    "collapsed": false
   },
   "outputs": [
    {
     "name": "stdout",
     "output_type": "stream",
     "text": [
      "1.0\n",
      "1.0\n",
      "0.596899224806\n",
      "1.0\n",
      "0.603896103896\n",
      "0.7\n",
      "1.0\n",
      "1.0\n"
     ]
    }
   ],
   "source": [
    "for m in base_models:\n",
    "    print(m.best_score_)"
   ]
  },
  {
   "cell_type": "code",
   "execution_count": 756,
   "metadata": {
    "collapsed": false
   },
   "outputs": [
    {
     "data": {
      "text/plain": [
       "array([[ 20,   0,   3,   0,   1,   0,   0,   0],\n",
       "       [  0, 109,  23,   0,   7,   0,   0,   0],\n",
       "       [  2,   1, 101,   3,   4,   0,   0,   0],\n",
       "       [  1,   0,  30,  55,  21,   2,   0,   0],\n",
       "       [  0,   0,   3,   0, 120,   5,   7,   1],\n",
       "       [  0,   0,   2,   0,  26,  30,   2,   2],\n",
       "       [  0,   2,   6,   1,  21,   3,  39,   0],\n",
       "       [  0,   0,   0,   0,   1,   0,   1,  17]])"
      ]
     },
     "execution_count": 756,
     "metadata": {},
     "output_type": "execute_result"
    }
   ],
   "source": [
    "correct_map = np.zeros_like(y)\n",
    "for i, m in enumerate(base_models):\n",
    "    ix = yhat_posterior == i\n",
    "    Xi = X[ix]\n",
    "    yi = y[ix] == i\n",
    "    correct_map[ix] = cross_val_predict(m.best_estimator_, Xi, yi, cv=LeaveOneOut(yi.size))\n",
    "    \n",
    "yhat_base = np.zeros_like(y)\n",
    "yhat_base[correct_map == 1] = yhat_posterior[correct_map == 1]\n",
    "yhat_base[correct_map == 0] = np.argsort(P, axis=1)[correct_map == 0, -2]\n",
    "\n",
    "confusion_matrix(y, yhat_base)"
   ]
  },
  {
   "cell_type": "code",
   "execution_count": 757,
   "metadata": {
    "collapsed": true
   },
   "outputs": [],
   "source": [
    "base_subtypes = pd.DataFrame({'subtype': yhat_base + 1}, subtypes.index)\n",
    "base_subtypes.to_csv('benchmark_pfvc_1y_subtypes_base_adjustment.csv')"
   ]
  },
  {
   "cell_type": "code",
   "execution_count": 758,
   "metadata": {
    "collapsed": false
   },
   "outputs": [
    {
     "name": "stdout",
     "output_type": "stream",
     "text": [
      "Loading required package: methods\n",
      "Source: local data frame [4 x 2]\n",
      "\n",
      "     bin  mae\n",
      "1  (1,2] 4.87\n",
      "2  (2,4] 6.64\n",
      "3  (4,8] 8.53\n",
      "4 (8,25] 9.08\n",
      "Source: local data frame [8 x 5]\n",
      "\n",
      "  true_subtype (1,2] (2,4] (4,8] (8,25]\n",
      "1            1  5.47  8.05  6.55  13.21\n",
      "2            2  3.70  3.87  5.22   6.14\n",
      "3            3  3.81  3.80  4.80   5.39\n",
      "4            4  4.43  6.47  9.40  11.78\n",
      "5            5  4.87  6.17  8.40   8.58\n",
      "6            6  6.35 10.20 11.89  12.02\n",
      "7            7  6.34 10.72 16.91  19.01\n",
      "8            8  4.47  6.12  3.48   1.53\n",
      "Source: local data frame [8 x 9]\n",
      "\n",
      "  true_subtype     1     2     3     4     5     6     7     8\n",
      "1            1  3.25    NA 28.67    NA 37.54    NA    NA    NA\n",
      "2            2    NA  3.36  7.87    NA 12.68    NA    NA    NA\n",
      "3            3 19.12  6.00  3.60 12.95  8.43    NA    NA    NA\n",
      "4            4 26.12    NA  8.45  3.64 13.37  4.33    NA    NA\n",
      "5            5    NA    NA  5.97    NA  4.28 15.24 25.58 34.28\n",
      "6            6    NA    NA 21.57    NA 13.77  4.14  9.21  8.11\n",
      "7            7    NA 42.37 10.30 20.26 20.54 12.47  3.78    NA\n",
      "8            8    NA    NA    NA    NA 25.96    NA 13.02  3.68\n",
      "(1,2] \n",
      "Source: local data frame [8 x 9]\n",
      "\n",
      "  true_subtype     1     2     3     4     5     6     7     8\n",
      "1            1  1.88    NA 19.83    NA    NA    NA    NA    NA\n",
      "2            2    NA  2.90  4.33    NA 10.26    NA    NA    NA\n",
      "3            3 10.76  1.51  3.27 10.32 10.20    NA    NA    NA\n",
      "4            4 16.74    NA  5.82  2.49  6.13  3.68    NA    NA\n",
      "5            5    NA    NA  2.58    NA  3.22 13.04 13.95 25.17\n",
      "6            6    NA    NA 22.90    NA  8.11  3.24  3.96  4.70\n",
      "7            7    NA 24.49  8.19 20.85 11.90  6.11  2.68    NA\n",
      "8            8    NA    NA    NA    NA 23.81    NA 13.02  3.25\n",
      "(2,4] \n",
      "Source: local data frame [8 x 9]\n",
      "\n",
      "  true_subtype     1     2     3     4     5     6     7     8\n",
      "1            1  3.21    NA 29.44    NA 33.78    NA    NA    NA\n",
      "2            2    NA  3.20  6.00    NA  8.38    NA    NA    NA\n",
      "3            3 14.43  3.96  3.08  7.36 12.01    NA    NA    NA\n",
      "4            4 23.64    NA  7.72  3.13 10.15  3.55    NA    NA\n",
      "5            5    NA    NA  3.18    NA  4.08 13.26 19.99 30.84\n",
      "6            6    NA    NA 23.06    NA 13.34  3.85  7.81  8.92\n",
      "7            7    NA 30.42 12.17 19.06 18.03 12.09  3.06    NA\n",
      "8            8    NA    NA    NA    NA 27.03    NA    NA  4.67\n",
      "(4,8] \n",
      "Source: local data frame [8 x 9]\n",
      "\n",
      "  true_subtype     1     2     3     4     5     6     7     8\n",
      "1            1  2.77    NA 27.33    NA    NA    NA    NA    NA\n",
      "2            2    NA  3.47  9.29    NA 12.07    NA    NA    NA\n",
      "3            3 20.58  7.40  3.74 11.19  6.34    NA    NA    NA\n",
      "4            4 29.99    NA  8.91  4.10 15.52  2.93    NA    NA\n",
      "5            5    NA    NA  5.26    NA  4.74 16.67 30.14 36.83\n",
      "6            6    NA    NA 22.57    NA 17.61  3.62 12.49 10.70\n",
      "7            7    NA 44.20    NA    NA 24.11 17.22  4.99    NA\n",
      "8            8    NA    NA    NA    NA    NA    NA    NA  3.48\n",
      "(8,25] \n",
      "Source: local data frame [8 x 9]\n",
      "\n",
      "  true_subtype     1     2     3     4     5     6     7     8\n",
      "1            1  4.74    NA 43.10    NA 38.48    NA    NA    NA\n",
      "2            2    NA  3.72 11.58    NA 16.81    NA    NA    NA\n",
      "3            3 26.46  8.99  4.09 18.41  5.25    NA    NA    NA\n",
      "4            4    NA    NA 13.83  5.31 18.26  5.26    NA    NA\n",
      "5            5    NA    NA  7.50    NA  4.88 17.76 35.68 37.95\n",
      "6            6    NA    NA 19.20    NA 17.02  5.81 18.84    NA\n",
      "7            7    NA 55.05    NA    NA 29.10 23.19  5.32    NA\n",
      "8            8    NA    NA    NA    NA    NA    NA    NA  1.53\n"
     ]
    }
   ],
   "source": [
    "!Rscript score_predictions.R benchmark_pfvc_1y_subtypes_base_adjustment.csv"
   ]
  },
  {
   "cell_type": "code",
   "execution_count": 780,
   "metadata": {
    "collapsed": false
   },
   "outputs": [
    {
     "name": "stdout",
     "output_type": "stream",
     "text": [
      "    repred\r\n",
      "pred  1  2  3  4  5  6  7\r\n",
      "   1  0  3  0  0  0  0  0\r\n",
      "   2  3  0 19  1  0  0  0\r\n",
      "   4  0  3  4  0 21  0  0\r\n",
      "   6  0  0  0  0  3  0  3\r\n",
      "   7  0  0  1  3  3  4  0\r\n",
      "   8  0  0  0  0  0  1  1\r\n"
     ]
    }
   ],
   "source": [
    "!Rscript compare_subtype_reprediction.R benchmark_pfvc_1y_subtypes_base_adjustment.csv"
   ]
  },
  {
   "cell_type": "markdown",
   "metadata": {},
   "source": [
    "## Year 1 Intercept/Slope Features"
   ]
  },
  {
   "cell_type": "code",
   "execution_count": 769,
   "metadata": {
    "collapsed": false
   },
   "outputs": [],
   "source": [
    "P = pd.read_csv('benchmark_pfvc_1y_posteriors.csv')\n",
    "P = np.asarray(P.iloc[:, 1:])\n",
    "yhat_posterior = np.argmax(P, axis=1)"
   ]
  },
  {
   "cell_type": "code",
   "execution_count": 770,
   "metadata": {
    "collapsed": true
   },
   "outputs": [],
   "source": [
    "def censor(markers, time):\n",
    "    ix = markers['years_seen'] <= time\n",
    "    return markers[ix]\n",
    "\n",
    "mlm1 = [fit_mlm(censor(m, 1.0)) for m in bm_auxm]"
   ]
  },
  {
   "cell_type": "code",
   "execution_count": 771,
   "metadata": {
    "collapsed": true
   },
   "outputs": [],
   "source": [
    "subtype_features1 = subtypes.copy()\n",
    "for m, n in zip(mlm1, aux_names):\n",
    "    subtype_features1 = add_mlm_features(subtype_features1, m, n)\n",
    "\n",
    "y = subtype_features1['subtype'].values - 1\n",
    "X = np.asarray(subtype_features1.iloc[:, 1:])\n",
    "X = np.concatenate((X, P), axis=1)\n",
    "X = StandardScaler().fit_transform(X)"
   ]
  },
  {
   "cell_type": "code",
   "execution_count": 772,
   "metadata": {
    "collapsed": false
   },
   "outputs": [
    {
     "name": "stdout",
     "output_type": "stream",
     "text": [
      "Starting run 0\n",
      "Starting run 1\n",
      "Starting run 2\n",
      "Starting run 3\n",
      "Starting run 4\n",
      "Starting run 5\n",
      "Starting run 6\n",
      "Starting run 7\n"
     ]
    }
   ],
   "source": [
    "coef_models = []\n",
    "for i in range(P.shape[1]):\n",
    "    print('Starting run {}'.format(i))\n",
    "    Xi = X[yhat_posterior == i]\n",
    "    yi = y[yhat_posterior == i] == i\n",
    "    fi = ability_to_predict(Xi, yi)\n",
    "    coef_models.append(fi)"
   ]
  },
  {
   "cell_type": "code",
   "execution_count": 773,
   "metadata": {
    "collapsed": false
   },
   "outputs": [
    {
     "name": "stdout",
     "output_type": "stream",
     "text": [
      "1.0\n",
      "1.0\n",
      "0.604651162791\n",
      "1.0\n",
      "0.62987012987\n",
      "0.72\n",
      "1.0\n",
      "1.0\n"
     ]
    }
   ],
   "source": [
    "for m in coef_models:\n",
    "    print(m.best_score_)"
   ]
  },
  {
   "cell_type": "code",
   "execution_count": 774,
   "metadata": {
    "collapsed": false
   },
   "outputs": [
    {
     "data": {
      "text/plain": [
       "array([[ 20,   0,   2,   1,   0,   0,   0,   0],\n",
       "       [  0, 111,   2,   0,   0,   0,   2,   0],\n",
       "       [  3,  21, 100,  30,   3,   2,   6,   0],\n",
       "       [  0,   0,   3,  60,   9,   1,   1,   0],\n",
       "       [  1,   4,   2,  14,  99,  18,  13,   1],\n",
       "       [  0,   3,   2,   2,  11,  39,  10,   0],\n",
       "       [  0,   0,   0,   2,  12,   2,  40,   1],\n",
       "       [  0,   0,   0,   0,   2,   0,   0,  17]])"
      ]
     },
     "execution_count": 774,
     "metadata": {},
     "output_type": "execute_result"
    }
   ],
   "source": [
    "correct_map = np.zeros_like(y)\n",
    "for i, m in enumerate(coef_models):\n",
    "    ix = yhat_posterior == i\n",
    "    Xi = X[ix]\n",
    "    yi = y[ix] == i\n",
    "    correct_map[ix] = cross_val_predict(m.best_estimator_, Xi, yi, cv=LeaveOneOut(yi.size))\n",
    "\n",
    "yhat_coef1 = np.zeros_like(y)\n",
    "yhat_coef1[correct_map == 1] = yhat_posterior[correct_map == 1]\n",
    "yhat_coef1[correct_map == 0] = np.argsort(P, axis=1)[correct_map == 0, -2]\n",
    "\n",
    "confusion_matrix(y, yhat_coef1).T"
   ]
  },
  {
   "cell_type": "code",
   "execution_count": 775,
   "metadata": {
    "collapsed": false
   },
   "outputs": [],
   "source": [
    "coef1_subtypes = pd.DataFrame({'subtype': yhat_coef1 + 1}, subtypes.index)\n",
    "coef1_subtypes.to_csv('benchmark_pfvc_1y_subtypes_coef_adjustment.csv')"
   ]
  },
  {
   "cell_type": "code",
   "execution_count": 776,
   "metadata": {
    "collapsed": false
   },
   "outputs": [
    {
     "name": "stdout",
     "output_type": "stream",
     "text": [
      "Loading required package: methods\n",
      "Source: local data frame [4 x 2]\n",
      "\n",
      "     bin   mae\n",
      "1  (1,2]  4.81\n",
      "2  (2,4]  6.48\n",
      "3  (4,8]  8.57\n",
      "4 (8,25] 10.20\n",
      "Source: local data frame [8 x 5]\n",
      "\n",
      "  true_subtype (1,2] (2,4] (4,8] (8,25]\n",
      "1            1  5.47  8.05  6.55  13.21\n",
      "2            2  3.90  4.00  5.30   7.10\n",
      "3            3  4.08  4.23  5.58   6.64\n",
      "4            4  4.32  6.09  8.93  11.89\n",
      "5            5  5.44  7.12  9.74  11.50\n",
      "6            6  5.68  8.98  9.87  10.82\n",
      "7            7  5.48  9.42 16.64  22.71\n",
      "8            8  4.47  6.12  3.48   1.53\n",
      "Source: local data frame [8 x 9]\n",
      "\n",
      "  true_subtype     1     2     3     4     5     6     7     8\n",
      "1            1  3.25    NA 28.67    NA 37.54    NA    NA    NA\n",
      "2            2    NA  3.34  8.00    NA  8.42 35.75    NA    NA\n",
      "3            3 19.12 12.70  3.58 12.95 11.96 23.81    NA    NA\n",
      "4            4 26.12    NA  8.45  3.54 14.39  4.33 18.26    NA\n",
      "5            5    NA    NA  5.97 12.99  4.15 12.05 25.43 32.72\n",
      "6            6    NA    NA 21.57  6.05 15.16  3.54  9.73    NA\n",
      "7            7    NA 42.37 10.30 20.26 21.30 13.41  4.05    NA\n",
      "8            8    NA    NA    NA    NA 25.96    NA 13.02  3.68\n",
      "(1,2] \n",
      "Source: local data frame [8 x 9]\n",
      "\n",
      "  true_subtype     1     2     3     4     5     6     7     8\n",
      "1            1  1.88    NA 19.83    NA    NA    NA    NA    NA\n",
      "2            2    NA  2.87  4.48    NA  6.39 32.48    NA    NA\n",
      "3            3 10.76  8.57  3.17 10.32 10.29 22.80    NA    NA\n",
      "4            4 16.74    NA  5.82  2.35  7.16  3.68  7.66    NA\n",
      "5            5    NA    NA  2.58  3.54  3.19  9.40 12.67 25.17\n",
      "6            6    NA    NA 22.90  8.97  9.06  2.65  4.98    NA\n",
      "7            7    NA 24.49  8.19 20.85 11.76  7.00  2.57    NA\n",
      "8            8    NA    NA    NA    NA 23.81    NA 13.02  3.25\n",
      "(2,4] \n",
      "Source: local data frame [8 x 9]\n",
      "\n",
      "  true_subtype     1     2     3     4     5     6     7     8\n",
      "1            1  3.21    NA 29.44    NA 33.78    NA    NA    NA\n",
      "2            2    NA  3.19  6.11    NA  4.24 34.37    NA    NA\n",
      "3            3 14.43  8.91  3.03  7.36 13.63 27.17    NA    NA\n",
      "4            4 23.64    NA  7.72  2.96 10.80  3.55 14.15    NA\n",
      "5            5    NA    NA  3.18  7.15  4.01 11.32 20.91 27.30\n",
      "6            6    NA    NA 23.06  9.19 14.46  3.23  8.26    NA\n",
      "7            7    NA 30.42 12.17 19.06 17.87 10.36  2.97    NA\n",
      "8            8    NA    NA    NA    NA 27.03    NA    NA  4.67\n",
      "(4,8] \n",
      "Source: local data frame [8 x 9]\n",
      "\n",
      "  true_subtype     1     2     3     4     5     6     7     8\n",
      "1            1  2.77    NA 27.33    NA    NA    NA    NA    NA\n",
      "2            2    NA  3.43  9.36    NA 10.68 36.33    NA    NA\n",
      "3            3 20.58 12.79  3.68 11.19    NA 23.67    NA    NA\n",
      "4            4 29.99    NA  8.91  4.11 16.10  2.93 21.31    NA\n",
      "5            5    NA    NA  5.26 14.13  4.66 12.29 30.57 35.59\n",
      "6            6    NA    NA 22.57  3.01 19.57  3.31 16.13    NA\n",
      "7            7    NA 44.20    NA    NA 23.11 16.98  5.99    NA\n",
      "8            8    NA    NA    NA    NA    NA    NA    NA  3.48\n",
      "(8,25] \n",
      "Source: local data frame [8 x 9]\n",
      "\n",
      "  true_subtype     1     2     3     4     5     6     7     8\n",
      "1            1  4.74    NA 43.10    NA 38.48    NA    NA    NA\n",
      "2            2    NA  3.72 11.58    NA  7.69 36.51    NA    NA\n",
      "3            3 26.46 14.94  4.22 18.41    NA 21.73    NA    NA\n",
      "4            4    NA    NA 13.83  5.26 18.90  5.26 23.26    NA\n",
      "5            5    NA    NA  7.50 25.44  4.45 14.90 39.10 37.95\n",
      "6            6    NA    NA 19.20    NA 19.07  5.10 18.84    NA\n",
      "7            7    NA 55.05    NA    NA 29.10 21.28  7.65    NA\n",
      "8            8    NA    NA    NA    NA    NA    NA    NA  1.53\n"
     ]
    }
   ],
   "source": [
    "!Rscript score_predictions.R benchmark_pfvc_1y_subtypes_coef_adjustment.csv"
   ]
  },
  {
   "cell_type": "code",
   "execution_count": 781,
   "metadata": {
    "collapsed": false
   },
   "outputs": [
    {
     "name": "stdout",
     "output_type": "stream",
     "text": [
      "    repred\r\n",
      "pred  1  2  3  4  5  6  7\r\n",
      "   1  0  3  0  0  0  0  0\r\n",
      "   2  3  0 19  1  0  0  0\r\n",
      "   3  0  2  0  0  0  0  0\r\n",
      "   4  0  3  4  0 21  0  0\r\n",
      "   5  0  0  0  5  0  6  2\r\n",
      "   6  0  0  0  0  3  0  2\r\n",
      "   7  0  0  1  3  3  4  0\r\n",
      "   8  0  0  0  0  0  1  1\r\n"
     ]
    }
   ],
   "source": [
    "!Rscript compare_subtype_reprediction.R benchmark_pfvc_1y_subtypes_coef_adjustment.csv"
   ]
  },
  {
   "cell_type": "markdown",
   "metadata": {},
   "source": [
    "**Conclusions**: It seems that we can create a classifier for each subtype that can predict whether the MAP estimate is correct or not. If we use this classifier to make correctness predictions and then use the second most likely subtype in the posterior as the prediction then the accuracy of classification at year 1 improves (see the output of the evaluation results in the cell above). This does not say anything about whether the changes in subtype prediction accuracy have a strong impact on the accuracy of trajectory predictions."
   ]
  },
  {
   "cell_type": "markdown",
   "metadata": {},
   "source": [
    "### Evaluate Intercept/Slope Features"
   ]
  },
  {
   "cell_type": "markdown",
   "metadata": {},
   "source": [
    "The evaluation below is a lower bound. If we knew which subtype an individual belongs to after observing all of the data, then we can get very accurate predictions on average (below 5 PFVC)."
   ]
  },
  {
   "cell_type": "code",
   "execution_count": 627,
   "metadata": {
    "collapsed": true
   },
   "outputs": [
    {
     "name": "stdout",
     "output_type": "stream",
     "text": [
      "Loading required package: methods\n",
      "Source: local data frame [4 x 2]\n",
      "\n",
      "     bin  mae\n",
      "1  (1,2] 3.14\n",
      "2  (2,4] 3.48\n",
      "3  (4,8] 4.07\n",
      "4 (8,25] 4.41\n",
      "Source: local data frame [8 x 5]\n",
      "\n",
      "  true_subtype (1,2] (2,4] (4,8] (8,25]\n",
      "1            1  2.82  3.87  2.98   4.77\n",
      "2            2  2.65  3.06  3.23   3.55\n",
      "3            3  3.23  3.12  3.49   3.85\n",
      "4            4  2.96  3.30  4.37   4.78\n",
      "5            5  3.72  3.94  4.64   4.63\n",
      "6            6  3.21  3.51  3.91   4.99\n",
      "7            7  2.90  3.64  5.40   6.66\n",
      "8            8  3.61  5.13  3.48   1.53\n",
      "Source: local data frame [8 x 9]\n",
      "\n",
      "  true_subtype    1    2    3    4    5    6    7    8\n",
      "1            1 3.69   NA   NA   NA   NA   NA   NA   NA\n",
      "2            2   NA 3.16   NA   NA   NA   NA   NA   NA\n",
      "3            3   NA   NA 3.46   NA   NA   NA   NA   NA\n",
      "4            4   NA   NA   NA 3.85   NA   NA   NA   NA\n",
      "5            5   NA   NA   NA   NA 4.27   NA   NA   NA\n",
      "6            6   NA   NA   NA   NA   NA 3.86   NA   NA\n",
      "7            7   NA   NA   NA   NA   NA   NA 4.36   NA\n",
      "8            8   NA   NA   NA   NA   NA   NA   NA 3.97\n",
      "(1,2] \n",
      "Source: local data frame [8 x 9]\n",
      "\n",
      "  true_subtype    1    2    3    4    5    6   7    8\n",
      "1            1 2.82   NA   NA   NA   NA   NA  NA   NA\n",
      "2            2   NA 2.65   NA   NA   NA   NA  NA   NA\n",
      "3            3   NA   NA 3.23   NA   NA   NA  NA   NA\n",
      "4            4   NA   NA   NA 2.96   NA   NA  NA   NA\n",
      "5            5   NA   NA   NA   NA 3.72   NA  NA   NA\n",
      "6            6   NA   NA   NA   NA   NA 3.21  NA   NA\n",
      "7            7   NA   NA   NA   NA   NA   NA 2.9   NA\n",
      "8            8   NA   NA   NA   NA   NA   NA  NA 3.61\n",
      "(2,4] \n",
      "Source: local data frame [8 x 9]\n",
      "\n",
      "  true_subtype    1    2    3   4    5    6    7    8\n",
      "1            1 3.87   NA   NA  NA   NA   NA   NA   NA\n",
      "2            2   NA 3.06   NA  NA   NA   NA   NA   NA\n",
      "3            3   NA   NA 3.12  NA   NA   NA   NA   NA\n",
      "4            4   NA   NA   NA 3.3   NA   NA   NA   NA\n",
      "5            5   NA   NA   NA  NA 3.94   NA   NA   NA\n",
      "6            6   NA   NA   NA  NA   NA 3.51   NA   NA\n",
      "7            7   NA   NA   NA  NA   NA   NA 3.64   NA\n",
      "8            8   NA   NA   NA  NA   NA   NA   NA 5.13\n",
      "(4,8] \n",
      "Source: local data frame [8 x 9]\n",
      "\n",
      "  true_subtype    1    2    3    4    5    6   7    8\n",
      "1            1 2.98   NA   NA   NA   NA   NA  NA   NA\n",
      "2            2   NA 3.23   NA   NA   NA   NA  NA   NA\n",
      "3            3   NA   NA 3.49   NA   NA   NA  NA   NA\n",
      "4            4   NA   NA   NA 4.37   NA   NA  NA   NA\n",
      "5            5   NA   NA   NA   NA 4.64   NA  NA   NA\n",
      "6            6   NA   NA   NA   NA   NA 3.91  NA   NA\n",
      "7            7   NA   NA   NA   NA   NA   NA 5.4   NA\n",
      "8            8   NA   NA   NA   NA   NA   NA  NA 3.48\n",
      "(8,25] \n",
      "Source: local data frame [8 x 9]\n",
      "\n",
      "  true_subtype    1    2    3    4    5    6    7    8\n",
      "1            1 4.77   NA   NA   NA   NA   NA   NA   NA\n",
      "2            2   NA 3.55   NA   NA   NA   NA   NA   NA\n",
      "3            3   NA   NA 3.85   NA   NA   NA   NA   NA\n",
      "4            4   NA   NA   NA 4.78   NA   NA   NA   NA\n",
      "5            5   NA   NA   NA   NA 4.63   NA   NA   NA\n",
      "6            6   NA   NA   NA   NA   NA 4.99   NA   NA\n",
      "7            7   NA   NA   NA   NA   NA   NA 6.66   NA\n",
      "8            8   NA   NA   NA   NA   NA   NA   NA 1.53\n"
     ]
    }
   ],
   "source": [
    "!Rscript score_predictions.R benchmark_pfvc_subtypes.csv"
   ]
  },
  {
   "cell_type": "markdown",
   "metadata": {},
   "source": [
    "These are the predictive accuracies that we get using the posterior MAP estimates of subtypes."
   ]
  },
  {
   "cell_type": "code",
   "execution_count": 628,
   "metadata": {
    "collapsed": false
   },
   "outputs": [
    {
     "name": "stdout",
     "output_type": "stream",
     "text": [
      "Loading required package: methods\n",
      "Source: local data frame [4 x 2]\n",
      "\n",
      "     bin   mae\n",
      "1  (1,2]  4.95\n",
      "2  (2,4]  6.96\n",
      "3  (4,8]  9.31\n",
      "4 (8,25] 11.05\n",
      "Source: local data frame [8 x 5]\n",
      "\n",
      "  true_subtype (1,2] (2,4] (4,8] (8,25]\n",
      "1            1  5.68  9.47  7.15  16.67\n",
      "2            2  4.01  4.31  6.38   6.68\n",
      "3            3  4.43  5.48  6.57   6.54\n",
      "4            4  4.87  7.12 11.05  14.80\n",
      "5            5  4.95  6.74  9.97  14.57\n",
      "6            6  5.10  9.07 10.64  10.67\n",
      "7            7  6.19  9.88 14.49  19.92\n",
      "8            8  5.45  6.12  3.48   1.53\n",
      "Source: local data frame [8 x 9]\n",
      "\n",
      "  true_subtype    1     2     3     4     5     6     7     8\n",
      "1            1 3.60  8.80 43.35 52.91    NA    NA    NA    NA\n",
      "2            2 8.02  3.43  7.61 20.67 11.93 31.94    NA    NA\n",
      "3            3   NA 10.38  3.62 12.09  8.81    NA 27.87    NA\n",
      "4            4   NA 16.80  7.36  3.18 13.37    NA 16.49    NA\n",
      "5            5   NA    NA  5.61 11.28  4.64 10.05 28.03 24.56\n",
      "6            6   NA    NA 21.57    NA 12.62  3.55  9.03 15.67\n",
      "7            7   NA 38.78  9.05 14.92 20.71 14.18  4.20  1.33\n",
      "8            8   NA    NA    NA 29.26 25.96    NA    NA  3.68\n",
      "(1,2] \n",
      "Source: local data frame [8 x 9]\n",
      "\n",
      "  true_subtype    1     2     3     4     5     6     7     8\n",
      "1            1 1.59  5.43 43.75    NA    NA    NA    NA    NA\n",
      "2            2 5.32  2.99  4.15 11.21  5.92 32.08    NA    NA\n",
      "3            3   NA  6.76  3.25  5.04 14.12    NA 24.78    NA\n",
      "4            4   NA  8.85  5.36  2.38  6.13    NA  9.11    NA\n",
      "5            5   NA    NA  2.71  3.16  3.52  6.71 16.45 17.33\n",
      "6            6   NA    NA 22.90    NA  8.25  2.19  3.36 13.86\n",
      "7            7   NA 38.67  7.18 10.64 11.05  6.56  2.75  1.02\n",
      "8            8   NA    NA    NA 29.26 23.81    NA    NA  3.25\n",
      "(2,4] \n",
      "Source: local data frame [8 x 9]\n",
      "\n",
      "  true_subtype    1     2     3     4     5     6     7     8\n",
      "1            1 3.52  9.24 43.53 38.68    NA    NA    NA    NA\n",
      "2            2 7.66  3.29  5.87 11.41  7.56 31.80    NA    NA\n",
      "3            3   NA  8.66  3.18  8.62 12.01    NA 30.95    NA\n",
      "4            4   NA 13.50  7.66  2.86 10.15    NA 10.99    NA\n",
      "5            5   NA    NA  3.79  5.49  4.53  8.78 20.29 19.36\n",
      "6            6   NA    NA 23.06    NA 12.76  3.04  6.71 13.98\n",
      "7            7   NA 38.99 10.66 11.93 17.49 11.75  3.02  0.78\n",
      "8            8   NA    NA    NA    NA 27.03    NA    NA  4.67\n",
      "(4,8] \n",
      "Source: local data frame [8 x 9]\n",
      "\n",
      "  true_subtype    1     2     3     4     5     6     7     8\n",
      "1            1 3.28 10.04 43.09    NA    NA    NA    NA    NA\n",
      "2            2 9.40  3.55  8.99 23.95  9.70    NA    NA    NA\n",
      "3            3   NA 10.81  3.75 13.78  6.34    NA    NA    NA\n",
      "4            4   NA 18.81  7.38  3.44 15.52    NA 19.28    NA\n",
      "5            5   NA    NA  5.74 11.10  5.26 11.87 35.20 27.97\n",
      "6            6   NA    NA 22.57    NA 16.26  3.37 10.71 15.95\n",
      "7            7   NA    NA    NA 15.66 23.88 18.11  6.18  1.62\n",
      "8            8   NA    NA    NA    NA    NA    NA    NA  3.48\n",
      "(8,25] \n",
      "Source: local data frame [8 x 9]\n",
      "\n",
      "  true_subtype    1     2     3     4     5     6     7     8\n",
      "1            1 5.03  9.60 43.10 56.47    NA    NA    NA    NA\n",
      "2            2 8.64  3.73 11.59 30.96 16.81    NA    NA    NA\n",
      "3            3   NA 13.20  4.03 20.09  5.25    NA    NA    NA\n",
      "4            4   NA 26.02 11.21  4.61 18.26    NA 19.50    NA\n",
      "5            5   NA    NA  6.22 19.01  5.23 19.26 34.63 33.28\n",
      "6            6   NA    NA 19.20    NA 12.00  5.53 14.88 21.48\n",
      "7            7   NA    NA    NA 27.70 29.10 21.28  7.65    NA\n",
      "8            8   NA    NA    NA    NA    NA    NA    NA  1.53\n"
     ]
    }
   ],
   "source": [
    "!Rscript score_predictions.R benchmark_pfvc_1y_subtypes.csv"
   ]
  },
  {
   "cell_type": "markdown",
   "metadata": {},
   "source": [
    "These are the predictive accuracies we get using the adjusted subtype predictions. Overall, we see that there are slight improvements, but nothing dramatic."
   ]
  },
  {
   "cell_type": "code",
   "execution_count": 629,
   "metadata": {
    "collapsed": true
   },
   "outputs": [
    {
     "name": "stdout",
     "output_type": "stream",
     "text": [
      "Loading required package: methods\n",
      "Source: local data frame [4 x 2]\n",
      "\n",
      "     bin   mae\n",
      "1  (1,2]  4.81\n",
      "2  (2,4]  6.48\n",
      "3  (4,8]  8.57\n",
      "4 (8,25] 10.20\n",
      "Source: local data frame [8 x 5]\n",
      "\n",
      "  true_subtype (1,2] (2,4] (4,8] (8,25]\n",
      "1            1  5.47  8.05  6.55  13.21\n",
      "2            2  3.90  4.00  5.30   7.10\n",
      "3            3  4.08  4.23  5.58   6.64\n",
      "4            4  4.32  6.09  8.93  11.89\n",
      "5            5  5.44  7.12  9.74  11.50\n",
      "6            6  5.68  8.98  9.87  10.82\n",
      "7            7  5.48  9.42 16.64  22.71\n",
      "8            8  4.47  6.12  3.48   1.53\n",
      "Source: local data frame [8 x 9]\n",
      "\n",
      "  true_subtype     1     2     3     4     5     6     7     8\n",
      "1            1  3.25    NA 28.67    NA 37.54    NA    NA    NA\n",
      "2            2    NA  3.34  8.00    NA  8.42 35.75    NA    NA\n",
      "3            3 19.12 12.70  3.58 12.95 11.96 23.81    NA    NA\n",
      "4            4 26.12    NA  8.45  3.54 14.39  4.33 18.26    NA\n",
      "5            5    NA    NA  5.97 12.99  4.15 12.05 25.43 32.72\n",
      "6            6    NA    NA 21.57  6.05 15.16  3.54  9.73    NA\n",
      "7            7    NA 42.37 10.30 20.26 21.30 13.41  4.05    NA\n",
      "8            8    NA    NA    NA    NA 25.96    NA 13.02  3.68\n",
      "(1,2] \n",
      "Source: local data frame [8 x 9]\n",
      "\n",
      "  true_subtype     1     2     3     4     5     6     7     8\n",
      "1            1  1.88    NA 19.83    NA    NA    NA    NA    NA\n",
      "2            2    NA  2.87  4.48    NA  6.39 32.48    NA    NA\n",
      "3            3 10.76  8.57  3.17 10.32 10.29 22.80    NA    NA\n",
      "4            4 16.74    NA  5.82  2.35  7.16  3.68  7.66    NA\n",
      "5            5    NA    NA  2.58  3.54  3.19  9.40 12.67 25.17\n",
      "6            6    NA    NA 22.90  8.97  9.06  2.65  4.98    NA\n",
      "7            7    NA 24.49  8.19 20.85 11.76  7.00  2.57    NA\n",
      "8            8    NA    NA    NA    NA 23.81    NA 13.02  3.25\n",
      "(2,4] \n",
      "Source: local data frame [8 x 9]\n",
      "\n",
      "  true_subtype     1     2     3     4     5     6     7     8\n",
      "1            1  3.21    NA 29.44    NA 33.78    NA    NA    NA\n",
      "2            2    NA  3.19  6.11    NA  4.24 34.37    NA    NA\n",
      "3            3 14.43  8.91  3.03  7.36 13.63 27.17    NA    NA\n",
      "4            4 23.64    NA  7.72  2.96 10.80  3.55 14.15    NA\n",
      "5            5    NA    NA  3.18  7.15  4.01 11.32 20.91 27.30\n",
      "6            6    NA    NA 23.06  9.19 14.46  3.23  8.26    NA\n",
      "7            7    NA 30.42 12.17 19.06 17.87 10.36  2.97    NA\n",
      "8            8    NA    NA    NA    NA 27.03    NA    NA  4.67\n",
      "(4,8] \n",
      "Source: local data frame [8 x 9]\n",
      "\n",
      "  true_subtype     1     2     3     4     5     6     7     8\n",
      "1            1  2.77    NA 27.33    NA    NA    NA    NA    NA\n",
      "2            2    NA  3.43  9.36    NA 10.68 36.33    NA    NA\n",
      "3            3 20.58 12.79  3.68 11.19    NA 23.67    NA    NA\n",
      "4            4 29.99    NA  8.91  4.11 16.10  2.93 21.31    NA\n",
      "5            5    NA    NA  5.26 14.13  4.66 12.29 30.57 35.59\n",
      "6            6    NA    NA 22.57  3.01 19.57  3.31 16.13    NA\n",
      "7            7    NA 44.20    NA    NA 23.11 16.98  5.99    NA\n",
      "8            8    NA    NA    NA    NA    NA    NA    NA  3.48\n",
      "(8,25] \n",
      "Source: local data frame [8 x 9]\n",
      "\n",
      "  true_subtype     1     2     3     4     5     6     7     8\n",
      "1            1  4.74    NA 43.10    NA 38.48    NA    NA    NA\n",
      "2            2    NA  3.72 11.58    NA  7.69 36.51    NA    NA\n",
      "3            3 26.46 14.94  4.22 18.41    NA 21.73    NA    NA\n",
      "4            4    NA    NA 13.83  5.26 18.90  5.26 23.26    NA\n",
      "5            5    NA    NA  7.50 25.44  4.45 14.90 39.10 37.95\n",
      "6            6    NA    NA 19.20    NA 19.07  5.10 18.84    NA\n",
      "7            7    NA 55.05    NA    NA 29.10 21.28  7.65    NA\n",
      "8            8    NA    NA    NA    NA    NA    NA    NA  1.53\n"
     ]
    }
   ],
   "source": [
    "!Rscript score_predictions.R benchmark_pfvc_1y_subtypes_coef_adjustment.csv"
   ]
  },
  {
   "cell_type": "code",
   "execution_count": 709,
   "metadata": {
    "collapsed": true
   },
   "outputs": [
    {
     "name": "stdout",
     "output_type": "stream",
     "text": [
      "Loading required package: methods\n",
      "Source: local data frame [4 x 2]\n",
      "\n",
      "     bin  mae\n",
      "1  (1,2] 4.65\n",
      "2  (2,4] 5.85\n",
      "3  (4,8] 8.05\n",
      "4 (8,25] 9.81\n",
      "Source: local data frame [8 x 5]\n",
      "\n",
      "  true_subtype (1,2] (2,4] (4,8] (8,25]\n",
      "1            1  6.35  8.62  6.73  13.28\n",
      "2            2  3.60  3.72  4.90   6.91\n",
      "3            3  4.61  4.79  6.42   7.74\n",
      "4            4  4.17  5.46  7.72   9.66\n",
      "5            5  5.16  6.74  9.51  10.35\n",
      "6            6  4.89  6.83  8.95  13.08\n",
      "7            7  5.51  8.00 14.78  17.99\n",
      "8            8  4.30  5.54  3.48   1.53\n",
      "Source: local data frame [8 x 9]\n",
      "\n",
      "  true_subtype     1     2     3     4     5     6     7     8\n",
      "1            1  3.25    NA 16.09    NA 44.00    NA    NA    NA\n",
      "2            2    NA  3.31  8.95    NA  9.75 36.14    NA    NA\n",
      "3            3 19.12 10.11  3.58 11.91  5.80 23.81    NA    NA\n",
      "4            4 26.12 14.73  9.58  4.01 13.07  4.33 18.26    NA\n",
      "5            5    NA    NA  6.73 10.81  4.44 11.81 26.76 31.99\n",
      "6            6    NA    NA    NA  4.58 15.36  3.79  8.46 18.06\n",
      "7            7    NA 38.65 14.35  9.06 20.14 12.96  3.96    NA\n",
      "8            8    NA    NA    NA    NA    NA 18.26 13.02  3.68\n",
      "(1,2] \n",
      "Source: local data frame [8 x 9]\n",
      "\n",
      "  true_subtype     1     2     3    4     5     6     7     8\n",
      "1            1  1.88    NA  7.87   NA 57.06    NA    NA    NA\n",
      "2            2    NA  2.83  4.74   NA  8.70 32.88    NA    NA\n",
      "3            3 10.76  5.66  3.03 9.35  6.81 22.80    NA    NA\n",
      "4            4 16.74  5.70  6.25 2.64  8.17  3.68  8.99    NA\n",
      "5            5    NA    NA  2.46 3.13  3.34  9.05 15.18 23.09\n",
      "6            6    NA    NA    NA 5.72  9.65  2.81  2.65  3.96\n",
      "7            7    NA 19.42 11.24 8.47 12.91  6.37  2.57    NA\n",
      "8            8    NA    NA    NA   NA    NA 18.41 13.02  3.25\n",
      "(2,4] \n",
      "Source: local data frame [8 x 9]\n",
      "\n",
      "  true_subtype     1     2     3     4     5     6     7     8\n",
      "1            1  3.21    NA 15.36    NA 45.66    NA    NA    NA\n",
      "2            2    NA  3.20  6.73    NA  8.38    NA    NA    NA\n",
      "3            3 14.43  6.69  2.83 10.34  6.65 27.17    NA    NA\n",
      "4            4 23.64 10.22  8.78  3.23 10.08  3.55 15.79    NA\n",
      "5            5    NA    NA  1.96  5.39  4.31 10.60 20.70 27.30\n",
      "6            6    NA    NA    NA  5.27 14.75  3.48 11.37  7.23\n",
      "7            7    NA 27.63 17.45  8.73 19.70  9.18  2.97    NA\n",
      "8            8    NA    NA    NA    NA    NA 18.18    NA  4.67\n",
      "(4,8] \n",
      "Source: local data frame [8 x 9]\n",
      "\n",
      "  true_subtype     1     2     3     4     5     6     7     8\n",
      "1            1  2.77    NA 22.07    NA 47.94    NA    NA    NA\n",
      "2            2    NA  3.41  9.98    NA 11.25 35.92    NA    NA\n",
      "3            3 20.58 10.24  3.87 10.20  2.60 23.67    NA    NA\n",
      "4            4 29.99 17.20 10.00  4.65 14.21  2.93 23.00    NA\n",
      "5            5    NA    NA  3.13 10.94  4.82 13.28 30.96 34.01\n",
      "6            6    NA    NA    NA  2.64 18.17  4.00    NA 15.08\n",
      "7            7    NA 44.20    NA 10.85 24.44 15.47  5.48    NA\n",
      "8            8    NA    NA    NA    NA    NA    NA    NA  3.48\n",
      "(8,25] \n",
      "Source: local data frame [8 x 9]\n",
      "\n",
      "  true_subtype     1     2     3     4     5     6     7     8\n",
      "1            1  4.74    NA    NA    NA 40.33    NA    NA    NA\n",
      "2            2    NA  3.68 11.81    NA  7.69 36.51    NA    NA\n",
      "3            3 26.46 14.29  4.26 17.48  6.68 21.73    NA    NA\n",
      "4            4    NA 23.72 15.63  5.83 17.96  5.26    NA    NA\n",
      "5            5    NA    NA  9.44 22.23  5.07 14.80 35.68 37.11\n",
      "6            6    NA    NA    NA    NA 16.72  5.71    NA 22.78\n",
      "7            7    NA 55.05    NA    NA    NA 17.64  7.65    NA\n",
      "8            8    NA    NA    NA    NA    NA    NA    NA  1.53\n"
     ]
    }
   ],
   "source": [
    "!Rscript score_predictions.R benchmark_pfvc_1y_subtypes_coef_true_adjustment.csv"
   ]
  },
  {
   "cell_type": "markdown",
   "metadata": {},
   "source": [
    "### Value at Year 1 Features"
   ]
  },
  {
   "cell_type": "code",
   "execution_count": 539,
   "metadata": {
    "collapsed": false
   },
   "outputs": [],
   "source": [
    "subtype_val_features1 = subtypes.copy()\n",
    "for m, n in zip(mlm1, aux_names):\n",
    "    subtype_val_features1 = add_val_features(subtype_val_features1, m, n, 1.0)"
   ]
  },
  {
   "cell_type": "code",
   "execution_count": 540,
   "metadata": {
    "collapsed": false
   },
   "outputs": [],
   "source": [
    "y = subtype_val_features1['subtype'].values - 1\n",
    "X = np.asarray(subtype_val_features1.iloc[:, 1:])\n",
    "X = np.concatenate((X, P), axis=1)\n",
    "X = StandardScaler().fit_transform(X)"
   ]
  },
  {
   "cell_type": "code",
   "execution_count": 541,
   "metadata": {
    "collapsed": false
   },
   "outputs": [
    {
     "name": "stdout",
     "output_type": "stream",
     "text": [
      "Starting run 0\n",
      "Starting run 1\n",
      "Starting run 2\n",
      "Starting run 3\n",
      "Starting run 4\n",
      "Starting run 5\n",
      "Starting run 6\n"
     ]
    }
   ],
   "source": [
    "val_models = []\n",
    "for i in range(P.shape[1]):\n",
    "    print('Starting run {}'.format(i))\n",
    "    Xi = X[yhat_posterior == i]\n",
    "    yi = y[yhat_posterior == i] == i\n",
    "    fi = ability_to_predict(Xi, yi)\n",
    "    val_models.append(fi)"
   ]
  },
  {
   "cell_type": "code",
   "execution_count": 542,
   "metadata": {
    "collapsed": false
   },
   "outputs": [
    {
     "name": "stdout",
     "output_type": "stream",
     "text": [
      "1.0\n",
      "0.746031746032\n",
      "1.0\n",
      "1.0\n",
      "0.597122302158\n",
      "1.0\n",
      "1.0\n"
     ]
    }
   ],
   "source": [
    "for m in val_models:\n",
    "    print(m.best_score_)"
   ]
  },
  {
   "cell_type": "code",
   "execution_count": 543,
   "metadata": {
    "collapsed": true
   },
   "outputs": [],
   "source": [
    "correct_map = np.zeros_like(y)\n",
    "for i, m in enumerate(val_models):\n",
    "    ix = yhat_posterior == i\n",
    "    Xi = X[ix]\n",
    "    yi = y[ix] == i\n",
    "    correct_map[ix] = cross_val_predict(m.best_estimator_, Xi, yi, cv=LeaveOneOut(yi.size))"
   ]
  },
  {
   "cell_type": "code",
   "execution_count": 544,
   "metadata": {
    "collapsed": true
   },
   "outputs": [],
   "source": [
    "yhat_val1 = np.zeros_like(y)\n",
    "yhat_val1[correct_map == 1] = yhat_posterior[correct_map == 1]\n",
    "yhat_val1[correct_map == 0] = np.argsort(P, axis=1)[correct_map == 0, -2]"
   ]
  },
  {
   "cell_type": "code",
   "execution_count": 545,
   "metadata": {
    "collapsed": false
   },
   "outputs": [
    {
     "data": {
      "text/plain": [
       "array([[ 18,   1,   1,   0,   0,   0,   0],\n",
       "       [  4, 111,  17,  16,   1,   2,   0],\n",
       "       [  1,   7, 121,   1,   0,   5,   0],\n",
       "       [  0,   6,   2,  88,   4,   2,   0],\n",
       "       [  1,   3,   7,  24, 112,  22,   9],\n",
       "       [  0,   0,   0,   2,   8,  42,   1],\n",
       "       [  0,   0,   0,   0,   2,   0,  31]])"
      ]
     },
     "execution_count": 545,
     "metadata": {},
     "output_type": "execute_result"
    }
   ],
   "source": [
    "confusion_matrix(y, yhat_val1).T"
   ]
  },
  {
   "cell_type": "code",
   "execution_count": 546,
   "metadata": {
    "collapsed": true
   },
   "outputs": [],
   "source": [
    "val1_subtypes = pd.DataFrame({'subtype': yhat_val1 + 1}, subtypes.index)\n",
    "val1_subtypes.to_csv('benchmark_pfvc_1y_subtypes_val_adjustment.csv')"
   ]
  },
  {
   "cell_type": "code",
   "execution_count": 633,
   "metadata": {
    "collapsed": true
   },
   "outputs": [
    {
     "name": "stdout",
     "output_type": "stream",
     "text": [
      "Loading required package: methods\n",
      "Source: local data frame [4 x 2]\n",
      "\n",
      "     bin   mae\n",
      "1  (1,2]  5.09\n",
      "2  (2,4]  6.87\n",
      "3  (4,8]  9.08\n",
      "4 (8,25] 10.15\n",
      "Source: local data frame [8 x 5]\n",
      "\n",
      "  true_subtype (1,2] (2,4] (4,8] (8,25]\n",
      "1            1  5.27  8.84  6.84  12.34\n",
      "2            2  3.57  3.81  5.33   6.33\n",
      "3            3  3.86  4.38  5.61   6.41\n",
      "4            4  4.46  5.65  8.48  11.28\n",
      "5            5  4.62  5.29  7.38   8.19\n",
      "6            6  6.97 12.25 16.43  17.24\n",
      "7            7  7.57 12.08 19.10  24.02\n",
      "8            8  5.00  7.38  6.79   7.29\n",
      "Source: local data frame [8 x 8]\n",
      "\n",
      "  true_subtype     1     2     3     4     5     6     7\n",
      "1            1  3.35 17.33 16.09    NA 37.54    NA    NA\n",
      "2            2 16.77  3.19  6.38 20.13 20.39    NA    NA\n",
      "3            3 16.94 10.83  3.51 15.40  9.53    NA    NA\n",
      "4            4    NA 18.31  6.52  3.73 14.54  3.34    NA\n",
      "5            5    NA    NA  3.40  8.18  4.68 15.57 38.06\n",
      "6            6    NA 34.52    NA  4.18 12.77  1.84 13.26\n",
      "7            7    NA 27.02 26.48  5.43 21.33  9.74    NA\n",
      "8            8    NA    NA    NA    NA 25.96 14.25  4.02\n",
      "(1,2] \n",
      "Source: local data frame [8 x 8]\n",
      "\n",
      "  true_subtype     1     2     3    4     5     6     7\n",
      "1            1  1.47 16.21  7.87   NA    NA    NA    NA\n",
      "2            2 17.49  2.65  3.31 7.33 20.71    NA    NA\n",
      "3            3  9.03  7.53  3.15   NA 14.12    NA    NA\n",
      "4            4    NA 12.65  3.46 2.34  7.48    NA    NA\n",
      "5            5    NA    NA  1.56 3.21  3.48 14.30 25.39\n",
      "6            6    NA 31.59    NA 4.72  7.61  2.33  4.51\n",
      "7            7    NA 26.51 13.21 4.52 12.38  4.45    NA\n",
      "8            8    NA    NA    NA   NA 23.81 10.38  2.75\n",
      "(2,4] \n",
      "Source: local data frame [8 x 8]\n",
      "\n",
      "  true_subtype     1     2     3     4     5     6     7\n",
      "1            1  3.33 15.79 15.36    NA 33.78    NA    NA\n",
      "2            2 17.21  3.02  4.63 15.01 17.04    NA    NA\n",
      "3            3 12.83  8.85  3.02  9.34 10.44    NA    NA\n",
      "4            4    NA 16.61  2.98  3.08 11.13  4.27    NA\n",
      "5            5    NA    NA  1.72  5.49  4.28 13.62 33.38\n",
      "6            6    NA 33.80    NA  5.34 13.21  1.88  9.13\n",
      "7            7    NA 27.71 20.14  5.90 18.83  8.22    NA\n",
      "8            8    NA    NA    NA    NA 27.03 18.39  4.04\n",
      "(4,8] \n",
      "Source: local data frame [8 x 8]\n",
      "\n",
      "  true_subtype     1     2     3     4     5     6     7\n",
      "1            1  2.93 17.66 22.07    NA    NA    NA    NA\n",
      "2            2 14.72  3.24  6.95 22.55 20.66    NA    NA\n",
      "3            3 19.38 11.47  3.56 13.10  3.56    NA    NA\n",
      "4            4    NA 23.02  6.50  4.40 16.19  3.11    NA\n",
      "5            5    NA    NA  3.02 11.08  5.11 16.31 41.43\n",
      "6            6    NA 35.78    NA  3.29 16.51  1.72 15.25\n",
      "7            7    NA    NA 28.79  5.57 25.15 13.64    NA\n",
      "8            8    NA    NA    NA    NA    NA 16.89  4.77\n",
      "(8,25] \n",
      "Source: local data frame [8 x 8]\n",
      "\n",
      "  true_subtype     1     2     3     4     5     6     7\n",
      "1            1  4.88 22.23    NA    NA 38.48    NA    NA\n",
      "2            2    NA  3.66 13.30 28.74 20.46    NA    NA\n",
      "3            3 25.77 13.29  4.08 19.45    NA    NA    NA\n",
      "4            4    NA 29.13 11.39  5.67 18.52    NA    NA\n",
      "5            5    NA    NA  5.02 22.00  5.91 17.41 43.50\n",
      "6            6    NA 34.02    NA  2.78 13.29  1.11 22.49\n",
      "7            7    NA    NA 42.64    NA 28.58 17.28    NA\n",
      "8            8    NA    NA    NA    NA    NA    NA  7.29\n"
     ]
    }
   ],
   "source": [
    "!Rscript score_predictions.R benchmark_pfvc_1y_subtypes_val_adjustment.csv"
   ]
  },
  {
   "cell_type": "markdown",
   "metadata": {},
   "source": [
    "## Year 2 Features"
   ]
  },
  {
   "cell_type": "code",
   "execution_count": 462,
   "metadata": {
    "collapsed": false
   },
   "outputs": [
    {
     "name": "stderr",
     "output_type": "stream",
     "text": [
      "/Users/pschulam/anaconda3/lib/python3.4/site-packages/statsmodels/regression/mixed_linear_model.py:1717: ConvergenceWarning: The MLE may be on the boundary of the parameter space.\n",
      "  warnings.warn(msg, ConvergenceWarning)\n"
     ]
    }
   ],
   "source": [
    "mlm2 = [fit_mlm(censor(m, 2.0)) for m in bm_auxm]"
   ]
  },
  {
   "cell_type": "code",
   "execution_count": 465,
   "metadata": {
    "collapsed": false
   },
   "outputs": [],
   "source": [
    "P = pd.read_csv('benchmark_pfvc_2y_posteriors.csv')\n",
    "P = np.asarray(P.iloc[:, 1:])\n",
    "yhat_posterior = np.argmax(P, axis=1)"
   ]
  },
  {
   "cell_type": "code",
   "execution_count": 466,
   "metadata": {
    "collapsed": false
   },
   "outputs": [
    {
     "data": {
      "text/plain": [
       "array([[ 19,   2,   0,   0,   0,   0,   0],\n",
       "       [  3, 101,  25,   5,   0,   0,   0],\n",
       "       [  1,  23, 111,  19,   0,   2,   0],\n",
       "       [  1,   1,  11,  76,  20,   8,   0],\n",
       "       [  0,   1,   1,  21, 102,   7,   4],\n",
       "       [  0,   0,   0,  10,   2,  52,   1],\n",
       "       [  0,   0,   0,   0,   3,   4,  36]])"
      ]
     },
     "execution_count": 466,
     "metadata": {},
     "output_type": "execute_result"
    }
   ],
   "source": [
    "y = subtypes['subtype'].values - 1\n",
    "confusion_matrix(y, yhat_posterior).T"
   ]
  },
  {
   "cell_type": "code",
   "execution_count": 467,
   "metadata": {
    "collapsed": false
   },
   "outputs": [
    {
     "name": "stdout",
     "output_type": "stream",
     "text": [
      "0.904761904762\n",
      "0.753731343284\n",
      "0.711538461538\n",
      "0.649572649573\n",
      "0.75\n",
      "0.8\n",
      "0.837209302326\n"
     ]
    }
   ],
   "source": [
    "for i in range(P.shape[1]):\n",
    "    yi = y[yhat_posterior == i] == i\n",
    "    print(naive_model_score(yi))"
   ]
  },
  {
   "cell_type": "markdown",
   "metadata": {},
   "source": [
    "### Intercept/Slope Features"
   ]
  },
  {
   "cell_type": "code",
   "execution_count": 468,
   "metadata": {
    "collapsed": true
   },
   "outputs": [],
   "source": [
    "subtype_features2 = subtypes.copy()\n",
    "for m, n in zip(mlm2, aux_names):\n",
    "    subtype_features2 = add_mlm_features(subtype_features2, m, n)"
   ]
  },
  {
   "cell_type": "code",
   "execution_count": 469,
   "metadata": {
    "collapsed": true
   },
   "outputs": [],
   "source": [
    "y = subtype_features['subtype'].values - 1\n",
    "X = np.asarray(subtype_features2.iloc[:, 1:])\n",
    "X = np.concatenate((X, P), axis=1)\n",
    "X = StandardScaler().fit_transform(X)"
   ]
  },
  {
   "cell_type": "code",
   "execution_count": 470,
   "metadata": {
    "collapsed": false
   },
   "outputs": [
    {
     "name": "stdout",
     "output_type": "stream",
     "text": [
      "Starting run 0\n",
      "Starting run 1\n",
      "Starting run 2\n",
      "Starting run 3\n",
      "Starting run 4\n",
      "Starting run 5\n",
      "Starting run 6\n"
     ]
    }
   ],
   "source": [
    "coef_models2 = []\n",
    "for i in range(P.shape[1]):\n",
    "    print('Starting run {}'.format(i))\n",
    "    Xi = X[yhat_posterior == i]\n",
    "    yi = y[yhat_posterior == i] == i\n",
    "    fi = ability_to_predict(Xi, yi)\n",
    "    coef_models2.append(fi)"
   ]
  },
  {
   "cell_type": "code",
   "execution_count": 471,
   "metadata": {
    "collapsed": false
   },
   "outputs": [
    {
     "name": "stdout",
     "output_type": "stream",
     "text": [
      "0.904761904762\n",
      "1.0\n",
      "0.711538461538\n",
      "0.709401709402\n",
      "1.0\n",
      "0.861538461538\n",
      "0.976744186047\n"
     ]
    }
   ],
   "source": [
    "for m in coef_models2:\n",
    "    print(m.best_score_)"
   ]
  },
  {
   "cell_type": "markdown",
   "metadata": {},
   "source": [
    "### Value at Year 2 Features"
   ]
  },
  {
   "cell_type": "code",
   "execution_count": 472,
   "metadata": {
    "collapsed": true
   },
   "outputs": [],
   "source": [
    "subtype_val_features2 = subtypes.copy()\n",
    "for m, n in zip(mlm2, aux_names):\n",
    "    subtype_val_features2 = add_val_features(subtype_val_features2, m, n, 2.0)"
   ]
  },
  {
   "cell_type": "code",
   "execution_count": 473,
   "metadata": {
    "collapsed": true
   },
   "outputs": [],
   "source": [
    "y = subtype_val_features2['subtype'].values - 1\n",
    "X = np.asarray(subtype_val_features2.iloc[:, 1:])\n",
    "X = np.concatenate((X, P), axis=1)\n",
    "X = StandardScaler().fit_transform(X)"
   ]
  },
  {
   "cell_type": "code",
   "execution_count": 475,
   "metadata": {
    "collapsed": false
   },
   "outputs": [
    {
     "name": "stdout",
     "output_type": "stream",
     "text": [
      "Starting run 0\n",
      "Starting run 1\n",
      "Starting run 2\n",
      "Starting run 3\n",
      "Starting run 4\n",
      "Starting run 5\n",
      "Starting run 6\n"
     ]
    }
   ],
   "source": [
    "val_models2 = []\n",
    "for i in range(P.shape[1]):\n",
    "    print('Starting run {}'.format(i))\n",
    "    Xi = X[yhat_posterior == i]\n",
    "    yi = y[yhat_posterior == i] == i\n",
    "    fi = ability_to_predict(Xi, yi)\n",
    "    val_models2.append(fi)"
   ]
  },
  {
   "cell_type": "code",
   "execution_count": 476,
   "metadata": {
    "collapsed": false
   },
   "outputs": [
    {
     "name": "stdout",
     "output_type": "stream",
     "text": [
      "0.904761904762\n",
      "1.0\n",
      "0.724358974359\n",
      "0.692307692308\n",
      "1.0\n",
      "0.815384615385\n",
      "0.93023255814\n"
     ]
    }
   ],
   "source": [
    "for m in val_models2:\n",
    "    print(m.best_score_)"
   ]
  },
  {
   "cell_type": "code",
   "execution_count": null,
   "metadata": {
    "collapsed": true
   },
   "outputs": [],
   "source": []
  }
 ],
 "metadata": {
  "kernelspec": {
   "display_name": "Python 3",
   "language": "python",
   "name": "python3"
  },
  "language_info": {
   "codemirror_mode": {
    "name": "ipython",
    "version": 3
   },
   "file_extension": ".py",
   "mimetype": "text/x-python",
   "name": "python",
   "nbconvert_exporter": "python",
   "pygments_lexer": "ipython3",
   "version": "3.4.3"
  }
 },
 "nbformat": 4,
 "nbformat_minor": 0
}
