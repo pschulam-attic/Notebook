{
 "cells": [
  {
   "cell_type": "code",
   "execution_count": 1,
   "metadata": {
    "collapsed": true
   },
   "outputs": [],
   "source": [
    "import numpy as np\n",
    "from scipy.optimize import minimize\n",
    "np.set_printoptions(precision=4)"
   ]
  },
  {
   "cell_type": "code",
   "execution_count": 2,
   "metadata": {
    "collapsed": true
   },
   "outputs": [],
   "source": [
    "def interpolate(P, QQ, seed=1):\n",
    "    rnd = np.random.RandomState(seed)\n",
    "    \n",
    "    M  = len(QQ)\n",
    "    w  = rnd.uniform(size=M)\n",
    "    w /= w.sum()\n",
    "    v  = np.log(w)\n",
    "    l  = 0.0\n",
    "    \n",
    "    obj = lambda x: interpolate_obj(P, QQ, x[:-1], x[-1])\n",
    "    jac = lambda x: interpolate_jac(P, QQ, x[:-1], x[-1])\n",
    "    sol = minimize(obj, np.r_[v, l], jac=jac, method='BFGS')\n",
    "    \n",
    "    w = np.exp(sol.x[:-1])\n",
    "    \n",
    "    return w\n",
    "    \n",
    "\n",
    "def interpolate_obj(P, QQ, v, l):\n",
    "    return perplexity(P, QQ, v) + l * (1 - np.exp(v).sum())\n",
    "\n",
    "\n",
    "def interpolate_jac(P, QQ, v, l):\n",
    "    g = np.zeros(v.size + 1)\n",
    "    g[:-1] = perplexity_jac(P, QQ, v)\n",
    "    g[-1]  = 1 - np.exp(v).sum()\n",
    "    return g\n",
    "\n",
    "\n",
    "def perplexity(P, QQ, v):\n",
    "    Q = mixture(QQ, v)\n",
    "    return - np.sum(P * np.log(Q))\n",
    "\n",
    "\n",
    "def perplexity_jac(P, QQ, v):\n",
    "    Q = mixture(QQ, v)\n",
    "    g = np.zeros_like(v)\n",
    "    \n",
    "    for i, vi in enumerate(v):\n",
    "        wi   = np.exp(vi)\n",
    "        g[i] = wi * np.sum(P * QQ[i] / Q)\n",
    "        \n",
    "    return g\n",
    "\n",
    "\n",
    "def mixture(QQ, v):\n",
    "    w = np.exp(v)\n",
    "    Q = np.zeros_like(QQ[0])\n",
    "    for wi, Qi in zip(w, QQ):\n",
    "        Q += wi * Qi\n",
    "    return Q"
   ]
  },
  {
   "cell_type": "code",
   "execution_count": 3,
   "metadata": {
    "collapsed": true
   },
   "outputs": [],
   "source": [
    "rnd = np.random.RandomState(0)\n",
    "\n",
    "N, K = 100, 5\n",
    "w    = np.array([0.7, 0.3])\n",
    "v    = np.log(w)\n",
    "Q1   = rnd.uniform(size=(N, K))\n",
    "Q1  /= Q1.sum(axis=1)[:, np.newaxis]\n",
    "Q2   = rnd.uniform(size=(N, K))\n",
    "Q2  /= Q2.sum(axis=1)[:, np.newaxis]\n",
    "P    = w[0] * Q1 + w[1] * Q2\n",
    "QQ   = [Q1, Q2]"
   ]
  },
  {
   "cell_type": "code",
   "execution_count": 7,
   "metadata": {
    "collapsed": false
   },
   "outputs": [],
   "source": [
    "W = [interpolate(P, QQ, s) for s in range(100)]"
   ]
  },
  {
   "cell_type": "code",
   "execution_count": 8,
   "metadata": {
    "collapsed": false
   },
   "outputs": [
    {
     "data": {
      "text/plain": [
       "151.56766495234976"
      ]
     },
     "execution_count": 8,
     "metadata": {},
     "output_type": "execute_result"
    }
   ],
   "source": [
    "perplexity(P, QQ, np.log(w))"
   ]
  },
  {
   "cell_type": "code",
   "execution_count": 9,
   "metadata": {
    "collapsed": false
   },
   "outputs": [
    {
     "data": {
      "text/plain": [
       "151.56791969837786"
      ]
     },
     "execution_count": 9,
     "metadata": {},
     "output_type": "execute_result"
    }
   ],
   "source": [
    "min(perplexity(P, QQ, np.log(w_hat)) for w_hat in W)"
   ]
  },
  {
   "cell_type": "code",
   "execution_count": null,
   "metadata": {
    "collapsed": true
   },
   "outputs": [],
   "source": []
  }
 ],
 "metadata": {
  "kernelspec": {
   "display_name": "Python 3",
   "language": "python",
   "name": "python3"
  },
  "language_info": {
   "codemirror_mode": {
    "name": "ipython",
    "version": 3
   },
   "file_extension": ".py",
   "mimetype": "text/x-python",
   "name": "python",
   "nbconvert_exporter": "python",
   "pygments_lexer": "ipython3",
   "version": "3.4.3"
  }
 },
 "nbformat": 4,
 "nbformat_minor": 0
}
