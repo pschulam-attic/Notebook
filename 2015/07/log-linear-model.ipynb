{
 "cells": [
  {
   "cell_type": "code",
   "execution_count": 1,
   "metadata": {
    "collapsed": true
   },
   "outputs": [],
   "source": [
    "import sys\n",
    "sys.path.append('/Users/pschulam/Git/mypy')"
   ]
  },
  {
   "cell_type": "code",
   "execution_count": 2,
   "metadata": {
    "collapsed": true
   },
   "outputs": [],
   "source": [
    "import os\n",
    "import pandas as pd\n",
    "import numpy as np\n",
    "import matplotlib.pyplot as plt\n",
    "import seaborn as sns\n",
    "import nips15\n",
    "import online\n",
    "import loglin\n",
    "%matplotlib inline"
   ]
  },
  {
   "cell_type": "code",
   "execution_count": 3,
   "metadata": {
    "collapsed": true
   },
   "outputs": [],
   "source": [
    "folds_dir = 'models/jmlr/folds'\n",
    "\n",
    "def load_model(marker, fold, folds_dir=folds_dir):\n",
    "    param_dir = os.path.join(folds_dir, marker, '{:02d}'.format(fold), 'param')\n",
    "    return nips15.NipsModel.from_directory(param_dir)"
   ]
  },
  {
   "cell_type": "code",
   "execution_count": 4,
   "metadata": {
    "collapsed": true
   },
   "outputs": [],
   "source": [
    "demographic = ['female', 'afram']\n",
    "molecular = ['aca', 'scl']\n",
    "\n",
    "pfvc_spec = {'t':'years_seen_full', 'y':'pfvc', 'x1':demographic, 'x2':demographic + molecular}\n",
    "pfvc = pd.read_csv('data/benchmark_pfvc.csv')\n",
    "pfvc_pd = [nips15.PatientData.from_tbl(tbl, **pfvc_spec) for _, tbl in pfvc.groupby('ptid')]\n",
    "\n",
    "tss_spec = {'t':'years_seen', 'y':'tss', 'x1':demographic, 'x2':demographic}\n",
    "tss = pd.read_csv('data/benchmark_tss.csv')\n",
    "tss_match = ['ptid'] + tss_spec['x1']\n",
    "tss = pd.merge(pfvc[tss_match], tss, 'left', tss_match).drop_duplicates()\n",
    "tss_pd = [nips15.PatientData.from_tbl(tbl, **tss_spec) for _, tbl in tss.groupby('ptid')]\n",
    "\n",
    "pdlco_spec = {'t':'years_seen', 'y':'pdlco', 'x1':demographic, 'x2':demographic}\n",
    "pdlco = pd.read_csv('data/benchmark_pdc.csv')\n",
    "pdlco_match = ['ptid'] + pdlco_spec['x1']\n",
    "pdlco = pd.merge(pfvc[pdlco_match], pdlco, 'left', pdlco_match).drop_duplicates()\n",
    "pdlco_pd = [nips15.PatientData.from_tbl(tbl, **pdlco_spec) for _, tbl in pdlco.groupby('ptid')]\n",
    "\n",
    "pv1_spec = {'t':'years_seen', 'y':'pfev1', 'x1':demographic, 'x2':demographic}\n",
    "pv1 = pd.read_csv('data/benchmark_pv1.csv')\n",
    "pv1_match = ['ptid'] + pv1_spec['x1']\n",
    "pv1 = pd.merge(pfvc[pv1_match], pv1, 'left', pv1_match).drop_duplicates()\n",
    "pv1_pd = [nips15.PatientData.from_tbl(tbl, **pv1_spec) for _, tbl in pv1.groupby('ptid')]\n",
    "\n",
    "sp_spec = {'t':'years_seen', 'y':'rvsp', 'x1':demographic, 'x2':demographic}\n",
    "sp = pd.read_csv('data/benchmark_sp.csv')\n",
    "sp_match = ['ptid'] + sp_spec['x1']\n",
    "sp = pd.merge(pfvc[sp_match], sp, 'left', sp_match).drop_duplicates()\n",
    "sp_pd = [nips15.PatientData.from_tbl(tbl, **sp_spec) for _, tbl in sp.groupby('ptid')]"
   ]
  },
  {
   "cell_type": "code",
   "execution_count": 5,
   "metadata": {
    "collapsed": true
   },
   "outputs": [],
   "source": [
    "get_ptids = lambda pd: [p.ptid for p in pd]\n",
    "pfvc_df   = pd.DataFrame({'ptid': get_ptids(pfvc_pd),  'pfvc' : pfvc_pd}).set_index('ptid')\n",
    "tss_df    = pd.DataFrame({'ptid': get_ptids(tss_pd),   'tss'  : tss_pd}).set_index('ptid')\n",
    "pdlco_df  = pd.DataFrame({'ptid': get_ptids(pdlco_pd), 'pdlco': pdlco_pd}).set_index('ptid')\n",
    "pv1_df    = pd.DataFrame({'ptid': get_ptids(pv1_pd),   'pv1'  : pdlco_pd}).set_index('ptid')\n",
    "sp_df     = pd.DataFrame({'ptid': get_ptids(sp_pd),    'rvsp' : sp_pd}).set_index('ptid')"
   ]
  },
  {
   "cell_type": "code",
   "execution_count": 6,
   "metadata": {
    "collapsed": true
   },
   "outputs": [],
   "source": [
    "folds_df = pfvc.loc[:, ['ptid', 'fold']].drop_duplicates().set_index('ptid')"
   ]
  },
  {
   "cell_type": "code",
   "execution_count": 7,
   "metadata": {
    "collapsed": true
   },
   "outputs": [],
   "source": [
    "patient_data = pd.concat([folds_df, pfvc_df, tss_df, pdlco_df, pv1_df, sp_df], axis=1, join='inner')"
   ]
  },
  {
   "cell_type": "code",
   "execution_count": 8,
   "metadata": {
    "collapsed": false
   },
   "outputs": [],
   "source": [
    "def make_examples(patient_data, col_names, models, censor_time, aux_censor=None):\n",
    "    marker_histories = zip(*[patient_data[n] for n in col_names])\n",
    "    examples = []\n",
    "    for i, histories in enumerate(marker_histories):\n",
    "        X = []\n",
    "        for j, h in enumerate(histories):\n",
    "            if j > 0 and aux_censor is not None:\n",
    "                d_obs = h.truncate(aux_censor).unpack()\n",
    "            else:\n",
    "                d_obs = h.truncate(censor_time).unpack()\n",
    "            X.append(d_obs)\n",
    "            \n",
    "        X_unobs = []\n",
    "        for j, (m, h) in enumerate(zip(models, histories)):\n",
    "            if j > 0 and aux_censor is not None:\n",
    "                d_unobs = h.truncate(aux_censor, after=True).unpack()\n",
    "            else:\n",
    "                d_unobs = h.truncate(censor_time, after=True).unpack()\n",
    "                \n",
    "            X_unobs.append(d_unobs)\n",
    "            \n",
    "        p = models[0].posterior(*histories[0].unpack())\n",
    "        y_hat = np.argmax(p)\n",
    "        \n",
    "        y = (y_hat, X_unobs)\n",
    "            \n",
    "        ex = (X, y)\n",
    "        examples.append(ex)\n",
    "        \n",
    "    return examples"
   ]
  },
  {
   "cell_type": "code",
   "execution_count": 9,
   "metadata": {
    "collapsed": false
   },
   "outputs": [],
   "source": [
    "import imp\n",
    "imp.reload(loglin)\n",
    "from mypy.util import check_grad\n",
    "\n",
    "import lbfgs\n",
    "\n",
    "import logging; imp.reload(logging)\n",
    "from scipy.optimize import minimize\n",
    "logging.basicConfig(level=logging.INFO)"
   ]
  },
  {
   "cell_type": "markdown",
   "metadata": {},
   "source": [
    "model_posteriors = np.zeros((patient_data.shape[0], 8))\n",
    "np.savetxt('param/model_posteriors.dat', model_posteriors)"
   ]
  },
  {
   "cell_type": "code",
   "execution_count": null,
   "metadata": {
    "collapsed": false
   },
   "outputs": [
    {
     "name": "stderr",
     "output_type": "stream",
     "text": [
      "INFO:root:Evaluated gradient: ||g(w)||_inf = 0.06385184\n",
      "INFO:root:Evaluated objective: f(w) = 26.19277553, ||w||_0 = 62\n",
      "INFO:root:Evaluated objective: f(w) = 26.16199755, ||w||_0 = 62\n",
      "INFO:root:Evaluated gradient: ||g(w)||_inf = 0.05596029\n",
      "INFO:root:Evaluated objective: f(w) = 26.06112196, ||w||_0 = 62\n",
      "INFO:root:Evaluated gradient: ||g(w)||_inf = 0.02891547\n",
      "INFO:root:Evaluated objective: f(w) = 26.04087442, ||w||_0 = 62\n",
      "INFO:root:Evaluated gradient: ||g(w)||_inf = 0.06488199\n",
      "INFO:root:Evaluated objective: f(w) = 26.01382958, ||w||_0 = 62\n",
      "INFO:root:Evaluated gradient: ||g(w)||_inf = 0.02812944\n",
      "INFO:root:Evaluated objective: f(w) = 26.00748994, ||w||_0 = 62\n",
      "INFO:root:Evaluated gradient: ||g(w)||_inf = 0.01398133\n",
      "INFO:root:Evaluated objective: f(w) = 26.00000737, ||w||_0 = 62\n",
      "INFO:root:Evaluated gradient: ||g(w)||_inf = 0.01345417\n",
      "INFO:root:Evaluated objective: f(w) = 25.98613041, ||w||_0 = 62\n",
      "INFO:root:Evaluated gradient: ||g(w)||_inf = 0.01340546\n",
      "INFO:root:Evaluated objective: f(w) = 25.96392209, ||w||_0 = 62\n",
      "INFO:root:Evaluated gradient: ||g(w)||_inf = 0.01787800\n",
      "INFO:root:Evaluated objective: f(w) = 25.96140050, ||w||_0 = 62\n",
      "INFO:root:Evaluated gradient: ||g(w)||_inf = 0.02279050\n",
      "INFO:root:Evaluated objective: f(w) = 25.95722692, ||w||_0 = 62\n",
      "INFO:root:Evaluated gradient: ||g(w)||_inf = 0.01570806\n",
      "INFO:root:Evaluated objective: f(w) = 25.95524666, ||w||_0 = 62\n",
      "INFO:root:Evaluated gradient: ||g(w)||_inf = 0.01068433\n",
      "INFO:root:Evaluated objective: f(w) = 25.95252426, ||w||_0 = 62\n",
      "INFO:root:Evaluated gradient: ||g(w)||_inf = 0.00987997\n",
      "INFO:root:Evaluated objective: f(w) = 25.95116896, ||w||_0 = 62\n",
      "INFO:root:Evaluated gradient: ||g(w)||_inf = 0.00998793\n",
      "INFO:root:Evaluated objective: f(w) = 25.94912359, ||w||_0 = 62\n",
      "INFO:root:Evaluated gradient: ||g(w)||_inf = 0.01039782\n",
      "INFO:root:Evaluated objective: f(w) = 25.94555483, ||w||_0 = 62\n",
      "INFO:root:Evaluated gradient: ||g(w)||_inf = 0.01267054\n",
      "INFO:root:Evaluated objective: f(w) = 25.93925878, ||w||_0 = 62\n",
      "INFO:root:Evaluated gradient: ||g(w)||_inf = 0.01949581\n",
      "INFO:root:Evaluated objective: f(w) = 25.92849083, ||w||_0 = 62\n",
      "INFO:root:Evaluated gradient: ||g(w)||_inf = 0.02854452\n",
      "INFO:root:Evaluated objective: f(w) = 25.91613825, ||w||_0 = 62\n",
      "INFO:root:Evaluated gradient: ||g(w)||_inf = 0.03548230\n",
      "INFO:root:Evaluated objective: f(w) = 25.91166426, ||w||_0 = 62\n",
      "INFO:root:Evaluated gradient: ||g(w)||_inf = 0.02845445\n",
      "INFO:root:Evaluated objective: f(w) = 25.90413288, ||w||_0 = 62\n",
      "INFO:root:Evaluated gradient: ||g(w)||_inf = 0.01769487\n",
      "INFO:root:Evaluated objective: f(w) = 25.89343210, ||w||_0 = 62\n",
      "INFO:root:Evaluated gradient: ||g(w)||_inf = 0.01872036\n",
      "INFO:root:Evaluated objective: f(w) = 25.88724614, ||w||_0 = 62\n",
      "INFO:root:Evaluated gradient: ||g(w)||_inf = 0.01980360\n",
      "INFO:root:Evaluated objective: f(w) = 25.88605632, ||w||_0 = 62\n",
      "INFO:root:Evaluated gradient: ||g(w)||_inf = 0.01041012\n",
      "INFO:root:Evaluated objective: f(w) = 25.88408523, ||w||_0 = 62\n",
      "INFO:root:Evaluated gradient: ||g(w)||_inf = 0.00970422\n",
      "INFO:root:Evaluated objective: f(w) = 25.88145509, ||w||_0 = 62\n",
      "INFO:root:Evaluated gradient: ||g(w)||_inf = 0.00744479\n",
      "INFO:root:Evaluated objective: f(w) = 25.87994680, ||w||_0 = 62\n",
      "INFO:root:Evaluated gradient: ||g(w)||_inf = 0.00698571\n",
      "INFO:root:Evaluated objective: f(w) = 25.87805836, ||w||_0 = 62\n",
      "INFO:root:Evaluated gradient: ||g(w)||_inf = 0.00624440\n"
     ]
    },
    {
     "name": "stdout",
     "output_type": "stream",
     "text": [
      "Starting fold 1\n",
      "Starting fold 2"
     ]
    },
    {
     "name": "stderr",
     "output_type": "stream",
     "text": [
      "INFO:root:Evaluated gradient: ||g(w)||_inf = 0.07572374\n",
      "INFO:root:Evaluated objective: f(w) = 26.21435243, ||w||_0 = 62\n",
      "INFO:root:Evaluated objective: f(w) = 26.17825543, ||w||_0 = 62\n",
      "INFO:root:Evaluated gradient: ||g(w)||_inf = 0.06828506\n",
      "INFO:root:Evaluated objective: f(w) = 26.05092472, ||w||_0 = 62\n",
      "INFO:root:Evaluated gradient: ||g(w)||_inf = 0.03347872\n",
      "INFO:root:Evaluated objective: f(w) = 26.16635003, ||w||_0 = 62\n",
      "INFO:root:Evaluated gradient: ||g(w)||_inf = 0.13419486\n",
      "INFO:root:Evaluated objective: f(w) = 26.00077005, ||w||_0 = 62\n",
      "INFO:root:Evaluated gradient: ||g(w)||_inf = 0.01095925\n",
      "INFO:root:Evaluated objective: f(w) = 25.99807265, ||w||_0 = 62\n",
      "INFO:root:Evaluated gradient: ||g(w)||_inf = 0.01403984\n",
      "INFO:root:Evaluated objective: f(w) = 25.98838577, ||w||_0 = 62\n",
      "INFO:root:Evaluated gradient: ||g(w)||_inf = 0.02998577\n",
      "INFO:root:Evaluated objective: f(w) = 25.96167699, ||w||_0 = 62\n",
      "INFO:root:Evaluated gradient: ||g(w)||_inf = 0.05572596\n",
      "INFO:root:Evaluated objective: f(w) = 25.98917629, ||w||_0 = 62\n",
      "INFO:root:Evaluated gradient: ||g(w)||_inf = 0.08440977\n",
      "INFO:root:Evaluated objective: f(w) = 25.91578060, ||w||_0 = 62\n",
      "INFO:root:Evaluated gradient: ||g(w)||_inf = 0.07478862\n",
      "INFO:root:Evaluated objective: f(w) = 26.15725404, ||w||_0 = 62\n",
      "INFO:root:Evaluated gradient: ||g(w)||_inf = 0.17066312\n",
      "INFO:root:Evaluated objective: f(w) = 25.91047521, ||w||_0 = 62\n",
      "INFO:root:Evaluated gradient: ||g(w)||_inf = 0.06616322\n",
      "INFO:root:Evaluated objective: f(w) = 25.90036271, ||w||_0 = 62\n",
      "INFO:root:Evaluated gradient: ||g(w)||_inf = 0.05735782\n",
      "INFO:root:Evaluated objective: f(w) = 25.88234016, ||w||_0 = 62\n",
      "INFO:root:Evaluated gradient: ||g(w)||_inf = 0.04269756\n",
      "INFO:root:Evaluated objective: f(w) = 25.86003181, ||w||_0 = 62\n",
      "INFO:root:Evaluated gradient: ||g(w)||_inf = 0.01268919\n",
      "INFO:root:Evaluated objective: f(w) = 25.85694549, ||w||_0 = 62\n",
      "INFO:root:Evaluated gradient: ||g(w)||_inf = 0.01163640\n",
      "INFO:root:Evaluated objective: f(w) = 25.85595818, ||w||_0 = 62\n",
      "INFO:root:Evaluated gradient: ||g(w)||_inf = 0.01095887\n",
      "INFO:root:Evaluated objective: f(w) = 25.85434432, ||w||_0 = 62\n",
      "INFO:root:Evaluated gradient: ||g(w)||_inf = 0.00939903\n",
      "INFO:root:Evaluated objective: f(w) = 25.85200019, ||w||_0 = 62\n",
      "INFO:root:Evaluated gradient: ||g(w)||_inf = 0.00638395\n",
      "INFO:root:Evaluated objective: f(w) = 25.85037943, ||w||_0 = 62\n",
      "INFO:root:Evaluated gradient: ||g(w)||_inf = 0.00844387\n",
      "INFO:root:Evaluated objective: f(w) = 25.84905210, ||w||_0 = 62\n",
      "INFO:root:Evaluated gradient: ||g(w)||_inf = 0.01034797\n",
      "INFO:root:Evaluated objective: f(w) = 25.84725082, ||w||_0 = 62\n",
      "INFO:root:Evaluated gradient: ||g(w)||_inf = 0.01006467\n",
      "INFO:root:Evaluated objective: f(w) = 25.84546324, ||w||_0 = 62\n",
      "INFO:root:Evaluated gradient: ||g(w)||_inf = 0.00729467\n",
      "INFO:root:Evaluated objective: f(w) = 25.84321498, ||w||_0 = 62\n",
      "INFO:root:Evaluated gradient: ||g(w)||_inf = 0.00845462\n",
      "INFO:root:Evaluated objective: f(w) = 25.83948849, ||w||_0 = 62\n",
      "INFO:root:Evaluated gradient: ||g(w)||_inf = 0.00881287\n",
      "INFO:root:Evaluated objective: f(w) = 25.83416731, ||w||_0 = 62\n",
      "INFO:root:Evaluated gradient: ||g(w)||_inf = 0.00814045\n",
      "INFO:root:Evaluated objective: f(w) = 25.83000361, ||w||_0 = 62\n",
      "INFO:root:Evaluated gradient: ||g(w)||_inf = 0.01414700\n",
      "INFO:root:Evaluated objective: f(w) = 25.82335401, ||w||_0 = 62\n",
      "INFO:root:Evaluated gradient: ||g(w)||_inf = 0.02389759\n",
      "INFO:root:Evaluated objective: f(w) = 25.82110142, ||w||_0 = 62\n",
      "INFO:root:Evaluated gradient: ||g(w)||_inf = 0.02043112\n",
      "INFO:root:Evaluated objective: f(w) = 25.81686973, ||w||_0 = 62\n",
      "INFO:root:Evaluated gradient: ||g(w)||_inf = 0.01704989\n",
      "INFO:root:Evaluated objective: f(w) = 25.80904594, ||w||_0 = 62\n",
      "INFO:root:Evaluated gradient: ||g(w)||_inf = 0.01352094\n",
      "INFO:root:Evaluated objective: f(w) = 25.79640332, ||w||_0 = 62\n",
      "INFO:root:Evaluated gradient: ||g(w)||_inf = 0.01150087\n"
     ]
    },
    {
     "name": "stdout",
     "output_type": "stream",
     "text": [
      "\n",
      "Starting fold 3"
     ]
    },
    {
     "name": "stderr",
     "output_type": "stream",
     "text": [
      "INFO:root:Evaluated gradient: ||g(w)||_inf = 0.07297798\n",
      "INFO:root:Evaluated objective: f(w) = 26.19601986, ||w||_0 = 62\n",
      "INFO:root:Evaluated objective: f(w) = 26.15646660, ||w||_0 = 62\n",
      "INFO:root:Evaluated gradient: ||g(w)||_inf = 0.06394140\n",
      "INFO:root:Evaluated objective: f(w) = 26.03291911, ||w||_0 = 62\n",
      "INFO:root:Evaluated gradient: ||g(w)||_inf = 0.03106983\n",
      "INFO:root:Evaluated objective: f(w) = 26.00190271, ||w||_0 = 62\n",
      "INFO:root:Evaluated gradient: ||g(w)||_inf = 0.04663964\n",
      "INFO:root:Evaluated objective: f(w) = 25.98701163, ||w||_0 = 62\n",
      "INFO:root:Evaluated gradient: ||g(w)||_inf = 0.01965740\n",
      "INFO:root:Evaluated objective: f(w) = 25.98065870, ||w||_0 = 62\n",
      "INFO:root:Evaluated gradient: ||g(w)||_inf = 0.01433840\n",
      "INFO:root:Evaluated objective: f(w) = 25.96903590, ||w||_0 = 62\n",
      "INFO:root:Evaluated gradient: ||g(w)||_inf = 0.01423708\n",
      "INFO:root:Evaluated objective: f(w) = 25.94925450, ||w||_0 = 62\n",
      "INFO:root:Evaluated gradient: ||g(w)||_inf = 0.01183210\n",
      "INFO:root:Evaluated objective: f(w) = 25.94530644, ||w||_0 = 62\n",
      "INFO:root:Evaluated gradient: ||g(w)||_inf = 0.02849880\n",
      "INFO:root:Evaluated objective: f(w) = 25.93711642, ||w||_0 = 62\n",
      "INFO:root:Evaluated gradient: ||g(w)||_inf = 0.01285399\n",
      "INFO:root:Evaluated objective: f(w) = 25.93498027, ||w||_0 = 62\n",
      "INFO:root:Evaluated gradient: ||g(w)||_inf = 0.00866772\n",
      "INFO:root:Evaluated objective: f(w) = 25.93324074, ||w||_0 = 62\n",
      "INFO:root:Evaluated gradient: ||g(w)||_inf = 0.00884093\n",
      "INFO:root:Evaluated objective: f(w) = 25.93207444, ||w||_0 = 62\n",
      "INFO:root:Evaluated gradient: ||g(w)||_inf = 0.00793240\n",
      "INFO:root:Evaluated objective: f(w) = 25.93105910, ||w||_0 = 62\n",
      "INFO:root:Evaluated gradient: ||g(w)||_inf = 0.00770036\n",
      "INFO:root:Evaluated objective: f(w) = 25.92915718, ||w||_0 = 62\n",
      "INFO:root:Evaluated gradient: ||g(w)||_inf = 0.00880289\n",
      "INFO:root:Evaluated objective: f(w) = 25.92558132, ||w||_0 = 62\n",
      "INFO:root:Evaluated gradient: ||g(w)||_inf = 0.01083103\n",
      "INFO:root:Evaluated objective: f(w) = 25.91900190, ||w||_0 = 62\n",
      "INFO:root:Evaluated gradient: ||g(w)||_inf = 0.01423350\n",
      "INFO:root:Evaluated objective: f(w) = 25.90783552, ||w||_0 = 62\n",
      "INFO:root:Evaluated gradient: ||g(w)||_inf = 0.01899549\n",
      "INFO:root:Evaluated objective: f(w) = 25.89941595, ||w||_0 = 62\n",
      "INFO:root:Evaluated gradient: ||g(w)||_inf = 0.01666920\n",
      "INFO:root:Evaluated objective: f(w) = 25.89599840, ||w||_0 = 62\n",
      "INFO:root:Evaluated gradient: ||g(w)||_inf = 0.01583193\n",
      "INFO:root:Evaluated objective: f(w) = 25.89280086, ||w||_0 = 62\n",
      "INFO:root:Evaluated gradient: ||g(w)||_inf = 0.01194796\n",
      "INFO:root:Evaluated objective: f(w) = 25.88706703, ||w||_0 = 62\n",
      "INFO:root:Evaluated gradient: ||g(w)||_inf = 0.01102326\n",
      "INFO:root:Evaluated objective: f(w) = 25.87841657, ||w||_0 = 62\n",
      "INFO:root:Evaluated gradient: ||g(w)||_inf = 0.01002413\n",
      "INFO:root:Evaluated objective: f(w) = 25.87498875, ||w||_0 = 62\n",
      "INFO:root:Evaluated gradient: ||g(w)||_inf = 0.01137398\n",
      "INFO:root:Evaluated objective: f(w) = 25.87343237, ||w||_0 = 62\n",
      "INFO:root:Evaluated gradient: ||g(w)||_inf = 0.01176760\n",
      "INFO:root:Evaluated objective: f(w) = 25.87080274, ||w||_0 = 62\n",
      "INFO:root:Evaluated gradient: ||g(w)||_inf = 0.00965805\n",
      "INFO:root:Evaluated objective: f(w) = 25.86725959, ||w||_0 = 62\n",
      "INFO:root:Evaluated gradient: ||g(w)||_inf = 0.00632855\n",
      "INFO:root:Evaluated objective: f(w) = 25.86615572, ||w||_0 = 62\n",
      "INFO:root:Evaluated gradient: ||g(w)||_inf = 0.00573391\n"
     ]
    },
    {
     "name": "stdout",
     "output_type": "stream",
     "text": [
      "\n",
      "Starting fold 4"
     ]
    },
    {
     "name": "stderr",
     "output_type": "stream",
     "text": [
      "INFO:root:Evaluated gradient: ||g(w)||_inf = 0.07513933\n",
      "INFO:root:Evaluated objective: f(w) = 26.64875760, ||w||_0 = 62\n",
      "INFO:root:Evaluated objective: f(w) = 26.60051803, ||w||_0 = 62\n",
      "INFO:root:Evaluated gradient: ||g(w)||_inf = 0.06281193\n",
      "INFO:root:Evaluated objective: f(w) = 26.46289799, ||w||_0 = 62\n",
      "INFO:root:Evaluated gradient: ||g(w)||_inf = 0.03265067\n",
      "INFO:root:Evaluated objective: f(w) = 26.42170742, ||w||_0 = 62\n",
      "INFO:root:Evaluated gradient: ||g(w)||_inf = 0.03603258\n",
      "INFO:root:Evaluated objective: f(w) = 26.41067364, ||w||_0 = 62\n",
      "INFO:root:Evaluated gradient: ||g(w)||_inf = 0.03129571\n",
      "INFO:root:Evaluated objective: f(w) = 26.37609802, ||w||_0 = 62\n",
      "INFO:root:Evaluated gradient: ||g(w)||_inf = 0.01402146\n",
      "INFO:root:Evaluated objective: f(w) = 26.36479229, ||w||_0 = 62\n",
      "INFO:root:Evaluated gradient: ||g(w)||_inf = 0.03344019\n",
      "INFO:root:Evaluated objective: f(w) = 26.35655069, ||w||_0 = 62\n",
      "INFO:root:Evaluated gradient: ||g(w)||_inf = 0.00836535\n",
      "INFO:root:Evaluated objective: f(w) = 26.35542077, ||w||_0 = 62\n",
      "INFO:root:Evaluated gradient: ||g(w)||_inf = 0.00786807\n",
      "INFO:root:Evaluated objective: f(w) = 26.35193948, ||w||_0 = 62\n",
      "INFO:root:Evaluated gradient: ||g(w)||_inf = 0.01318553\n",
      "INFO:root:Evaluated objective: f(w) = 26.34450858, ||w||_0 = 62\n",
      "INFO:root:Evaluated gradient: ||g(w)||_inf = 0.01522046\n",
      "INFO:root:Evaluated objective: f(w) = 26.33498565, ||w||_0 = 62\n",
      "INFO:root:Evaluated gradient: ||g(w)||_inf = 0.01711384\n",
      "INFO:root:Evaluated objective: f(w) = 26.32870589, ||w||_0 = 62\n",
      "INFO:root:Evaluated gradient: ||g(w)||_inf = 0.02698331\n",
      "INFO:root:Evaluated objective: f(w) = 26.31852733, ||w||_0 = 62\n",
      "INFO:root:Evaluated gradient: ||g(w)||_inf = 0.03476542\n"
     ]
    }
   ],
   "source": [
    "model_names = ['pfvc', 'tss', 'pdc', 'pv1']\n",
    "col_names   = ['pfvc', 'tss', 'pdlco', 'pv1']\n",
    "\n",
    "censor = 1.0\n",
    "folds = [k + 1 for k in range(10)]\n",
    "max_iterations = 25\n",
    "penalty = 0.0\n",
    "\n",
    "model_posteriors = np.zeros((patient_data.shape[0], 8))\n",
    "posteriors_file = 'param/l1_trim_model_posteriors_{:.01e}'.format(penalty)\n",
    "np.savetxt(posteriors_file, model_posteriors)\n",
    "\n",
    "all_models = []\n",
    "\n",
    "for fold in folds:\n",
    "    print('Starting fold {}'.format(fold))\n",
    "    \n",
    "    model_posteriors = np.loadtxt(posteriors_file)\n",
    "    \n",
    "    models = [load_model(m, fold) for m in model_names]\n",
    "    test = patient_data['fold'].values == fold\n",
    "    train = ~test\n",
    "\n",
    "    train_data = make_examples(patient_data[train], col_names, models, censor, censor)\n",
    "    test_data = make_examples(patient_data[test], col_names, models, censor, censor)\n",
    "\n",
    "    model = loglin.SubtypeModel(penalty, models, censor, regularizer='l2', maxiter=max_iterations)\n",
    "    model.fit(train_data)\n",
    "    \n",
    "    all_models.append(model)\n",
    "\n",
    "    model_posteriors[test, :] = model.proba([X for X, _ in test_data])\n",
    "    np.savetxt(posteriors_file, model_posteriors)"
   ]
  },
  {
   "cell_type": "code",
   "execution_count": 35,
   "metadata": {
    "collapsed": false
   },
   "outputs": [],
   "source": [
    "W0 = all_models[0].objective.scorer.weights"
   ]
  },
  {
   "cell_type": "code",
   "execution_count": 42,
   "metadata": {
    "collapsed": false
   },
   "outputs": [
    {
     "data": {
      "text/plain": [
       "array([[-0.69,  0.19, -0.15, -1.21, -0.14,  0.25],\n",
       "       [-1.15,  1.48, -0.03,  0.39,  0.1 , -0.  ],\n",
       "       [-0.56,  0.  , -0.09, -0.01, -0.67,  0.29],\n",
       "       [-0.53,  0.04, -0.83,  0.  , -0.88, -0.86],\n",
       "       [-0.54,  0.39,  0.  ,  0.  , -0.59, -0.13],\n",
       "       [-0.01,  0.65, -0.49, -1.27,  0.36,  0.52],\n",
       "       [ 0.5 ,  0.2 , -0.98, -0.56, -1.23, -0.36],\n",
       "       [ 1.82, -2.  ,  0.41,  0.  , -0.21, -0.33]])"
      ]
     },
     "execution_count": 42,
     "metadata": {},
     "output_type": "execute_result"
    }
   ],
   "source": [
    "np.round(W0.pairwise(1), 2)"
   ]
  },
  {
   "cell_type": "code",
   "execution_count": 28,
   "metadata": {
    "collapsed": true
   },
   "outputs": [],
   "source": [
    "posterior_tbl = pd.DataFrame(model_posteriors)\n",
    "posterior_tbl.index = patient_data.index\n",
    "posterior_tbl.columns = ['p{}'.format(i) for i in range(1, 9)]"
   ]
  },
  {
   "cell_type": "code",
   "execution_count": 29,
   "metadata": {
    "collapsed": true
   },
   "outputs": [],
   "source": [
    "posterior_tbl.to_csv('l1_trim_lgln_posteriors_{:.01e}.csv'.format(penalty))"
   ]
  },
  {
   "cell_type": "code",
   "execution_count": null,
   "metadata": {
    "collapsed": true
   },
   "outputs": [],
   "source": []
  }
 ],
 "metadata": {
  "kernelspec": {
   "display_name": "Python 3",
   "language": "python",
   "name": "python3"
  },
  "language_info": {
   "codemirror_mode": {
    "name": "ipython",
    "version": 3
   },
   "file_extension": ".py",
   "mimetype": "text/x-python",
   "name": "python",
   "nbconvert_exporter": "python",
   "pygments_lexer": "ipython3",
   "version": "3.4.3"
  }
 },
 "nbformat": 4,
 "nbformat_minor": 0
}
