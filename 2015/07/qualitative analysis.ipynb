{
 "cells": [
  {
   "cell_type": "markdown",
   "metadata": {},
   "source": [
    "Comparing the strict posteriors to the tied posteriors with L1 penalty 1e-3 and time penalty 1e-2 at censor=1.0"
   ]
  },
  {
   "cell_type": "markdown",
   "metadata": {},
   "source": [
    "Good examples:\n",
    "\n",
    "- 27 (more weight on correct downward trajectory)\n",
    "- 60 (does not split)\n",
    "- 398\n",
    "- 440\n",
    "- 468\n",
    "- 472\n",
    "- 516\n",
    "- 787\n",
    "- 1438\n",
    "- 1440\n",
    "- 1731 (more weight on the declining trajectory)\n",
    "- 1833 (more weight on the correct trajectory)\n",
    "- 2020\n",
    "- "
   ]
  },
  {
   "cell_type": "markdown",
   "metadata": {},
   "source": [
    "Comparing the strict posteriors to the tied posteriors with L1 penalty 1e-3 and time penalty 1e-2 at censor=2.0"
   ]
  },
  {
   "cell_type": "markdown",
   "metadata": {},
   "source": [
    "Good examples:\n",
    "\n",
    "- 27\n",
    "- 49\n",
    "- 60\n",
    "- 106\n",
    "- 472 (no split)\n",
    "- 516 (no split)\n",
    "- 564 (no split)\n",
    "- 614 (more weight on correct trajectory)\n",
    "- 818\n",
    "- 944\n",
    "- 956 (more weight on correct)\n",
    "- 1131 (does not over-react)\n",
    "- 1143 (does not prefer recovery!)\n",
    "- 1283 (second hypothesis is correct)\n",
    "- 1326 (no split)\n",
    "- 1328 (no split)\n",
    "- 1337 (more weight on correct)\n",
    "- 1438 (more weight on correct)\n",
    "- 1536 (more weight on correct)\n",
    "- 1756 (no split)\n",
    "- 1811 (no overreact)\n",
    "- 1848 (no split)\n",
    "- 1897 (more weight on correct)\n",
    "- 1899 (no split)\n",
    "- 1975 (more weight on correct)\n",
    "- 2098 (second hypothesis is correct)\n",
    "- 2113 (no split)\n",
    "- 2128 (second hypothesis is correct)\n",
    "- 2391 (no split)\n",
    "- 2457 (more weight on correct)"
   ]
  },
  {
   "cell_type": "markdown",
   "metadata": {},
   "source": [
    "Comparing the strict posteriors to the tied posteriors with L1 penalty 1e-3 and time penalty 1e-2 at censor=3.0"
   ]
  },
  {
   "cell_type": "markdown",
   "metadata": {},
   "source": [
    "- 208\n",
    "- 438 (no split)\n",
    "- 440\n",
    "- 562\n",
    "- 564\n",
    "- 663 (first and second hypotheses are not as intense)\n",
    "- 815 (second hypothesis matches severity)\n",
    "- 818 (no severe prediction)\n",
    "- 952 (predicts severity)\n",
    "- 1036 (no severity)\n",
    "- 1117 (does not overreact)\n",
    "- 1131 (does not overreact)\n",
    "- 1143 (predicts severity)\n",
    "- 1283 (second hypo. is correct)\n",
    "- 1312 (second hypo. is better than second in original)\n",
    "- 1326 (no split)\n",
    "- 1337 (correct first hypothesis)\n",
    "- 1431 (second hypothesis is good)\n",
    "- 1438 (first hypothesis does not incorrectly predict decline)\n",
    "- 1473 (second hypothesis is strong)\n",
    "- 1640 (correctly predicts mild decline as first hypothesis)\n",
    "- 1710 (correctly predicts decline after sudden rise)\n",
    "- 1756 (no split)\n",
    "- 2731 (more weight on correct)"
   ]
  }
 ],
 "metadata": {
  "kernelspec": {
   "display_name": "Python 3",
   "language": "python",
   "name": "python3"
  },
  "language_info": {
   "codemirror_mode": {
    "name": "ipython",
    "version": 3
   },
   "file_extension": ".py",
   "mimetype": "text/x-python",
   "name": "python",
   "nbconvert_exporter": "python",
   "pygments_lexer": "ipython3",
   "version": "3.4.3"
  }
 },
 "nbformat": 4,
 "nbformat_minor": 0
}
