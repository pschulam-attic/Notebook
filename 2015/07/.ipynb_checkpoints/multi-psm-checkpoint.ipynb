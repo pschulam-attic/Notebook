{
 "cells": [
  {
   "cell_type": "code",
   "execution_count": 1,
   "metadata": {
    "collapsed": true
   },
   "outputs": [],
   "source": [
    "import sys\n",
    "sys.path.append('/Users/pschulam/Git/mypy')\n",
    "sys.path.append('/Users/pschulam/Git/nips15-model')"
   ]
  },
  {
   "cell_type": "code",
   "execution_count": 2,
   "metadata": {
    "collapsed": false
   },
   "outputs": [],
   "source": [
    "import numpy as np\n",
    "import logging\n",
    "import dataprep\n",
    "import multipsm"
   ]
  },
  {
   "cell_type": "code",
   "execution_count": 3,
   "metadata": {
    "collapsed": false
   },
   "outputs": [],
   "source": [
    "import logging\n",
    "\n",
    "imp.reload(logging)\n",
    "imp.reload(multipsm)\n",
    "logging.basicConfig(level=logging.INFO)"
   ]
  },
  {
   "cell_type": "code",
   "execution_count": 4,
   "metadata": {
    "collapsed": true
   },
   "outputs": [],
   "source": [
    "fold = 1\n",
    "models = dataprep.get_models(fold)\n",
    "col_names = dataprep.col_names\n",
    "censor_time = 1.0\n",
    "train_data, _ = dataprep.get_train_test(fold, models, col_names, 30.0)\n",
    "_, test_data = dataprep.get_train_test(fold, models, col_names, censor_time)"
   ]
  },
  {
   "cell_type": "code",
   "execution_count": 5,
   "metadata": {
    "collapsed": true
   },
   "outputs": [],
   "source": [
    "examples = [X for X, _ in train_data]"
   ]
  },
  {
   "cell_type": "code",
   "execution_count": 7,
   "metadata": {
    "collapsed": true
   },
   "outputs": [],
   "source": [
    "prior = multipsm.MultiPSMPrior([8, 4, 6, 4], [5, 3, 3, 3])\n",
    "\n",
    "loglik_1 = multipsm.MultiPSMLikelihood(8, 2, -1, 25, 2, 6, 16.0, 36.0, 2.0, 1.0)\n",
    "loglik_2 = multipsm.MultiPSMLikelihood(4, 2, -1, 25, 2, 6,  9.0, 16.0, 2.0, 1.0)\n",
    "loglik_3 = multipsm.MultiPSMLikelihood(6, 2, -1, 25, 2, 6, 16.0, 36.0, 2.0, 1.0)\n",
    "loglik_4 = multipsm.MultiPSMLikelihood(4, 2, -1, 25, 2, 6, 25.0, 16.0, 2.0, 1.0)\n",
    "\n",
    "init_parameters = [(m.b, m.B) for m in models]\n",
    "no_adjust = {0}\n",
    "\n",
    "model = multipsm.MultiPSM(prior, [loglik_1, loglik_2, loglik_3, loglik_4], init_parameters, no_adjust)"
   ]
  },
  {
   "cell_type": "code",
   "execution_count": 8,
   "metadata": {
    "collapsed": false
   },
   "outputs": [
    {
     "name": "stderr",
     "output_type": "stream",
     "text": [
      "INFO:root:Iteration:0000, LL=-84815.5493637552, dLL=inf\n",
      "INFO:root:Iteration:0001, LL=-83931.1184188204, dLL=0.0105375808\n",
      "INFO:root:Iteration:0002, LL=-83623.0833949654, dLL=0.0036836124\n",
      "INFO:root:Iteration:0003, LL=-83428.8151625572, dLL=0.0023285508\n",
      "INFO:root:Iteration:0004, LL=-83274.8415098682, dLL=0.0018489816\n",
      "INFO:root:Iteration:0005, LL=-83175.5909595309, dLL=0.0011932653\n",
      "INFO:root:Iteration:0006, LL=-83077.8163069508, dLL=0.0011769045\n",
      "INFO:root:Iteration:0007, LL=-82986.0781663829, dLL=0.0011054642\n",
      "INFO:root:Iteration:0008, LL=-82963.8396387998, dLL=0.0002680508\n",
      "INFO:root:Iteration:0009, LL=-82906.1205349638, dLL=0.0006961983\n",
      "INFO:root:Iteration:0010, LL=-82887.9916435829, dLL=0.0002187155\n",
      "INFO:root:Iteration:0011, LL=-82862.8413264931, dLL=0.0003035174\n",
      "INFO:root:Iteration:0012, LL=-82858.8021150352, dLL=0.0000487481\n",
      "INFO:root:Iteration:0013, LL=-82753.8686073254, dLL=0.0012680194\n",
      "INFO:root:Iteration:0014, LL=-82736.9486002033, dLL=0.0002045036\n",
      "INFO:root:Iteration:0015, LL=-82725.6894232743, dLL=0.0001361025\n",
      "INFO:root:Iteration:0016, LL=-82725.4234995387, dLL=0.0000032145\n"
     ]
    }
   ],
   "source": [
    "model.fit(examples)"
   ]
  },
  {
   "cell_type": "code",
   "execution_count": 14,
   "metadata": {
    "collapsed": false
   },
   "outputs": [
    {
     "data": {
      "text/plain": [
       "array([[ 0.  ,  0.  ,  0.  ,  0.01,  0.96,  0.  ,  0.03,  0.  ],\n",
       "       [ 0.  ,  0.  ,  0.  ,  0.56,  0.  ,  0.  ,  0.44,  0.  ],\n",
       "       [ 0.  ,  0.  ,  0.65,  0.34,  0.  ,  0.  ,  0.  ,  0.  ],\n",
       "       [ 0.  ,  0.  ,  0.  ,  0.  ,  0.94,  0.  ,  0.06,  0.  ],\n",
       "       [ 0.  ,  0.  ,  0.  ,  0.  ,  0.  ,  0.51,  0.01,  0.48],\n",
       "       [ 0.03,  0.  ,  0.21,  0.28,  0.26,  0.06,  0.15,  0.02],\n",
       "       [ 0.06,  0.  ,  0.33,  0.21,  0.22,  0.02,  0.13,  0.02],\n",
       "       [ 0.  ,  0.  ,  0.93,  0.06,  0.  ,  0.  ,  0.  ,  0.  ],\n",
       "       [ 0.  ,  0.  ,  1.  ,  0.  ,  0.  ,  0.  ,  0.  ,  0.  ],\n",
       "       [ 0.  ,  0.  ,  0.  ,  0.  ,  0.98,  0.01,  0.01,  0.  ],\n",
       "       [ 0.06,  0.  ,  0.33,  0.21,  0.22,  0.02,  0.13,  0.02],\n",
       "       [ 0.06,  0.  ,  0.33,  0.21,  0.22,  0.02,  0.13,  0.02],\n",
       "       [ 0.03,  0.  ,  0.21,  0.28,  0.26,  0.06,  0.15,  0.02],\n",
       "       [ 0.13,  0.01,  0.86,  0.  ,  0.  ,  0.  ,  0.  ,  0.  ],\n",
       "       [ 0.  ,  0.  ,  0.03,  0.95,  0.02,  0.  ,  0.  ,  0.  ],\n",
       "       [ 0.  ,  0.  ,  0.11,  0.87,  0.01,  0.  ,  0.  ,  0.  ],\n",
       "       [ 0.  ,  0.  ,  0.  ,  0.  ,  0.9 ,  0.  ,  0.09,  0.  ],\n",
       "       [ 0.04,  0.  ,  0.16,  0.34,  0.14,  0.11,  0.17,  0.03],\n",
       "       [ 0.  ,  0.  ,  0.  ,  0.16,  0.08,  0.  ,  0.76,  0.  ],\n",
       "       [ 0.97,  0.  ,  0.03,  0.  ,  0.  ,  0.  ,  0.  ,  0.  ],\n",
       "       [ 0.  ,  0.01,  0.5 ,  0.49,  0.01,  0.  ,  0.  ,  0.  ],\n",
       "       [ 0.02,  0.01,  0.96,  0.01,  0.  ,  0.  ,  0.  ,  0.  ],\n",
       "       [ 0.  ,  0.  ,  0.01,  0.99,  0.  ,  0.  ,  0.  ,  0.  ],\n",
       "       [ 0.  ,  0.  ,  0.  ,  0.95,  0.03,  0.  ,  0.02,  0.  ],\n",
       "       [ 0.  ,  0.  ,  0.15,  0.84,  0.  ,  0.  ,  0.  ,  0.  ],\n",
       "       [ 0.  ,  0.  ,  0.  ,  0.02,  0.3 ,  0.08,  0.6 ,  0.  ],\n",
       "       [ 0.  ,  0.  ,  0.02,  0.98,  0.  ,  0.  ,  0.  ,  0.  ],\n",
       "       [ 0.  ,  0.  ,  0.99,  0.  ,  0.  ,  0.  ,  0.  ,  0.  ],\n",
       "       [ 0.  ,  0.  ,  0.  ,  0.01,  0.98,  0.  ,  0.01,  0.  ],\n",
       "       [ 0.  ,  0.  ,  0.03,  0.96,  0.  ,  0.  ,  0.  ,  0.  ],\n",
       "       [ 0.  ,  0.  ,  0.  ,  0.  ,  0.06,  0.11,  0.82,  0.01],\n",
       "       [ 0.48,  0.  ,  0.52,  0.  ,  0.  ,  0.  ,  0.  ,  0.  ],\n",
       "       [ 0.  ,  0.  ,  0.28,  0.68,  0.04,  0.  ,  0.  ,  0.  ],\n",
       "       [ 0.  ,  0.  ,  0.46,  0.54,  0.  ,  0.  ,  0.  ,  0.  ],\n",
       "       [ 0.  ,  0.  ,  0.  ,  0.  ,  0.  ,  0.32,  0.01,  0.67],\n",
       "       [ 0.  ,  0.  ,  0.  ,  0.07,  0.12,  0.  ,  0.81,  0.  ],\n",
       "       [ 0.  ,  0.3 ,  0.18,  0.5 ,  0.02,  0.  ,  0.  ,  0.  ],\n",
       "       [ 0.05,  0.  ,  0.94,  0.  ,  0.  ,  0.  ,  0.  ,  0.  ],\n",
       "       [ 0.  ,  0.  ,  0.  ,  0.  ,  0.92,  0.04,  0.04,  0.  ],\n",
       "       [ 0.  ,  0.  ,  0.01,  0.03,  0.92,  0.  ,  0.04,  0.  ],\n",
       "       [ 0.  ,  0.  ,  0.04,  0.8 ,  0.16,  0.  ,  0.  ,  0.  ],\n",
       "       [ 0.  ,  0.  ,  0.  ,  1.  ,  0.  ,  0.  ,  0.  ,  0.  ],\n",
       "       [ 0.05,  0.  ,  0.95,  0.  ,  0.  ,  0.  ,  0.  ,  0.  ],\n",
       "       [ 0.  ,  0.  ,  0.  ,  0.  ,  0.9 ,  0.02,  0.08,  0.  ],\n",
       "       [ 0.  ,  0.  ,  0.84,  0.15,  0.  ,  0.  ,  0.  ,  0.  ],\n",
       "       [ 0.01,  0.  ,  0.98,  0.  ,  0.  ,  0.  ,  0.  ,  0.  ],\n",
       "       [ 0.04,  0.  ,  0.25,  0.23,  0.28,  0.07,  0.11,  0.02],\n",
       "       [ 0.  ,  0.  ,  0.  ,  0.  ,  0.25,  0.06,  0.69,  0.01],\n",
       "       [ 0.  ,  0.  ,  0.  ,  0.05,  0.46,  0.02,  0.48,  0.  ],\n",
       "       [ 0.  ,  0.  ,  0.  ,  0.7 ,  0.02,  0.  ,  0.28,  0.  ],\n",
       "       [ 0.07,  0.  ,  0.92,  0.  ,  0.  ,  0.  ,  0.  ,  0.  ],\n",
       "       [ 0.  ,  0.  ,  0.03,  0.83,  0.13,  0.  ,  0.01,  0.  ],\n",
       "       [ 0.  ,  0.  ,  0.  ,  0.  ,  0.  ,  0.03,  0.7 ,  0.26],\n",
       "       [ 0.  ,  0.  ,  0.  ,  0.02,  0.97,  0.  ,  0.  ,  0.  ],\n",
       "       [ 0.  ,  0.  ,  0.  ,  0.  ,  0.45,  0.08,  0.47,  0.  ],\n",
       "       [ 0.  ,  0.01,  0.55,  0.44,  0.  ,  0.  ,  0.  ,  0.  ],\n",
       "       [ 0.11,  0.  ,  0.89,  0.  ,  0.  ,  0.  ,  0.  ,  0.  ],\n",
       "       [ 0.  ,  0.  ,  0.04,  0.46,  0.5 ,  0.  ,  0.01,  0.  ],\n",
       "       [ 0.01,  0.  ,  0.2 ,  0.16,  0.32,  0.12,  0.16,  0.03],\n",
       "       [ 0.  ,  0.  ,  0.05,  0.05,  0.67,  0.  ,  0.24,  0.  ],\n",
       "       [ 0.  ,  0.  ,  1.  ,  0.  ,  0.  ,  0.  ,  0.  ,  0.  ],\n",
       "       [ 0.01,  0.  ,  0.99,  0.  ,  0.  ,  0.  ,  0.  ,  0.  ],\n",
       "       [ 0.  ,  0.  ,  0.  ,  0.02,  0.91,  0.01,  0.06,  0.  ],\n",
       "       [ 0.  ,  0.  ,  0.  ,  0.  ,  0.  ,  0.07,  0.43,  0.51],\n",
       "       [ 0.  ,  0.  ,  0.76,  0.22,  0.02,  0.  ,  0.  ,  0.  ],\n",
       "       [ 0.16,  0.  ,  0.48,  0.15,  0.1 ,  0.03,  0.07,  0.01],\n",
       "       [ 0.01,  0.  ,  0.99,  0.  ,  0.  ,  0.  ,  0.  ,  0.  ],\n",
       "       [ 0.  ,  0.  ,  0.  ,  0.01,  0.9 ,  0.  ,  0.09,  0.  ],\n",
       "       [ 0.01,  0.  ,  0.17,  0.15,  0.37,  0.09,  0.18,  0.03],\n",
       "       [ 0.  ,  0.  ,  0.  ,  0.06,  0.3 ,  0.  ,  0.64,  0.  ],\n",
       "       [ 0.64,  0.01,  0.35,  0.  ,  0.  ,  0.  ,  0.  ,  0.  ],\n",
       "       [ 0.  ,  0.  ,  0.  ,  0.  ,  0.  ,  0.01,  0.  ,  0.99],\n",
       "       [ 0.  ,  0.  ,  0.03,  0.97,  0.  ,  0.  ,  0.  ,  0.  ],\n",
       "       [ 0.  ,  0.  ,  0.14,  0.43,  0.43,  0.  ,  0.  ,  0.  ],\n",
       "       [ 0.  ,  0.  ,  0.  ,  0.02,  0.68,  0.  ,  0.3 ,  0.  ]])"
      ]
     },
     "execution_count": 14,
     "metadata": {},
     "output_type": "execute_result"
    }
   ],
   "source": [
    "np.round(np.array([model.posterior(X) for X, _ in test_data]), 2)"
   ]
  }
 ],
 "metadata": {
  "kernelspec": {
   "display_name": "Python 3",
   "language": "python",
   "name": "python3"
  },
  "language_info": {
   "codemirror_mode": {
    "name": "ipython",
    "version": 3
   },
   "file_extension": ".py",
   "mimetype": "text/x-python",
   "name": "python",
   "nbconvert_exporter": "python",
   "pygments_lexer": "ipython3",
   "version": "3.4.3"
  }
 },
 "nbformat": 4,
 "nbformat_minor": 0
}
