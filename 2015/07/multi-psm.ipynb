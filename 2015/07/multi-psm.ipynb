{
 "cells": [
  {
   "cell_type": "code",
   "execution_count": 1,
   "metadata": {
    "collapsed": true
   },
   "outputs": [],
   "source": [
    "import sys\n",
    "sys.path.append('/Users/pschulam/Git/mypy')\n",
    "sys.path.append('/Users/pschulam/Git/nips15-model')"
   ]
  },
  {
   "cell_type": "code",
   "execution_count": 257,
   "metadata": {
    "collapsed": false
   },
   "outputs": [],
   "source": [
    "import numpy as np\n",
    "import dataprep\n",
    "import multipsm\n",
    "import owlqn\n",
    "from scipy.misc import logsumexp"
   ]
  },
  {
   "cell_type": "code",
   "execution_count": 276,
   "metadata": {
    "collapsed": false
   },
   "outputs": [],
   "source": [
    "import imp\n",
    "import logging\n",
    "from mypy.util import check_grad\n",
    "imp.reload(logging)\n",
    "imp.reload(multipsm)\n",
    "logging.basicConfig(level=logging.INFO)"
   ]
  },
  {
   "cell_type": "code",
   "execution_count": 3,
   "metadata": {
    "collapsed": true
   },
   "outputs": [],
   "source": [
    "fold = 1\n",
    "models = dataprep.get_models(fold)\n",
    "col_names = dataprep.col_names\n",
    "censor_time = 30.0\n",
    "train_data, test_data = dataprep.get_train_test(fold, models, col_names, censor_time)"
   ]
  },
  {
   "cell_type": "code",
   "execution_count": 211,
   "metadata": {
    "collapsed": true
   },
   "outputs": [],
   "source": [
    "examples = [X for X, _ in train_data]"
   ]
  },
  {
   "cell_type": "code",
   "execution_count": 277,
   "metadata": {
    "collapsed": true
   },
   "outputs": [],
   "source": [
    "prior = multipsm.MultiPSMPrior([8, 4, 6, 4], [5, 3, 3, 3])"
   ]
  },
  {
   "cell_type": "code",
   "execution_count": 278,
   "metadata": {
    "collapsed": true
   },
   "outputs": [],
   "source": [
    "loglik_1 = multipsm.MultiPSMLikelihood(8, 2, -1, 25, 2, 6, 16.0, 36.0, 2.0, 1.0)\n",
    "loglik_2 = multipsm.MultiPSMLikelihood(4, 2, -1, 25, 2, 6,  9.0, 16.0, 2.0, 1.0)\n",
    "loglik_3 = multipsm.MultiPSMLikelihood(6, 2, -1, 25, 2, 6, 16.0, 36.0, 2.0, 1.0)\n",
    "loglik_4 = multipsm.MultiPSMLikelihood(4, 2, -1, 25, 2, 6, 25.0, 16.0, 2.0, 1.0)"
   ]
  },
  {
   "cell_type": "code",
   "execution_count": 279,
   "metadata": {
    "collapsed": false
   },
   "outputs": [],
   "source": [
    "model = multipsm.MultiPSM(prior, [loglik_1, loglik_2, loglik_3, loglik_4])"
   ]
  },
  {
   "cell_type": "code",
   "execution_count": 280,
   "metadata": {
    "collapsed": false
   },
   "outputs": [
    {
     "name": "stderr",
     "output_type": "stream",
     "text": [
      "INFO:root:Prior objective evaluated: 6.356245, ||w||_0: 194\n",
      "INFO:root:Prior objective evaluated: 5.522835, ||w||_0: 191\n",
      "INFO:root:Prior objective evaluated: 5.091736, ||w||_0: 186\n",
      "INFO:root:Prior objective evaluated: 4.943954, ||w||_0: 192\n",
      "INFO:root:Prior objective evaluated: 4.799909, ||w||_0: 189\n",
      "INFO:root:Prior objective evaluated: 4.638179, ||w||_0: 191\n",
      "INFO:root:Prior objective evaluated: 4.513469, ||w||_0: 182\n",
      "INFO:root:Prior objective evaluated: 4.453334, ||w||_0: 188\n",
      "INFO:root:Prior objective evaluated: 4.427788, ||w||_0: 192\n",
      "INFO:root:Prior objective evaluated: 4.415782, ||w||_0: 192\n",
      "INFO:root:Prior objective evaluated: 4.395303, ||w||_0: 186\n",
      "INFO:root:Prior objective evaluated: 4.385462, ||w||_0: 185\n",
      "INFO:root:Prior objective evaluated: 4.366230, ||w||_0: 188\n",
      "INFO:root:Prior objective evaluated: 4.362724, ||w||_0: 191\n",
      "INFO:root:Prior objective evaluated: 4.356520, ||w||_0: 189\n",
      "INFO:root:Prior objective evaluated: 4.356247, ||w||_0: 185\n",
      "INFO:root:Prior objective evaluated: 4.350524, ||w||_0: 186\n",
      "INFO:root:Prior objective evaluated: 4.349535, ||w||_0: 187\n",
      "INFO:root:Prior objective evaluated: 4.348528, ||w||_0: 184\n",
      "INFO:root:Prior objective evaluated: 4.350181, ||w||_0: 176\n",
      "INFO:root:Prior objective evaluated: 4.347436, ||w||_0: 174\n",
      "INFO:root:Prior objective evaluated: 4.347010, ||w||_0: 175\n",
      "INFO:root:Prior objective evaluated: 4.348066, ||w||_0: 172\n",
      "INFO:root:Prior objective evaluated: 4.348257, ||w||_0: 169\n",
      "INFO:root:Prior objective evaluated: 4.349466, ||w||_0: 166\n",
      "INFO:root:Prior objective evaluated: 4.350542, ||w||_0: 162\n",
      "INFO:root:Prior objective evaluated: 4.351215, ||w||_0: 162\n",
      "INFO:root:Prior objective evaluated: 4.352140, ||w||_0: 162\n",
      "INFO:root:Prior objective evaluated: 4.352347, ||w||_0: 157\n",
      "INFO:root:Prior objective evaluated: 4.351695, ||w||_0: 155\n",
      "INFO:root:Prior objective evaluated: 4.351446, ||w||_0: 154\n",
      "INFO:root:Prior objective evaluated: 4.351363, ||w||_0: 153\n",
      "INFO:root:Prior objective evaluated: 4.351401, ||w||_0: 154\n"
     ]
    }
   ],
   "source": [
    "model.fit(examples)"
   ]
  },
  {
   "cell_type": "code",
   "execution_count": 254,
   "metadata": {
    "collapsed": false
   },
   "outputs": [
    {
     "data": {
      "text/plain": [
       "6.356245172264539"
      ]
     },
     "execution_count": 254,
     "metadata": {},
     "output_type": "execute_result"
    }
   ],
   "source": [
    "prior_obj(w0)"
   ]
  },
  {
   "cell_type": "code",
   "execution_count": 255,
   "metadata": {
    "collapsed": false
   },
   "outputs": [
    {
     "data": {
      "text/plain": [
       "array([ 0.28014657,  0.21888154,  0.00479137])"
      ]
     },
     "execution_count": 255,
     "metadata": {},
     "output_type": "execute_result"
    }
   ],
   "source": [
    "check_grad(prior_obj, w0, range(3))[:3]"
   ]
  },
  {
   "cell_type": "code",
   "execution_count": 256,
   "metadata": {
    "collapsed": false
   },
   "outputs": [
    {
     "data": {
      "text/plain": [
       "array([ 0.28014601,  0.21888108,  0.00479129])"
      ]
     },
     "execution_count": 256,
     "metadata": {},
     "output_type": "execute_result"
    }
   ],
   "source": [
    "prior_jac(w0)[:3]"
   ]
  },
  {
   "cell_type": "code",
   "execution_count": 218,
   "metadata": {
    "collapsed": false
   },
   "outputs": [
    {
     "data": {
      "text/plain": [
       "array([-0.18678543, -0.13715171, -0.07640919])"
      ]
     },
     "execution_count": 218,
     "metadata": {},
     "output_type": "execute_result"
    }
   ],
   "source": [
    "check_grad(prior_obj, w0, range(3))[:3]"
   ]
  },
  {
   "cell_type": "code",
   "execution_count": 75,
   "metadata": {
    "collapsed": false
   },
   "outputs": [
    {
     "data": {
      "text/plain": [
       "array([-0.96465177, -0.96516055, -1.43907483, -7.11230901])"
      ]
     },
     "execution_count": 75,
     "metadata": {},
     "output_type": "execute_result"
    }
   ],
   "source": [
    "logsumexp(all_pair[0][0], axis=0)"
   ]
  },
  {
   "cell_type": "code",
   "execution_count": 40,
   "metadata": {
    "collapsed": false
   },
   "outputs": [],
   "source": [
    "loglik = model.fit(examples)"
   ]
  },
  {
   "cell_type": "code",
   "execution_count": 46,
   "metadata": {
    "collapsed": false
   },
   "outputs": [
    {
     "data": {
      "text/plain": [
       "(597, 4)"
      ]
     },
     "execution_count": 46,
     "metadata": {},
     "output_type": "execute_result"
    }
   ],
   "source": [
    "loglik[3].shape"
   ]
  },
  {
   "cell_type": "code",
   "execution_count": 16,
   "metadata": {
    "collapsed": false
   },
   "outputs": [],
   "source": [
    "parameters = model.fit(examples)"
   ]
  },
  {
   "cell_type": "code",
   "execution_count": 22,
   "metadata": {
    "collapsed": false
   },
   "outputs": [],
   "source": [
    "x, f, _, y = examples[0][0]"
   ]
  },
  {
   "cell_type": "code",
   "execution_count": 23,
   "metadata": {
    "collapsed": false
   },
   "outputs": [
    {
     "data": {
      "text/plain": [
       "array([-54.21733056, -47.19413548, -43.60407956, -41.70210928,\n",
       "       -41.26428083, -42.23867108, -44.83805506, -50.14918997])"
      ]
     },
     "execution_count": 23,
     "metadata": {},
     "output_type": "execute_result"
    }
   ],
   "source": [
    "loglik_1.log_proba(x, f, y, *parameters[0])"
   ]
  },
  {
   "cell_type": "code",
   "execution_count": 67,
   "metadata": {
    "collapsed": false
   },
   "outputs": [],
   "source": [
    "model.fit([8, 4, 6, 4], examples)"
   ]
  },
  {
   "cell_type": "code",
   "execution_count": 51,
   "metadata": {
    "collapsed": true
   },
   "outputs": [],
   "source": [
    "covariance_fn = multipsm.Kernel()"
   ]
  },
  {
   "cell_type": "code",
   "execution_count": 52,
   "metadata": {
    "collapsed": false
   },
   "outputs": [],
   "source": [
    "pop_factor = multipsm.LinearRegressionFactor(2, covariance_fn)"
   ]
  },
  {
   "cell_type": "code",
   "execution_count": 53,
   "metadata": {
    "collapsed": true
   },
   "outputs": [],
   "source": [
    "subpop_factor = multipsm.BSplineFactor(-1, 25, 2, 6, covariance_fn)"
   ]
  },
  {
   "cell_type": "code",
   "execution_count": 54,
   "metadata": {
    "collapsed": false
   },
   "outputs": [
    {
     "data": {
      "text/plain": [
       "2"
      ]
     },
     "execution_count": 54,
     "metadata": {},
     "output_type": "execute_result"
    }
   ],
   "source": [
    "pop_factor.num_features"
   ]
  },
  {
   "cell_type": "code",
   "execution_count": 55,
   "metadata": {
    "collapsed": false
   },
   "outputs": [
    {
     "data": {
      "text/plain": [
       "6"
      ]
     },
     "execution_count": 55,
     "metadata": {},
     "output_type": "execute_result"
    }
   ],
   "source": [
    "subpop_factor.num_features"
   ]
  },
  {
   "cell_type": "code",
   "execution_count": 56,
   "metadata": {
    "collapsed": false
   },
   "outputs": [
    {
     "data": {
      "text/plain": [
       "([(array([  0.0492813,   1.17454  ,   2.28337  ,   3.72348  ,   4.81588  ,\n",
       "            5.59617  ,   6.69131  ,   7.82478  ,   8.82136  ,   9.85626  ,\n",
       "           10.8172   ,  11.8275   ,  12.9035   ,  13.8973   ]),\n",
       "   array([1, 0]),\n",
       "   array([ 1.,  1.,  0.,  0.,  0.]),\n",
       "   array([ 87.89,  83.18,  74.38,  82.02,  74.84,  69.09,  71.11,  71.66,\n",
       "           74.05,  70.57,  73.4 ,  76.27,  77.13,  76.14])),\n",
       "  (array([  0.     ,   3.33973,   3.70685,   4.2    ,   4.87671,   5.58082,\n",
       "            6.04658,   6.71233,   7.34521,   7.83014,   8.32603,   8.8274 ,\n",
       "            9.32603,   9.82192,  10.5342 ,  11.8356 ,  12.9123 ,  13.4274 ,\n",
       "           13.9068 ,  14.4082 ]),\n",
       "   array([1, 0]),\n",
       "   array([ 1.,  1.,  0.]),\n",
       "   array([ 2.,  2.,  7.,  3.,  4.,  7.,  2.,  4.,  2.,  2.,  4.,  3.,  5.,\n",
       "           5.,  0.,  0.,  2.,  0.,  2.,  2.])),\n",
       "  (array([  0.0493151,   1.17534  ,   2.28493  ,   3.72603  ,   4.81918  ,\n",
       "            5.6      ,   6.69589  ,   7.83014  ,   8.8274   ,   9.86301  ,\n",
       "           10.8247   ,  11.8356   ,  12.9123   ,  13.9068   ]),\n",
       "   array([1, 0]),\n",
       "   array([ 1.,  1.,  0.]),\n",
       "   array([ 90.71,  99.29,  84.99,  97.59,  85.15,  85.83,  82.34,  84.19,\n",
       "           92.6 ,  85.28,  87.87,  89.89,  85.37,  82.35])),\n",
       "  (array([  0.0493151,   1.17534  ,   2.28493  ,   3.72603  ,   4.81918  ,\n",
       "            5.6      ,   6.69589  ,   7.83014  ,   8.8274   ,   9.86301  ,\n",
       "           10.8247   ,  11.8356   ,  12.9123   ,  13.9068   ]),\n",
       "   array([1, 0]),\n",
       "   array([ 1.,  1.,  0.]),\n",
       "   array([ 90.71,  99.29,  84.99,  97.59,  85.15,  85.83,  82.34,  84.19,\n",
       "           92.6 ,  85.28,  87.87,  89.89,  85.37,  82.35]))],\n",
       " (3,\n",
       "  [(array([], dtype=float64),\n",
       "    array([1, 0]),\n",
       "    array([ 1.,  1.,  0.,  0.,  0.]),\n",
       "    array([], dtype=float64)),\n",
       "   (array([], dtype=float64),\n",
       "    array([1, 0]),\n",
       "    array([ 1.,  1.,  0.]),\n",
       "    array([], dtype=float64)),\n",
       "   (array([], dtype=float64),\n",
       "    array([1, 0]),\n",
       "    array([ 1.,  1.,  0.]),\n",
       "    array([], dtype=float64)),\n",
       "   (array([], dtype=float64),\n",
       "    array([1, 0]),\n",
       "    array([ 1.,  1.,  0.]),\n",
       "    array([], dtype=float64))]))"
      ]
     },
     "execution_count": 56,
     "metadata": {},
     "output_type": "execute_result"
    }
   ],
   "source": [
    "train_data[0]"
   ]
  }
 ],
 "metadata": {
  "kernelspec": {
   "display_name": "Python 3",
   "language": "python",
   "name": "python3"
  },
  "language_info": {
   "codemirror_mode": {
    "name": "ipython",
    "version": 3
   },
   "file_extension": ".py",
   "mimetype": "text/x-python",
   "name": "python",
   "nbconvert_exporter": "python",
   "pygments_lexer": "ipython3",
   "version": "3.4.3"
  }
 },
 "nbformat": 4,
 "nbformat_minor": 0
}
