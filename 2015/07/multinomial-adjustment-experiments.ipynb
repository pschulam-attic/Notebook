{
 "cells": [
  {
   "cell_type": "code",
   "execution_count": 1,
   "metadata": {
    "collapsed": true
   },
   "outputs": [],
   "source": [
    "import sys\n",
    "sys.path.append('/Users/pschulam/Git/mypy')"
   ]
  },
  {
   "cell_type": "code",
   "execution_count": 2,
   "metadata": {
    "collapsed": false
   },
   "outputs": [],
   "source": [
    "import os\n",
    "import itertools\n",
    "import numpy as np\n",
    "import pandas as pd\n",
    "import matplotlib.pyplot as plt\n",
    "import nips15\n",
    "import adjustment\n",
    "\n",
    "np.set_printoptions(precision=4)\n",
    "%matplotlib inline"
   ]
  },
  {
   "cell_type": "code",
   "execution_count": 3,
   "metadata": {
    "collapsed": true
   },
   "outputs": [],
   "source": [
    "folds_dir = 'models/jmlr/folds'\n",
    "\n",
    "def load_model(marker, fold, folds_dir=folds_dir):\n",
    "    param_dir = os.path.join(folds_dir, marker, '{:02d}'.format(fold), 'param')\n",
    "    return nips15.NipsModel.from_directory(param_dir)\n",
    "\n",
    "def get_posteriors(model, data):\n",
    "    P = [model.posterior(*d.unpack()) for d in data]\n",
    "    P = np.array(P)\n",
    "    return P"
   ]
  },
  {
   "cell_type": "code",
   "execution_count": 4,
   "metadata": {
    "collapsed": true
   },
   "outputs": [],
   "source": [
    "pfvc_spec = {'t' : 'years_seen_full',\n",
    "             'y' : 'pfvc',\n",
    "             'x1': ['female', 'afram'],\n",
    "             'x2': ['female', 'afram', 'aca', 'scl']}\n",
    "\n",
    "pfvc    = pd.read_csv('data/benchmark_pfvc.csv')\n",
    "pfvc_pd = [nips15.PatientData.from_tbl(tbl, **pfvc_spec) for _, tbl in pfvc.groupby('ptid')]\n",
    "\n",
    "tss_spec = {'t' : 'years_seen',\n",
    "            'y' : 'tss',\n",
    "            'x1': ['female', 'afram'],\n",
    "            'x2': ['female', 'afram']}\n",
    "\n",
    "tss = pd.read_csv('data/benchmark_tss.csv')\n",
    "tss_match = ['ptid'] + tss_spec['x1']\n",
    "tss = pd.merge(pfvc[tss_match], tss, 'left', tss_match)\n",
    "tss_pd = [nips15.PatientData.from_tbl(tbl, **tss_spec) for _, tbl in tss.groupby('ptid')]\n",
    "\n",
    "pdlco_spec = {'t' : 'years_seen',\n",
    "              'y' : 'pdlco',\n",
    "              'x1': ['female', 'afram'],\n",
    "              'x2': ['female', 'afram']}\n",
    "\n",
    "pdlco = pd.read_csv('data/benchmark_pdc.csv')\n",
    "pdlco_match = ['ptid'] + pdlco_spec['x1']\n",
    "pdlco = pd.merge(pfvc[pdlco_match], pdlco, 'left', pdlco_match)\n",
    "pdlco_pd = [nips15.PatientData.from_tbl(tbl, **pdlco_spec) for _, tbl in pdlco.groupby('ptid')]\n",
    "\n",
    "pv1_spec = {'t' : 'years_seen',\n",
    "            'y' : 'pfev1',\n",
    "            'x1': ['female', 'afram'],\n",
    "            'x2': ['female', 'afram']}\n",
    "\n",
    "pv1 = pd.read_csv('data/benchmark_pv1.csv')\n",
    "pv1_match = ['ptid'] + pv1_spec['x1']\n",
    "pv1 = pd.merge(pfvc[pv1_match], pv1, 'left', pv1_match)\n",
    "pv1_pd = [nips15.PatientData.from_tbl(tbl, **pv1_spec) for _, tbl in pv1.groupby('ptid')]\n",
    "\n",
    "combined_pd = list(zip(pfvc_pd, tss_pd, pdlco_pd, pv1_pd))"
   ]
  },
  {
   "cell_type": "code",
   "execution_count": 5,
   "metadata": {
    "collapsed": true
   },
   "outputs": [],
   "source": [
    "folds = pfvc.loc[:, ['ptid', 'fold']].drop_duplicates()\n",
    "folds = dict(zip(folds['ptid'], folds['fold']))"
   ]
  },
  {
   "cell_type": "code",
   "execution_count": 11,
   "metadata": {
    "collapsed": false
   },
   "outputs": [],
   "source": [
    "def run_experiment(targ, aux, censor_time, fold,\n",
    "                   patient_data, model_names, folds,\n",
    "                   feat_censor=None, feat_alpha=0.05):\n",
    "    \n",
    "    k = fold\n",
    "    models = [load_model(n, k) for n in model_names]\n",
    "    \n",
    "    feat_censor = censor_time if feat_censor is None else feat_censor\n",
    "    \n",
    "    train = [pd for pd in patient_data if not folds[pd[0].ptid] == k]\n",
    "    test  = [pd for pd in patient_data if     folds[pd[0].ptid] == k]\n",
    "    \n",
    "    P = get_posteriors(models[targ], [pd[targ] for pd in train])\n",
    "    Q = get_posteriors(models[targ], [pd[targ].truncate(censor_time) for pd in train])\n",
    "    \n",
    "    XX = []\n",
    "    MM = []\n",
    "    for i in aux:\n",
    "        X = get_posteriors(models[i], [pd[i].truncate(feat_censor) for pd in train])\n",
    "        M = adjustment.choose_features(P, X, feat_alpha)\n",
    "        XX.append(X)\n",
    "        MM.append(M)\n",
    "        \n",
    "    X = np.concatenate(XX, axis=1)\n",
    "    M = np.concatenate(MM, axis=1)\n",
    "    W = adjustment.fit_adjustment(P, Q, X, M)\n",
    "    \n",
    "    Ptest = get_posteriors(models[targ], [pd[targ] for pd in test])\n",
    "    Qtest = get_posteriors(models[targ], [pd[targ].truncate(censor_time) for pd in test])\n",
    "    \n",
    "    XXtest = []\n",
    "    for i in aux:\n",
    "        X = get_posteriors(models[i], [pd[i].truncate(feat_censor) for pd in test])\n",
    "        XXtest.append(X)\n",
    "        \n",
    "    Xtest = np.concatenate(XXtest, axis=1)\n",
    "    Qhat  = adjustment.make_adjustment(W, Qtest, Xtest)\n",
    "    \n",
    "    entropy = adjustment.xentropy(Ptest) / Ptest.shape[0]\n",
    "    entropy_orig = adjustment.xentropy(Ptest, Qtest) / Ptest.shape[0]\n",
    "    entropy_adju = adjustment.xentropy(Ptest, Qhat)  / Ptest.shape[0]\n",
    "    \n",
    "    results = {\n",
    "        'censor_time' : censor_time,\n",
    "        'fold'        : fold,\n",
    "        'entropy'     : entropy,\n",
    "        'entropy_orig': entropy_orig,\n",
    "        'entropy_adju': entropy_adju\n",
    "    }\n",
    "    \n",
    "    return results"
   ]
  },
  {
   "cell_type": "code",
   "execution_count": 12,
   "metadata": {
    "collapsed": false
   },
   "outputs": [],
   "source": [
    "experiments = itertools.product([1.0, 2.0, 3.0, 4.0, 5.0, 6.0, 7.0, 8.0],\n",
    "                                [1, 2, 3, 4, 5, 6, 7, 8, 9, 10])\n",
    "\n",
    "results = [run_experiment(0, [1, 2], c, k, combined_pd, ['pfvc', 'tss', 'pdc'], folds, feat_alpha=0.01)\n",
    "           for c, k in experiments]"
   ]
  },
  {
   "cell_type": "code",
   "execution_count": 13,
   "metadata": {
    "collapsed": false
   },
   "outputs": [],
   "source": [
    "results_tbl = pd.DataFrame(results)"
   ]
  },
  {
   "cell_type": "code",
   "execution_count": 14,
   "metadata": {
    "collapsed": false
   },
   "outputs": [
    {
     "data": {
      "text/html": [
       "<div>\n",
       "<table border=\"1\" class=\"dataframe\">\n",
       "  <thead>\n",
       "    <tr style=\"text-align: right;\">\n",
       "      <th></th>\n",
       "      <th>entropy</th>\n",
       "      <th>entropy_adju</th>\n",
       "      <th>entropy_orig</th>\n",
       "      <th>fold</th>\n",
       "    </tr>\n",
       "    <tr>\n",
       "      <th>censor_time</th>\n",
       "      <th></th>\n",
       "      <th></th>\n",
       "      <th></th>\n",
       "      <th></th>\n",
       "    </tr>\n",
       "  </thead>\n",
       "  <tbody>\n",
       "    <tr>\n",
       "      <th>1</th>\n",
       "      <td>7.423415</td>\n",
       "      <td>12.882076</td>\n",
       "      <td>12.833973</td>\n",
       "      <td>55</td>\n",
       "    </tr>\n",
       "    <tr>\n",
       "      <th>2</th>\n",
       "      <td>7.423415</td>\n",
       "      <td>11.268248</td>\n",
       "      <td>11.247051</td>\n",
       "      <td>55</td>\n",
       "    </tr>\n",
       "    <tr>\n",
       "      <th>3</th>\n",
       "      <td>7.423415</td>\n",
       "      <td>10.387614</td>\n",
       "      <td>10.356330</td>\n",
       "      <td>55</td>\n",
       "    </tr>\n",
       "    <tr>\n",
       "      <th>4</th>\n",
       "      <td>7.423415</td>\n",
       "      <td>9.489795</td>\n",
       "      <td>9.456062</td>\n",
       "      <td>55</td>\n",
       "    </tr>\n",
       "    <tr>\n",
       "      <th>5</th>\n",
       "      <td>7.423415</td>\n",
       "      <td>9.060934</td>\n",
       "      <td>9.013514</td>\n",
       "      <td>55</td>\n",
       "    </tr>\n",
       "    <tr>\n",
       "      <th>6</th>\n",
       "      <td>7.423415</td>\n",
       "      <td>8.720835</td>\n",
       "      <td>8.694756</td>\n",
       "      <td>55</td>\n",
       "    </tr>\n",
       "    <tr>\n",
       "      <th>7</th>\n",
       "      <td>7.423415</td>\n",
       "      <td>8.359612</td>\n",
       "      <td>8.335570</td>\n",
       "      <td>55</td>\n",
       "    </tr>\n",
       "    <tr>\n",
       "      <th>8</th>\n",
       "      <td>7.423415</td>\n",
       "      <td>8.151860</td>\n",
       "      <td>8.145246</td>\n",
       "      <td>55</td>\n",
       "    </tr>\n",
       "  </tbody>\n",
       "</table>\n",
       "</div>"
      ],
      "text/plain": [
       "              entropy  entropy_adju  entropy_orig  fold\n",
       "censor_time                                            \n",
       "1            7.423415     12.882076     12.833973    55\n",
       "2            7.423415     11.268248     11.247051    55\n",
       "3            7.423415     10.387614     10.356330    55\n",
       "4            7.423415      9.489795      9.456062    55\n",
       "5            7.423415      9.060934      9.013514    55\n",
       "6            7.423415      8.720835      8.694756    55\n",
       "7            7.423415      8.359612      8.335570    55\n",
       "8            7.423415      8.151860      8.145246    55"
      ]
     },
     "execution_count": 14,
     "metadata": {},
     "output_type": "execute_result"
    }
   ],
   "source": [
    "results_tbl.groupby('censor_time').agg(np.sum)"
   ]
  },
  {
   "cell_type": "code",
   "execution_count": 141,
   "metadata": {
    "collapsed": false
   },
   "outputs": [],
   "source": [
    "experiments = itertools.product([1.0, 2.0, 3.0, 4.0, 5.0, 6.0, 7.0, 8.0],\n",
    "                                [1, 2, 3, 4, 5, 6, 7, 8, 9, 10])\n",
    "\n",
    "results2 = [run_experiment(0, [1, 2, 3], c, k, combined_pd, ['pfvc', 'tss', 'pdc', 'pv1'], folds, feat_alpha=0.01)\n",
    "            for c, k in experiments]"
   ]
  },
  {
   "cell_type": "code",
   "execution_count": 142,
   "metadata": {
    "collapsed": true
   },
   "outputs": [],
   "source": [
    "results2_tbl = pd.DataFrame(results2)"
   ]
  },
  {
   "cell_type": "code",
   "execution_count": 143,
   "metadata": {
    "collapsed": false
   },
   "outputs": [
    {
     "data": {
      "text/html": [
       "<div>\n",
       "<table border=\"1\" class=\"dataframe\">\n",
       "  <thead>\n",
       "    <tr style=\"text-align: right;\">\n",
       "      <th></th>\n",
       "      <th>entropy</th>\n",
       "      <th>entropy_adju</th>\n",
       "      <th>entropy_orig</th>\n",
       "      <th>fold</th>\n",
       "    </tr>\n",
       "    <tr>\n",
       "      <th>censor_time</th>\n",
       "      <th></th>\n",
       "      <th></th>\n",
       "      <th></th>\n",
       "      <th></th>\n",
       "    </tr>\n",
       "  </thead>\n",
       "  <tbody>\n",
       "    <tr>\n",
       "      <th>1</th>\n",
       "      <td>498.215601</td>\n",
       "      <td>872.328424</td>\n",
       "      <td>863.434045</td>\n",
       "      <td>55</td>\n",
       "    </tr>\n",
       "    <tr>\n",
       "      <th>2</th>\n",
       "      <td>498.215601</td>\n",
       "      <td>765.460771</td>\n",
       "      <td>758.171137</td>\n",
       "      <td>55</td>\n",
       "    </tr>\n",
       "    <tr>\n",
       "      <th>3</th>\n",
       "      <td>498.215601</td>\n",
       "      <td>705.868040</td>\n",
       "      <td>697.902720</td>\n",
       "      <td>55</td>\n",
       "    </tr>\n",
       "    <tr>\n",
       "      <th>4</th>\n",
       "      <td>498.215601</td>\n",
       "      <td>646.692868</td>\n",
       "      <td>636.156694</td>\n",
       "      <td>55</td>\n",
       "    </tr>\n",
       "    <tr>\n",
       "      <th>5</th>\n",
       "      <td>498.215601</td>\n",
       "      <td>617.070104</td>\n",
       "      <td>606.224536</td>\n",
       "      <td>55</td>\n",
       "    </tr>\n",
       "    <tr>\n",
       "      <th>6</th>\n",
       "      <td>498.215601</td>\n",
       "      <td>589.690825</td>\n",
       "      <td>584.705553</td>\n",
       "      <td>55</td>\n",
       "    </tr>\n",
       "    <tr>\n",
       "      <th>7</th>\n",
       "      <td>498.215601</td>\n",
       "      <td>563.717918</td>\n",
       "      <td>561.055252</td>\n",
       "      <td>55</td>\n",
       "    </tr>\n",
       "    <tr>\n",
       "      <th>8</th>\n",
       "      <td>498.215601</td>\n",
       "      <td>549.182760</td>\n",
       "      <td>547.704555</td>\n",
       "      <td>55</td>\n",
       "    </tr>\n",
       "  </tbody>\n",
       "</table>\n",
       "</div>"
      ],
      "text/plain": [
       "                entropy  entropy_adju  entropy_orig  fold\n",
       "censor_time                                              \n",
       "1            498.215601    872.328424    863.434045    55\n",
       "2            498.215601    765.460771    758.171137    55\n",
       "3            498.215601    705.868040    697.902720    55\n",
       "4            498.215601    646.692868    636.156694    55\n",
       "5            498.215601    617.070104    606.224536    55\n",
       "6            498.215601    589.690825    584.705553    55\n",
       "7            498.215601    563.717918    561.055252    55\n",
       "8            498.215601    549.182760    547.704555    55"
      ]
     },
     "execution_count": 143,
     "metadata": {},
     "output_type": "execute_result"
    }
   ],
   "source": [
    "results2_tbl.groupby('censor_time').agg(np.sum)"
   ]
  },
  {
   "cell_type": "code",
   "execution_count": 36,
   "metadata": {
    "collapsed": false
   },
   "outputs": [],
   "source": [
    "from scipy.optimize import minimize\n",
    "from sklearn.cross_validation import KFold\n",
    "\n",
    "def run_experiment2(targ, aux, censor_time, fold, patient_data, model_names, folds):\n",
    "    k = fold\n",
    "    models = [load_model(n, k) for n in model_names]\n",
    "\n",
    "    train = [pd for pd in patient_data if not folds[pd[0].ptid] == k]\n",
    "    test  = [pd for pd in patient_data if     folds[pd[0].ptid] == k]\n",
    "    \n",
    "    P = get_posteriors(models[targ], [pd[targ] for pd in train])\n",
    "    Q = get_posteriors(models[targ], [pd[targ].truncate(censor_time) for pd in train])\n",
    "\n",
    "    XX = []\n",
    "    for i in aux:\n",
    "        print('Making features for aux {}'.format(i))\n",
    "        X = get_posteriors(models[i], [pd[i].truncate(censor_time) for pd in train])\n",
    "        X = np.c_[ np.ones(X.shape[0]), X[:, 1:] ]\n",
    "        XX.append(X)\n",
    "        \n",
    "    QQdev = [np.zeros_like(Q) for _ in XX]\n",
    "    dev_folds = KFold(P.shape[0], 4, shuffle=True, random_state=0)\n",
    "    for i, (dtrain, dtest) in enumerate(dev_folds):\n",
    "        print('Training dev fold {}'.format(i))\n",
    "        for m, X in enumerate(XX):\n",
    "            print('Training marker {}'.format(m))\n",
    "            W = adjustment.fit_adjustment2(P[dtrain], X[dtrain])\n",
    "            QQdev[m][dtest] = adjustment.make_adjustment2(W, X[dtest])\n",
    "            \n",
    "    weight_attempts   = [interpolate(P, [Q] + QQdev, s) for s in range(100)]\n",
    "    weight_preplexity = [perplexity(P, [Q] + QQdev, np.log(w)) for w in weight_attempts]\n",
    "    weights = min(zip(weight_preplexity, weight_attempts))[1]\n",
    "    \n",
    "    WW = []\n",
    "    for i, X in enumerate(XX):\n",
    "        print('Training marker {} for real!'.format(i))\n",
    "        W = adjustment.fit_adjustment2(P, X)\n",
    "        WW.append(W)\n",
    "        \n",
    "    Ptest = get_posteriors(models[targ], [pd[targ] for pd in test])\n",
    "    Qtest = get_posteriors(models[targ], [pd[targ].truncate(censor_time) for pd in test])\n",
    "    \n",
    "    XXtest = []\n",
    "    for i in aux:\n",
    "        X = get_posteriors(models[i], [pd[i].truncate(censor_time) for pd in test])\n",
    "        X = np.c_[ np.ones(X.shape[0]), X[:, 1:] ]\n",
    "        XXtest.append(X)\n",
    "        \n",
    "    QQtest = []\n",
    "    for i, X in enumerate(XXtest):\n",
    "        Qi = adjustment.make_adjustment2(WW[i], X)\n",
    "        QQtest.append(Qi)\n",
    "        \n",
    "    Qhat = mixture([Qtest] + QQtest, np.log(weights))\n",
    "    \n",
    "    entropy = adjustment.xentropy(Ptest) / Ptest.shape[0]\n",
    "    entropy_orig = adjustment.xentropy(Ptest, Qtest) / Ptest.shape[0]\n",
    "    entropy_adju = adjustment.xentropy(Ptest, Qhat)  / Ptest.shape[0]\n",
    "    \n",
    "    results = {\n",
    "        'fold'        : fold,\n",
    "        'censor_time' : censor_time,\n",
    "        'entropy'     : entropy,\n",
    "        'entropy_orig': entropy_orig,\n",
    "        'entropy_adju': entropy_adju,\n",
    "        'Ptest'       : Ptest,\n",
    "        'Qtest'       : Qtest,\n",
    "        'QQtest'      : QQtest,\n",
    "        'weights'     : weights\n",
    "    }\n",
    "    \n",
    "    return results\n",
    "\n",
    "\n",
    "def interpolate(P, QQ, seed=1):\n",
    "    rnd = np.random.RandomState(seed)\n",
    "    \n",
    "    M  = len(QQ)\n",
    "    w  = rnd.uniform(size=M)\n",
    "    w /= w.sum()\n",
    "    v  = np.log(w)\n",
    "    l  = 0.0\n",
    "    \n",
    "    obj = lambda x: interpolate_obj(P, QQ, x[:-1], x[-1])\n",
    "    jac = lambda x: interpolate_jac(P, QQ, x[:-1], x[-1])\n",
    "    sol = minimize(obj, np.r_[v, l], jac=jac, method='BFGS')\n",
    "    \n",
    "    w = np.exp(sol.x[:-1])\n",
    "    \n",
    "    return w\n",
    "    \n",
    "\n",
    "def interpolate_obj(P, QQ, v, l):\n",
    "    return perplexity(P, QQ, v) + l * (1 - np.exp(v).sum())\n",
    "\n",
    "\n",
    "def interpolate_jac(P, QQ, v, l):\n",
    "    g = np.zeros(v.size + 1)\n",
    "    g[:-1] = perplexity_jac(P, QQ, v)\n",
    "    g[-1]  = 1 - np.exp(v).sum()\n",
    "    return g\n",
    "\n",
    "\n",
    "def perplexity(P, QQ, v):\n",
    "    Q = mixture(QQ, v)\n",
    "    return - np.sum(P * np.log(Q))\n",
    "\n",
    "\n",
    "def perplexity_jac(P, QQ, v):\n",
    "    Q = mixture(QQ, v)\n",
    "    g = np.zeros_like(v)\n",
    "    \n",
    "    for i, vi in enumerate(v):\n",
    "        wi   = np.exp(vi)\n",
    "        g[i] = wi * np.sum(P * QQ[i] / Q)\n",
    "        \n",
    "    return g\n",
    "\n",
    "\n",
    "def mixture(QQ, v):\n",
    "    w = np.exp(v)\n",
    "    Q = np.zeros_like(QQ[0])\n",
    "    for wi, Qi in zip(w, QQ):\n",
    "        Q += wi * Qi\n",
    "    return Q"
   ]
  },
  {
   "cell_type": "code",
   "execution_count": 37,
   "metadata": {
    "collapsed": false
   },
   "outputs": [
    {
     "name": "stdout",
     "output_type": "stream",
     "text": [
      "Making features for aux 1\n",
      "Making features for aux 2\n",
      "Training dev fold 0\n",
      "Training marker 0\n",
      "Training marker 1\n",
      "Training dev fold 1\n",
      "Training marker 0\n",
      "Training marker 1\n",
      "Training dev fold 2\n",
      "Training marker 0\n",
      "Training marker 1\n",
      "Training dev fold 3\n",
      "Training marker 0\n",
      "Training marker 1\n",
      "Training marker 0 for real!\n",
      "Training marker 1 for real!\n"
     ]
    }
   ],
   "source": [
    "r = run_experiment2(0, [1, 2], 1.0, 1, combined_pd, ['pfvc', 'tss', 'pdc'], folds)"
   ]
  },
  {
   "cell_type": "code",
   "execution_count": 39,
   "metadata": {
    "collapsed": false
   },
   "outputs": [
    {
     "data": {
      "text/plain": [
       "60.375734267340718"
      ]
     },
     "execution_count": 39,
     "metadata": {},
     "output_type": "execute_result"
    }
   ],
   "source": [
    "adjustment.xentropy(r['Ptest'])"
   ]
  },
  {
   "cell_type": "code",
   "execution_count": 40,
   "metadata": {
    "collapsed": false
   },
   "outputs": [
    {
     "data": {
      "text/plain": [
       "(75, 8)"
      ]
     },
     "execution_count": 40,
     "metadata": {},
     "output_type": "execute_result"
    }
   ],
   "source": [
    "adjustment.xentropy"
   ]
  },
  {
   "cell_type": "code",
   "execution_count": 50,
   "metadata": {
    "collapsed": false
   },
   "outputs": [
    {
     "data": {
      "text/plain": [
       "array([[ 0.  ,  0.  ,  0.  ,  0.  ,  0.  ,  0.  ,  0.99,  0.01],\n",
       "       [ 0.  ,  0.  ,  0.03,  0.95,  0.  ,  0.01,  0.01,  0.  ],\n",
       "       [ 0.  ,  0.01,  0.29,  0.62,  0.04,  0.01,  0.02,  0.  ],\n",
       "       [ 0.  ,  0.  ,  0.  ,  0.17,  0.25,  0.58,  0.  ,  0.  ],\n",
       "       [ 0.  ,  0.  ,  0.  ,  0.  ,  0.  ,  0.  ,  0.  ,  1.  ],\n",
       "       [ 0.  ,  0.  ,  0.  ,  0.  ,  0.  ,  0.1 ,  0.31,  0.58],\n",
       "       [ 0.  ,  0.11,  0.85,  0.04,  0.  ,  0.  ,  0.  ,  0.  ],\n",
       "       [ 0.01,  0.84,  0.06,  0.08,  0.  ,  0.  ,  0.  ,  0.  ],\n",
       "       [ 0.  ,  0.02,  0.62,  0.35,  0.01,  0.  ,  0.  ,  0.  ],\n",
       "       [ 0.  ,  0.  ,  0.01,  0.02,  0.89,  0.04,  0.05,  0.  ],\n",
       "       [ 0.  ,  0.02,  0.59,  0.38,  0.01,  0.  ,  0.  ,  0.  ],\n",
       "       [ 0.  ,  0.  ,  0.02,  0.32,  0.28,  0.3 ,  0.08,  0.  ],\n",
       "       [ 1.  ,  0.  ,  0.  ,  0.  ,  0.  ,  0.  ,  0.  ,  0.  ],\n",
       "       [ 0.  ,  0.42,  0.47,  0.1 ,  0.  ,  0.  ,  0.  ,  0.  ],\n",
       "       [ 0.  ,  0.  ,  0.  ,  0.09,  0.  ,  0.01,  0.89,  0.  ],\n",
       "       [ 0.  ,  0.  ,  0.  ,  0.09,  0.  ,  0.01,  0.91,  0.  ],\n",
       "       [ 0.  ,  0.  ,  0.02,  0.12,  0.48,  0.18,  0.19,  0.  ],\n",
       "       [ 0.  ,  0.  ,  0.  ,  0.98,  0.  ,  0.  ,  0.02,  0.  ],\n",
       "       [ 0.  ,  0.04,  0.36,  0.13,  0.46,  0.01,  0.  ,  0.  ],\n",
       "       [ 1.  ,  0.  ,  0.  ,  0.  ,  0.  ,  0.  ,  0.  ,  0.  ],\n",
       "       [ 0.  ,  0.  ,  0.01,  0.97,  0.02,  0.  ,  0.  ,  0.  ],\n",
       "       [ 0.01,  0.42,  0.57,  0.  ,  0.  ,  0.  ,  0.  ,  0.  ],\n",
       "       [ 0.  ,  0.  ,  0.24,  0.46,  0.  ,  0.  ,  0.3 ,  0.  ],\n",
       "       [ 0.  ,  0.  ,  0.01,  0.62,  0.19,  0.17,  0.01,  0.  ],\n",
       "       [ 0.  ,  0.03,  0.34,  0.36,  0.01,  0.  ,  0.26,  0.  ],\n",
       "       [ 0.  ,  0.01,  0.  ,  0.  ,  0.99,  0.  ,  0.  ,  0.  ],\n",
       "       [ 0.  ,  0.08,  0.37,  0.25,  0.  ,  0.  ,  0.29,  0.  ],\n",
       "       [ 0.  ,  0.15,  0.39,  0.45,  0.01,  0.  ,  0.  ,  0.  ],\n",
       "       [ 0.  ,  0.  ,  0.  ,  0.  ,  0.  ,  0.02,  0.91,  0.07],\n",
       "       [ 0.  ,  0.  ,  0.02,  0.18,  0.01,  0.07,  0.72,  0.  ],\n",
       "       [ 0.  ,  0.  ,  0.  ,  0.  ,  0.  ,  0.31,  0.05,  0.64],\n",
       "       [ 0.  ,  0.41,  0.21,  0.38,  0.  ,  0.  ,  0.  ,  0.  ],\n",
       "       [ 0.  ,  0.09,  0.68,  0.09,  0.14,  0.  ,  0.  ,  0.  ],\n",
       "       [ 0.  ,  0.  ,  0.  ,  0.21,  0.  ,  0.  ,  0.79,  0.  ],\n",
       "       [ 0.  ,  0.  ,  0.  ,  0.  ,  0.  ,  0.01,  0.  ,  0.99],\n",
       "       [ 0.  ,  0.  ,  0.01,  0.51,  0.2 ,  0.19,  0.09,  0.  ],\n",
       "       [ 0.11,  0.63,  0.25,  0.01,  0.  ,  0.  ,  0.  ,  0.  ],\n",
       "       [ 0.12,  0.66,  0.22,  0.  ,  0.  ,  0.  ,  0.  ,  0.  ],\n",
       "       [ 0.  ,  0.  ,  0.  ,  0.01,  0.73,  0.2 ,  0.03,  0.03],\n",
       "       [ 0.  ,  0.  ,  0.16,  0.63,  0.07,  0.04,  0.08,  0.  ],\n",
       "       [ 0.  ,  0.38,  0.51,  0.09,  0.02,  0.  ,  0.  ,  0.  ],\n",
       "       [ 0.  ,  0.  ,  0.  ,  0.08,  0.01,  0.25,  0.65,  0.  ],\n",
       "       [ 0.31,  0.67,  0.02,  0.  ,  0.  ,  0.  ,  0.  ,  0.  ],\n",
       "       [ 0.  ,  0.  ,  0.  ,  0.04,  0.02,  0.78,  0.15,  0.  ],\n",
       "       [ 0.02,  0.85,  0.13,  0.  ,  0.  ,  0.  ,  0.  ,  0.  ],\n",
       "       [ 0.02,  0.68,  0.29,  0.  ,  0.  ,  0.  ,  0.  ,  0.  ],\n",
       "       [ 0.27,  0.72,  0.01,  0.  ,  0.  ,  0.  ,  0.  ,  0.  ],\n",
       "       [ 0.  ,  0.  ,  0.  ,  0.  ,  0.01,  0.76,  0.07,  0.15],\n",
       "       [ 0.  ,  0.  ,  0.02,  0.31,  0.48,  0.18,  0.01,  0.  ],\n",
       "       [ 0.  ,  0.  ,  0.  ,  0.05,  0.06,  0.28,  0.6 ,  0.  ],\n",
       "       [ 0.3 ,  0.67,  0.03,  0.  ,  0.  ,  0.  ,  0.  ,  0.  ],\n",
       "       [ 0.  ,  0.  ,  0.02,  0.44,  0.4 ,  0.13,  0.  ,  0.  ],\n",
       "       [ 0.  ,  0.  ,  0.  ,  0.  ,  0.01,  0.09,  0.  ,  0.9 ],\n",
       "       [ 0.  ,  0.03,  0.05,  0.15,  0.42,  0.1 ,  0.24,  0.  ],\n",
       "       [ 0.  ,  0.  ,  0.  ,  0.  ,  0.02,  0.2 ,  0.69,  0.09],\n",
       "       [ 0.  ,  0.04,  0.67,  0.3 ,  0.  ,  0.  ,  0.  ,  0.  ],\n",
       "       [ 0.79,  0.21,  0.  ,  0.  ,  0.  ,  0.  ,  0.  ,  0.  ],\n",
       "       [ 0.  ,  0.11,  0.39,  0.32,  0.17,  0.  ,  0.  ,  0.  ],\n",
       "       [ 0.  ,  0.02,  0.12,  0.57,  0.23,  0.06,  0.01,  0.  ],\n",
       "       [ 0.  ,  0.14,  0.05,  0.62,  0.13,  0.01,  0.05,  0.  ],\n",
       "       [ 0.  ,  0.61,  0.35,  0.04,  0.  ,  0.  ,  0.  ,  0.  ],\n",
       "       [ 0.1 ,  0.87,  0.02,  0.01,  0.  ,  0.  ,  0.  ,  0.  ],\n",
       "       [ 0.  ,  0.  ,  0.  ,  0.07,  0.06,  0.51,  0.36,  0.  ],\n",
       "       [ 0.  ,  0.  ,  0.  ,  0.  ,  0.04,  0.1 ,  0.01,  0.85],\n",
       "       [ 0.  ,  0.08,  0.49,  0.34,  0.09,  0.  ,  0.01,  0.  ],\n",
       "       [ 0.01,  0.38,  0.2 ,  0.4 ,  0.  ,  0.  ,  0.01,  0.  ],\n",
       "       [ 0.  ,  0.33,  0.57,  0.1 ,  0.  ,  0.  ,  0.  ,  0.  ],\n",
       "       [ 0.  ,  0.62,  0.14,  0.03,  0.22,  0.  ,  0.  ,  0.  ],\n",
       "       [ 0.  ,  0.23,  0.3 ,  0.42,  0.04,  0.  ,  0.  ,  0.  ],\n",
       "       [ 0.  ,  0.14,  0.18,  0.25,  0.29,  0.03,  0.1 ,  0.  ],\n",
       "       [ 0.79,  0.17,  0.04,  0.  ,  0.  ,  0.  ,  0.  ,  0.  ],\n",
       "       [ 0.  ,  0.  ,  0.  ,  0.  ,  0.  ,  0.  ,  0.  ,  1.  ],\n",
       "       [ 0.  ,  0.22,  0.15,  0.54,  0.01,  0.  ,  0.08,  0.  ],\n",
       "       [ 0.  ,  0.03,  0.06,  0.1 ,  0.42,  0.03,  0.36,  0.  ],\n",
       "       [ 0.  ,  0.  ,  0.01,  0.03,  0.35,  0.05,  0.55,  0.01]])"
      ]
     },
     "execution_count": 50,
     "metadata": {},
     "output_type": "execute_result"
    }
   ],
   "source": [
    "np.round(r['Ptest'], 2)"
   ]
  },
  {
   "cell_type": "code",
   "execution_count": 54,
   "metadata": {
    "collapsed": false
   },
   "outputs": [
    {
     "data": {
      "text/plain": [
       "array([[ 0.16,  0.31,  0.15,  0.14,  0.08,  0.04,  0.09,  0.03],\n",
       "       [ 0.09,  0.23,  0.14,  0.15,  0.12,  0.07,  0.13,  0.05],\n",
       "       [ 0.09,  0.29,  0.14,  0.15,  0.11,  0.06,  0.11,  0.05],\n",
       "       [ 0.08,  0.16,  0.14,  0.14,  0.15,  0.1 ,  0.17,  0.05],\n",
       "       [ 0.  ,  0.12,  0.05,  0.11,  0.18,  0.27,  0.12,  0.15],\n",
       "       [ 0.09,  0.23,  0.14,  0.15,  0.12,  0.07,  0.13,  0.05],\n",
       "       [ 0.09,  0.23,  0.14,  0.15,  0.12,  0.07,  0.13,  0.05],\n",
       "       [ 0.11,  0.3 ,  0.14,  0.15,  0.1 ,  0.05,  0.1 ,  0.04],\n",
       "       [ 0.09,  0.21,  0.13,  0.12,  0.16,  0.1 ,  0.14,  0.04],\n",
       "       [ 0.03,  0.2 ,  0.1 ,  0.14,  0.16,  0.14,  0.14,  0.09],\n",
       "       [ 0.09,  0.23,  0.14,  0.15,  0.12,  0.07,  0.13,  0.05],\n",
       "       [ 0.09,  0.23,  0.14,  0.15,  0.12,  0.07,  0.13,  0.05],\n",
       "       [ 0.09,  0.23,  0.14,  0.15,  0.12,  0.07,  0.13,  0.05],\n",
       "       [ 0.08,  0.29,  0.13,  0.15,  0.11,  0.07,  0.11,  0.05],\n",
       "       [ 0.04,  0.22,  0.12,  0.15,  0.14,  0.11,  0.14,  0.07],\n",
       "       [ 0.01,  0.12,  0.07,  0.12,  0.18,  0.23,  0.15,  0.12],\n",
       "       [ 0.13,  0.31,  0.14,  0.14,  0.09,  0.05,  0.1 ,  0.04],\n",
       "       [ 0.04,  0.25,  0.11,  0.15,  0.14,  0.11,  0.13,  0.07],\n",
       "       [ 0.06,  0.17,  0.13,  0.15,  0.15,  0.11,  0.16,  0.07],\n",
       "       [ 0.09,  0.23,  0.14,  0.15,  0.12,  0.07,  0.13,  0.05],\n",
       "       [ 0.01,  0.11,  0.06,  0.11,  0.19,  0.26,  0.15,  0.12],\n",
       "       [ 0.09,  0.17,  0.14,  0.13,  0.15,  0.1 ,  0.16,  0.05],\n",
       "       [ 0.03,  0.19,  0.11,  0.14,  0.16,  0.14,  0.15,  0.08],\n",
       "       [ 0.09,  0.17,  0.14,  0.13,  0.15,  0.1 ,  0.16,  0.05],\n",
       "       [ 0.11,  0.3 ,  0.14,  0.15,  0.1 ,  0.06,  0.11,  0.04],\n",
       "       [ 0.  ,  0.09,  0.04,  0.09,  0.18,  0.32,  0.11,  0.17],\n",
       "       [ 0.09,  0.29,  0.14,  0.15,  0.11,  0.06,  0.11,  0.05],\n",
       "       [ 0.12,  0.3 ,  0.14,  0.15,  0.1 ,  0.05,  0.1 ,  0.04],\n",
       "       [ 0.09,  0.21,  0.13,  0.12,  0.16,  0.1 ,  0.14,  0.04],\n",
       "       [ 0.  ,  0.08,  0.03,  0.08,  0.17,  0.35,  0.11,  0.18],\n",
       "       [ 0.06,  0.06,  0.14,  0.17,  0.11,  0.09,  0.23,  0.13],\n",
       "       [ 0.13,  0.31,  0.14,  0.14,  0.09,  0.05,  0.1 ,  0.04],\n",
       "       [ 0.08,  0.15,  0.14,  0.15,  0.15,  0.11,  0.18,  0.06],\n",
       "       [ 0.08,  0.15,  0.14,  0.14,  0.15,  0.1 ,  0.17,  0.06],\n",
       "       [ 0.  ,  0.13,  0.05,  0.11,  0.18,  0.26,  0.12,  0.15],\n",
       "       [ 0.06,  0.06,  0.14,  0.17,  0.11,  0.09,  0.23,  0.13],\n",
       "       [ 0.06,  0.06,  0.14,  0.17,  0.11,  0.09,  0.23,  0.13],\n",
       "       [ 0.07,  0.22,  0.13,  0.13,  0.16,  0.11,  0.14,  0.04],\n",
       "       [ 0.14,  0.31,  0.14,  0.14,  0.09,  0.04,  0.1 ,  0.04],\n",
       "       [ 0.07,  0.08,  0.14,  0.17,  0.12,  0.09,  0.22,  0.11],\n",
       "       [ 0.13,  0.31,  0.14,  0.15,  0.09,  0.05,  0.1 ,  0.04],\n",
       "       [ 0.  ,  0.04,  0.02,  0.06,  0.16,  0.41,  0.1 ,  0.21],\n",
       "       [ 0.07,  0.28,  0.13,  0.15,  0.12,  0.07,  0.12,  0.06],\n",
       "       [ 0.12,  0.3 ,  0.14,  0.15,  0.09,  0.05,  0.1 ,  0.04],\n",
       "       [ 0.05,  0.08,  0.13,  0.17,  0.12,  0.1 ,  0.21,  0.13],\n",
       "       [ 0.07,  0.26,  0.13,  0.15,  0.13,  0.08,  0.12,  0.05],\n",
       "       [ 0.13,  0.31,  0.14,  0.14,  0.09,  0.05,  0.1 ,  0.04],\n",
       "       [ 0.07,  0.07,  0.14,  0.17,  0.11,  0.09,  0.22,  0.12],\n",
       "       [ 0.05,  0.26,  0.12,  0.15,  0.13,  0.1 ,  0.12,  0.07],\n",
       "       [ 0.09,  0.21,  0.13,  0.12,  0.16,  0.1 ,  0.14,  0.04],\n",
       "       [ 0.14,  0.31,  0.14,  0.14,  0.09,  0.04,  0.1 ,  0.04],\n",
       "       [ 0.08,  0.23,  0.13,  0.13,  0.15,  0.1 ,  0.14,  0.04],\n",
       "       [ 0.08,  0.21,  0.13,  0.12,  0.16,  0.11,  0.15,  0.04],\n",
       "       [ 0.06,  0.23,  0.12,  0.14,  0.15,  0.11,  0.14,  0.05],\n",
       "       [ 0.06,  0.28,  0.13,  0.15,  0.12,  0.08,  0.12,  0.06],\n",
       "       [ 0.06,  0.06,  0.14,  0.17,  0.11,  0.09,  0.23,  0.13],\n",
       "       [ 0.09,  0.21,  0.13,  0.12,  0.16,  0.1 ,  0.14,  0.04],\n",
       "       [ 0.09,  0.21,  0.13,  0.12,  0.16,  0.1 ,  0.14,  0.04],\n",
       "       [ 0.  ,  0.13,  0.05,  0.11,  0.18,  0.26,  0.12,  0.15],\n",
       "       [ 0.16,  0.31,  0.15,  0.14,  0.08,  0.04,  0.09,  0.03],\n",
       "       [ 0.16,  0.31,  0.15,  0.14,  0.08,  0.04,  0.09,  0.03],\n",
       "       [ 0.13,  0.31,  0.14,  0.15,  0.09,  0.05,  0.1 ,  0.04],\n",
       "       [ 0.03,  0.18,  0.11,  0.16,  0.14,  0.12,  0.15,  0.1 ],\n",
       "       [ 0.09,  0.21,  0.13,  0.12,  0.16,  0.1 ,  0.14,  0.04],\n",
       "       [ 0.09,  0.29,  0.13,  0.15,  0.11,  0.07,  0.11,  0.05],\n",
       "       [ 0.08,  0.29,  0.13,  0.15,  0.11,  0.07,  0.11,  0.05],\n",
       "       [ 0.07,  0.07,  0.14,  0.17,  0.11,  0.09,  0.23,  0.12],\n",
       "       [ 0.07,  0.18,  0.13,  0.14,  0.16,  0.11,  0.16,  0.06],\n",
       "       [ 0.01,  0.15,  0.07,  0.12,  0.2 ,  0.22,  0.14,  0.09],\n",
       "       [ 0.1 ,  0.3 ,  0.14,  0.15,  0.1 ,  0.06,  0.11,  0.04],\n",
       "       [ 0.08,  0.14,  0.14,  0.15,  0.15,  0.1 ,  0.18,  0.06],\n",
       "       [ 0.1 ,  0.3 ,  0.14,  0.15,  0.11,  0.06,  0.11,  0.05],\n",
       "       [ 0.08,  0.19,  0.13,  0.13,  0.16,  0.11,  0.15,  0.04],\n",
       "       [ 0.09,  0.21,  0.13,  0.12,  0.16,  0.1 ,  0.14,  0.04],\n",
       "       [ 0.09,  0.21,  0.13,  0.12,  0.16,  0.1 ,  0.14,  0.04]])"
      ]
     },
     "execution_count": 54,
     "metadata": {},
     "output_type": "execute_result"
    }
   ],
   "source": [
    "np.round(r['QQtest'][0], 2)"
   ]
  },
  {
   "cell_type": "code",
   "execution_count": 48,
   "metadata": {
    "collapsed": false
   },
   "outputs": [
    {
     "data": {
      "text/plain": [
       "-60.375734267340718"
      ]
     },
     "execution_count": 48,
     "metadata": {},
     "output_type": "execute_result"
    }
   ],
   "source": [
    "(P * np.log(P)).sum()"
   ]
  }
 ],
 "metadata": {
  "kernelspec": {
   "display_name": "Python 3",
   "language": "python",
   "name": "python3"
  },
  "language_info": {
   "codemirror_mode": {
    "name": "ipython",
    "version": 3
   },
   "file_extension": ".py",
   "mimetype": "text/x-python",
   "name": "python",
   "nbconvert_exporter": "python",
   "pygments_lexer": "ipython3",
   "version": "3.4.3"
  }
 },
 "nbformat": 4,
 "nbformat_minor": 0
}
