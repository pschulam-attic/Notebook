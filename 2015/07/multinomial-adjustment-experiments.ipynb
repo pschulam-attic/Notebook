{
 "cells": [
  {
   "cell_type": "code",
   "execution_count": 1,
   "metadata": {
    "collapsed": true
   },
   "outputs": [],
   "source": [
    "import sys\n",
    "sys.path.append('/Users/pschulam/Git/mypy')"
   ]
  },
  {
   "cell_type": "code",
   "execution_count": 23,
   "metadata": {
    "collapsed": false
   },
   "outputs": [],
   "source": [
    "import os\n",
    "import numpy as np\n",
    "import pandas as pd\n",
    "import matplotlib.pyplot as plt\n",
    "import nips15\n",
    "import adjustment\n",
    "\n",
    "np.set_printoptions(precision=4)\n",
    "%matplotlib inline"
   ]
  },
  {
   "cell_type": "code",
   "execution_count": 12,
   "metadata": {
    "collapsed": true
   },
   "outputs": [],
   "source": [
    "folds_dir = 'models/jmlr/folds'\n",
    "\n",
    "def load_model(marker, fold, folds_dir=folds_dir):\n",
    "    param_dir = os.path.join(folds_dir, marker, '{:02d}'.format(fold), 'param')\n",
    "    return nips15.NipsModel.from_directory(param_dir)\n",
    "\n",
    "def get_posteriors(model, data):\n",
    "    P = [model.posterior(*d.unpack()) for d in data]\n",
    "    P = np.array(P)\n",
    "    return P"
   ]
  },
  {
   "cell_type": "code",
   "execution_count": 55,
   "metadata": {
    "collapsed": true
   },
   "outputs": [],
   "source": [
    "pfvc_spec = {'t' : 'years_seen_full',\n",
    "             'y' : 'pfvc',\n",
    "             'x1': ['female', 'afram'],\n",
    "             'x2': ['female', 'afram', 'aca', 'scl']}\n",
    "\n",
    "pfvc    = pd.read_csv('data/benchmark_pfvc.csv')\n",
    "pfvc_pd = [nips15.PatientData.from_tbl(tbl, **pfvc_spec) for _, tbl in pfvc.groupby('ptid')]\n",
    "\n",
    "tss_spec = {'t' : 'years_seen',\n",
    "            'y' : 'tss',\n",
    "            'x1': ['female', 'afram'],\n",
    "            'x2': ['female', 'afram']}\n",
    "\n",
    "tss = pd.read_csv('data/benchmark_tss.csv')\n",
    "tss_match = ['ptid'] + tss_spec['x1']\n",
    "tss = pd.merge(pfvc[tss_match], tss, 'left', tss_match)\n",
    "tss_pd = [nips15.PatientData.from_tbl(tbl, **tss_spec) for _, tbl in tss.groupby('ptid')]\n",
    "\n",
    "pdlco_spec = {'t' : 'years_seen',\n",
    "              'y' : 'pdlco',\n",
    "              'x1': ['female', 'afram'],\n",
    "              'x2': ['female', 'afram']}\n",
    "\n",
    "pdlco = pd.read_csv('data/benchmark_pdc.csv')\n",
    "pdlco_match = ['ptid'] + pdlco_spec['x1']\n",
    "pdlco = pd.merge(pfvc[pdlco_match], pdlco, 'left', pdlco_match)\n",
    "pdlco_pd = [nips15.PatientData.from_tbl(tbl, **pdlco_spec) for _, tbl in pdlco.groupby('ptid')]\n",
    "\n",
    "combined_pd = list(zip(pfvc_pd, tss_pd, pdlco_pd))"
   ]
  },
  {
   "cell_type": "code",
   "execution_count": 56,
   "metadata": {
    "collapsed": true
   },
   "outputs": [],
   "source": [
    "folds = pfvc.loc[:, ['ptid', 'fold']].drop_duplicates()\n",
    "folds = dict(zip(folds['ptid'], folds['fold']))"
   ]
  },
  {
   "cell_type": "code",
   "execution_count": 96,
   "metadata": {
    "collapsed": true
   },
   "outputs": [],
   "source": [
    "k = 1\n",
    "train = [pd for pd in combined_pd if not folds[pd[0].ptid] == k]\n",
    "test  = [pd for pd in combined_pd if     folds[pd[0].ptid] == k]"
   ]
  },
  {
   "cell_type": "code",
   "execution_count": 97,
   "metadata": {
    "collapsed": false
   },
   "outputs": [],
   "source": [
    "pfvc_model = load_model('pfvc', k)\n",
    "P = get_posteriors(pfvc_model, [pd[0] for pd in train])\n",
    "Q = get_posteriors(pfvc_model, [pd[0].truncate(1.0) for pd in train])"
   ]
  },
  {
   "cell_type": "code",
   "execution_count": 108,
   "metadata": {
    "collapsed": false
   },
   "outputs": [],
   "source": [
    "tss_model = load_model('tss', k)\n",
    "#R1 = get_posteriors(tss_model, [pd[1] for pd in train])\n",
    "R1 = get_posteriors(tss_model, [pd[1].truncate(1.0) for pd in train])\n",
    "M1 = adjustment.choose_features(P, R1)"
   ]
  },
  {
   "cell_type": "code",
   "execution_count": 109,
   "metadata": {
    "collapsed": false
   },
   "outputs": [],
   "source": [
    "pdlco_model = load_model('pdc', k)\n",
    "#R2 = get_posteriors(pdlco_model, [pd[2] for pd in train])\n",
    "R2 = get_posteriors(pdlco_model, [pd[2].truncate(1.0) for pd in train])\n",
    "M2 = adjustment.choose_features(P, R1)"
   ]
  },
  {
   "cell_type": "code",
   "execution_count": 100,
   "metadata": {
    "collapsed": true
   },
   "outputs": [],
   "source": [
    "X1 = get_posteriors(tss_model, [pd[1].truncate(1.0) for pd in train])\n",
    "X2 = get_posteriors(pdlco_model, [pd[2].truncate(1.0) for pd in train])\n",
    "\n",
    "#X1 = get_posteriors(tss_model, [pd[1] for pd in train])\n",
    "#X2 = get_posteriors(pdlco_model, [pd[2] for pd in train])"
   ]
  },
  {
   "cell_type": "code",
   "execution_count": 110,
   "metadata": {
    "collapsed": false
   },
   "outputs": [],
   "source": [
    "X = np.c_[X1, X2]\n",
    "M = np.c_[M1, M2]\n",
    "W = adjustment.fit_adjustment(P, Q, X, M)"
   ]
  },
  {
   "cell_type": "code",
   "execution_count": 111,
   "metadata": {
    "collapsed": true
   },
   "outputs": [],
   "source": [
    "Ptest = get_posteriors(pfvc_model, [pd[0] for pd in test])\n",
    "Qtest = get_posteriors(pfvc_model, [pd[0].truncate(1.0) for pd in test])"
   ]
  },
  {
   "cell_type": "code",
   "execution_count": 112,
   "metadata": {
    "collapsed": true
   },
   "outputs": [],
   "source": [
    "X1test = get_posteriors(tss_model, [pd[1].truncate(1.0) for pd in test])\n",
    "X2test = get_posteriors(pdlco_model, [pd[2].truncate(1.0) for pd in test])\n",
    "\n",
    "#X1test = get_posteriors(tss_model, [pd[1] for pd in test])\n",
    "#X2test = get_posteriors(pdlco_model, [pd[2] for pd in test])\n",
    "\n",
    "Xtest  = np.c_[X1test, X2test]"
   ]
  },
  {
   "cell_type": "code",
   "execution_count": 113,
   "metadata": {
    "collapsed": false
   },
   "outputs": [],
   "source": [
    "Qhat   = adjustment.make_adjustment(W, Qtest, Xtest)"
   ]
  },
  {
   "cell_type": "code",
   "execution_count": 114,
   "metadata": {
    "collapsed": false
   },
   "outputs": [
    {
     "data": {
      "text/plain": [
       "60.375734267340718"
      ]
     },
     "execution_count": 114,
     "metadata": {},
     "output_type": "execute_result"
    }
   ],
   "source": [
    "adjustment.xentropy(Ptest)"
   ]
  },
  {
   "cell_type": "code",
   "execution_count": 115,
   "metadata": {
    "collapsed": false
   },
   "outputs": [
    {
     "data": {
      "text/plain": [
       "110.64726918971706"
      ]
     },
     "execution_count": 115,
     "metadata": {},
     "output_type": "execute_result"
    }
   ],
   "source": [
    "adjustment.xentropy(Ptest, Qtest)"
   ]
  },
  {
   "cell_type": "code",
   "execution_count": 116,
   "metadata": {
    "collapsed": false
   },
   "outputs": [
    {
     "data": {
      "text/plain": [
       "110.85604703587147"
      ]
     },
     "execution_count": 116,
     "metadata": {},
     "output_type": "execute_result"
    }
   ],
   "source": [
    "adjustment.xentropy(Ptest, Qhat)"
   ]
  },
  {
   "cell_type": "code",
   "execution_count": null,
   "metadata": {
    "collapsed": true
   },
   "outputs": [],
   "source": []
  }
 ],
 "metadata": {
  "kernelspec": {
   "display_name": "Python 3",
   "language": "python",
   "name": "python3"
  },
  "language_info": {
   "codemirror_mode": {
    "name": "ipython",
    "version": 3
   },
   "file_extension": ".py",
   "mimetype": "text/x-python",
   "name": "python",
   "nbconvert_exporter": "python",
   "pygments_lexer": "ipython3",
   "version": "3.4.3"
  }
 },
 "nbformat": 4,
 "nbformat_minor": 0
}
